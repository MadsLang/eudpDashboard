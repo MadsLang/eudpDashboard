{
 "cells": [
  {
   "attachments": {},
   "cell_type": "markdown",
   "metadata": {},
   "source": [
    "# How to do cluster analysis with Bertopic\n",
    "\n",
    "This notebook contains code to do a clustering analysis using Bertopic. "
   ]
  },
  {
   "cell_type": "code",
   "execution_count": 1,
   "metadata": {},
   "outputs": [
    {
     "name": "stderr",
     "output_type": "stream",
     "text": [
      "/Users/mls/Documents/git/eudpDashboard/.venv/lib/python3.9/site-packages/tqdm/auto.py:22: TqdmWarning: IProgress not found. Please update jupyter and ipywidgets. See https://ipywidgets.readthedocs.io/en/stable/user_install.html\n",
      "  from .autonotebook import tqdm as notebook_tqdm\n"
     ]
    }
   ],
   "source": [
    "# First, we initialize packages that we will use. \n",
    "\n",
    "from bertopic import BERTopic\n",
    "from sentence_transformers import SentenceTransformer\n",
    "import pandas as pd\n",
    "import plotly.express as px\n",
    "import numpy as np\n",
    "import re\n",
    "import random\n",
    "from tqdm import tqdm\n",
    "import hdbscan\n",
    "from umap import UMAP\n",
    "\n",
    "# We also set a random state in order to make reproducible results\n",
    "RANDOM_STATE = 1111\n",
    "np.random.seed(RANDOM_STATE)"
   ]
  },
  {
   "attachments": {},
   "cell_type": "markdown",
   "metadata": {},
   "source": [
    "### Step 1: Load data\n",
    "As a first step, we want to load our data, and possibly we also want to do some cleaning of the data. Bertopic uses large language models like BERT to produce the embeddings, and therefore we do not want to remove stopwords or similar here. However, sometimes we might want to remove HTML or other noisy stuff. In this example, we only load in the data and make a list of the documents. "
   ]
  },
  {
   "cell_type": "code",
   "execution_count": 10,
   "metadata": {},
   "outputs": [
    {
     "name": "stdout",
     "output_type": "stream",
     "text": [
      "(565, 35)\n"
     ]
    }
   ],
   "source": [
    "# For the example, we load a subset of the digital assistant dataset\n",
    "df = pd.read_excel(\"data/Projects_all_data.xlsx\", engine='openpyxl')\n",
    "df = df[df['Slut (år)'].apply(lambda x: x in [2015, 2016, 2017, 2018, 2019, 2020, 2021, 2022])]\n",
    "df = df[df['Projekttitel'].apply(lambda x: 'IEA' not in x)]\n",
    "\n",
    "df['Beskrivelse'] = df['Beskrivelse'].fillna('')\n",
    "df['Intro'] = df['Intro'].fillna('')\n",
    "df['text'] = df['Projekttitel'] + ' \\n ' + df['Intro'] + ' \\n ' + df['Beskrivelse']\n",
    "df = df.reset_index(drop=True)\n",
    "\n",
    "print(df.shape)\n",
    "# Optional: Add text cleaning here \n",
    "\n",
    "docs = df['text'].tolist() # <- this is the column that contains the text"
   ]
  },
  {
   "cell_type": "code",
   "execution_count": null,
   "metadata": {},
   "outputs": [],
   "source": []
  },
  {
   "attachments": {},
   "cell_type": "markdown",
   "metadata": {},
   "source": [
    "### Step 2: Create embeddings\n",
    "\n",
    "Secondly, we want to create embeddings from the text in the documents. Here, we use a pre-trained language model called `paraphrase-multilingual-MiniLM-L12-v2` which has a nice trade-off between size and speed. \n",
    "\n",
    "Note that the second cell that encodes the documents into embeddings takes some time to run. Therefore, we save the final embeddings in a numpy array, and later we can also load them in quickly without having to encode them again. "
   ]
  },
  {
   "cell_type": "code",
   "execution_count": 11,
   "metadata": {},
   "outputs": [],
   "source": [
    "embedding_model_name = \"paraphrase-multilingual-MiniLM-L12-v2\"\n",
    "sentence_model = SentenceTransformer(embedding_model_name)"
   ]
  },
  {
   "cell_type": "code",
   "execution_count": 12,
   "metadata": {},
   "outputs": [
    {
     "name": "stderr",
     "output_type": "stream",
     "text": [
      "Batches: 100%|██████████| 18/18 [00:11<00:00,  1.62it/s]"
     ]
    },
    {
     "name": "stdout",
     "output_type": "stream",
     "text": [
      "(565, 384)\n"
     ]
    },
    {
     "name": "stderr",
     "output_type": "stream",
     "text": [
      "\n"
     ]
    }
   ],
   "source": [
    "# OBS: Only run this cell once - it takes some time to run...\n",
    "embeds = sentence_model.encode(docs, show_progress_bar=True)\n",
    "print(embeds.shape)\n",
    "\n",
    "np.save(f\"data/embeddings/{embedding_model_name}\", embeds)"
   ]
  },
  {
   "cell_type": "code",
   "execution_count": null,
   "metadata": {},
   "outputs": [],
   "source": [
    "### Later, we can load in the previous encoded embeddings\n",
    "embeds = np.load(f\"data/embeddings/{embedding_model_name}.npy\")\n",
    "print(embeds.shape)"
   ]
  },
  {
   "attachments": {},
   "cell_type": "markdown",
   "metadata": {},
   "source": [
    "### Step 3: Run and tune topic models\n",
    "\n",
    "Now is the time to run and tune the parameters of the clustering model. Bertopic uses UMAP to reduce dimensionality of the embeddings, and then HDBSCAN to cluster the documents. \n",
    "\n",
    "As a default, Bertopic uses a variation of TF-IDF (c-TF-IDF) to interpret the clusters, but here we add our own CountVectorizer to interpret the clusters. It uses also bi-grams and a list of Danish stop-words to create names for the clusters. \n",
    "\n",
    "The preferred way to tune the parameters is to start with the default values as written here. Then, you can visualize and change one parameters at a time if you feel like it. Note that there is several models in play, and they can be very sensitive, so begin with small changes. Usually, the models are also varies a lot between random states, so you might also want to try out a couple of different random states to validate your results. \n",
    "\n",
    "You can read about the different parameters here: \n",
    " - Bertopic: https://maartengr.github.io/BERTopic/getting_started/parameter%20tuning/parametertuning.html \n",
    " - UMAP: https://umap-learn.readthedocs.io/en/latest/parameters.html \n",
    " - HDBSCAN: https://hdbscan.readthedocs.io/en/latest/parameter_selection.html "
   ]
  },
  {
   "cell_type": "code",
   "execution_count": 102,
   "metadata": {},
   "outputs": [],
   "source": [
    "# Here the CountVectorizer is initialized. This is used for naming the clusters afterwards.\n",
    "# You probably don't need to tune any parameters here. \n",
    "with open('data/danish_stopwords.txt', 'r') as f:\n",
    "    danish_stop_words = f.readlines()\n",
    "danish_stop_words = [d.replace('\\n', '') for d in danish_stop_words] + ['projekt','projektet','udvikle','demonstrere']\n",
    "\n",
    "from sklearn.feature_extraction.text import CountVectorizer\n",
    "vectorizer_model = CountVectorizer(stop_words=danish_stop_words, ngram_range=(1, 2))\n",
    "\n",
    "\n",
    "# *** Change parameters here ***\n",
    "best_hp_dict = {\n",
    "    \"METRIC\": \"euclidean\", # <- distance metric. We use the same in both UMAP and HDBSCAN\n",
    "\n",
    "    # UMAP parameters\n",
    "    \"N_COMPONENTS\": 2, # <- how many dimensions should we reduce to - for easy visualisation, we might want to choose 2\n",
    "    # \"N_NEIGHBORS\": 10, \n",
    "    \"MIN_DIST\": 0.0,\n",
    "\n",
    "    # HDBSCAN parameters\n",
    "    # \"HDBSCAN_MIN_CLUSTER_SIZE\": 8, # <- the smallest size grouping that we want to consider a cluster\n",
    "    # \"MIN_SAMPLES\": 1, # <- how conservative do we want the clustering to be\n",
    "    # \"CLUSTER_SELECTION_EPSILON\": 0.4, # <- tradeoff between DBSCAN and HDBSCAN, higher values favors different size clusters\n",
    "\n",
    "    # Bertopic parameters (irrelevant, since we add our own CountVectorizer)\n",
    "    # \"TOP_N_WORDS\": xx,\n",
    "    # \"MIN_TOPIC_SIZE\": xx,\n",
    "}\n",
    "\n",
    "\n",
    "\n",
    "# Here, we define the models with the parameters from best_hp_dict\n",
    "\n",
    "umap_model = UMAP(\n",
    "    n_components=best_hp_dict['N_COMPONENTS'], \n",
    "    metric=best_hp_dict['METRIC'],\n",
    "    # n_neighbors=best_hp_dict['N_NEIGHBORS'],\n",
    "    min_dist=best_hp_dict['MIN_DIST'],\n",
    "    random_state=RANDOM_STATE,\n",
    "    low_memory=False\n",
    ")\n",
    "\n",
    "hdbscan_model = hdbscan.HDBSCAN(\n",
    "    # min_cluster_size=best_hp_dict[\"HDBSCAN_MIN_CLUSTER_SIZE\"],\n",
    "    # min_samples=best_hp_dict[\"MIN_SAMPLES\"],\n",
    "    # cluster_selection_epsilon=best_hp_dict[\"CLUSTER_SELECTION_EPSILON\"],\n",
    "    metric=best_hp_dict['METRIC'],\n",
    "    cluster_selection_method = 'eom',\n",
    "    gen_min_span_tree=True,\n",
    "    prediction_data=True\n",
    ")\n",
    "\n",
    "topic_model = BERTopic(\n",
    "    language=\"multilingual\",\n",
    "    vectorizer_model=vectorizer_model,\n",
    "    # top_n_words=best_hp_dict[\"TOP_N_WORDS\"],\n",
    "    # min_topic_size=best_hp_dict[\"MIN_TOPIC_SIZE\"],\n",
    "    umap_model=umap_model,\n",
    "    hdbscan_model=hdbscan_model,\n",
    ")\n",
    "\n",
    "topics, probs = topic_model.fit_transform(docs, embeds) "
   ]
  },
  {
   "attachments": {},
   "cell_type": "markdown",
   "metadata": {},
   "source": [
    "The difficult question is then: When we are confident with the model (and the parameters)? \n",
    "Our experience is that it requires a process of going back and forth between visualization of the UMAP projects colored with the clusters and re-consiring the parameters to make a clustering that seems to make sense. \n",
    "\n",
    "To guide the interpretation of the quality of the clusters, Bertopic have a number of nice and quick visualizations that is shown below. \n",
    "\n",
    "In the step 4, we make our own visualization that can also be used for further analysis - e.g. by comparing the linguistic clusters/embeddings with other background data. "
   ]
  },
  {
   "cell_type": "code",
   "execution_count": null,
   "metadata": {},
   "outputs": [],
   "source": [
    "# ## Visualize the documents, their position and their predicted clusters\n",
    "# fig = topic_model.visualize_documents(docs, embeddings=embeds)\n",
    "# fig.show()\n",
    "# fig.write_html(\"outputs/visualize_documents.html\")"
   ]
  },
  {
   "attachments": {},
   "cell_type": "markdown",
   "metadata": {},
   "source": [
    "### Step 4: Visualization\n",
    "\n",
    "When we are satisfied with our topic model, we want to visualize and analyze the clustering. Here, we first information about which document belong to which topic to the original dataframe. Then, we can plot or analyze how the clustering relates to other information in the data. "
   ]
  },
  {
   "cell_type": "code",
   "execution_count": 90,
   "metadata": {},
   "outputs": [
    {
     "data": {
      "text/plain": [
       "4"
      ]
     },
     "execution_count": 90,
     "metadata": {},
     "output_type": "execute_result"
    }
   ],
   "source": [
    "len(set(topics))"
   ]
  },
  {
   "cell_type": "code",
   "execution_count": 103,
   "metadata": {},
   "outputs": [],
   "source": [
    "# Make dict to map topic number to labels made by our CountVectorizer\n",
    "label_dict = {}\n",
    "for label in topic_model.generate_topic_labels():\n",
    "    k,v = label.split('_', 1)\n",
    "    label_dict[k] = v\n",
    "    \n",
    "# Add topics, probabilities, and topic names to original dataframe\n",
    "df['topics'] = topics\n",
    "df['probs'] = probs\n",
    "df['topics_name'] = df['topics'].apply(lambda x: label_dict[str(x)])\n",
    "df['topics_name'] = df['topics_name'].apply(lambda x: x.replace('_',' - '))\n",
    "df['topics_name'] = df.apply(lambda row: 'Ikke Kategoriseret' if row['topics'] == -1 else row['topics_name'], axis=1)\n",
    "\n",
    "def get_mio(x):\n",
    "    if type(x) != str:\n",
    "        return x\n",
    "    l = x.split(',')\n",
    "    l = [re.findall('\\d.\\d\\d(?= mio)', i)[0] for i in l]\n",
    "    return sum(float(i) for i in l)\n",
    "\n",
    "df['Subsidy_total'] = df['Subsidy'].apply(get_mio)\n",
    "df['Auto_financing_total'] = df['Auto financing'].apply(get_mio)\n",
    "df['Total_financing'] = df['Subsidy_total'] + df['Auto_financing_total']\n",
    "df['Fokusområder EUDP'] = df['Fokusområder EUDP'].fillna('Ingen data')\n",
    "\n",
    "def line_breaker(s: str) -> str:\n",
    "    chunk_size = len(s)//6\n",
    "    s_chunks = [ s[i:i+chunk_size] for i in range(0, len(s), chunk_size) ]\n",
    "    return '<br>'.join(s_chunks)\n",
    "\n",
    "df['text_br'] = df['text'].apply(line_breaker)\n",
    "\n",
    "# IF we chose n_components = 2 in the UMAP model, we can easily add them to the original df.\n",
    "# If we chose more than 2 components, we run another UMAP reduce the embeddings to 2d for visualization. \n",
    "umap_model = topic_model.umap_model\n",
    "temp = pd.DataFrame(umap_model.embedding_, columns=[\"x\", \"y\"])\n",
    "df_out = pd.concat([df,temp], axis=1)\n",
    "\n",
    "\n",
    "# Optional: We might want to save the final dataframe - so we don't need to run all the code if we want to do further analysis\n",
    "#df_out.to_csv('data/data_with_topics.csv')"
   ]
  },
  {
   "cell_type": "code",
   "execution_count": null,
   "metadata": {},
   "outputs": [],
   "source": [
    "pd.options.display.max_columns = 99\n",
    "df_out = pd.read_csv('data/data_with_topics.csv')\n",
    "df_out.shape"
   ]
  },
  {
   "cell_type": "code",
   "execution_count": 104,
   "metadata": {},
   "outputs": [
    {
     "data": {
      "text/plain": [
       "{-1, 0, 1, 2, 3, 4, 5, 6, 7, 8, 9, 10, 11, 12, 13, 14, 15, 16, 17, 18, 19, 20}"
      ]
     },
     "execution_count": 104,
     "metadata": {},
     "output_type": "execute_result"
    }
   ],
   "source": [
    "set(topics)"
   ]
  },
  {
   "cell_type": "code",
   "execution_count": 105,
   "metadata": {},
   "outputs": [
    {
     "data": {
      "application/vnd.plotly.v1+json": {
       "config": {
        "plotlyServerURL": "https://plot.ly"
       },
       "data": [
        {
         "customdata": [
          [
           "ERA-NET Demowind 2, X-demonstration Offshore Field test (X-DOF) \n The purpose of this project is to establish demonstrat<br>ion, develop solutions fit for market and prove through a series of sub-component tests and on a 7MW off-shore turbine t<br>hat the technology is ready for market introduction. The outcome of the project will be cost effective product for retro<br>fit and new design. Key activities in the project are: maturing of the X-stiffener technology and related testing as wel<br>l as installation, service and maintenance. In order to have a smooth and effective market introduction, the findings an<br>d product will be tested in close dialog with participating sales channels (Total Wind) and a potential customer (Gamesa<br>) \n ",
           2016,
           "Vind",
           "DANSK INGENIØRSERVICE A/S",
           "Energieffektivisering, Grøn procesenergi, Mere grøn el – og til flere formål"
          ],
          [
           "Vertical Installer \n Redu<br>ktion af omkostninger til<br> installation af WTG tårn<br>e med 50% og sikring af f<br>remtidige installationer <br>uafhængigt af tårnhøjde \n<br> ",
           2018,
           "Vind",
           "Mærsk Supply Service A/S",
           "Energieffektivisering"
          ],
          [
           "Demonstration af fremtidens nacelle testbænk fundament \n Formå<br>let er at sikre, at fremtidige nacelle-testfaciliteter i stor <br>skala er tekniske og økonomisk gennemførlige for vind-industri<br>en. Dette gøres ved at videreudvikle og demonstrere R&D Test S<br>ystems koncept. Projektmålet er bedre forståelse af storskala <br>betonkonstruktioner, der udsættes for høj dynamisk belastning.<br> \n ",
           2020,
           "Vind",
           "R&D Test Systems A/S",
           "Ingen data"
          ],
          [
           "Vindmølletårne produceret \"on demand\" \n Dette projekt fokuserer på at l<br>evere bevis på, a) at 3D printning kan bruges til at fremstille høje vin<br>dmølletårne, b) det er økonomisk og teknisk muligt, c) 2 designkoncepter<br> til tårne, der er fremstillet ved 3D-printning, kan verificeres af tred<br>jepart. Afslutningsvist vil et 10 meter højt pilottårn blive fremstillet<br> for at påvise realiserbarheden af det 3D-printede beton med forstærknin<br>g. \n ",
           2019,
           "Vind",
           "COBOD International A/S",
           "Ingen data"
          ],
          [
           "Advanced VGs \n Målet er at udvikle nye VG geometrier og en bed<br>re placering også af traditionelle VG geometrier for at forbed<br>re effektiviteten af vindmølle rotorer. Med VGer monteret kan <br>den formindskede årsproduktion over tid fra eroderede og/eller<br> beskidte vinger minimeres. Dette gør projektdeltagerne mere k<br>onkurrencedygtige og er med til at hjælpe den grønne omstillin<br>g. \n ",
           2019,
           "Vind",
           "DTU Vindenergi",
           "Ingen data"
          ],
          [
           "LICOREIM - Lidar-assited Control for REliability IMprovement \n Formålet med LICOREIM projektet er at udvikle og demonstrere lidar-baseret vindmølle kontrolstrategier med henblik p<br>å robust og pålidelig forbedring af såvel eksisterende (dvs. retro-fit løsninger) som fremtidige vindmøller. Med hensyn til sidstnævnte vil projektet skabe fundamentet for, at Sie<br>mens Gamesa Renewable kan udvikle og implementere integreret lidar-baseret kontrol i nye innovative vindmølle designs med særlig vægt på anvendelse i den næste generation af store<br> offshore møller.  Projektet vil anvende Windar Photonics' lidar teknologi til detektion af kraftige vindgusts og regn-effekter - som potentielt inducerer hhv. høje laster og eros<br>ion af vindmøllevingernes forkant - og med afsæt i dette udvikle vindmøllens kontrolsystem til håndtering af sådanne begivenheder med henblik på at reducerer skadelige følgevirkni<br>nger af disse. Dette vil i den sidste ende bidrage til øget pålidelighed, reduceret 'nede-tid' samt reducerede drifts- og vedligeholdelsesomkostninger igennem hele møllens levetid<br>. \n ",
           2019,
           "Vind",
           "Danmarks Tekniske Universitet (DTU)",
           "Ingen data"
          ],
          [
           "Low-Wind vindmøllekonceptet for optimal systemintegration \n Det overordnede <br>formål med projektet er at undersøge fordelene ved et helt nyt vindmøllekonc<br>ept - Lav-Vinds møllen designet for optimal systemintegration i et elnet med<br> betydeligt produktion fra vedvarende energikilder. Lav-Vinds møllen desgine<br>s til at producerer mere end dobbelt så meget energi ved lav vind, hvor elpr<br>isen typisk er høj men vil til gengæld allerede blive stoppet ved 12-14 m/s.<br> \n ",
           2019,
           "Vind",
           "Danmarks Tekniske Universitet (DTU)",
           "Ingen data"
          ],
          [
           "SEM Vinge Coater \n Forretnings idéen for teknologien til <br>maling af vindmølle vinger er at gøre vingeproduktionen b<br>illigere, forbedre arbejdsmiljøet og udvikle mere fleksib<br>elt udstyr. SEM-BC vil blive designet til at kunne male a<br>lle vingetyper og er relevant for mere end 80% af de nye <br>turbiner - hvilket svarer til ca. 60.000 vinger om året. <br>\n ",
           2019,
           "Vind",
           "Eltronic A/S",
           "Ingen data"
          ],
          [
           "Validering af Industriele Aktive Aerodynam<br>iske Add-ons \n Teknologierne i projekterne<br> fokuserer på at øge møllens aerodynamiske<br> virkningsgrad, reducere møllens laster og<br> forøge kontrolmulighederne gennem en ny f<br>rihedsgrad i styringen af effekt og last. <br>\n ",
           2019,
           "Vind",
           "Siemens Gamesa Renuable Energy A/S",
           "Ingen data"
          ],
          [
           "Offshore vind Sugebøtte på Industriel Skala – Part 2 Testin<br>stallation \n Målet med dette projekt er at udføre en testin<br>stallation af en fuldskala prototype af en sugebøtte til ja<br>cket-fundamenter til vindmøller. Installationen bliver udfø<br>rt i et offshore område nær Frederikshavn i det nordlige Da<br>nmark – i forskellige jordbundstyper over 10 nedsugninger. <br>\n ",
           2018,
           "Vind",
           "Siemens Gamesa Renuable Energy A/S",
           "Ingen data"
          ],
          [
           "Et nyskabende knudedesign med højstyrkestål for offshore gitterkonstr<br>uktioner (HiJack) \n Prisen på offshore jacket fundamenter skal reduce<br>res for at gøre denne type fundament konkurrencedygtig. Formålet med <br>projektet er at modne og udvikle et nyt offshore jacket knude design <br>med højstyrkestål og forske i udmattelsesoptimering. Det nye knudekon<br>cept forventes at reducere prisen på offshore jackets med op til 20%.<br> \n ",
           2018,
           "Vind",
           "RAMBØLL DANMARK A/S",
           "Ingen data"
          ],
          [
           "AeroLoop - Accelereret og forøget kvalitet i aerodynamiske og aeroakustiske <br>design loops \n Formålet med dette projekt er: 1. Højkvalitetsmålinger med hø<br>jt service niveau. 2. Accelererede vindtunnelmålinger ved at effektivisere a<br>rbejdsgange med stadardiserede og automatiserede processer. 3. Benchmarke vi<br>ndtunnelmålinger ved at sammenligne med flere andre vindtunneler. 4. Forbedr<br>ede vingeprofiler med hensyn til øget aerodynamisk og aeroakustisk ydeevne, <br>\n ",
           2018,
           "Vind",
           "Danmarks Tekniske Universitet (DTU)",
           "Ingen data"
          ],
          [
           "Globalt Atlas over designparametre \n GASP sigter på at nedbringe den s<br>ammenlignelige energipris ved at reducere usikkerheden og ved at tilve<br>jebringe kvalitetsdata for opstillingsbetingelserne. Dette sikrer et v<br>elegnet vindklima, hvorved man undgår skader på møllernes konstruktion<br> og unødige omkostninger ved alt for konservative møllevalg. Resultate<br>rne af GASP vil indeholde de designparametre der anvendes på markedet.<br> \n ",
           2018,
           "Vind",
           "Danmarks Tekniske Universitet (DTU)",
           "Ingen data"
          ],
          [
           "RELIABLADE - Forbedret pålidelighed af vindmøllevinger ved anvendelse <br>af digitale tvillinger gennem hele livscyklussen \n RELIABLADE udvikler<br> og demonstrerer teknikker til at skabe en digital tvilling af hver en<br>kelt vinge med dens unikke fejl og afvigelser. Den digitale tvilling a<br>fspejler vingens aktuelle tilstand og forudsiger den fremtidige tilsta<br>nd efterhånden som skader opstår og udvikles gennem hele livscyklussen<br>. \n ",
           2018,
           "Vind",
           "Danmarks Tekniske Universitet (DTU)",
           "Ingen data"
          ],
          [
           "Omkostnings- og risikovurderingsværktøj for midlertidige og forebyggende repa<br>rationer \n Formålet med CORTIR-projektet er at samle hele værdikæden fra vind<br>industrien i et samarbejde for at nedbringe de omkostninger og risici, der kn<br>ytter sig til drift af vindmøller. I løbet af projektet vil et drift-beslutni<br>ngsværktøj blive udviklet baseret på den samlede erfaring, udførte test og te<br>ori. I en sideløbende proces vil en ny teknologi blive udviklet og testet. \n ",
           2018,
           "Vind",
           "Bladena ApS",
           "Ingen data"
          ],
          [
           "DMDS – Demonstration af Modulært Driv System \n Formålet <br>med DMDS – Demonstration af Modulært Driv System er at u<br>dvikle og demonstrere en ny type drivsystem til store te<br>stbænke. Det modulære drivsystem (MDS) vil muliggøre opf<br>ørelsen af større fuldskala testbænke til vindmøllenacel<br>ler samtidig med, at prisen for testbænken reduceres. \n ",
           2018,
           "Vind",
           "R&D Test Systems A/S",
           "Ingen data"
          ],
          [
           "EUDP18-II WindWeld \n WindWeld har som formål, at forbedre udmattelseslevetiden (modstanden mod metaltræthed) i store sv<br>ejste stålkonstruktioner ved at anvende en automatiseret maskine, der udvikles og demonstreres i projektet. Maskinen vi<br>l bruges til at udglatte svejsevulster. Den velbegrundede grundlæggende idé er, at udmattelseslevetiden for tårne og mo<br>nopæle, som anvendes i havvind industrien, kan forbedres og ved brug af denne udglatningsteknologi. Hvis certificerende<br> myndigheder accepterer at de forventeligt forbedrede udmattelsesegenskaber kan udnyttes som ny designbasis, så kan stå<br>lforbruget reduceres betragteligt, hvilket vil give besparelser i hele værdikæden for den danske vindmølle industri. \n ",
           2018,
           "Vind",
           "Siemens Gamesa Renuable Energy A/S",
           "Ingen data"
          ],
          [
           "Robot til reparat<br>ion af havvindmøl<br>ler \n Demonstrere<br> service af vinge<br>r på havvindmølle<br>r med en robot. \n<br> ",
           2018,
           "Vind",
           "Rope Robotics ApS",
           "Ingen data"
          ],
          [
           "Large Scale Offshore Wake Impact on the Danish Power System (OffshoreW<br>ake) \n Den massive udbygning med offshore vindkraft medfører øgede sky<br>ggevirkninger fra én vindmøllepark til den næste. Denne skyggeeffekt v<br>il både påvirke energiproduktionen og variationen af offshore vindkraf<br>tproduktionen. OffshoreWake udvikler en simuleringsplatform til bestem<br>melse af hvordan skygge- og bølgeeffekter vil påvirke driften i Danmar<br>k. \n ",
           2017,
           "Smart Grid og systemer",
           "DTU Vindenergi",
           "Ingen data"
          ],
          [
           "PowerKey - Forbedret vindmøllestyring for drift-optimerede vindparker <br>\n Vindparkkontrol er af afgørende betydning for forbedring af vindpark<br>drift og integration af vindparker i elnettet. Et centralt element i e<br>n vindparkkontrol er kontrol af de individuelle møller i en vindpark. <br>I PowerKey udvider og validerer vi funktionaliteten af møllens kontrol<br>systemer og forbereder disse for håndtering af wake genereret turbulen<br>s. \n ",
           2017,
           "Smart Grid og systemer",
           "DTU Wind Energy Department",
           "Ingen data"
          ],
          [
           "Power Pack WIND - Hybrid installationsgenerator til havv<br>indmøller \n Installationsperioden for en havvindmøllepar<br>k er en enormt energikrævende fase, som i dag løses ved <br>hjælp af diesel. Med projektet vil vi i samarbejde med v<br>ore partnere udvikle en hybrid og møllespecifik Power Pa<br>ck WIND der reducerer energiforbrug i installationsfasen<br>. \n ",
           2017,
           "Vind",
           "Zülau A/S",
           "Ingen data"
          ],
          [
           "Demonstration af behov for forlængelse af vindmøllers levetid ud over des<br>ignlevetiden \n Hovedformålet er at udvikle procedurer, der kan minimere r<br>isikoen for nedbrud, kvantificere både den resterende strukturelle pålide<br>lighed og vedligeholdelsesudgifterne ved at levetidsforlænge møller, der <br>nærmer sig udløbet af den certificerede designlevetid. Disse procedurer b<br>aseres på mængden af data indsamlet gennem fx erfaring med vedligehold. \n<br> ",
           2017,
           "Vind",
           "DTU Vindenergi",
           "Ingen data"
          ],
          [
           "TeTraSpar \n Formålet med det foreliggende projekt er at optimere det flydende TetraSpar havmøllekoncept for installation i et pilotprojekt. Potentialet i offshore vindkraft er enormt. Havvindmøller kan levere syv gange Europas elforbrug og fire gange USA’s elforbrug. Det meste af potentialet i offshore vindkraft er imidlertid på havdybder, hvor ud<br>bygningen kun kan ske med flydende havmøller. På nuværende tidspunkt tilbyder et antal leverandører flydende fundamenter til havmøller, men omkostningerne er prohibitive for implementering i stor skala. Den fundamentale årsag til de høje omkostninger er, at de eksisterende koncepter udspringer af offshore olie- og gassektoren; de fremstilles under<br> anvendelse af konventionelle, ikke-industrialiserede metoder, vægte måles i tusinder af tons, og fremstillingstider måles i måneder. I modsætning hertil er TetraSpar-konceptet baseret på anvendelse af velkendte design- og fremstillingsteknikker fra den meget konkurrencedygtige vindmølleindustri. Resultatet er, at vægten kun udgør en brøkdel af væ<br>gten fra de eksisterende koncepter, fremstilling sker i fabrikker ved brug af industrialiserede metoder, og samling og installation har varighed af dage eller uger, ikke måneder. Fundamentet og vindmøllen kan installeres i enhver havn af rimelig størrelse under anvendelse af en almindelig mobilkran, og den samlede vindmølle kan bugseres ud til sit<br>en og forbindes med ankerliner og det elektriske kabel ved hjælp af almindelige slæbebåde. Dette projekt vil være den første fuldt koblede numeriske og eksperimentelle validering af TetraSpar konceptet. Konceptoptimiseringsindsatsen er fokuseret i fire hovedområder: Hydrodynamik, Forankring, Marine Operationer og Strukturelt Design. Det forventede<br> resultat af projektet er en forbedret TetraSpar-løsning bestående af et hydrodynamisk og strukturelt optimeret fundament, et innovativt forankringssystem, og specifikation af et komplet, sikkert og kosteffektivt sæt af marine operationer. Konsekvensen af et succesfuldt projekt vil være et betydeligt spring i LCOE fra flydende offshore vindkraft. <br>\n ",
           2017,
           "Vind",
           "Aalborg Universitet",
           "Ingen data"
          ],
          [
           "Kran fri multiplatform for vindmø<br>ller \n Dette projekt vil bidrage <br>til at reducere omkostningerne ti<br>l servicering af vindmøller, gøre<br>\nindustrien mere konkurrencedygti<br>g og reducere COE (Cost of Energy<br>). \n ",
           2016,
           "Vind",
           "AH Industries",
           "Ingen data"
          ],
          [
           "IMPACT - Forbedret klæber teknologi <br>vil vindmøllevinger \n Formålet med I<br>MPACT er at udvikle beregningsmæssig<br>t effektive og præcise udmattelses-f<br>orudsigelse-metoder til klæber forbi<br>ndelser i højeffekt vindmøllevinger.<br> \n ",
           2016,
           "Vind",
           "Danmarks Tekniske Universitet (DTU)",
           "Ingen data"
          ],
          [
           "Lidar påvisning af vindmølle splistrøm for videre vindmølleoptimering \n Fo<br>rmålet med projektet er at udvide målefunktionen i eksisterende Windar lid<br>ar udstyr, til også at indeholde et robust system, der kan måle turbinens <br>slipstrøm (wake detection) under forskellige forhold. Her skal der yderlig<br>ere udvikles forskellige algoritmer til turbine kontrol for at forbedre Wi<br>ndars muligheder for øget salg af lidar sensorer i vindmølleindustrien. \n ",
           2016,
           "Vind",
           "WINDAR PHOTONICS A/S",
           "Ingen data"
          ],
          [
           "Liftra Offshor eselvhejsende kran \n Formålet med projektet er udviklin<br>g af en selvhejsende kran for offshore brug (Offshore selvhejsende kra<br>n - OSHC), baseret på jack principperne anvendt af Liftra Self Hosting<br> Crane (Lift selvhejsende kran). OSCH’en skal kunne anvendes fra en fl<br>ydende platform (et almindeligt skib) og skal være i stand til at udsk<br>ifte vindmøllekomponenter i vindmøller placeret på flydende fundamente<br>r \n ",
           2016,
           "Vind",
           "LIFTRA ApS",
           "Ingen data"
          ],
          [
           "Evaluering af vind turbiners ydeevne i alle terræn klasser. \n Formålet er<br> at bevise iSpin’s måleevne og robusthed på en bred skala. Robustheden sk<br>al bevises ved målinger på i alt omkring 90 vindturbiner placeret i 9 vin<br>dmølleparker. Måledata fra 3 forskellige turbine typer – hver installeret<br> i 3 forskellige terræn klasser – skal vurderes af uafhængige 3.parts kon<br>sulenter og af Danmarks Tekniske Universitet (DTU) som projektpartner. \n ",
           2016,
           "Vind",
           "ROMO WIND A/S",
           "Ingen data"
          ],
          [
           "Udvikling af køjekransproteser som sevicevirkemiddel for slidskadede vi<br>ndmøller \n Turbines are designed to change its direction as a change in<br> the wind direction occurs, and partial wear occurs when the windmill a<br>ctively yaws back and forth in a too narrow spectrum for a long time. I<br>t is our aim to develop solutions to this crucial problem within the se<br>rvice industry (windmills) in order to reduce the costs significantly. <br>\n ",
           2016,
           "Vind",
           "Grenaa Motorfabrik",
           "Ingen data"
          ],
          [
           "Hurtig og effektiv udmattelsestest af sto<br>re vindmøllevinger (BLATIGUE) \n The objec<br>tive of BLATIGUE is to develop fast and e<br>fficient fatigue test methods for large w<br>ind turbine blades and to develop equipme<br>nt to excite the blades under such tests <br>\n ",
           2016,
           "Vind",
           "Danmarks Tekniske Universitet (DTU)",
           "Ingen data"
          ],
          [
           "Additiv produktion (3D Print) af store strukturer indenfor vindindus<br>trien \n Formålet med projektet er at udvikle og demonstrere metoder <br>til additiv produktion indenfor vindindustrien. Metoderne testes i p<br>rojektet på en Vestas vinge del (8 meter I-beam). Metoderne skal eft<br>er projektet videreudvikles og testes af Vestas på en mindre vinge. <br>Metoderne skal reducere LCOE og lead time indenfor vinge produktion.<br> \n ",
           2015,
           "Vind",
           "VESTAS WIND SYSTEMS A/S",
           "Ingen data"
          ],
          [
           "RATZ og reduction af O&M cost of WT Blades. \n Målet er at demonstrere ”<br>Floor” som en strukturel teknologi til at forbedre vindmøllevingers hol<br>dbarhed. Dette vil reducere fejlrater på vingerne og i det lange løb re<br>ducere drift og vedligeholdelsesomkostninger for vindmølleejere. Desude<br>n vil projektet forbedre forståelsen af revneudviklingen under test og <br>drift, og introducere relation mellem fejlstatistisk om omkostninger. \n<br> ",
           2015,
           "Vind",
           "Bladena ApS",
           "Ingen data"
          ],
          [
           "Måling af den sande vindhastighed \n Projektets formål er at forbedre<br> nøjagtigheden af kopanemometer målinger til vind ressource undersøg<br>elser og effektkurvemålinger ved at introducere meget kortrækkende l<br>idar teknologi i vindtunnel og åben atmosfære kalibreringer for at r<br>educere usikkerheden ved kalibreringer samt ved forbedret design af <br>en kopanemometer type for at forbedre usikkerhedens klassifikationer<br>. \n ",
           2015,
           "Vind",
           "Danmarks Tekniske Universitet (DTU)",
           "Ingen data"
          ],
          [
           "Medi Sander Wind \n Projektets formål er at udvikle at udvik<br>le Medi Sander Wind og dermed reducere omkostningerne, der <br>vedrører produktion af vindmøllevinger. Målet vil blive opn<br>ået via en ny patenteret teknologi, og samtidig vi projekte<br>t løse en stor arbejdsmiljørelateret udfordring, der i dag <br>eksisterer i forbindelse med slibning af vindmøllevinger. \n<br> ",
           2015,
           "Vind",
           "IN-Service ApS",
           "Ingen data"
          ],
          [
           "Frederikshavn Demonstrationsprojekt \n Projektets mål er at gøre<br> fundamentskonceptet, kendt som Mono Bucket, endelig klart til <br>kommercialisering, da dette vil bidrage betydeligt til en reduc<br>ering af omkostningerne med 30-40% på offshore vindenergi. Proj<br>ektet vil udføre fuldskala design og installering af Mono Bucke<br>t med vindmølle (WTG) på og advancere TRL fra TRL 5 til TRL 7..<br> \n ",
           2015,
           "Vind",
           "UNIVERSAL FOUNDATION A/S",
           "Ingen data"
          ],
          [
           "Fuldskala d<br>emonstratio<br>n af et akt<br>ivt flapsys<br>tem for vin<br>dmøller \n  <br>\n ",
           2015,
           "Vind",
           "Danmarks Tekniske Universitet (DTU)",
           "Ingen data"
          ],
          [
           "Forkants ruhed på vindmølle vinger \n Dette projekt vil udvikle en in<br>spektions- og fortolkningsteknologi til at udføre in-situ kvantitati<br>ve målinger af vingeforkants overflade ruhed (LER) og konvertere dis<br>se målinger til normative mål for aerodynamiske performance. Resulta<br>tet er et kvantitativt, systematisk og statistisk baseret beslutning<br>sstøtteværktøj for at kunne tage økonomisk begrundede O&M beslutning<br>er \n ",
           2015,
           "Vind",
           "Power Curve ApS",
           "Ingen data"
          ],
          [
           "Ressource estimering, prognoser og D&V af bølgeenergianlæg ved DanW<br>EC/Nordsøen \n Projektets formal er at bestemme bølgeklimaet I områd<br>et omkring Hanstholm (DanWEC) ud fra målinger fra 3 bølgemålebøjer <br>og foretage validering heraf vha. modelgenererende data. Disse mode<br>ller anvendes endvidere til udvikling af prognoser, samt drift og v<br>edligeholdelsesstrategier, bølgeenergianlæg ved DanWEC og omegn. \n ",
           2015,
           "Bølge",
           "Aalborg Universitet (Fredrik Bajers Vej)",
           "Ingen data"
          ],
          [
           "Offshore vind sugebøtte på i<br>ndustriel skala \n At udvikle<br> et modulært sugebøtte-desig<br>n (del af fundamentet til of<br>fshore møller), egnet til in<br>dustriens massefremstilling.<br> \n ",
           2015,
           "Vind",
           "SIEMENS WIND POWER A/S",
           "Ingen data"
          ],
          [
           "Forlængelse af vindmøllerotorer ved brug af optimering \n Et tæt sama<br>rbejde mellem LM Wind Power og DTU har til formål at demonstrere en <br>business case og kortlægge risici ved nye lastreducrende vingeteknol<br>ogier kombineret med multi-disciplinær optimering. En større rotor b<br>liver designet til en 3 MW vindmølle for at øge dens energiudbytte m<br>ed 3% mens lasterne på de resterende komponenter ikke overskrides \n ",
           2015,
           "Vind",
           "Danmarks Tekniske Universitet (DTU)",
           "Ingen data"
          ],
          [
           "Rain erosion tester for accelereret test af vindmøller \n Formåle<br>t med dette projekt er at udvikle en testmaskine, en rain erosio<br>n tester, hvor regn erosion på vindmøllevinder kan simuleres. En<br> rain tester kan accelereret simulere erosion og utilsigtet afsk<br>alning af overfladen på vindmøllevinger og således hjælpe med at<br> undgå dyre reparations- og effekttab ifm. driften af vindmøller<br> \n ",
           2015,
           "Vind",
           "R&D rådgivende ingeniører",
           "Ingen data"
          ],
          [
           "NetVind \n Anvendelse af vindkraft regulering til forbedrin<br>g af drift i distributionsnettet. Projekt har til formål a<br>t udnytte de tilsluttede landbaserede vindmøllers reguleri<br>ngsmuligheder til at opnå optimal udbytte af den grønne om<br>stilling i Danmark. Projektet vil analysere og demonstrere<br>, hvilke tekniske og økonomiske potentialer, der findes. \n<br> ",
           2016,
           "Vind",
           "Eniig Forsyning",
           "Ingen data"
          ],
          [
           "Concert \n For at kunne spille med i det store orkeste<br>r som elsystemet udgør, skal offshore vind parker kun<br>ne regulere deres produktion i takt til de øvrige med<br>spillere. I Concert bliver dirigenten til de mange mø<br>ller udviklet, hvilket både øger produktion, el-kvali<br>tet og samtidigt forbedrer levetiden af anlæggene. \n ",
           2016,
           "Vind",
           "Danmarks Tekniske Universitet (DTU)",
           "Ingen data"
          ],
          [
           "WakeBench2 – Benchmarking af vindmøllepark strømningsmodeller \n Form<br>ålet er dels at forbedre de værktøjer der bruges til at simulere vin<br>dmølleparker og dels at etablere et\nsæt guidelines for disse modelle<br>rs anvendelse som kan benyttes af både industrielle og akademiske\nak<br>tører indenfor vindenergi. Dette opnås ved at deltage i IEA-Task 31 <br>projektet hvori en lang række\nvindmøllepark-modeller benchmark teste<br>s. \n ",
           2015,
           "Vind",
           "Danmarks Tekniske Universitet (DTU)",
           "Ingen data"
          ],
          [
           "Teknisk certificeringsordning for vindmøller - 2014 \n For at vindmøller kan opstilles og drives i Danmark el<br>ler i de danske farvande, skal disse være certificerede og serviceret i henhold til den tekniske certificeri<br>ngsordning for vindmøller, jf. bekendtgørelse nr. 73 af 25. januar 2013 samt tilhørende vejledning. Energist<br>yrelsens Godkendelsessekretariat for Vindmøller er oprettet med det formål at varetage administrationen og f<br>øre tilsyn med overholdelse af bekendtgørelsens bestemmelser. Godkendelsessekretariatet varetager endvidere <br>vedligeholdelsen af det tekniske certificeringsgrundlag, herunder koordinering af standardiseringsarbejdet. <br>\n ",
           2014,
           "Vind",
           "Danmarks Tekniske Universitet (DTU)",
           "Ingen data"
          ],
          [
           "Enkelt Vinge skift uden kran \n Udskiftning a<br>f vinger på Vindmøller er omkostningsfuld pg<br>a. omkostninger til store mobil kraner. Med <br>Enkeltvinge udskiftningssystemet vil det vær<br>e muligt at udskifte vinger uden en mobil kr<br>an og kun med en 40 fods container på site. <br>\n ",
           2014,
           "Vind",
           "LIFTRA ApS",
           "Ingen data"
          ],
          [
           "SmallWind - markedsanalyser og perspektiver \n Mål:\nMarkedsan<br>alyser af markeds potentiale i det danske og internationale <br>for Small Wind Turbines\nIdentificere industrielle forretning<br>splaner for fremstilling og markedsføring.\nUdarbejdelse af R<br>oadmaps, eksportmodeller og eksport håndbog.\nDemonstration o<br>g realisering af en eksport kampagne i et attraktivt marked.<br> \n ",
           2014,
           "Vind",
           "Danmarks Tekniske Universitet (DTU)",
           "Ingen data"
          ],
          [
           "Robot til automatiseret montage af bolte i Bange-samlinger i vi<br>ndmøller \n Seagar vil udvikle og demonstrere en robot, der gør <br>det muligt at spænde bolte i vindmøller automatisk. Robotten be<br>væger sig fra bolt til bolt, spænder dem og dokumenterer alle r<br>elevante data. Innovationen vil reducere prisen på el fra vindm<br>øller og reducere antallet af ulykker, der finder sted i dag. \n<br> ",
           2014,
           "Vind",
           "Seagar A/S",
           "Ingen data"
          ],
          [
           "Radar styring af lysafmærkning på det nationale test center i <br>Østerild \n Projektets formål er at teste, verificere og dokume<br>ntere radarstyringsinstallationen og derigennem definere minim<br>umskravene til et sådant system. Desuden skal projektet unders<br>øge konsekvenserne af indførelsen af den radarstyrede lysafmær<br>kning ved at udføre evalueringer i nærmiljøet omkring Østerild<br>. \n ",
           2014,
           "Vind",
           "Terma A/S",
           "Ingen data"
          ],
          [
           "Global Team Turbine \n Projektets mål er at designe, bygge og t<br>este en omkostningseffektiv og pålidelig vindmølle nacelle som<br> anvender bælte-drev i stedet for den traditionelle gearkasse.<br> Projektet vil designe og delvist bygge en vindmølle nacelle i<br>nklusive bundramme med drevsystem og teste denne med henblik p<br>å at verificere teknologien i en komplet vindmølleprototype. \n<br> ",
           2013,
           "Vind",
           "VESTAS WIND SYSTEMS A/S",
           "Ingen data"
          ],
          [
           "Offshore Vind Fundament Knude på Industriel Skala \n Projektets<br> formål var at udvikle en ny knudesamling til offshore vind fu<br>ndamenter. Der blev udviklet et nyt design for proces og samli<br>ng af jacket fundamenter, omkostningseffektiv knudesvejsning o<br>g en masseproduktionsproces. Derudover blev der udført test og<br> demonstration af korrosion og holdbarhed af knudesamlingerne.<br> \n ",
           2014,
           "Vind",
           "SIEMENS WIND POWER A/S",
           "Ingen data"
          ],
          [
           "ERA-NET Plus - New European Wind Atlas \n Det nye europæiske vindatlas vil <br>som minimum indeholde højopløselige kort over vindressourcer med tilhørend<br>e usikkerheder, vindforhold for design af vindmøller, ekstreme vind- og ve<br>jrforhold og sandsynlighed for deres forekomst, godheden af vindkraftforud<br>sigelser fra timer til dage. Modeller, metoder og brugervejledninger til a<br>lle anvendelser af vindatlasset, især med henblik på placering af vindfarm<br>e. \n ",
           2014,
           "Vind",
           "Danmarks Tekniske Universitet (DTU)",
           "Ingen data"
          ],
          [
           "EIA Task 19, Vindenergi i koldt klima \n At bidra<br>ge til udvikling af vindkraftteknologi for kold <br>klima og fremme nye anvendelser af dansk vindtek<br>nologi gennem deltagelse i lEA Task 19 - det int<br>ernationale netværk som arbejder på grundlaget f<br>or nye internationale standarder på dette område<br>. \n ",
           2013,
           "Vind",
           "Danmarks Tekniske Universitet (DTU)",
           "Ingen data"
          ],
          [
           "Forbedret lyn-effekt test kapacitet for optimeret vind møl<br>le pålidelighed. \n Formålet med projektet er at undersøge <br>fremtidige test strategier for de førende vindmølle produc<br>enter for at designe, udvikle, konstruerer og demonstrere <br>den fremtidige test facilitet for simulering af effekten a<br>f direkte lynindslag på komponenter til store\nvindmøller \n<br> ",
           2014,
           "Vind",
           "Global Lightning Protection Systems A/S",
           "Ingen data"
          ],
          [
           "Cost-effektiv lidar til pitch kontrol \n Målet er at demonstrere e<br>n billig, mekanisk stabil lidar til vindmøllevingers pitch kontro<br>l. Den nye sensor skal måle vindhastigheden i 4 rumligt adskilte <br>målepunkter foran vindmøllen. Sensoren kan give vindhastighed og <br>retning i navhøjde, men som noget nyt information om det transver<br>se vindfelt til pitch kontrol at reducere vindmølles belastning. <br>\n ",
           2014,
           "Vind",
           "WINDAR PHOTONICS A/S",
           "Ingen data"
          ],
          [
           "Fuld skala basis test of vind møller og deres kompone<br>nter \n Task 35 vil fokusere på vindmøller Vinge og dr<br>ive train og vurdere deres ydeevne samt svigt kriteri<br>er i forskellige drifts situationer. Delopgaverne er:<br> 1) Relevante vind mølle konfigurationer. 2) Test pro<br>cedurer for vinger. 3) Test procedurer for drive trai<br>n. \n ",
           2014,
           "Vind",
           "Danmarks Tekniske Universitet (DTU)",
           "Ingen data"
          ],
          [
           "FORIDA TOWERS II - demonstration og videre udvikling \n <br>At høste erfaringer med at udføre et hybrid UHPC tårn i<br> praksis og forberede teknologien til kommercialisering<br>. Yderligere udvikling til opskalering af tåmsystemet t<br>il større højde, til at kunne udføre tåmene helt i UHPF<br> RC og til at reducere brugen af stang armering i tårne<br>t \n ",
           2014,
           "Vind",
           "FORIDA DEVELOPMENT A/S",
           "Ingen data"
          ],
          [
           "Fremtidens Hydrauliske Pitch System for W<br>ind Turbines \n Målet med projektet er at <br>øge pålideligheden og tilgængeligheden af<br> hydrauliske pitch systemer signifikant, <br>sammenlignet med de elektriske og hydraul<br>iske løsninger der er tilgængelige i dag.<br> \n ",
           2013,
           "Vind",
           "Hydratech Industries",
           "Ingen data"
          ],
          [
           "Optimerede Layouts for Vindmølleparker i Komplekst Terræn (FarmOpt) \n <br>Projektet er 1 af 2 projekter, som EUDP støtter i samarbejde med kines<br>iske Ministry of Science and Technology (MoST). Projektets formål er a<br>t udvikle optimeringsværktøjer til layout-optimering når der planlægge<br>s vindmølleparker i komplekst terræn, dvs. bjergområder, herudover at <br>integrere værktøjerne i dansk kommerciel software (WAsP og WindPRO). \n<br> ",
           2013,
           "Vind",
           "Danmarks Tekniske Universitet (DTU)",
           "Ingen data"
          ],
          [
           "Afstivning af vinger til vindmøller – Afhjælpning af forkantsskader \n<br> At udvikle og demonstrere kost-effektive løsninger til at afhjælpe f<br>orkantskader på vinger på både idriftsatte og nye vindmøller baseret <br>på Bladena’s patenterede teknologi til minimering af kæntring af ving<br>ens bærende konstruktion. Løsninger vil blive demonstreret på en vind<br>mølle i drift, fuldskalatest, sub-struktur test og i et pilotprojekt.<br> \n ",
           2013,
           "Vind",
           "Bladena ApS",
           "Ingen data"
          ],
          [
           "Vindlast simulator for funktions- og levetidstest af drivtog i vindmøll<br>er \n Formålet med dette projekt er at udvikle en ny type vindlast simul<br>ator, hvor naturtro simulering af alle former for vindlast kan udføres.<br> Vindlast simulatoren er central enhed i en ny generation af testbænke <br>for funktions og levetidstest af komplette drivtog i vindmøller, dvs. s<br>ystemerne hvor vindlasten fra vingerne omdannes til elektrisk energi. \n<br> ",
           2013,
           "Vind",
           "R&D rådgivende ingeniører",
           "Ingen data"
          ],
          [
           "Online WAsP for små og mellem-størrelses vindmøller \n Et nyt og d<br>edikeret software-værktøj - Online WAsP - foreslås for at sikre k<br>ost-effektive men nøjagtige beregninger af energiproduktion, støj<br>emission og økonomiske nøgletal for små og mellemstore vindmøller<br>. Online WAsP løsningen bygger på teknologi fra WAsP og WindPRO o<br>g kan anvendes af slutbrugere med forskellige kompetenceniveauer.<br> \n ",
           2013,
           "Vind",
           "Danmarks Tekniske Universitet (DTU)",
           "Ingen data"
          ],
          [
           "Enkelt-vinge installation I højere vind hastigheder \n Afbrydelse<br>r under installation/afinstallation af vindmølle vinger pga. for<br> høje vind hastigheder er en stor omkostning for vindmølle indus<br>trien, især offshore. Formålet med dette projekt er at blive i s<br>tand til at installere vinger enkeltvis på offshore møller, når <br>middel vindhastigheden er 14 m/s og vindstødene er op til 21 m/s<br>. \n ",
           2013,
           "Vind",
           "LIFTRA ApS",
           "Ingen data"
          ],
          [
           "Megavind - Det strategiske partnerskab for vindenergi \n Megavinds vision er at fastholde og udvikle den danske position som kompetencecentrum for verdens førende virksomhed og videns institutioner inden for vindenergi. Formålet er at udarbejde sektorens fælles strategier inden for forskning, udvikling<br>, test, demonstration og uddannelse med konkrete anbefalinger til stat, videns institutioner og virksomheder. \n Megavind (2013-2015) er en fortsættelsen og videreudvikling af Megavind – Det strategiske partnerskab for vindenergi, som har udført strategiarbejde siden sin etablering tilbage i 2006.\nStra<br>tegiarbejdet i Megavind vil understøtte den dansk baserede vindmølleindustris styrkeposition på de globale markeder gennem en fokuseret, strategisk sektortilgang til forskning, udvikling, test og validering, demonstration og uddannelse. \nPartnerskabet arbejder med det formål at:\n- fortsat være branche<br>ns strategiplatform som sikrer samspillet mellem forskning og industri gennem udarbejdelse af fælles strategier – i tæt samarbejde med yndigheder. \n- udarbejde sammenhængende, ambitiøse delstrategier for forskning, udvikling, test og demonstration samt uddannelse. \n- støtte implementering af de udarbe<br>jdede strategier gennem udvalgte projekter med deltagelse fra både industri og forskning. \nMegavind vil i den næste fase udvikle strategier og anbefalinger for: \n- Universiteters nødvendige kompetencer og forskningsdatabaser på vind. \n- Forsyningssikkerhed og vindenergiens værdi i energisystemer med m<br>eget høje andele vindenergi. \n- En revideret offshore strategi og bechmark analyse med det formål at kunne evaluere og levere på mål om 50 % Cost of Energy reduktion i 2020.\n- Teknologiløsninger på eksternaliteter.\n- En revideret strategi for test og demonstration. \n- Vindmøllers levetid og livscyklus<br>.",
           2013,
           "Vind",
           "Vindmølleindustrien",
           "Ingen data"
          ],
          [
           "Management af havbund og vindmølle interaktion \n Omkostningerne ved management af interaktionen mellem havbund og vindmøller er høje, omkring en tredjedel af omkostningerne ved fundering af havvindmølleparker. Målet med projektet er at reducere disse omko<br>stninger ved at opnå bedre viden om processerne, bedre forudsigelseværktøjer og bedre design. \n Et stigende antal havvindmølleparker er blevet bygget over de sidste tiår. Erfaringen fra disse vindmølleparker viser at den anvendte erosionsmanagement ikke a<br>ltid har været så effektiv som forventet. Erosion opstår lokalt rund om fundamenterne på grund af de ændrede strømforhold omkring fundamenterne. Dette er traditionelt blevet kontrolleret med en erosionsbeskyttelse a sten omkring fundamentet. Ny forskning <br>har antydet at det er muligt at designe en erosionsbeskyttelse der er mere effektiv og billigere. I nogle tilfælde kan det være muligt helt at fjerne erosionsbeskyttelsen uden at der opstår problemer med voldsom erosion. Hvorvidt det er muligt vil afhænge<br> af de lokale strømforhold.Målet for projektet er at lave retningslinjer for en forbedret erosionsmanagement, ved at udvikle bedre værktøjer til forudsigelse af erosion og generelle ændringer i havbunden samt at opnå bedre viden om mekanismerne i erosions<br>beskyttelser.Den forbedrede erosionsmanagement kan reducere omkostningerne til fundering af havvindmøller betragteligt. Reduktionen er estimeret til 0,5 til 1,0 millioner kroner per fundament eller omkring 100 millioner kroner for en typisk vindmøllepark.",
           2013,
           "Vind",
           "DHI",
           "Ingen data"
          ],
          [
           "Omkostninger ved vindkraft \n Wind Task 26 har til formål at analysere omkostningerne ved vindkraft for land- og havvindmøller på det\ninternationale marked, belyse omkostningsforskelle og variationer mellem markederne, identificere\nfremtidige omkostningstendenser og drivkræfter samt belyse værdien af vindkraft i elsystemet. Dette vil\nske gennem internationalt samarbejde. \n Udbygning af vindkraft er en hjørnesten i dansk energipolitik. Forbedret viden om omkostninger,\nomkostningsfaktorer og tekniske fremskridt i forbindelse med udbygning af vindkraft spille<br>r en vigtig rolle i\nenergiplanlægning, udvikling af tarifstrukturer og mere præcise vurderinger af de omkostninger, der er\nforbundet med udnyttelsen af vindkraft. Teknologisk udvikling har haft en stor indflydelse på\nomkostningerne ved vindkraft i de senere år. Indførelsen af fx højere tårne og større vinger har forbedret\nvindmøllers ydeevner. Dermed har prisen på vindkraft fra landmøller været relativt konstant trods stigningen\ni kapitalomkostningerne i det sidste årti. Prisen på vindkraft fra landmøller vurderes igen at være faldende i\ntakt med faldende<br> vindmøllepriser og forventes at nå et historisk lavt niveau i den nærmeste fremtid.\nFortsatte omkostningsbesparelser gennem tekniske fremskridt forventes frem mod 2030. Det forventede\nfald i kapitalomkostninger for havvindmøller har ikke fundet sted i forbindelse med udbygningen til havs,\neller i takt med faldende vindmøllepriser. Der er udsigten til, at omkostninger kunne falde i de kommende\når på grund af \"evolutionære\" omkostningsreduktioner (teorien om lærekurver) og \"revolutionære\"\nomkostningsreduktioner, som følge af nye, mere effektive teknologier<br>. Andre faktorer såsom høje\nrisikopræmier og begrænset konkurrencepres kunne betyde, at reduktioner i omkostninger ikke\nnødvendigvis afspejles i energiprisen fra havmøller. Forventninger til størrelsen af omkostningsreduktionerne\nfor vindmølleteknologier varierer meget . I sidste ende bestemmes de af en række tekniske og ikketekniske\nvariable. Seneste udvikling i kapitalomkostninger og ydeevne understreger at en afvejning af\nbegge parametre bør indgå når omkostningerne til vindkraft vurderes. Dette gælder især i forhold til\nmetoder anvendt til at vurdere <br>de fremtidige omkostninger. Det primære formål med IEA Wind Task 26 er at analysere omkostningerne ved vindkraft med henblik på at forstå fortiden, nutiden og forudse fremtidige\ntendenser, samt at sammenligne vindteknologi med andre produktionsteknologier. Wind Task 26 blev\nstiftet i 2008 af Danmark og seks andre IEA medlemslande. Ea Energianalyse og DTU Vindenergi\nrepræsenterede Danmark på Wind Task 26 i denne periode. I maj 2012 blev Task 26 forlænget med\nyderligere tre år med et mandat til at analysere følgende tre emner: i. opdatere analyser af omkost<br>ninger\nved landmøller, drivkræfter for teknologiudvikling samt prisforskellene blandt de deltagende lande ii. vurdere\nomkostningerne ved energi fra havvindmøller og identificere de vigtigste omkostningsfaktorer i hvert\ndeltagerland iii. udforske metoder og deres anvendelsesmuligheder for at forstå vindenergiens fremtidige\nomkostninger og værdien af vindenergi i fremtidens elsystemer. Der søges hermed midler til at støtte videre\ndansk deltagelse i Wind Task 26. For en mere detaljeret beskrivelse af indholdet Task 26 henvises til\nbilaget vedlagt denne ansøg<br>ning.",
           2012,
           "Andet",
           "EA ENERGIANALYSE A/S",
           "Ingen data"
          ],
          [
           "Power Packs til aerodynamik i vindmøller \n Projektet vil udvikle standardiserede aerodynamiske pakkeløsninger til vindmøllevinger, såkaldte Power Packs, der sammen med nyskabende softwareredskaber forøger elproduktionen med op til 6 %. Koncepterne er skalerbare og konfigurerbare på nye vindmøller, men de kan også bruges som eftermonteringskits til eksisterende vindmøller. Teknologien bliver demonstreret gennem feltforsøg. \n PowerPack er et demonstrationsprojekt med henblik på udviklingen af en prækommerciel platform for\npassiv aerodynamisk forbedringstilbehør<br>, som er baseret på en ny og konfigurerbar kombination af vortexgeneratorer,\nGurney flaps, shells og diffusers. Et nyt teknisk softwareredskab gør det muligt for\nPowerPack konceptet at blive anvendt som en forbedring af aerodynamiske og aeroelastiske præstationer\nfor nye og eksisterende vindmøller på en skalerbar og fleksibel måde. Det teknologiske mål for projektet er\nat komme til en prototype, som giver en forbedring af strømoutputtet på 2-6% i forhold til en standard\nvindmølle, hvor det ligeledes forsimpler den nuværende fremstillings og installations proc<br>edure for\noutputforøgende tilbehør, og derved forøger omkostningseffektiviteten og mindsker COE for vindmølleejeren.\nAerodynamiske anordninger bliver på nuværende tidspunkt brugt til at tilpasse den aerodynamiske og\naeroelastiske adfærd for vindmøllevinger. Men de er endnu ikke hverken blevet systematisk anvendt eller\nblevet integreret i en samlet pakke – og en stor del af deres teknologiske potentiale og markedspotentialet\ner derfor uudnyttet. Forudsigelsen af effekten er dog under udvikling og usikkerheden ved at forudsige\neffekten ved aerodynamiske modifik<br>ationer forøges ligeledes, når anordningerne bliver kombineret i\nsåkaldte Power Packs. For at forfølge målene, har konsortiet bag projektet sammensat en serie af\naktiviteter, som er grupperet i 3 stadier for at sikre at risikoreduktion og alle teknologiske spørgsmål og\nmarkedsspørgsmål bliver medtaget på et strategisk niveau. På det første stadie tilstræber vi at udvikle en\nny, semi-automatisk udregningssoftware som kan analysere effekten en given konfiguration af tilbehør har\npå en vindmølles produktivitet, belastning og aeroelastiske stabilitet. Det andet s<br>tadie inkluderer tilpasning\nog integrering af resultater i forhold til markedskrav. Slutteligt, i det tredje stadie, vil koncepterne være en\ndel af demonstration for kommerciel og teknisk validering. De vigtigste innovative aspekter af projektet\nomfatter: (i) stærkt differentierende beregningsmæssige og tekniske softwareværktøjer, (ii) et skalerbart og\nkonfigurerbart aerodynamisk tilbehørs koncept, hvilket resulterer i simpel implementering og turbine / OEM\nagnostisk anvendelse, (iii) forbedring af ydeevne og energioutput til standard vindmøller på 2% -6%.\nPr<br>ojektet repræsenterer et innovativt koncept i vindindustrien som følger anbefalinger til nye koncepter som\nunderstreges i RD&D strategierne for Megavind samarbejdet mellem den danske regering og\nvindindustrien. Konsortiet bag projektet er industri-drevet og består af to højt specialiserede SMV’ere -\nSander Plast og Liftra – som leverer vigtige erfaringer og den teknologiske knowhow om vindenergi. De\nindustrielle partnere bliver parret med DTU Wind Energy, et center med ekspertise inden for området. Alle\npartnere har klare, identificerbare interesser i projekt<br>et.",
           2012,
           "Vind",
           "Sander Plast A/S",
           "Ingen data"
          ],
          [
           "Forbedret vindmølle effektivitet baseret på synkrone sensorer \n Formålet er at forøge virkningsgraden af vindmøller  ved brug af synkroniserede sensorer på vindmøller, deres vinger og i vindfelter. Teknolo<br>gien benyttes til udvikling, test og kontrol af vindmøller og vindmølleparker. Herved optimeres virkningsgrad, pålidelighed og holdbarhed. \n Projektet udvikler en demonstrator af en vindmøllevinge \"inflow\"<br> sensor og en letvægts elektronisk enhed (SyncBoard) der synkroniserer analog til digital omsætning, data lagring og kommunikation. Enheden kan kobles til eksisterende analoge og digitale sensorer. Den for<br>ventes udviklet i to faser, hvor den første fase er baseret på standardkomponenter. En efterfølgende fase, som der søges opfølgnings-finansiering for, skrumper teknologien til en lille, lav-effekts \"chip\".<br> Formålet med projektet er at udføre nye typer målinger der direkte kan anvendes til at forbedre virkningsgraden af vindturbiner så vel som eksisterende kraftværker. De udviklede prototyper af sensor og \"S<br>yncBoard\" skal afprøves af projektets partnere, som inkluderer vindmøllefabrikater, sensor- og instrumenteringsfabrikanter, samt testsystem integratorer inden for energisektoren samt forskninigsinstitutter<br>.",
           2012,
           "Vind",
           "ZYX PLAY ApS",
           "Ingen data"
          ],
          [
           "Krøjekits til retrofitting for højere elproduktion \n Formålet er at udvikle og demonstrere værdien af et udkrøjningskontrolkit, som kontinuerligt måler vindretningen foran en vindturbine og dernæst drejer turbinen næsten perfekt op imod vinden. Ved korrektion af krøjefejl øges energiproduktionen og turbinelaste<br>rne mindskes. ROMO ser et markedspotentiale på €1,5 mia. for eftermontering og ca. €150 mio. årligt på nye vindturbiner \n Positionen af vindsensorer bag turbine rotoren fører til fejlagtige målinger af vindretningen og\ndermed at vindturbiner krøjer forkert samt er udsat for øgede laster. Spinner anemometeret (S<br>A),\nsom måler vinden foran turbinerotoren, måler nøjagtigt disse krøjefejl, men teknologien har endnu\nikke være kommercielt succesfuld. Yderligere brugervenlig teknologi er således nødvendig for at\nfå SA til automatisk at detektere og korrigere krøjefejl på vindturbiner. Det er formålet med dette\nprojekt, at ud<br>vikle sådan teknologi.\nROMO Wind købte for nylig SA teknologien fra DTU og har yderligere opfundet en patentanmeldt metode til på basis af SA teknologien at kunne udvikle universelt anvendelige krøjekits til eftermontering på eksisterende vindturbiner. Disse kits vil – ved hjælp af SA teknologien – automatisk d<br>etektere og dernæst kalibrere de eksisterende vindturbine vindsensorer ved hjælp af\nen såkaldt krøjerobot.\nFormålet er at udvikle og demonstrere disse kits’ værdi i form af den ekstra strømproduktion, som de tilvejebringer. Endvidere er det planen at teste sådanne krøjekits under de ekstreme klimatiske forhold <br>en turbine er udsat for. Dette arbejde forventes at føre til hurtig kommercialisering af SA teknologien og hermed bidrage til konkurrencedygtigheden af vindkraft i almindelighed. Umiddelbart efter projektafslutning vil ROMO Wind indlede kommerciel produktmodning, produktion og markedsintroduktion af disse krøje<br>kits.",
           2012,
           "Vind",
           "ROMO WIND A/S",
           "Ingen data"
          ],
          [
           "Billig halvlederlaser vindsensorer \n Målet med projektet var at udvikle en konkurrencedygtig vind sensor, som kan optimere vindmøllens strømproduktion og mindske de dynamiske belastninger på vindmøllen. \n Målet med projektet er at udvikle en konkurrencedygtig LIDAR vind sensor, som kan integreres på den enkelte vindmølle for løbende at kunne optimere vi<br>ndmøllens strømproduktion samt sikre en reduktion af de dynamiske belastninger på vindmøllen. \n\nNuværende kommercielle LIDAR vind sensorer på markedet, som alle bliver produceret udenfor Danmark, er meget dyre (kostpriser i omegnen af USD 125-150.000). Derfor er det projektets primære formål at kunne introducere en bedre vind sensor, som er markant bill<br>igere end de konkurrende systemer. Herudover er det målet, at vor sensor bliver væsentligt mere kompakt end konkurrende system, hvilket forventes at give yderligere fordele mht. sensorens robusthed. \n\nVor nuværende ''proof-of-concept'' prototype vil være platformen for den endelige LIDAR vind sensor, som både skal kunne måle vindhastigheder samt vindret<br>ningen foran den enkelte vindmølle. For at opnå denne funktionalitet forventes en ny optisk teknologi integreret og testet, hvor polariseringen af lyset anvendes til at skanne flere målepunkter foran vindmøllen. Et sådant system vil være både billigere samt mere robust set i forhold til de idag kendte mekaniske skannersystemer på markedet. I projektet e<br>r det målet, at den endelige optiske sensor eksklusive den elektroniske kontrol boks, vil blive en kompakt sensor, som vejer under 5 kg, og som samtidig er helt passiv uden elektriske komponenter. I projektforløbet vil der i samarbejde med ekstern optisk produktionspartner blive fremstillet 5 endelige prototyper. En væsentlig del af projektet er test af<br> den endelige sensor, idet den skal kunne holde til ekstreme miljøforhold. Selve testen sker i samarbejde med DTU Vindenergi samt en ekstern slutbruger. Igennem projektet vil der løbende blive skrevet artikler, afholdt præsentationer og som en del af markedsføringen af vind sensoren, vil sensoren blive præsenteret og demonstreret på relevante messer mv.",
           2012,
           "Vind",
           "WINDAR PHOTONICS A/S",
           "Ingen data"
          ],
          [
           "Beton element vindmølletårn \n Conelto har udviklet et betonelement vindmølletårn i højstyrkebeton.  Tårnet opbygges i moduler bestående af ringe, som har ens diameter, men som kan ændres i godstykkelse. Målet er at videreudvikle konceptet, samt at opstille og demonstrere et prototypetårn med en navhøjde på 140 m<br>. Målet er, at dette koncept skal reducere omkostninger til tårne med mindst 15 %, og at konceptet skal kunne reducere turn-key omkostningerne. Det modulære tårnkoncept medfører endvidere billigere transportomkostninger. \n Med henblik på udvikling og opstilling af et prototype tårn skal følgende områder belyses:<br> - Detaljeret strukturel verikfikation og analyse (statisk og dynamisk) baseret på brugen af højstyrkebeton med henblik på godkendelse i henhold til Eurocode2, hvad er muligt og indflydelse på design og koncept; - Godkendelse af forankringsløsning i henhold til ETAG013, hvad er muligt og indflydelse på design og<br> koncept; - Godkendelse af tårnet i henhold til GL (Germanischer Lloyd), DNV (Det Norske Veritas) eller TÜV (Technischer Überwachungsverein), er det muligt at opfylde stillede krav, hvorledes kan krav opfyldes og hvordan influerer de på design og koncept; - Er det muligt at opnå en generel godkendelse? - Hville <br>tolerancer er mulige, og hvilken indflydelse har de på design og koncept? - Opnåelig overfladekvalitet og indflydelse på koncept; - Optimere betonblanding samt støbeproces så svind og revner minimeres, med henblik på opnåelse af små tolerancer; - Er det muligt at konstruere en støbeform som planlagt, hvilken ind<br>flydelse har alternative løsninger? - Udvikling af prototype forme, analysere omkostninger og optimeringsmuligheder; - Udvikling af opstillingsudstyr, analysere omkostninger og optimeringsmuligheder; - Opstillingsanalyse af anvendt tid og udstyr ud fra et test tårn; - Opstilling og ''afprøvning'' af prototype tå<br>rn",
           2011,
           "Vind",
           "CONELTO ApS",
           "Ingen data"
          ],
          [
           "Demonstration af 2-vinget vindmølle \n Formålet med projektet er at demonstrere kostbesparelses potentialet for Partial Pitch 2-vinget vindmølle teknologi, og gennem en målekampagne at verificere analyse og udviklingsværktøjer for teknologien, det nuværende fra<br>vær af verificerede analyse og udviklingsværktøjer for Partial Pitch 2-vinget teknologien er den væsentligste forhindring for markedsaccept af Partial Pitch 2-vinget teknologien. \n Formålet med PP-2B projektet er at eftervise et nyt modulært 2-vinget vindmølle<br> koncept. Målet med projektet er at demonstrere opnåede lastreduktioner på tårn og i fundament der resulterer i potentielle kostbesparelser på møllen. Projektplanen består af 6 arbejdsparkker (WP): \n- WP1 (envision): Ledelse af arbejdspakke der skal sikre koor<br>dination af arbejde mellem konsortiets parter, inklusiv allokering af ressourcer, arbejdsplaner og generel kommunikation omkring projektets status; \n- WP2 (DTU Vindenergi): Evaluering af partial pitch vingen, ved hjælp af Computational Fluid Dynamics (CFD), me<br>d hensyn til energi og detaljeret aerodynamiske lastfordeling og evaluering af den dynamiske adfærd under pitch aktivering; \n- WP3 (DTU Vindenergi): Udvikle værktøjer til design og evaluering af laster og stabilitet for PP-2B konceptet; \n- WP4 (DTU Vindenergi)<br>: Gennemførelse af målekampagne på PP-2B prototype (performance og last målinger); \n- WP5 (DONG Energy): Aeroelastisk analyse af PP-2B konceptet samt benchmarking med generisk 3-vinget vindmølle koncept; \n- WP6 (Envision): Aeroelastisk analyse af PP-2B koncept<br>et",
           2011,
           "Vind",
           "ENVISION ENERGY (DENMARK) ApS",
           "Ingen data"
          ],
          [
           "Globalt Vind Atlas (CEM) \n Det globale vindatlas er en åben database indeholdende de globale vindressourcer beregnet med høj præcision. Databasebeskrivelsen og webbaseret applikationsprogrammer gør det globale vindatlas til et uundgåeligt værktøj for energiplanlæggere. En nøjagtig bes<br>temmelse af vindressourcer er nødvendig for den fortsatte udvikling og anvendelse af vindenergiteknologien til den globale energi forsyning. \n Det globale vind atlas er en stor offentlig tilgnængelig database indeholdende de globale vindressourcer, hvor effekter af høj opløsning terræ<br>n er regnet med. Det globale vindatlas vil blive den mest hensigtsmæssige vindressource datakilde til rådighed for politikere, energiplanlæggere og forskere i fremtidens energiforsyning. Det globale vindatlas bruger storskala globale meteorologiske data, som er nedskaleret til høj opl<br>øsnings vindressourcedata, via en såkaldt generaliserings process, og mikroskala modellering ved brug af WAsP-programmet udviklet på DTU Vindenergi. De seneste meteorologiske og topografiske data vil blive anvendt. Dette projekt binder data og modeller sammen for at skabe de stærkt ti<br>ltrængte nye ressourcedata. Ideen bag det Globale Vind Atlas er ikke at erstatte vindressourceberegning specifikt til et enkelt land eller foretaget erhvervsmæssigt for vindmøllepark udviklere. Formålet er at vindressourcer for regioner og lande bliver let tilgængelige via web-baseret<br> applikationsprogrammer, således at analyse af de sociale og økonomiske betydninger af vindenergi kan foretages. Desuden vil det nye atlas give mere præcise og pålidelige input til energiplanlæggere med hensyn til forskellige klimascenarier og strategier til imødegåelse af klimaændrin<br>ger",
           2011,
           "Vind",
           "Danmarks Tekniske Universitet (DTU)",
           "Ingen data"
          ],
          [
           "Forbedring af havmøllers pålidelighed ved hjælp af  lastmålinger \n I det tilspidsede internationale marked for store offshore vindmøller er den danske industri i stadig øget konkurrence om at kunne dokumentere lastberegninger vha. fuldskalamålinger. Projektets hensigt er, at forbedre datadesigngrundlaget gennem et ambitiøst måleprojekt på Siemens/DONG Energy mølleparken Walney ud for den britiske ø<br>stkyst. \n Projektet er rettet mod at tilvejebringe et stærkt forbedret datagrundlag for de strukturelle belastninger af offshore vindmøller. I det tilspidsede internationale marked for store offshore vindmøller er den danske industri i stadig øget konkurrence om at kunne dokumentere lastberegninger vha.  fuldskalamålinger. Og det er hensigten med dette projekt at forbedre dokumentationen gennem et <br>ambitiøst måleprojekt på Siemens/DONG Energy mølleparken Walney ud for den britiske østkyst.  Således er det vigtigste element i projektet en komplet instrumentering af en 3.6 MW Siemens mølle i Walney mølleparken. Instrumenteringen muliggør måling af ''real time'' belastninger på alle vigtige møllekomponenter samt belastninger fra vind og bølger og evt. andre eksterne belastninger.  Vinden vil bli<br>ve målt med nacelle monterede laser anemometre (LIDARs).  Desuden vil mindst 6 omkringstående møller blive instrumenteret med henblik på at uddrage vind- og effektinformation. Alle disse målinger vil give det realistiske billede af strukturrespons og vind- og bølgelaster på den nyeste og mest avancerede offshore vindmølle.  Arbejdets 2 hovedkomponenter er følgende: 1) Installation og drift og vedli<br>gehold af instrumentering af en Siemens (SWT) 3.6 MW maskine, opsamling af data og vedligehold af database. Med assistance fra Siemens og DONG Energy er Risø DTU ansvarlig for implementering af denne projektkomponent. 2) Gennemførelse af teknisk/videnskabelig dataanalyse af målinger samt modellering af mølle og fundamentsstruktur. Denne projektkomponent udføres af de 3 partnere i fællesskab.  Med f<br>okus på strukturel design/dimensionering er det projektets overordnede mål at optimere designet af fremtidens 10+MW offshore vindmølle, en mølle der blandt andet tillader hurtig og total effektbegrænsning uanset vindhastigheden. Med forbedret mølle modellering og bedre verifikationsgrundlag gennem målingerne vil usikkerheden i designet reduceres og konstruktions pris og/eller sikkerhed vil forbedre<br>s",
           2010,
           "Vind",
           "Danmarks Tekniske Universitet (DTU)",
           "Ingen data"
          ],
          [
           "Wave Dragon bølgekraftanlæg i Nordsøen - fase 1 \n Projektet skal designe, teste og certificere et fuldskala-anlæg Wave Dragon bølgekraftanlæg på 1,5 MW. Anlægget skal lægges ud for Hanstholm. \n Wave Dragon er et velgennemprøvet bølgekraftanlæ<br>g af opskylstype. Dette projekt er 1. fase af et 1,5 MW fuldskala demonstrationsprojekt ved testcentret DanWEC i Hanstholm. De to hovedmål i 1. fase af 1,5 MW projektet er: 1) levering af et certificeret design af anlægget og 2) levering af e<br>t detaljeret feasibility studie for det fulde projekt.  Sterndorff Engineering er ansvarlig for tilvejebringelse af data for designarbejdet, herunder fastlæggelse af joint probability metocean parameters\" nødvendige for projektering af strukt<br>ur og forankringssystem.  Aalborg Universitet er ansvarlig for basinafprøvning af en 1:50 model af anlægget. Der vil blandt andet blive udført tests med forskellige flydepositioner af platformen med tilhørende målinger af kræfterne i forankri<br>ngssystemet. MT Højgaard deltager i feasibility studiet. Som ekstern konsulent vil Dr. Techn. Olav Olsen være ansvarlig for den detaljerede projektering af anlægget. Projketet omfatter også et design studie for en 4 MW and 7 MW prototype bere<br>gnet for dybere vand i Nordsøen, Atlanten ud for Portugal samt for farvandet ud for Wales og Cornwall. Som ekstern konsulent vil ESB International levere et projektforslag med tilhørende feasibility studie for forbindelsen til elnettet i land",
           2010,
           "Bølge",
           "WAVE DRAGON ApS",
           "Ingen data"
          ],
          [
           "Bagkant forlænger levetiden af vindmøllevinger \n Projektet skal videreudvikle en kontrollerbar gummi-bagkant til vindmøllevinger. Bagkanten nedsætter den aerodynamiske belastning af vingerne. Merværdien er forlænget levetid og en øget elproduktion. Efter projektet forventes teknologien at være klar til afprøvning på<br> en prototypemølle i MW størrelsen. \n Gennem de seneste 5-8 år har der været en betydelig forskning i anvendelse af flaps til vindmøller, både i Danmark og i udlandet. Bl.a. er der gennemført en række numeriske simuleringer af møller med flaps, og de har alle vist, at der er et stort potentiale for lastreduktion på <br>vindmøllevinger (typisk 20-40% reduktion) ved anvendelse af flaps. Udnyttes dette potentiale på fremtidige mølledesigns vil det føre til reducerede omkostninger ved produktion af el fra vindenergi. Det store spørgsmål er hvilken flapteknologi, der skal anvendes. En lovende flapteknologi er den såkaldte 'Controllable<br> Rubber Trailing Edge Flap' (CRTEF), udviklet på Risø DTU fra 2005-2009. Funktionsprincippet er simpelt, idet udbøjning af flappen opnås ved at sætte passende udformede hulrurn i den elastiske flap under tryk (f.eks. tryklluft). Der er således ingen mekaniske dele, og det er grundlaget for et robust system. Formålet<br> med projektet er at udvikle systemet fra dets nuværende stadie, hvor funktionsprincippet er eftervist under laboratorieforhold, til et nyt stadie, hvor systemet udgør et robust og pålideligt flapsystem for en fuldskalavindmølle, klar til gennemførelse af prototype forsøg på en MW mølle. Projektgruppen består af tre<br> industrielle partnere og tre forskningsgrupper fra DTU. I løbet af projektet vil der blive udviklet forskellige prototyper under industrielle fremstillingsforhold, og en række udmattelsestests vil blive gennemført. Endelig vil prototyper blive afprøvet i en udendørs roterende teststand under realistiske vindforhold<br>.",
           2010,
           "Vind",
           "Danmarks Tekniske Universitet (DTU)",
           "Ingen data"
          ],
          [
           "Model for placering af vindmøller \n Projektet skal udvikle en model, der beskriver den opbremsede lufts bevægelse efter en mølle, som kan påvirke effektiviteten af bagvedstående møller. Modellen kan give et bedre grundlag til at fastlægge den indbyrdes placering<br> af møller, og dermed bidrage til at optimere elproduktionen fra vindmølleparker. \n Analyse af fuldskala offshore målinger har afsløret at wake-genererede produktionstab afhænger signifikant af stabilitetsforholdene i det atmosfreriske grænselag, og nylige under<br>søgelser har demonstreret en tæt sammenhæng mellem dette fænomen og wake-meandrering. Det er velkendt at wake-meandrering er stærkt lastgenererende, og derfor forventes stabilitetsforholdene i det atmosfæriske grænselag også afgørende at påvirke de strukturelle <br>laster pa møllerne i en vindpark. Målet med dette projekt er 1) at modellere indflydelsen hidrørende fra atmosfrerisk stabilitet på såvel wake-tab som strukturel belastning af mø11er i vindparker; 2) at verificere de udviklede modeller ved sammenligninger med fu<br>ldskala vindparkmålinger; og 3) at anvende det udviklede modelværktøj til forbedret design af fremtidige MW mø11er (incl. deres lastbegrænsende kontrolsystem) beregnet til opstilling i vindparker. Sidstnævnte tænkes opnået ved dissemination af modelplatformen ti<br>l de industrielle deltagere i projektkonsortiet. For at lette den industrielle implementering, og for at demonstrere potentialet af modelplatformen, vil der afslutningsvist blive formuleret en designprocedure som inkluderer aspekter knyttet til atmosfærisk stabi<br>litet",
           2010,
           "Vind",
           "Danmarks Tekniske Universitet (DTU)",
           "Ingen data"
          ],
          [
           "Design af næste generation af vindmølle-rotor (Nextrotor) \n Projektet vil udvikle et nyt designværktøj til vindmøller op til 10 MW, så vindmølleindustrien i fremtiden fremstiller støjsvage vinger uden at gå på kompromis med vindmøllens effek<br>tivitet. Projektdeltagerne forventer at opnå en støjreduktion på 2 dB(A). Projektet skal øge dansk fremstillede vingers konkurrenceevne inden for den globale vindmølleindustri. \n Formålet med projektet at designe en ny type vindmøllerotorer,<br> som samtidig har høj aerodynamisk effektivitet, lave omkostninger og lav støjemission. Projektet udforsker samarbejde mellem Danmarks Tekniske Universitet og LM Wind Power Blades til at udvikle ny vindteknologi. At designe vindmøllevinger k<br>ræver viden om aerodynamik, strukturdynamik og deres indbyrdes samspil vedrørende profiler og vinger. Projektet er opdelt i fire arbejdspakker: design af vindmølleprofiler, eksperimentel verifikation af designede profiler, design af vindmøll<br>erotorer, og CFD valideringer af designede profiler og rotorer. Resultatet af projektet vil blive (l) pålidelige værktøjer til at designe og validere høj effektive, billige og støjsvage rotorer, (2) designede profiler og rotorer for at påvis<br>e pålideligheden af designværktøjerne. Værktøjerne vil blive demonstreret til design af en serie af vindmølleprofiler og rotorer med høj ydeevne og lavt støjniveau. Profilernes aerodynamiske og akustiske ydeevne vil blive valideret eksperime<br>ntelt",
           2011,
           "Vind",
           "Danmarks Tekniske Universitet (DTU)",
           "Ingen data"
          ],
          [
           "Helbredstjek af vindmøller \n Projektet vil udvikle et intelligent udstyr til i første omgang at forudse strukturelle fejl i vindmøllevinger. Udstyret foretager en løbende overvågning af hver enkelt vindmølles ”helbreds-tilstand”. Disse oplysninger bliver sendt til operatøren. He<br>rved kan en tekniker i tide komme ud for at foretage reparationen inden vindmøllen får driftsstop. Herved opnår vindmølleindustrien besparelser på bl.a. driftsudgifterne gennem hele møllens levetid. \n Stadigt større vindmøller, der placeres på svært tilgængelige steder, fx havet<br>, har gjort vedligehold af vindmøllerne mere besværlig og dyrt. Dette har skabt et behov for et effektivt Predictive Structural Health Monitoring system til vindmøller, der koncentreres om de kritiske elementer som vinger, tårn osv. Hovedformålet med dette projekt er at udvikle <br>et smart Predictive Structural Health Monitoring system som udover at opdage strukturelle skader også kan hjælpe vindmølle ejeren / operatøren til at træffe de rette beslutninger, når vindmøller skal vedligeholdes. Fokus i projektet er på forudsigelig monitorering af vinger da d<br>isse er de dyreste komponenter på en vindmølle. Hovedaktiviteterne i projektet er: 1) Operational Modal Analyse - en velprøvet teknik til dynamisk karakteristik af store strukturer. Det underseges hvor velegnet teknikken er til vindmøller i drift. 2) Ved hjælp af simulation bliv<br>er det undersøgt hvor følsomme modal parametrene er som følge af struktur skader.  3) Der udvikles en beslutnings algoritme der kan opdage, lokalisere og stille en prognose for udviklingen af skaden. 4) Endeligt bliver der udviklet og installeret en prototype på et antal vindmøl<br>ler",
           2011,
           "Vind",
           "BRüEL & KJÆR SOUND & VIBRATION    MEASUREMENT A/S",
           "Ingen data"
          ]
         ],
         "hovertemplate": "topics_name=vindmøller - offshore - vindmølle<br>x=%{x}<br>y=%{y}<br>text_br=%{customdata[0]}<br>Bevillingsår=%{customdata[1]}<br>Fælles overordnet teknologiområde=%{customdata[2]}<br>Ansvarlig virksomhed=%{customdata[3]}<br>Fokusområder EUDP=%{customdata[4]}<extra></extra>",
         "legendgroup": "vindmøller - offshore - vindmølle",
         "marker": {
          "color": "#2E91E5",
          "size": 5,
          "symbol": "circle"
         },
         "mode": "markers",
         "name": "vindmøller - offshore - vindmølle",
         "orientation": "v",
         "showlegend": true,
         "type": "scatter",
         "x": [
          5.069809913635254,
          5.087889194488525,
          5.013459205627441,
          5.391757488250732,
          5.7208685874938965,
          5.9317827224731445,
          5.690447807312012,
          5.738852024078369,
          6.012890815734863,
          5.387512683868408,
          5.053591251373291,
          5.529390811920166,
          4.852395534515381,
          5.758271217346191,
          5.760413646697998,
          4.679028511047363,
          5.1162543296813965,
          5.725371360778809,
          5.167558670043945,
          5.94644832611084,
          5.753363609313965,
          5.890265941619873,
          5.039664268493652,
          5.997823715209961,
          6.1077680587768555,
          5.981603145599365,
          5.478368759155273,
          5.582022666931152,
          5.923740386962891,
          6.109006881713867,
          5.535962104797363,
          6.025015830993652,
          5.6781768798828125,
          5.771080017089844,
          5.193667888641357,
          6.02623176574707,
          5.695120334625244,
          5.048076629638672,
          5.49350643157959,
          5.953597068786621,
          5.392152309417725,
          5.538848876953125,
          5.215602397918701,
          6.0312347412109375,
          5.567763805389404,
          5.8684186935424805,
          5.455306529998779,
          5.763327121734619,
          5.664000988006592,
          5.993013381958008,
          5.306153297424316,
          5.41512393951416,
          5.343902587890625,
          6.072437286376953,
          5.857001304626465,
          6.012044906616211,
          5.231898784637451,
          5.7894287109375,
          5.4595794677734375,
          5.960904598236084,
          5.815114974975586,
          5.526463031768799,
          5.822673797607422,
          4.964144706726074,
          4.8658952713012695,
          5.3736572265625,
          5.781698703765869,
          6.017457962036133,
          5.647610187530518,
          5.652505874633789,
          5.3157548904418945,
          6.046975612640381,
          5.377055644989014,
          5.123719692230225,
          5.397343635559082,
          5.841006278991699,
          5.48770809173584,
          5.575434684753418,
          5.913748264312744
         ],
         "xaxis": "x",
         "y": [
          5.351099014282227,
          4.869909286499023,
          5.409000873565674,
          5.096485614776611,
          5.478346824645996,
          5.1545610427856445,
          5.163608074188232,
          5.081719875335693,
          4.999964714050293,
          5.471484184265137,
          5.730913162231445,
          5.187198162078857,
          5.087292194366455,
          5.316118240356445,
          5.332006454467773,
          5.430067539215088,
          5.491303443908691,
          4.930037021636963,
          5.721983909606934,
          5.406225681304932,
          4.859425067901611,
          5.277402877807617,
          5.595929145812988,
          5.05647611618042,
          5.005274295806885,
          5.181197166442871,
          5.095262050628662,
          5.709496974945068,
          5.02998685836792,
          5.3021321296691895,
          5.322623252868652,
          5.077989101409912,
          5.714155197143555,
          5.170988082885742,
          5.362514495849609,
          4.968000888824463,
          5.58770751953125,
          5.833090782165527,
          5.544899940490723,
          4.918003082275391,
          5.233441352844238,
          5.690542221069336,
          5.62584114074707,
          4.987499713897705,
          5.719241142272949,
          5.070437908172607,
          5.5056071281433105,
          4.911458492279053,
          5.717836380004883,
          4.850496768951416,
          5.590508937835693,
          5.407929420471191,
          5.5571136474609375,
          5.2140374183654785,
          5.427725791931152,
          5.2811503410339355,
          4.87753438949585,
          4.759005069732666,
          5.272065162658691,
          5.050588607788086,
          4.89345645904541,
          5.300166130065918,
          4.949731349945068,
          5.742048263549805,
          5.884718418121338,
          5.470665454864502,
          4.9024200439453125,
          5.211480617523193,
          5.420587539672852,
          5.402132511138916,
          4.967735767364502,
          5.109079360961914,
          5.445208549499512,
          5.756592273712158,
          5.656834125518799,
          4.907393932342529,
          5.3280463218688965,
          5.307404041290283,
          5.065520286560059
         ],
         "yaxis": "y"
        },
        {
         "customdata": [
          [
           "Udvikling af power-to-X teknologi til dynamisk produktio<br>n af ammoniak fra vedvarende energi – Dy-nAmmonia \n DynA<br>mmonia projektet udvikler en teknologi, der reducerer om<br>kostningerne ved grønne brændstoffer med op til 20%. Omk<br>ostningsreduktionen opnås ved at forlænge levetiden for <br>høj temperaturelektrolyse ved hjælp af en ny driftsmetod<br>e. \n ",
           2021,
           "Andet",
           "DynElectro ApS",
           "Tung transport og Power-to-X i stor skala"
          ],
          [
           "Laboratorie for hurtigladning \n Laboratorie fo<br>r hurtigladning vil styrke udviklingen af hurt<br>ig lade teknologi til elbiler in Europa og spe<br>cielt i Danmark ved at stille verdensførende t<br>est faciliteter til rådighed for stor skala la<br>de-infrastruktur og high-performance batterier<br>. \n ",
           2021,
           "Andet",
           "Teknologisk Institut",
           "Fleksibel el-anvendelse, netudbygning og digitalisering"
          ],
          [
           "AMMARIN - Ammoniak som motorbrændstof ti<br>l marin transport \n Formålet med projekt<br>et er at formidle og samle danske og int<br>ernationale aktiviteter indenfor IEA med<br>lemslande omkring anvendelse af ammoniak<br> som motorbrændstof ti maritime formål. <br> \n ",
           2020,
           "Andet",
           "Danmarks Tekniske Universitet (DTU)",
           "Fleksibel el-anvendelse, netudbygning og digitalisering, Tung transport og Power-to-X i stor skala"
          ],
          [
           "Quali-Drone. Intelligent, autonom droneinspek<br>tion af store strukturer indenfor energiindus<br>trien \n Projektet udvikler en drone inspektio<br>nsløsning og digital dokumentation, der kan g<br>enkende og kategorisere skader og opmåle dele<br> af industrielle strukturer med høj præcision<br>. \n ",
           2020,
           "Vind",
           "Energy Cluster Denmark",
           "Mere grøn el – og til flere formål"
          ],
          [
           "Autonome overvågning af begroning på skibe, vejen til en mere energ<br>ieffektiv skibsfart \n Blue Atlas Robotics is developing an underwat<br>er robot that autonomously images large underwater structures, incl<br>uding ships and harbor quay walls, to radically improve the quantit<br>y, quality, and usefulness of underwater inspection data, while sim<br>ultaneously reducing cost and inspection time through automation. \n<br> ",
           2020,
           "Energieffektivitet",
           "Blue Atlas Robotics ApS",
           "Energieffektivisering"
          ],
          [
           "ProZero electric Platform \n På nuværende tidspunkt er der et stort fokus på at omstille til vedvarende energi og<br> et ønske, både politisk men også samfundsmæssigt, om at anvende grøn energi på tværs af verdens mange transport<br>systemer. Det er på baggrund af dette, samt et ønske om at moderniserer og, forme den fremtidige moderne maritim<br>e industri, skabe værdi for den danske maritime industri at der nu søges at udvikle en moderne, hurtig nuludslip<br>s arbejdsbåd. \n\nDette projekts fundament, er baseret på 3 teknologier, som tilsammen kan bidrage til at understø<br>tte dette ønske og nedbryde de markedsbarrierer der pt. Modarbejder en adoption af hurtige elektriske arbejdsbåd<br>e. \n ",
           2020,
           "Energieffektivitet",
           "Tuco Yacht Værft ApS",
           "Person- og let varetransport"
          ],
          [
           "UPHS - storskala elektrisk energilagring \n Formålet med dette projekt er at for<br>tsætte udviklingen af et koncept til energilagring i stor skala, der er egnet t<br>il vedvarende energisystemer. Teknologien har tidligere gennemgået to udvikling<br>sstadier, og dette projekt dækker den tredje fase, hvor projektgruppen undersøg<br>er kritiske elementer vedrørende geotekniske forhold, design af systemet, membr<br>anen, omkostningsoptimering samt driftsanalyse og elektrisk system integration.<br> \n ",
           2020,
           "Smart Grid og systemer",
           "Aarhus Universitet",
           "Ingen data"
          ],
          [
           "OES Task 10 WEC Modelering Verifikation and Validering, Part II \n ”Ocean Energy Systems (O<br>ES) Task 10, del II” fortsætter arbejdet med verifikation og validering af numeriske model<br>ler af Bølgeenergimaskiner tidligere støttet af EUDPJ.nr. 64017-05197. OES er et teknologi<br>samarbejde under IEA, der blev iværksat i 2001 af Danmark, Portugal og Stor-britannien. I <br>dag er 25 lande med i OES for at fremme forskning, udvikling og demonstration af teknologi<br>er til at udnytte energi fra havets vedvarende energiressourcer, såsom bølger og tide-vand<br>. \n ",
           2020,
           "Bølge",
           "RAMBØLL DANMARK A/S",
           "Ingen data"
          ],
          [
           "Kortlægning af WBG anvendelse \n Dette projekt for 4E annekse<br>t PECTA, kortlægger performance og tidslinje for udbredelse <br>for nye komponenters anvendelse inden for vindmølle, motor o<br>g pumpestyrings industrien med henblik på at føre til et opl<br>yst grundlag for at tage strategiske politikforanstaltninger<br>, der fremmer anvendelsen af den energieffektive teknologi. <br>\n ",
           2020,
           "Andet",
           "Aalborg Universitet",
           "Ingen data"
          ],
          [
           "Udvikling af intelligent solar gadebelysning \n Gadebelysning tegner sig for cirka 25% af de offentlige energibudgetter i moderne byer over hele verden, <br>inklusive Danmark. På grund af den betydelige andel af et offentligt energibudget, der er afsat til gadebelysning, giver mere energieffektiv og smartere<br> gadebelysning en mulighed for markant at reducere omkostninger og miljøpåvirkninger forbundet med strømforsyning af sådan infrastruktur. I Danmark er d<br>er adskillige udfordringer med at udvikle et robust solcelledrevet gadebelysningssystem, der er i stand til at opretholde den krævede lux-output på mell<br>emstore til højt trafikerede veje 365 dage om året, da sol-ressourcen er begrænset 3-4 måneder om året. Vi agter at skabe en autonom solcelledrevet bely<br>sningsløsning, der er i stand til at opfylde lux-krav på danske veje 365 dage om året, og som kan fungere pålideligt i både dansk og internationalt klim<br>a. \n ",
           2019,
           "Smart Grid og systemer",
           "Living Energy Lighting ApS",
           "Ingen data"
          ],
          [
           "Energieffektiv halmkedel med lav NOx emission \n Formålet med projek<br>tet er at udvikle en energieffektiv biomasekedel til halmfyring, så<br>ledes at der samtidig sikres en høj nyttevirkning og en reduktion i<br> NOx emission i forhold til eksisterende halmfyringsanlæg. Målet er<br> at reducere NOx emissionerne uden samtidig at øge CO emissionerne.<br> Fokus vil være på mindre kedler med en kapacitet på 100-200 kW. \n ",
           2019,
           "Bio og affald",
           "Maskinfabrikken REKA",
           "Ingen data"
          ],
          [
           "Dekarbonisering af Olie & Gas produktion - via <br>kost effektive Flydende vedvarende energiteknol<br>ogier \n Projektets formål er udvikle løsninger <br>til at kombinere vedvarende energi med udvindin<br>gen af kulbrinter som er miljø- og kost-effekti<br>ve og understøtter reduktionen af C02 emissione<br>r. \n ",
           2019,
           "Andet",
           "FLOATING POWER PLANT A/S",
           "Ingen data"
          ],
          [
           "PreHeat \n Formålet med dette udviklingsprojekt er at demonstrere teknologien til et<br> nyt state-of-the-art rumopvarmningskoncept. Nyere forskning har vist, at eksistere<br>nde beboelsesejendomme kan benyttes som termiske \"batterier\" for at afbalancere fre<br>mtidige energisystemer baseret på vedvarende energiproduktion. Teknologien kombiner<br>er en ny styringsalgoritme udviklet af AU med eksisterende klem-sensorer og en soft<br>ware platform udviklet af ReMoni, og on-market tredjeparts radiator termostater. \n ",
           2019,
           "Smart Grid og systemer",
           "Aarhus Universitet",
           "Ingen data"
          ],
          [
           "SENSE - Fornybare energi systemer \n Formåle<br>t med SENSE projektet er at udvikle og demo<br>nstrere højenergi lagrings systemer til sta<br>bilisering af forsyningsnet for vedvarende <br>energi, og til elektriske færger med brug a<br>f banebrydende Li-ionkondensatorceller (LiC<br>) \n ",
           2019,
           "Smart Grid og systemer",
           "KK Wind Solutions A/S",
           "Ingen data"
          ],
          [
           "eTRU - energieffektive og pålidelige kontrolsystemer og power converter kæder til plu<br>g-in batteri-elektrisk drift af køleanlæg på køletrailere til lastbiler \n Målet med e<br>TRU projektet er at udvikle og demonstrere en lastbilkøletrailer der er drevet af gen<br>opladelige batterier i stedet for en diesel generator, som normalt anvendes. Det vil <br>hjælpe transportsektoren med at skifte fra fossile brændstoffer til vedvarende energi<br>kilder og derigennem sænke CO2 og partikelemissionerne fra transport af kølevarer, \n ",
           2019,
           "Energieffektivitet",
           "BITZER Elektronics A/S",
           "Ingen data"
          ],
          [
           "Fjernvarme Tilstandskontrol til Asset Management \n I projektet udvikles<br> en metode og kommerciel software til at evaluere tilstanden af rørene <br>i et fjernvarmenetværk på baggrund af data fra fjern-aflæste varmemåler<br>e og ekstra målepunkter. Softwaren vil give fjernvarmedistributører inf<br>ormation om nettets aktuelle fysiske tilstand, hvilket vil optimere pla<br>nlægningen af renoverings aktiviteter og mindske varmetab og vandspild.<br> \n ",
           2019,
           "Energieffektivitet",
           "Teknologisk Institut",
           "Ingen data"
          ],
          [
           "Digital hydraulisk PTO til Flo<br>ating Power Plant (DigitalPTO)<br> \n Udvikling af nye og avancer<br>ede kontrol strategier for udv<br>inding af bølgeenergi ved brug<br> digital hydrauliske princippe<br>r. \n ",
           2019,
           "Bølge",
           "FLOATING POWER PLANT A/S",
           "Ingen data"
          ],
          [
           "Urban Waste Hydrofaction \n Hydrofaction teknologien i relation til om<br>sætning af sorteret organisk husholdnings affald og spildevandsslam m<br>ed højt askeindhold til grønne transportbrændsler for tung transport.<br> Et særligt fokus vil være etablering slid data på nøgle komponenter <br>som følge af det høje aske indhold, samt general processerbarhed og t<br>olerance grænser for forurenings komponenter i det sorterede affald. <br>\n ",
           2019,
           "Bio og affald",
           "STEEPER ENERGY ApS",
           "Ingen data"
          ],
          [
           "Power2Met \n Formålet med projektet, Power2Met, er at udvi<br>kle, designe og opbygge et pilotanlæg til et komplet, sta<br>ndardiseret og modulopbygget el-til-metanol-anlæg, der ka<br>n opgradere biogasanlæg ved at udnytte biogassens CO2 og <br>hydrogen i en syntetisk proces til fremstilling af grøn m<br>etanol og dermed skabe en positiv business case fra dag é<br>t. \n ",
           2018,
           "Brint og brændselsceller",
           "Green Hydrogen Systems A/S",
           "Ingen data"
          ],
          [
           "Fasstofoxid Celle baseret Produktion og Anvend<br>else af Ammoniak \n Demonstration af en fastoxi<br>d elektrolyse baseret proces til produktion af<br> ammoniak syntesegas uden brug af luftseparati<br>on samt brug af ammoniak i faststofoxid brænds<br>celler parallelt med teknisk økonomiske studie<br>r. \n ",
           2018,
           "Brint og brændselsceller",
           "HALDOR TOPSØE A/S",
           "Ingen data"
          ],
          [
           "eFuel \n eFuel-projektet repræsenterer en ny og bedre måde a<br>t producere elektrobrændstoffer på, bygger på et velkendt t<br>eknologisk grundlag. Projektet udvikler og bygger et stort <br>prototype rislefilter, der omdanner overskydende CO2 fra bi<br>ogasproduktion til metan, hvilket vil være teknisk mere rob<br>ust og billigere end eksisterende konkurrerende teknikker. <br>\n ",
           2018,
           "Brint og brændselsceller",
           "NGF Nature Energy Biogas A/S",
           "Ingen data"
          ],
          [
           "PowerUp \n Formålet er at afdække det økonomiske potentiale <br>for elektrificering af industrien ved at skifte over til om<br>fattende høj-temperatur varmepumpning. Det overordnede mål <br>er en markant reduktion i emission af CO2, som opnås ved at<br> fortrænge varmeproduktion fra forbrænding af brændstoffer,<br> med overskudsvarme opgraderet i temperatur i en varmepumpe<br>. \n ",
           2018,
           "Energieffektivitet",
           "WEEL & SANDVIG ENERGI OG          PROCESINNOVATION ApS",
           "Ingen data"
          ],
          [
           "North Sea Energy Hub Forundersøgelse \n Projektet samler eks<br>perter fra universitetsverdenen og industrien for at evalue<br>re potentialet ved en cirka 30 GW Wind Power Hub i Nordsøen<br>. Dette vil danne grundlag for etablering af et nationalt k<br>onsortium herunder de vigtigste industrielle interessenter <br>og indledning af en stor dansk teknologiudviklingsaktivitet<br>. \n ",
           2018,
           "Smart Grid og systemer",
           "Danmarks Tekniske Universitet (DTU)",
           "Ingen data"
          ],
          [
           "Udvikling og Demonstration af Avanceret Inversionstekno<br>logi for Optimeret Reservoirkarakterisering - DAITORC \n<br> Udvikling, test og demonstration af et nyt inversionsv<br>ærktøj, Direkte Probabilistisk Inversion (DPI), omkring<br> forbedret reservoirkarakterisering i forbindelse med e<br>fterforskning og udnyttelse af geo-energi og lagring. \n<br> ",
           2018,
           "Andet",
           "De Nationale Geologiske           Undersøgelser for Danmark og      Grønland",
           "Ingen data"
          ],
          [
           "Intelligent varmestyring til elementproduktion \n Formålet er,<br> at udvikle og teste en ny intelligent måde, at styre varme s<br>om i dag bruges ved betonelementproduktion. Det forventes at <br>kunne minimere energiforbruget med 20% ift. i dag. Dermed giv<br>er både fabrikkerne en økonomisk og miljømæssig begrundelse (<br>Co2 minimering) for at blive mere smarte i deres produktion. <br>\n ",
           2018,
           "Energieffektivitet",
           "Sensohive Technologies ApS",
           "Ingen data"
          ],
          [
           "eMURSTEN – energieffektiv fremstilling af blødstrøgne murste<br>n \n eMURSTEN projektet udvikler en ny og prismæssigt konkurr<br>encedygtig teknologi til energieffektiv produktion af blødst<br>røgne mursten. Energiforbruget reduceres gennem elektrificer<br>ing af maskindriften og lavere energibehov til tørring og br<br>ænding af murstenene gennem etablering af en mørtellomme. \n ",
           2018,
           "Energieffektivitet",
           "Fr. Petersen Maskinfabrik A/S",
           "Ingen data"
          ],
          [
           "Energieffektivt og selvstændigt hydraulisk drevkoncept \n Projektobjektivet <br>er udvikling af et selvstændigt hydraulisk drevkoncept, karakteriseret ved <br>at være meget energieffektivt, skalerbart, holdbart samt kommercielt attrak<br>tivt og i tråd med de industrielle tendenser elektrificering og tilstandsmo<br>nitorering. Dette opnås gennem anvendelse af pumper med variabel hastighed <br>og simple styrbare ventiler kombineret med innovative reguleringsværktøjer.<br> \n ",
           2018,
           "Energieffektivitet",
           "Aalborg Universitet",
           "Ingen data"
          ],
          [
           "Kompakt Energi Efficient Lav Fyldnings Ammoniak Køleunits (CLAUS) \n Fo<br>rmålet med projektet er at udvikle en ny energieffektiv chiller og var<br>mepumpeenhed med anvendelse af det mest effektive kølemiddel, der find<br>es i dag, ammoniak, i et kapacitetsområde fra 20 til 200 kW kølekapaci<br>tet. Den udviklede køle- / varmepumpeenhed installeres i et rigtigt an<br>læg for at kunne sammenligne konceptet med traditionelle HFC-enheder. <br>\n ",
           2018,
           "Energieffektivitet",
           "Teknologisk Institut",
           "Ingen data"
          ],
          [
           "HFC Marine \n Fremdrift af skibe forurener med emission af CO2 og skadelige partikler, når skibene drives af dieselmotorer. Elektrificering af skib er en måde at <br>indføre rene teknologier i transportsektoren. Det har specielle interesser i havne og kystområder. Dette projekt tager fat på hybrid elektrisk fremdrift af skibe<br>, hvor strømmen er delvist fra batterier og delvist genereres om bord ved hjælp af brændselsceller og hydrogen. Processen med at generere elektrisk energi fra br<br>int er miljøvenlig, da udstødningen kun er vand. Brændselscelleteknologien giver mulighed for hurtigere tankning og længere afstand mellem tankning i forhold til<br> skibe med kun batterier. Hybridkombinationen af batterier og brændselsceller vil levere effektiv og pålidelig strømforsyning til fremdrivning. Projektet er et f<br>ørste skridt (fase 1) i anvendelse af en hybrid batteri- og brændselscelleopløsning til skibe. Projektet vil blive fulgt af et demonstrationsprojekt (fase 2). \n ",
           2018,
           "Energieffektivitet",
           "Ballard Europe",
           "Ingen data"
          ],
          [
           "Steam Concrete Storage \n I Steam Concrete Storage projektet,<br> vil en ny type af høj temperatur betonlager blive udviklet,<br> demonstreret i et demoanlæg og testet med en dampkreds. Erf<br>aringerne vil blive brugt til beregning af fuldskala koncept<br>er, hvor lageret giver fleksibilitet i elproduktion fra stør<br>re dampproducerende kraftvarmeværker og forbrug i industrien<br> \n ",
           2017,
           "Smart Grid og systemer",
           "Aalborg CSP",
           "Ingen data"
          ],
          [
           "ZoDrEx (Zone Isolering, Boring og Udforskning af EGS Projekter) \n Geotermisk<br> energi er den eneste kendte, ikke-vejr afhængige bæredygtige energikilde. Z<br>oDrEx’s formål er at udvikle og demonstrere teknologier som giver adgang til<br> den store ressource, ved brug af forbedrede udvindingsmetoder. Welltec’s bi<br>drag er zoneisolering til brug under hårde geotermiske forhold, som muliggør<br>e forbedret geotermisk væskestrømning og derved højere output til kraftværke<br>r. \n ",
           2018,
           "Smart Grid og systemer",
           "Welltec A/S",
           "Ingen data"
          ],
          [
           "PERFORM - Forbedring af geotermiske anlægs drift gennem fælles videns<br>opbygning og teknologiudvikling \n PERFORM-projektet har til formål at<br> forbedre driften af geotermiske anlæg. Herunder: (i) at opnå forøget<br> viden om mulige årsager til driftsproblemer på geotermiske anlæg, sa<br>mt (ii) at erstatte dyre, konventionelle og ofte usikre løsninger på <br>driftsproblemer med omkostningseffektive \"next generation\" teknologie<br>r. \n ",
           2018,
           "Smart Grid og systemer",
           "GEUS",
           "Ingen data"
          ],
          [
           "Formidling og opfølgning af p<br>rojekter inden for bioenergi,<br> brint og brændselsceller \n P<br>rojektet vil formidle forskni<br>ngsresultater inden for bioen<br>ergi, brint og brændselscelle<br>r. \n ",
           2017,
           "Bio og affald",
           "BioPress",
           "Ingen data"
          ],
          [
           "COPE \n Hovedformålene: - At forstå de reaktive kraftegenskaber hos forskellige typer vindmøller, PE-baserede applikationer og kabel integre<br>ret net. - At finde optimale placeringer, kapaciteter og kombinationer af reaktive kompensationsenheder i et el system med forskellige type<br>r vindmøller i overgangen til 100 % PE og UC domineret system. - At udvikle optimal reaktiv strømforsendelsesmetode til PE/UC el systemet. <br>- At etablere modeller til korslutningsanalyse af PE/UC el systemet. - At udføre kortslutningsanalyse og af prøve ydeevnen for det eksister<br>ende beskyttelses system i strømforsyningen transiteret mod 100 % PE og UC domineret. - At udvikle løsninger til sikker beskyttelse af det <br>danske el system i overgang og i fremtiden med PE og UC dominans. - At validere de foreslående metoder via harware-in-the-loop platformen. <br>\n ",
           2017,
           "Smart Grid og systemer",
           "Aalborg Universitet",
           "Ingen data"
          ],
          [
           "Fuld skala osmotisk energigenerering fra geotermiske brønde<br> \n Målet med projektet er at demonstrere, at elektricitet p<br>roduceret fra saltholdigt geotermivand kan produceres ved l<br>ave omkostninger. Til dette formål vil vi bygge et fuldskal<br>ademonstrationssystem og afprøve det på geotermianlæg. Dett<br>e kan sammenlignes med at bygge verdens første vindmølle. \n<br> ",
           2017,
           "Energieffektivitet",
           "SaltPower",
           "Ingen data"
          ],
          [
           "Dansk EBC ExCO Repræsentation <br>\n Projektet vedrører dansk rep<br>ræsentation i executiv kommitt<br>een for IEA Technology Collabo<br>ration Programmet “Energy in B<br>uildings and Communities (EBC)<br>”. \n ",
           2017,
           "Energieffektivitet",
           "Aalborg Universitet",
           "Ingen data"
          ],
          [
           "Flexgas II - Villagaskedel i samspil med luft/luft varmepumpe eller lu<br>ft/vand varmepumpe \n Der udvikles, testes og demonstreres en boks, som<br> kan styre luft/vand og luft/luft varmepumper, der er eftermonteret på<br> eksisterende villagasinstallationer for at sikre fleksibelt samspil i<br>ft. elsystemet. Baseret på analyser af potentiale og økonomi vil en im<br>plementeringsmodel for markedsintroduktion blive udviklet og testet. \n<br> ",
           2017,
           "Energieffektivitet",
           "DANSK GASTEKNISK CENTER A/S",
           "Ingen data"
          ],
          [
           "Returtemperaturoptimering af radiatorer i etageejendomme i city omr<br>åde med lavtemperaturfjernvarme \n Demonstration af en ny prototype <br>af termostater fra Danfoss, specielt designet til at imødekomme en <br>lav returtemperatur fra radiatorerne uden at gå på kompromis med de<br>n termiske komfort i bygninger, og udarbejde en vejledning til hvor<br>ledes man implementerer lavtemperaturfjernvarme i store byområder. <br>\n ",
           2017,
           "Energieffektivitet",
           "DAMGAARD RÅDGIVENDE INGENIØRER ApS",
           "Ingen data"
          ],
          [
           "Sporbar online fugtmåling i træflis - SOFT \n - Identificering <br>af en referenceanalysemetode - Undersøgelse af betydningen af <br>brændslets sammensætning (ved, bark, grene, nåle, urenheder). <br>- Optimering af proces til prøveudtagning - Udvikling af en re<br>præsentativ kalibreringsmetode - Etablering af målesystem - On<br>-site evaluering af målesystemets effektivitet og nøjagtighed <br>\n ",
           2017,
           "Bio og affald",
           "Teknologisk Institut",
           "Ingen data"
          ],
          [
           "Optimal spændingsregulering i mellemspændingsnettet \n Øget dece<br>ntraliseret produktion i det danske distributionsnet, fører til<br> pres på kapaciteten i mellemspændingsnettet. Med intelligent s<br>tyring af online tap-changere, der allerede sidder på de fleste<br> 60/10 kV-transformerstationer i Denmark, kan man skabe en bedr<br>e udnyttelse af 10 kV-nettet og dermed udskyde investeringer. \n<br> ",
           2017,
           "Smart Grid og systemer",
           "Dansk Energi",
           "Ingen data"
          ],
          [
           "Koordineret drift af integrerede energisy<br>stemer \n Målet for COPE projektet er at l<br>evere en omkostningseffektiv og sikker lø<br>sning til design og operation af energisy<br>stemer, der er 100% vedvarende, vha. strø<br>m til varme (P2H) og strøm til gas (P2G).<br> \n ",
           2017,
           "Smart Grid og systemer",
           "DTU Elektro",
           "Ingen data"
          ],
          [
           "OES Task10 WEC modellering, verifikation og validering \n Formål: -At<br> vurdere nøjagtigheden og etablere tillid til brugen af numerisk WEC<br> modeller -Til at validere gyldigheden af en vifte numeriske modelvæ<br>rktøjer -Reducere risikoen i teknologiudviklingen -Forbedre beregnin<br>g af energiproduktions beregninger fra WEC -Forbedre beregninger af <br>belastninger -Reducere usikkerheden i beregninger af energiprisen \n ",
           2017,
           "Bølge",
           "Rambøll",
           "Ingen data"
          ],
          [
           "DSO'ens rolle i elmarkedet \n Formålet er <br>at udvikle det kommunikationssystem og de<br> værktøjer som distributionsselskaberne h<br>ar brug for, for at undgå at handel på el<br>markederne ikke truer forsyningssikkerhed<br>en i form af overbelastninger i nettet \n ",
           2017,
           "Smart Grid og systemer",
           "Radius Elnet A/S",
           "Ingen data"
          ],
          [
           "Cloud BMS \n I Cloud Battery Management S<br>ystem (BMS) projektet udvikles og demons<br>treres anvendelsen af ‘big data’ og kuns<br>tig intelligens til at øge levetiden og <br>reducere den faktiske pris af både stati<br>onære og mobile Li-ion batteri systemer.<br> \n ",
           2017,
           "Smart Grid og systemer",
           "Lithium Balance A/S",
           "Ingen data"
          ],
          [
           "Integrerede løsninger til dagslys og kunstlys \n Formål: At drage f<br>ordel af indsamlet strategiske og videnskabelige data At tillade, <br>at Danske professionelle aktører hat bedre overblik over teknologi<br>ske trends, muligheder og risici At identificere mulige fordele ve<br>d nye internationale standarder At tilpasse produkter udviklet af <br>danske producenter til internationale markeder At skabe netværk \n ",
           2017,
           "Energieffektivitet",
           "BUILD - Institut for Byggeri, By og Miljø - AAU CPH",
           "Ingen data"
          ],
          [
           "H2S management system - H2SMAN \n I dag er det almindelig praksi<br>s inden for offshore gasproduktion at overdosere store mængder <br>giftig svovlbrinte scavenger, for at opfylde kvalitetsspecifika<br>tionerne. Ved at designe et sensorstyret system, som kun tilføj<br>er den nødvendige scavenger til gassen, vil mængden af udledte <br>kemikalier samt kemikalieomkostningerne reduceres med op til 30<br>% \n ",
           2017,
           "Andet",
           "Unisense A/S",
           "Ingen data"
          ],
          [
           "Energibesparende JensenLED SmartTube i <br>intelligente løsninger \n JensenLed ønsk<br>er gennem EUDP fonden at gennemføre dat<br>aindsamling, produkttest og pilotprojek<br>tmed henblik på at evidensbasere energi<br>besparelser Af Jensen LED SmartTube. \n ",
           2017,
           "Energieffektivitet",
           "JensenLED International A/S",
           "Ingen data"
          ],
          [
           "Udvikling af elektrofilter til <br>portionsfyrede halmkedler \n For<br>målet med projektet er at udvik<br>le en effektiv og økonomisk løs<br>ning til rensning af røggas fra<br> portions fyrede halmkedler. \n ",
           2017,
           "Bio og affald",
           "Maskinfabrikken REKA",
           "Ingen data"
          ],
          [
           "Livscyklusvurdering af energiteknologier og energisystemer \n Sus<br>tEnergy udvikler en dedikeret model livscyklusvurdering (LCA) af<br> integrerede energiteknologier. Modellen baseres på den eksister<br>ende LCA model, EASETECH, som er udviklet af DTU. Modellen anven<br>des til bæredygtighedsvurdering af energiteknologier såvel som h<br>ele energisystemer indeholdende en bred vifte af teknologier. \n ",
           2017,
           "Smart Grid og systemer",
           "DTU Environment",
           "Ingen data"
          ],
          [
           "Sikker forsyning til kontrol af el-nettet, SPGC \n Projektet omhand<br>ler nødstrømsforsyning baseret på brint og brændselsceller til tra<br>nsformerstationer i elnettet. Formålet er at udvikle og demonstrer<br>e nødstrømsløsninger til sikring af kommunikation og styring i net<br>stationer i både transmissions- og distributionsnettet med et mål <br>om høj pålidelighed, kosteffektivitet og forlængelse af backuptide<br>n. \n ",
           2017,
           "Brint og brændselsceller",
           "Ballard Europe",
           "Ingen data"
          ],
          [
           "BlueGrid - Fleksibel energiudnyttelse i spildevandsforsyningen ved fuld s<br>ystemintegration \n BlueGrid har til formål at udvikle og demonstrere vand<br>branchens mulighed for at være både den fleksible forbruger og elproducen<br>t ved brug af Smart Grid og integreret samstyring af forsyningens samlede<br> tekniske anlæg, da der er fokus på udfasning af fossile energikilder, og<br> elforsyningen i stigende grad baseres på fluktuerende VE som sol og vind<br>. \n ",
           2017,
           "Energieffektivitet",
           "KRÜGER A/S",
           "Ingen data"
          ],
          [
           "Nettilsluttede flow-batterier \n Hovedformål<br>et med projektet Nettilsluttede flow-batter<br>ier er at udvikle en prototype, som kan tes<br>tes i lavspændingsnettet, i en radial, som <br>har høj aggregeret vedvarende produktion, d<br>er evt. kan forårsage ubalance i radialen. <br>\n ",
           2017,
           "Smart Grid og systemer",
           "Eniig Forsyning A/S",
           "Ingen data"
          ],
          [
           "Fremtidens ammoniakkølesystemer, fordamperkreds (FARSevap)<br> \n Formålet er at udvikle de ammoniakkøleanlæg, som ikke h<br>ar været udviklet på i lang tid, således at ammoniakanlægg<br>ene kan modstå konkurrence fra andre mindre effektive alte<br>rnative løsninger. Formålet er dermed at fremtidssikre det<br> mest effektive kølemiddel til det industrielle marked. \n ",
           2017,
           "Energieffektivitet",
           "Teknologisk Institut",
           "Ingen data"
          ],
          [
           "Prototype på nyt rejefartøj med halvering af energiforbrug \n Pro<br>jektets formål er at arbejde med alle aspekter af energiforbruge<br>t på fartøjet med henblik på at skabe et nyt koncept for en reje<br>trawler i vadehavet. Dette koncept vil være målrettet mod det me<br>get store fartøjs segment der findes af denne type. Brændstof er<br> den største enkeltfaktor i omkostningerne af disse fartøjer. \n ",
           2017,
           "Energieffektivitet",
           "Vestværftet",
           "Ingen data"
          ],
          [
           "SolarSmartSystem \n Projektgruppen bag det ansøgte udviklings- og demonstrationsforberedende projekt har en ambition om at videreudvikle den EUDP-støttede PVT-teknologi til an<br>vendelse i den ca. halve million enfamiliehuse, der i dag er opvarmet med oliefyr og naturgasfyr samt til erhvervsvirksomheder, der benytter fossile brændsler til procesenerg<br>i. Projektgruppen har valgt Bornholm som vært for de efterfølgende demonstrationsaktiviteter, fordi det lokale forsyningsselskab Bornholms Energi & Forsyning i forvejen er en<br>gageret i den grønne omstilling som den centrale aktør i implementeringen af Bornholms strategiske energiplan. I projektet vil PVT-teknologien blive videreudviklet dels med v<br>armepumpe, lagerbeholdere og elektrisk batterilager til enfamiliehuse og dels med en højtemperatur-varmepumpe og lokale energilagre til erhvervsformål. Teknologiudviklingen s<br>kal sikre et omkostningseffektivt alternativ til det fossile energiforbrug, på en sådan måde, at der samtidig skabes en større fleksibilitet i elforbruget hos slutbrugerne. \n<br> ",
           2017,
           "Sol",
           "Racell Saphire Technologies ApS",
           "Ingen data"
          ],
          [
           "Kryogen kulstofindfagning og anvendelse C3U \n Det primær<br>e formål med at etablere veldokumenterede tekno-økonomis<br>ke scenarieanalyser for netbalancering ved hjælp af en k<br>ryoven proces til indfangningen af CO2 koblet med syntes<br>e af transportbrændstoffer. Projektet forventes at danne<br> grundlag for et demonstrationsprojekt som næste skridt.<br> \n ",
           2017,
           "Smart Grid og systemer",
           "Aalborg Universitet",
           "Ingen data"
          ],
          [
           "CO2-neutralt energisystem ved udnyttelse af undergrunden \n Undergrun<br>den kan udnyttes til lager af overskudsenergi fra vind og sol i form<br> af varme eller gas. I kombination med en CO2-neutral løsning, hvor <br>CO2-udledningen fra tilgængelige kilder indfanges, lagres midlertidi<br>gt og genbruges til syntetisk brændstof, kan et sådant energisystem <br>vise sig at være både effektivt, bæredygtigt og økonomisk rentabelt.<br> \n ",
           2017,
           "Smart Grid og systemer",
           "GEUS",
           "Ingen data"
          ],
          [
           "Analyser af elforbruget på time-niveau \n Elforbruget, men også f<br>orbrugsprofilen på time-niveau, vil ændre sig over tid. Baseret <br>på data fra time-målte forbrugere analyserer vi, hvad der påvirk<br>er time-profilen og hvordan denne vil ændre sig. Time-profilen s<br>tiller væsentlige krav til produktions-, og transmissionskapacit<br>eter samt til behovet for fleksibiliteten i et færdigt el-system<br>. \n ",
           2017,
           "Smart Grid og systemer",
           "Danmarks Tekniske Universitet",
           "Ingen data"
          ],
          [
           "Lokale varmekoncepter til el-balancering \n Det overordnede formål<br> med projektet er at evaluere og optimere synergien mellem elsyst<br>emet og fjernvarmesystemer med fokus på energi (el og varme) bala<br>nceringsydelserne i forbindelse med øget byfortætning og udvidels<br>e af forsyningsområder. Danske energistrategier på RE (Renewable <br>Energy) integration og fjernvarme vil blive fremmet gennem dette.<br> \n ",
           2017,
           "Smart Grid og systemer",
           "Added Values",
           "Ingen data"
          ],
          [
           "Minimization of heat loss and installatio<br>n costs of pipe installations for condomi<br>niums - both renovation \n Projektet omhan<br>dler minimering af varmetab og installati<br>onsomkostninger af rørinstallationer til <br>etageboliger - både nybyg og renovering \n<br> ",
           2016,
           "Energieffektivitet",
           "COWI A/S",
           "Ingen data"
          ],
          [
           "CrossCut \n CrossCut hare n ambition om at udvikle, teste, evaluere og demonstrere et vedvarende hybrid energisystem med brændselscelle<br>r i et virkeligt miljø. Projektet fokuserer på udviklingen inden for power management elementet for at opnå høj udnyttelse af den vedv<br>arende energi og høj omkostningseffektivitet for komponenter og systemer. Projektet går på tværs af eksisterende energi- og lageringst<br>eknologier i kombination med brændselscellesystemer (2-10 kW). Projektet fokuserer på slutbrugerens behov og omkostningseffektiv (inve<br>stering, levetid, CO2 udledning) hybridisering. En anden målsætning er et kostoptimeret og øget produktrobusthed og levetid gennem val<br>g af ”bedst praksis” komponenter fra andre forskellige brændselscelleprodukter og brands samt en verificering af slutbrugerøkonomien. <br>\n ",
           2016,
           "Brint og brændselsceller",
           "Ballard Europe",
           "Ingen data"
          ],
          [
           "EUDP 2016 - Steamboost - mere energy fra<br> affald \n Målet med projektet er at test<br>e og demonstrere Steamboost teknologien <br>i fuld skala. Endvidere er formålet at o<br>pnå viden, der vil muliggøre en videre o<br>ptimisering af Steamboost teknologien \n ",
           2016,
           "Bio og affald",
           "BABCOCK & WILCOX VØLUND A/S",
           "Ingen data"
          ],
          [
           "Smart afsaltning af havvand ved hjælp af et termoelektrisk solcellesyst<br>em \n DTU Energi, AquaDania, SunPower Applications og All Things Conside<br>red vil I dette projekt udvikle et unikt drikkevandssystem, der afsalte<br>r havvand ved hjælp af et solcelleanlæg koblet til et termoelektrisk mo<br>dul. Systemet kan sikre rent drikkevand i tørre og/eller fjerntliggende<br> områder, men kan også anvendes som nødhjælp i katastrofesituationer. \n<br> ",
           2016,
           "Sol",
           "Danmarks Tekniske Universitet (DTU)",
           "Ingen data"
          ],
          [
           "uGRIP - Microgrid Positioning \n The growing share of intermittent and partly predictable renewable energy sources (RES) requires a more flexible operation of the po<br>wer system. Flexibility is a key to maximize the utilization of RES, while minimizing the negative impact of their associated variability and uncertainty. An effect<br>ive way of increasing system flexibility is the integration of price-responsive microgrids. This project aims to tackle the first challenge of this call by developi<br>ng a full-scale microgrid that consists of distributed generators, both renewable and controllable, storage units and flexible loads at FER-UNIZG. The project aims <br>to identify and overcome barriers to the widespread adoption of the grid-connected microgrid technology targeting communities, industry and society in general. We w<br>ill create solutions for microgrids electricity market participants. These solutions will leverage smart resources, i.e. the communications and ICT infrastructure. <br>\n ",
           2015,
           "Smart Grid og systemer",
           "Danmarks Tekniske Universitet (DTU)",
           "Ingen data"
          ],
          [
           "Solcelleejeres motivation og adfærd som prosumers \n Privat solcel<br>leejerskab udfordrer balancen i nettet, men kan også potentielt b<br>idrage til at engagere forbrugerne i forhold til fleksibelt forbr<br>ug når de selv producerer energi og bliver ”prosumers”. Forbrugss<br>ociologiske analyser kan bidrage med væsentlig viden til netselsk<br>abernes fortsatte udvikling af nettet og til politik på området. <br>\n ",
           2016,
           "Sol",
           "Aalborg Universitet (Fredrik Bajers Vej)",
           "Ingen data"
          ],
          [
           "Thermal lagring (HTES) \n Projektet ‘HTES’ (High Temperature En<br>ergy Storage) søger at demonstrere en ny teknologi til sæsonla<br>gring. Projektet vil lagre varme energi i kalkstenslag i under<br>grunden (~600m dybde) under Storkøbenhavn, se på hvordan syste<br>met praktisk implementeres i fjernvarmenettet samt opnå operat<br>ionel erfaring med teknologien frem mod en kommercialisering. <br>\n ",
           2016,
           "Smart Grid og systemer",
           "Ross DK A/S",
           "Ingen data"
          ],
          [
           "Super Supermarkeder \n Hovedformålet med projektet Super Supermarkeder er<br> at evaluere, demonstrere og implementere det fulde potentiale af fjernv<br>armeproduktionen og systemydelser, der er tilgængeligt, men endnu uudnyt<br>tet i danske supermarkeder. Det forventes, at projektet vil sikre 500 -1<br>.000 ombyggede supermarkeder i Danmark på 3-5 år efter projektets afslut<br>ning. Desuden vil en dansk udrulning af teknologierne åbne op for ekspor<br>t \n ",
           2016,
           "Smart Grid og systemer",
           "CLEAN",
           "Ingen data"
          ],
          [
           "EUDP 2016 CON20 RE-Smart \n I Con20 VE-Smart (C20) projektet udvikles og demonstreres en helt ny tilga<br>ng til industriel køling, der muliggøre vedvarende frys i et driftssetup alene ved anvendelse af inte<br>grerede solceller, i en løsning der kombinerer banebrydende energieffektivitet med en række features,<br> der gør det økonomisk attraktivt og nemt for brugere at vælge- eller skifte til en mere energieffekt<br>iv løsning. Ud over at levere konkrete energibesparelser til industriel køl på godt 40 %, åbner proje<br>ktet også op for at anvende industriel køl/frys aktivt i en balancering af fremtidens smarte elnet. \n<br> ",
           2016,
           "Energieffektivitet",
           "LOWENCO A/S",
           "Ingen data"
          ],
          [
           "Ultra-lavtemperaturfjernvarme i nybyggeri \n Demonstration af ultra-lavt<br>emperatur i nybyggeri af familiehuse. Fremløbstemperatur vil gennem hel<br>e året ligge på 35-40 grader.\nInvesteringer i distributionsnet forvente<br>s reduceret gennem anvendelse af fleksible plastledninger i stedet for <br>stål.\nDer opnås en række systemfordele f.eks. nettab, produktionseffekt<br>ivitet, brug af vedvarende energikilder og lavtemperatur overskudsvarme<br>. \n ",
           2016,
           "Energieffektivitet",
           "Sweco Danmark",
           "Ingen data"
          ],
          [
           "Deltagelse i Annex 31 \n Deltagelse i IEA Annex 31 sikr<br>er indflydelse på de internationale programmer for bri<br>nt og brændselsceller med fokus på PEM. I annexet delt<br>ager der relevante organisationer fra Europa, Nordamer<br>ika, Korea og Japan. Netværkssamarbejdet har resultere<br>t i mange nye samarbejdsrelationer i de seneste tre år<br>. \n ",
           2016,
           "Brint og brændselsceller",
           "DANISH POWER SYSTEMS ApS",
           "Ingen data"
          ],
          [
           "Udnyttelse af Spildvarme i Fiskeindustrien \n Projektets formål e<br>r at designe og teste udstyr, der gør det muligt at udnytte spil<br>dvarme ved relativt lav temperatur til opvarmning/kogning af ind<br>ustrifisk, i stedet for at bruge brændselsbaseret varme fra en k<br>edel. Det primære udstyr er en varmeveksler, der er i stand til <br>at håndtere hele eller groft neddelte fisk uden at stoppe til. \n<br> ",
           2016,
           "Energieffektivitet",
           "TrippleNine",
           "Ingen data"
          ],
          [
           "Systemløsninger til behov-styring og løbende overvågning af rum-baseret ve<br>ntilation i bygninger - RoomVent-Solutions \n Formålet med projektet er at <br>udvikle løsninger til smart boligventilation, der muliggør indeklimakontro<br>l på værelsesniveau. Systemet skal være energieffektivt, prisbillig, og le<br>t at installere og operer, og vil inkludere avanceret trådløs overvågning,<br> som er integreret med en cloud-baseret kontrol og dataanalyse værktøjer. <br>\n ",
           2016,
           "Energieffektivitet",
           "Danmarks Tekniske Universitet (DTU)",
           "Ingen data"
          ],
          [
           "Offshore HVAC transformerstation<br>skoncept \n At designe et nyt sty<br>resystem til installation af HVA<br>C transformationer og udvikle et<br> nyt kabelhåndteringskoncept som<br> vil sænke LCoE for offshore vin<br>d. \n ",
           2015,
           "Vind",
           "SIEMENS WIND POWER A/S",
           "Ingen data"
          ],
          [
           "EUDP 12-II,eButler - effektivisering af energiforbrug \n Formålet er <br>at udvikle og demonstrere energivisualiseringssystemet eButler, som <br>giver nye muligheder for at adressere forbrugsmønstre og integrere S<br>mart Grid løsninger til fleksibelt forbrug. Som noget unikt kan eBut<br>ler håndtere data fra alle forsyningstyper. Det giver mulighed for h<br>elhedsorienterede adfærdsstudier og markedsmæssig gennemslagskraft \n<br> ",
           2012,
           "Energieffektivitet",
           "SASECO ApS",
           "Ingen data"
          ],
          [
           "Pilot Hole - 1b \n Geotermi er en grøn vedvarende <br>energi kilde med potentialet til at ændre det nuv<br>ærende sammensætning af energi. Projektet fokuser<br>e på hvordan geotermi kan integreres ind i fjernv<br>arme systemet i Storkøbenhavn, og hvordan skala e<br>ffekter påvirker den samlede forretningsmodel. \n ",
           2015,
           "Energieffektivitet",
           "Ross DK A/S",
           "Ingen data"
          ],
          [
           "ISG<br>AN <br>Ann<br>ex <br>6 \n<br>  \n<br> ",
           2015,
           "Smart Grid og systemer",
           "Dansk Energi",
           "Ingen data"
          ],
          [
           "Deltagelse i ISGAN Annex 5 <br>SIRFN \n Projektet handlede <br>om den danske deltagelse i <br>Annex 5, som hedder Smart G<br>rid International Research <br>Facility Network (SIRFN). \n<br> ",
           2015,
           "Smart Grid og systemer",
           "Danmarks Tekniske Universitet (DTU)",
           "Ingen data"
          ],
          [
           "Forbrændi<br>ngs Luft <br>Befugtnin<br>g på Forb<br>ændingsan<br>læg \n . \n<br> ",
           2015,
           "Bio og affald",
           "RAMBØLL DANMARK A/S",
           "Ingen data"
          ],
          [
           "Teknologimodning af keramiske elektrolysesystemer \n Projekt<br>et vil teknologimodne keramiske elektrolyse-systemer mod nu<br>værende markeder som off-grid ellagring og fremstilling af <br>gasser til den kemiske industri. Teknologien skal anvendes <br>til at løse Danmarks fremtidige udfordringer med stabiliser<br>ing af elforsyningen pga. varierende vind- og solenergi. \n ",
           2015,
           "Brint og brændselsceller",
           "HALDOR TOPSØE A/S",
           "Ingen data"
          ],
          [
           "Bolig 2020 med lavt energiforbrug og høj brugerkomfort \n Formålet med projektet<br> er at udvikle og demonstrere en 2. generations lavenergibolig der lever op til<br> kravene i den kommende Bygningsklasse 2020 med et maksimalt eneriforbrug på 20<br> kWh/m2år, og hvor der præsenteres løsninger på de problemer man hidtil har set<br> med super lavenergihuse. Disse problemer omfatter et dårligt indeklima, overop<br>hedning om sommeren samt et energiforbrug der er væsentligt højere end beregnet<br>. \n ",
           2015,
           "Energieffektivitet",
           "IEN Consultants",
           "Ingen data"
          ],
          [
           "Opfølgningsprogram for store varmela<br>gre i Danmark, Gram. \n Projektets fo<br>rmål er at følge driften på damvarme<br>lageret i Gram. I projektet opsamles<br>, analyseres og formidles måleresult<br>ater og driftserfaringer ind til 201<br>8. \n ",
           2015,
           "Sol",
           "PlanEnergi",
           "Ingen data"
          ],
          [
           "Koncentreret solvarme kombineret med biomasse kraftv<br>arme med ORC \n Solvarmeanlægget opføres med det form<br>ål at forsyne Brønderslev fjernevarmebrugere med bil<br>ligere energi end muligt med den nuværende energipro<br>duktion på gasmotorer/kedler og samtidig reducere CO<br>2 udledningen ved mindre fyring med gas og biomasse.<br> \n ",
           2015,
           "Sol",
           "Aalborg CSP",
           "Ingen data"
          ],
          [
           "Energiproducerende faskine \n Projektet vil demonstrere og doku<br>mentere hvorvidt og i hvilket omfang kombinationen af en faski<br>ne og et jordvarmeanlæg i fuldskala er mere effektiv end et ti<br>lsvarende traditionelt anlæg uden faskine og/eller med en trad<br>itionelt etableret sten/grus-baseret faskine. Løsningen forven<br>tes at bidrage aktivt til den lokale/kommunale klimatilpasning<br>. \n ",
           2015,
           "Energieffektivitet",
           "ROCKWOOL A/S",
           "Ingen data"
          ],
          [
           "Æstetisk energiproducerende inddækning af tagaggregater \n Projekte<br>t vil udvikle og designe en æstetisk energiproducerende inddækning<br> af tagaggregater, som fremstår som et arkitektonisk velintegreret<br> element. Energien produceres med solceller, som virker som en mod<br>ulbaseret inddækning og medvirker til en bæredygtig ventilering, d<br>er kan tilpasses de fleste ventilationsaggregater og bygningstyper<br>. \n ",
           2015,
           "Sol",
           "Ekolab",
           "Ingen data"
          ],
          [
           "PROOF - En æstetisk attraktiv PVT tagdækningsløsning \n Målet<br> for dette projekt er at udvikle og demonstrere, at det ved <br>at kombinere state-of-the-art teknologier, er muligt at opnå<br> nær-selvforsyning på årsbasis uden at gå på kompromis med b<br>rugerkomfort eller æstetik samtidigt med, at investeringen f<br>orbliver attraktiv selv med få eller ingen offentlige tilsku<br>d. \n ",
           2015,
           "Sol",
           "Innogie",
           "Ingen data"
          ],
          [
           "Formidling af forskningsresul<br>tater inden for bioenergi, br<br>int og -brændselsceller \n Pro<br>jektet vil formidle forskning<br>sresultater inden for bioener<br>gi, brint og brændselsceller.<br> \n ",
           2015,
           "Brint og brændselsceller",
           "BioPress",
           "Ingen data"
          ],
          [
           "Intelligent brænder \n Udvikling a<br>f en intelligent brænder, der kan<br> udføre online måling af massen t<br>ilført til brænderen og justere l<br>ufttilførslen på denne baggrund t<br>il sikring af optimal forbrænding<br>. \n ",
           2015,
           "Bio og affald",
           "Teknologisk Institut",
           "Ingen data"
          ],
          [
           "VVMplus \n Dette projekt imødekommer et væsentligt behov, for<br> at ændre den måde sociale konsekven-ser for lokalsamfundet <br>bliver belyst og omtalt i dialogen omkring konkrete VE-proje<br>kter – et behov som forskere og praktikere har påpeget som c<br>entralt for at øge den offentlige accept af VE-projekter i l<br>okalsamfundet.\n\nI stærk kontrast til den generelle opbakni \n<br> ",
           2016,
           "Andet",
           "Aalborg Universitet (Fredrik Bajers Vej)",
           "Ingen data"
          ],
          [
           "Parker \n Parker projektet skal undesøge hvorvidt serie<br>producerede elbiler, som del af en operativ flåde, kan<br> levere energi og effektbaserede ydelser til det dansk<br> elnet. Organisationerne DTU, NUVVE og INSERO samarbej<br>de med en stor bilfabrikant (Nissan) og en dansk flåde<br>ejer (Frederiksberg Forsyning) i dette pilotprojekt. \n<br> ",
           2016,
           "Smart Grid og systemer",
           "Danmarks Tekniske Universitet (DTU)",
           "Ingen data"
          ],
          [
           "SECOND2 – Security Concept for DER \n Adgangskontrol og kry<br>pteret datakommunikation er vigtige elementer i et vedvare<br>nde energisystem med distribuerede energiressourcer. SECON<br>D2 projektets formål består i forskning- og videreudviklin<br>g af eksisterende teknologier for [1] ’Attribute Based Acc<br>ess Control’ og [2] ’SecureMMS’ baseret datakommunikation.<br> \n ",
           2016,
           "Smart Grid og systemer",
           "EURISCO ApS",
           "Ingen data"
          ],
          [
           "SALS – Smart Adaptive Load Shedding \n Projektet har til for<br>mål at udvikle en ny algoritme der reducerer lastaflastning<br> under fejl på nettet, hvilket reducerer antallet af forbru<br>gere der frakobles nettet under fejl. Projektetets resultat<br>er kan nemt installeres i eksisterende numeriske relæer i f<br>ordelingsstationer uden behov for at indkøbe nye relæer. \n ",
           2016,
           "Smart Grid og systemer",
           "Aalborg Universitet (Fredrik Bajers Vej)",
           "Ingen data"
          ],
          [
           "MeGa-stoRE 2 phase 2 \n Projektet vil udvikle en teknologi til<br> produktion af syntetisk naturgas baseret på biogas og vindkr<br>aft. Herved skabes en forbindelse mellem elnettet og gasnette<br>t. Vindkraft vil blive lagret som gas og gassen vil b.la. kun<br>ne anvendes som brændstof i transportsektoren, og herved løse<br> et centralt problem i fremtidens fossilfrie energiforsyning.<br> \n ",
           2016,
           "Smart Grid og systemer",
           "Danmarks Tekniske Universitet (DTU)",
           "Ingen data"
          ],
          [
           "Lagring af el og varme i salthydrat \n SUNTHER<br>M har udviklet en prototype på et varmebatter<br>i, svarende til varmebehovet i 12 timer for e<br>t almindeligt parcelhus, med et fysisk pladsk<br>rav på 60x60x200 cm. I dette projekt videreud<br>vikles og demonstreres teknologien i praksis.<br> \n ",
           2016,
           "Andet",
           "Suntherm ApS",
           "Ingen data"
          ],
          [
           "Gasfyret KV til balance- og spidslastydelser \n Projektets omdrejni<br>ngspunkt er at udnytte den eksisterende gasfyrede kraftvarmekapaci<br>tet til at levere de nødvendige fleksible ydelser til elmarkederne<br>. Disse anlæg indeholder højst sandsynligt et meget større potenti<br>ale end hidtil antaget, og vil derfor også kunne mobiliseres til d<br>ette formål med stor konkurrenceevne sammenlignet med alternativer<br>. \n ",
           2016,
           "Smart Grid og systemer",
           "Added Values",
           "Ingen data"
          ],
          [
           "EnergyLab Nordhavn – Smarte komponenter i integrerede energisystemer \n Fluktuerende lokal energiproduktion og –forbrug vil <br>resultere i at energien flyder I flere retninger I energisystemet. Projektet addresserer det øgede behov for fleksibilitet <br>i energisystemet mhp at kontrollere dette i både tid og sted og energiform. I dag er energiservices typisk optimeret lokalt<br> mhp at levere deres primære funktion i høj kvalitet til lavest mulige pris, uafhængig af det aktuelle stade af energisyste<br>met. Dette medfører ekstra udfordringer og omkostninger for energisystemet, f.eks. i spidslastperioder. Formålet med projek<br>tet er at finde løsninger på disse udfordringer, baseret på nye og eksisterende energi fleksibiliteter i energisystemet. \n ",
           2015,
           "Smart Grid og systemer",
           "Danmarks Tekniske Universitet (DTU)",
           "Ingen data"
          ],
          [
           "Internationalt samarbejde om store solvarmeanlæg \n Formålet<br> med projektet er gennem international videndeling at udvik<br>le og udbrede store solvarmeanlæg.\nDanmark ligger i front p<br>å dette område, og projektet giver meget fine muligheder fo<br>r udbredelse at dansk\nteknologi og knowhow. Overordnet set <br>er formålet at øge anvendelsen af solvarme på verdensplan. <br>\n ",
           2015,
           "Sol",
           "PlanEnergi",
           "Ingen data"
          ],
          [
           "Sol-ressource vurdering og vejrudsigter \n Projektets formål er f<br>ortsat dansk deltagelse i IEA SHC Task 46: ”Solar Resource Asses<br>sment and\nForecasting”. Undersøgelser af retningsbestemt solstrå<br>ling ved DTU fortsættes og vil udvides til\nsolfangerfeltet i Hed<br>ehusene. DMI leder dertil aktivitet B5 i Task 46. I denne udarbe<br>jdes forbedrede\nmetoder til meteorologisk solressource-vurdering<br>. \n ",
           2015,
           "Sol",
           "Danmarks Meteorologiske Institut",
           "Ingen data"
          ],
          [
           "Fremtidens chillerteknologi - Vanddamp \n <br>Formålet er at udvikle og installere et e<br>nergieffektivt 1 MW køleanlæg baseret på <br>vand som primært\nkølemiddel. Kombinatione<br>n af høj energieffektivitet samt et sikke<br>rt og bæredygtigt kølemiddel er\nunikt. \n ",
           2015,
           "Energieffektivitet",
           "JOHNSON CONTROLS DENMARK ApS",
           "Ingen data"
          ],
          [
           "Energieffektivt drone inspektionssystem til identifikation af energitab<br> \n Projektets mål er at udvikle og demonstrere et dronebaseret system t<br>il inspektion af energisystemer og – distribution. Et letvægts video- o<br>g infrarødt kamera system on-board skal udvikles, analyseres og optimer<br>es. Den dronebaserede løsning vil blive demonstreret og test ved inspek<br>tion af fjernsvarmesystemer og højspændings transmissions-ledninger. \n ",
           2015,
           "Energieffektivitet",
           "Danmarks Tekniske Universitet (DTU)",
           "Ingen data"
          ],
          [
           "Osmotisk energi fra geotermiske kilder \n Geotermisk vand i Danmark<br> indeholder store mængder salt, der via saltkraft kan udnyttes til<br> at producere CO2 neutral elektricitet. Målet med projektet er at <br>demonstrere dette, således at kompakte saltkraftanlæg kan bruges t<br>il at udnytte geotermiske vandstrømme til vedvarende el produktion<br> (i tillæg til varme) og forbedre økonomien i geotermiske anlæg. \n<br> ",
           2015,
           "Smart Grid og systemer",
           "Applied Biomimetic A/S",
           "Ingen data"
          ],
          [
           "Geotermisk pilotboring \n Projektet ‘geotermisk pilotboring’ adr<br>essere CAPEX spørgsmål ved energikilden, gennem tilretning af p<br>rocesser og procedurer fra olie&gas. Endvidere skal teknologien<br> udvikles til geotermi, og ikke adopteres fra anden industri. P<br>rojektet ser på projektinteressenter og deres samarbejde, samt <br>hvordan deres individuelle krav kan tilgodese hele projektet. \n<br> ",
           2015,
           "Smart Grid og systemer",
           "Ross DK A/S",
           "Ingen data"
          ],
          [
           "Fremtidens køleborde \n Målet er at designe en ny genera<br>tion af energieffektive køleborde, der lever op til kun<br>dernes behov. Produktet skal være det mest energieffekt<br>ive i EU, og det skal leve op til Ecodesign-kravene, so<br>m kommer i 2016. Projektet skal medvirke til at fasthol<br>de og udvide dansk produktion på fabrikken i Vojens. \n ",
           2015,
           "Energieffektivitet",
           "Teknologisk Institut",
           "Ingen data"
          ],
          [
           "Tillægsansøgning til EUDP projekt nr. 64014-0113 \n I projek<br>tet belyses decentrale energilagres rolle i den fremtidige <br>energiforsyning. Formålet er at finde en mere effektiv inte<br>gration af vedvarende energi (økonomisk) og at besvare spør<br>gsmålet \"hvordan kan distribuerede energilagre bidrage til <br>integrationen af vedvarende energi i fremtidens energisyste<br>m” \n ",
           2014,
           "Smart Grid og systemer",
           "PlanEnergi",
           "Ingen data"
          ],
          [
           "Fremtidsstrategier for mindre fjernvarmesystemer - Fase 1 \n Projektets formål er at ud<br>vikle fremtidssikre investeringsstrategier som integrerer varmeproduktion, distributio<br>n og slutbrugere\npå en ny holistisk fremgangsmåde. Dette vil medføre nye udvikling af <br>nye koncepter og produkter, som demonstreres i den efterfølgende fase 2. Overordnet se<br>t, vil projektet føre til øget energieffektivitet i fjernvarmesystemer og reducere fje<br>rnvarmepriserne for små og store tjernvarmesystemer, imens fejlinvesteringer undgås. \n<br> ",
           2014,
           "Energieffektivitet",
           "Teknologisk Institut",
           "Ingen data"
          ],
          [
           "ADDpower - Next Generation Power Supply \n <br>20 kW RMFC platform med forhøjet konkurren<br>cedygtighed ved højere power krav i trucks<br> og større maskiners APU (Auxiliary Power <br>Unit - Generator) kræver det en kost effek<br>tiv, kompakt og energi effektiv løsning. \n<br> ",
           2014,
           "Brint og brændselsceller",
           "SERENERGY A/S",
           "Ingen data"
          ],
          [
           "Lokalt Energi Lager \n Projektet \"Lokalt Energi Lager\" vil udv<br>ikle en lokal el lager løsning baseret på et nyudviklet elekt<br>ronisk effektomsætnings og -kontrol koncept og kommercielle b<br>atterier, som vil tillade højere produktion af net tilsluttet<br> el lokalt. Brugeren får fuld udnyttelse af egen el produktio<br>n og el nettets lav-volts radialer stabiliseres samtidigt. \n ",
           2014,
           "Smart Grid og systemer",
           "Eniig a.m.b.a.",
           "Ingen data"
          ],
          [
           "EnergyLab Nordhavn - nye energiinfrastrukturer i byer \n Formålet med projek<br>tet var at udvikle nye metoder og løsninger til design og dimensionering af<br> fremtidens omkostningseffektive samtænkte energisystem (el/termisk/transpo<br>rt). Det skulle baseres på Københavns Nordhavn som et globalt synligt energ<br>ilaboratorium. Projektet inkluderede udvikling og eksperimenter med nye for<br>retningsmodeller, smart energy-teknologier og intelligente driftsløsninger.<br> \n ",
           2014,
           "Smart Grid og systemer",
           "Danmarks Tekniske Universitet (DTU)",
           "Ingen data"
          ],
          [
           "HyFlexDrive - Fleksibelt Brintbaseret Brændselscellesystem til Trucks<br> \n HyFlexDrive projektet fokuserer på næste generations højeffektive,<br> pålidelige og prismæssigt konkurrencedygtige brændselscellesystem ti<br>l gaffeltrucks og quthavnstrækkere (intern transport) Formålet med Hy<br>FIexDrive projektet er at reducere produktomkostningerne med 20% og l<br>øse de identificerede udfordriner vedrørende formfaktor og robusthed.<br> \n ",
           2014,
           "Brint og brændselsceller",
           "Ballard Europe",
           "Ingen data"
          ],
          [
           "Solenergi i byplanlægningen & danske kommuner \n 'IEA SHC Task 51:<br> Solar Energy in Urban Planning'skal udvikle strategier, metoder,<br> værktøjer og vise gode eksempler for at facilitere en øget anven<br>delse af solenergi i byområder. Som del af det danske arbejde i T<br>51 ønskes etableret et netværk af danske kommuner indenfor byplan<br>lægning og tilknyttet et igangværende dansk byplanprojekt som cas<br>e. \n ",
           2014,
           "Sol",
           "Solar City Copenhagen",
           "Ingen data"
          ],
          [
           "System ydelser fra vedvarende energisystemer \n RePlan proje<br>ktet er frontløber for integrationen af store andele af ved<br>varende energi i det Danske elsystem. Det nye i RePlan best<br>år i at undersøge og styre leveringen af systemydelser fra <br>vind- og solceller- kraftværker og muligheden for at koordi<br>nere deres udbud af system ydelser til system operatøren. \n<br> ",
           2015,
           "Vind",
           "Danmarks Tekniske Universitet (DTU)",
           "Ingen data"
          ],
          [
           "BEST PATHS for Denmark \n BEST PATHS for Denmark skal <br>evaluere forskning i BEST PATHS EU projektets impact <br>assessment aktiviteter ud fra en dansk sammenhæng. Ve<br>d at opstille KPI'er for demonstration integreres glo<br>bal assessments for fremtidig anvendelse af lovende r<br>esultater i både det pan-europæiske og danske netværk<br>. \n ",
           2017,
           "Smart Grid og systemer",
           "Danmarks Tekniske Universitet (DTU)",
           "Ingen data"
          ],
          [
           "Deltagelse i IE-HEV standardiseringsaktiviteter \n Deltagelse i IE-<br>HEV (International Energy Assosiation - Hybrid Electrical Vehicles<br>) standardiseringsaktiviteter. IE-HEV task 26 drej er sig om induk<br>tiv opladning i elbiler. Målet er en fælles standard. Task 28 drej<br>er sig om V2X, men ellers samme som task 26. Arbejdet vil bl.a. fo<br>rgå i Vancouver i form at 2 årlige møder frem til sommeren 2017 \n ",
           2014,
           "Energieffektivitet",
           "Danmarks Tekniske Universitet (DTU)",
           "Ingen data"
          ],
          [
           "10 MW tryksat Entrained Flow Forgasning \n Formålet med dette p<br>rojekt er at udvikle og demonstrere en 10 MW tryksat entrained<br> flow forgasningsteknologi, som kan udnytte Iavkvalitetsbiomas<br>ser i energisektoren på en effektiv og fleksibel måde. Denne a<br>nsøgning er første fase af projektet, hvor fokus er på den ind<br>ledende engineering og identifikation af potentielle stopklods<br>er \n ",
           2014,
           "Bio og affald",
           "TK Energy",
           "Ingen data"
          ],
          [
           "Udstødsventil til høje temperaturer i to-takts skibsmotor<br>er \n I projektet udvikles en  forbedret udstødsventil til<br> store dieselmotorer. Den nye ventil kan tolerere højere <br>udstødsgas-temperaturer, hvilket medfører en højere effek<br>tivitet for Waste Heat Recovery Systems, længere levetid <br>og en bedre drift med alternative brændsler såsom naturga<br>s. \n ",
           2014,
           "Energieffektivitet",
           "MAN Diesel & Turbo",
           "Ingen data"
          ],
          [
           "CROSSROADS – en unik højpålidelig nødstrømforsyning \n Projekt<br>et skal udvikle et højpålideligt nødstrømsanlæg til fibernetv<br>ærk, mobilnetværk og jernbanesystemer, hvor der anvendes bræn<br>dselsceller til backup forsyningen og hvor den samlede system<br>løsning udviser et antal væsentlige og unikke kundefordele i <br>tillæg til de generiske fordele ved brændselscelleteknologien<br> \n ",
           2014,
           "Brint og brændselsceller",
           "LEANECO A/S",
           "Ingen data"
          ],
          [
           "Energieffektiv opvarmning af elbiler for ekstra rækkevidde \n Elbiler<br> er afgørende for en fossilfri transportsektor, men købere tøver pga<br>. bekymring om rækkevidde og komfort- især om vinteren, hvor kabineo<br>pvarmning dræner batteriet og reducerer rækkevidden op til 50%. Alpc<br>on, AAU og Insero E-Mobility vil udvikle et supplement til elbiler i<br> kolde egne - en effektiv kabineopvarmer som er uafhængig af batteri<br>et \n ",
           2014,
           "Energieffektivitet",
           "ALPCON A/S",
           "Ingen data"
          ],
          [
           "Rensningsanlæg som energileverandør \n Renseanlæg k<br>an blive energiproducerende enheder, der leverer e<br>l til en konkurrencedygtig pris. EnviDan og Per Aa<br>rsleff vil bygge denne type anlæg i Danmark og int<br>ernationalt. Målet med dette projekt er at bygge e<br>t demonstrationsanlæg hos demo-værten, Aarhus Vand<br>. \n ",
           2014,
           "Energieffektivitet",
           "Aarhus Vand A/S",
           "Ingen data"
          ],
          [
           "HyBoost »Mere brint optankning for mindre« \n HyBoost proje<br>ktet skal øge kapaciteten og reducere omkostninger for bri<br>nt tankstationer. Nyt design for kritiske komponenter skal<br> udvikles og avanceret materialevidenskab appliceres for a<br>t muliggøre øget performance. Forsatte F&U og kommercialis<br>erings bestræbelser skal ligeledes planlægges og sikres. \n<br> ",
           2014,
           "Brint og brændselsceller",
           "NEL Hydrogen",
           "Ingen data"
          ],
          [
           "Verdens mindste, letteste og mest effektive oplader \n Med udgangsp<br>unkt i en patenteret løsning fra Nordic Power Converters og DTU El<br>ektros IC-ekspertise vil partnerne udvikle en oplader til laptops,<br> tablets og telefoner mv., der er 80% mindre, 50% billigere og 10%<br> mere effektiv end normale strømforsyninger. Projektets målsætning<br> er, at kunne demonstrere en sådan oplader til førende producenter<br>. \n ",
           2014,
           "Energieffektivitet",
           "Nordic Power Converters (NPC Tech Aps)",
           "Ingen data"
          ],
          [
           "Partnerskabet Smart Energy Networks - forskning, udvikling, demonstrati<br>on \n Det offentligt-private partnerskab Smart Energy Networks ønsker at<br> understøtte de energipolitiske mål samt gode og bæredygtige vækstmulig<br>heder for dansk erhvervsliv. En optimal udnyttelse af ressourcerne skal<br> opnås via strategisk planlægning for forskning i samt udvikling og dem<br>onstration af fremtidens integrerede og intelligente energisystemer. \n ",
           2013,
           "Smart Grid og systemer",
           "Danmarks Tekniske Universitet (DTU)",
           "Ingen data"
          ],
          [
           "Forankringsløsninger for store bølgekraftanlæg \n P<br>rojektet formål er at designe, teste og udvikle ko<br>steffektive forankringsløsninger for store, flyden<br>de, løst forankrede bølgekraftanlæg, samt at opbyg<br>ge nationale kompetencer inden for design og model<br>lering af forankringssystemer for bølgekraftanlæg.<br> \n ",
           2014,
           "Bølge",
           "Aalborg Universitet (Fredrik Bajers Vej)",
           "Ingen data"
          ],
          [
           "Optimalt samspil mellem solcelleanlæg, solvarme, varmepumper, og energ<br>ilagring. \n Projektets formål er at udvikle og demonstrere en styrings<br>strategi og en internetbaseret styring til optimalt samspil mellem sol<br>fangere, solceller, energilagring, varmepumpe med varmeoptag fra jords<br>langer eller udeluften, samt husets øvrige installationer, med henblik<br> på god brugerøkonomi, høj selvforsyning og samspil med smart-grid. \n ",
           2014,
           "Sol",
           "Ekolab",
           "Ingen data"
          ],
          [
           "Indoor Climate System i skolebygninger \n Formålet er at designe o<br>g afprøve nye sammenhængende indeklima- og energistyringssystemer<br> til brug i skoler. Projektet tager udgangspunkt i at udvikle nye<br> funktionskrav og tilpassede driftsstrategier, som skaber behov f<br>or at designe nye, sammenhængende installationsinfrastruktur og s<br>tyringssystemer - kombineret i en samlet, integreret designmodel.<br> \n ",
           2014,
           "Energieffektivitet",
           "Gate 21",
           "Ingen data"
          ],
          [
           "Store elvarmepumper til fjernvarme (SVAF) \n Projektets formål er a<br>fprøvning og optimering af store el-drevne varmepumper (ca. 5 MJ/s<br>) der bruger naturlige kølemidler, samt test af anvendelse af både<br> høj- og lavtemperatur varmekilder i form af hhv. geotermi og hav-<br> og/eller spildevand. På sigt med henblik på opskalering til  >75 <br>MJ/s mhp. indpasning af vindkraft og grøn fjernvarmeproduktion. \n ",
           2014,
           "Energieffektivitet",
           "HOFOR A/S",
           "Ingen data"
          ],
          [
           "Multi-level mellemspændingskonverter \n Projektet ” Multi-level<br> mellemspændingskonverter” er et udviklings-og demonstrationsp<br>rojekt, som ved at forslå et nyt konverter-design har til form<br>ål at optimere en af de vigtigste delsystemer i en vindmølle. <br>Projektet er et samarbejde mellem forskning og industri og vil<br> øge skabelsen af både udviklings- og produktionsjob i sektore<br>n. \n ",
           2014,
           "Vind",
           "PowerCon",
           "Ingen data"
          ],
          [
           "FlexGas – Fleksibelt energiforbrug med elpatron i villagaskedel \n Må<br>let I projektet er at udvikle, teste og demonstrere en elpatronenhed<br> til montering på eksisterende villainstallationer med henblik på fl<br>eksibelt energiforbrug ift. Elsystemet.\nUd fra analyse af potentiale<br> og økonomi ved løsningen for brugeren og samfundet, udvikles og tes<br>tes ligeledes en model, der skal fremme implementering i markedet. \n<br> ",
           2014,
           "Energieffektivitet",
           "DANSK GASTEKNISK CENTER A/S",
           "Ingen data"
          ],
          [
           "Unik indløbsstratifier \n En banebrydende ny teknologi til term<br>isk lagdeling af solvarmetanker er blevet opfundet i december <br>2013. Efter blot få prototyper har teknologien vist sig at til<br>byde en konkurrencedygtig energieffektivitet ved sammenlignet <br>med de bedste teknologier på markedet. Projektet sigter med at<br> udvikle og demonstrerer denne unikke teknologi til markedet. <br>\n ",
           2014,
           "Sol",
           "EyeCular Technologies Aps",
           "Ingen data"
          ],
          [
           "Udvikling og afprøvning af Stirlingmotor til flis \n Udvikle og demo<br>nstrere et simpelt forbrændingsanlæg til den DTU-udviklede Stirling<br>-motor, samt løse konkrete, kendte problemstillinger vedr. tætninge<br>r og automatisk smøring, og gennem måneders kontinuert drift dokume<br>ntere en stabil og problemfri drift. Endvidere at udvikle og afprøv<br>e en én-cylindret Stirling-motor med en elektrisk effekt på 10 kW. <br>\n ",
           2014,
           "Bio og affald",
           "Maskinfabrikken REKA",
           "Ingen data"
          ],
          [
           "Hybrid-køretøj baseret på biobrændsel til lufthavnsoperatione<br>r \n Formålet er at udvikle en hybrid power pack til arbejdskø<br>rsel i Københavns Lufthavne, der dels forbedrer energieffekti<br>viteten og dels reducerer udledningen af ultrafine partikler.<br> Løsningen består af en brændselscelle og et batteri, og der <br>anvendes biobrændsel. Dette udgør en kosteffektiv løsning. \n ",
           2014,
           "Energieffektivitet",
           "Københavns Lufthavne",
           "Ingen data"
          ],
          [
           "Supplemental Power Generation \n Med en Introduktion af en strø<br>m generator produkt baseret på brændselsceller og methanol søg<br>es det at erstatte Diesel generatorer til telekommunikations m<br>arked i regioner med ingen eller ringe strømforsyning. Løsning<br>en vil reducere CO2 udledning samt effektivisere total økonomi<br>en med bedre konverterings effektivitet og billigere brændstof<br>. \n ",
           2014,
           "Brint og brændselsceller",
           "SERENERGY A/S",
           "Ingen data"
          ],
          [
           "Energilagring i aluminiums faseovergang \n Dette pro<br>jekt har til formål at udføre en række eksperimente<br>lle studier for at afdække mulighederne ved anvende<br>lse af en ny teknologi til energilagring. Den anven<br>dte teknologi er baseret på oplagring af varme ved <br>en konstant høj temperatur i aluminiums faseskift. <br>\n ",
           2014,
           "Smart Grid og systemer",
           "Teknologisk Institut",
           "Ingen data"
          ],
          [
           "Forbedring synergi af samudrådningproces \n Hovedformål<br>et med dette projekt er at etablere de optimale drift <br>kriterier for høj effektivitet og stabilitet af samudr<br>ådningprocess. Optimeringen af substrat blanding og fo<br>dringsstrategier og drift mønstre vil forbedre synergi<br>en, og dermed øge den proces effektivitet og stabilite<br>t. \n ",
           2014,
           "Bio og affald",
           "Danmarks Tekniske Universitet (DTU)",
           "Ingen data"
          ],
          [
           "Udvikling og den fortsatte udvikling af PTO \n Projektet i<br>ndgår i udviklingen af en tradition for samarbejde omkrin<br>g udviklingen af bølgeenergi, her, via gennemførelse af e<br>t eksemplarisk udviklings forløb. Projektet indeholder ud<br>viklingen af small scale PTO test bench, og skalerbar Pow<br>er Take-Off med evne til levering af jævn el-produktion. <br>\n ",
           2014,
           "Bølge",
           "Waveenergyfyn v/ Henning Pilgaard",
           "Ingen data"
          ],
          [
           "IDE4L-DK Top-up \n IDE4L projektet vil define, udvikle og <br>demonstrere hele systemet af automationssystemer, IT-syst<br>emer og applikationer til drift af aktive distributionsne<br>t. IDE4L-DK Top-Up projektet vil co-finansiere forsknings<br>arbejde for real-tids demonstration af automations koncep<br>ter og optimal håndtering af spænding og overbelastning. <br>\n ",
           2014,
           "Smart Grid og systemer",
           "Danmarks Tekniske Universitet (DTU)",
           "Ingen data"
          ],
          [
           "Digital Hydraulic Power Take Off for Wave <br>Energy \n Det er muligt at reducere prisen <br>pr kWh fra bølgeenergimaskiner ved anvende<br>lse af digital hydraulik. Projektet har ti<br>l hensigt at løse den største tekniske for<br>hindring for at bølgeenergi bliver rentabe<br>l. \n ",
           2014,
           "Bølge",
           "Aalborg Universitet (Fredrik Bajers Vej)",
           "Ingen data"
          ],
          [
           "Application of Synchronous Condensers \n En stigende mængde ef<br>fektelektronik baserede enheder i elforsyningsnettet førertil<br> beskyttelses- og kontrolproblemer under forstyrrelser. En lø<br>sning er at installere roterende synkronkompensatorer, som un<br>der forstyrrelser udviser samme fordele som synkrongeneratore<br>r og dermed afhjælper beskyttelses- og kontrolproblemerne. \n ",
           2014,
           "Smart Grid og systemer",
           "Danmarks Tekniske Universitet (DTU)",
           "Ingen data"
          ],
          [
           "SURE! Bæredygtig nordisk energirenovering \n Sure! Bæredygtig nordisk energirenoveri<br>ng er et fælles nordisk projekt med fokus på at optimere energiforbruget og styrke <br>en bæredygtig livsstil for beboere i boligområder med et renoveringsbehov - efffekt<br>ivt og til lav pris. Dette sker gennem teknologier til diagnosticering af energieff<br>ektivitet og optimering af opvarmning og indeklima i eksisterende bygninger, supple<br>ret med bruger-platforme designet til at opnå en bæredygtig og energieffektiv adfær<br>d. \n ",
           2013,
           "Energieffektivitet",
           "Professionshøjskolen VIA University College",
           "Ingen data"
          ],
          [
           "Fleksibel, energioptimeret ammoniak varmepumpe med split kondensator \n<br> Formålet med dette projekt er at forbedre ammoniak varmepumpers effek<br>tivitet med op til 30% ved en ny varmeveksler teknologi, hvor kondensa<br>toren er delt. Det giver også mulighed for at levere en del at det opv<br>armede vand ved et højere temperaturniveau, som er en fordel ved mange<br> typer af anvendelser. Systemet kan generaliseres til andre kølemidler<br>. \n ",
           2013,
           "Energieffektivitet",
           "Teknologisk Institut",
           "Ingen data"
          ],
          [
           "Energi Effektiv Produktion af Tryksat Brint \n For<br>målet med projektet er at demonstrere energieffek<br>tiv fremstilling af tryksat brint ved hjælp af tr<br>yksatte fastoxidelektrolyseceller. Desuden unders<br>øges det tekno-økonomiske potentiale i fremstilli<br>ngsmetoden til stor-skala produktion af brint. \n ",
           2013,
           "Brint og brændselsceller",
           "Danmarks Tekniske Universitet (DTU)",
           "Ingen data"
          ],
          [
           "Højtrykskedel til store to-takt skibsmotorer \n Projek<br>tets formål er, at reducere CO2 udledningen fra store<br> skibe med op til 7%, gennem integrering af en ny ked<br>el-type. Virkningen af den nye kedel-type er en bedre<br> udnyttelse af motorens brændstof, idet der kan produ<br>ceres mere damp, og damp med et højere energiindhold.<br> \n ",
           2013,
           "Energieffektivitet",
           "MAN Diesel & Turbo",
           "Ingen data"
          ],
          [
           "Mikro-grid Teknologi, Forskning og Demonstration \n Projektet er <br>1 af 2 projekter, som EUDP støtter i samarbejde med kinesiske Mi<br>nistry of Science and Technology (MoST). Formålet med dette proj<br>ekt er at servicere og støtte innovative processer i firmaer og <br>forskningsprogrammer inden for det beskrevne teknologiske område<br> inden for to niveauer. 1. System niveau og 2. Komponent niveau.<br> \n ",
           2013,
           "Smart Grid og systemer",
           "Aalborg Universitet (Fredrik Bajers Vej)",
           "Ingen data"
          ],
          [
           "Tagkassette med solceller og indbygget ventilation \n Der mangler stadig prisgunstige bygningsintegrerede solcelleløsninger der samtidig arkitektonisk ikke skæmmer danske bygningers udseende. Målet er at udvikle ventilerede tagkassetter med indbygget solceller, som nemt kan tilpasses forskellige tagtyper (tegl, eternit, pap mm.). Den indbyggede ventilation sikrer højere virkningsgrad for solcellerne. \n De kommende år vil der komme en stor renoveringsbølge for at forbedre boligernes energiforbrug, so<br>m tegner sig for 40 % af det samlede energiforbrug i Danmark. En væsentlig del af dette energiforbrug kommer fra varmetab gennem tagfladen og der vil derfor ske mange tagrenoveringer de kommende år. \nDe sidste år har mange boligejere fået monteret solceller på deres tage grundet genstige tilskudsordninger. Det har arkitektonisk ikke altid resulteret i de bedste resultater, så derfor er der brug for nye løsninger, som kan integreres på en god måde i den danske boligmasse. \nMålet med dette projekt er<br> at udvikle prisgunstige bygningsintegrerede solcelleløsninger som kan tilpasses til forskellige tagtyper (tegl, pap, eternit mm.). Det skal ske gennem fleksible tagkassetter som med justerbare dimensioner og inddækninger kan tilpasses til alle tagtyper. \nTagkassetterne skal være præfabrikerede, isolerede, tætte for vand og kunne monteres hurtigt på eksisterende spær-konstruktioner. I tagkassetterne skal solceller indbygges på sådan vis at de flugter med den øvrige tagkonstruktion og derved ikke vi<br>rker som et fremmedelement på tagfladen. Ventilationsspalten rundt langs kanten mellem solcellepanel og tagkassette vil give panelerne en fin og ”let” afgrænsning, som igen vil øge den arkitektoniske værdi. I bilag er vist et eksempel på dette. \nDet mekaniske ventilerede hulrum under solcellerne vil kunne øge effektiviteten af solcellerne og energien til driften af ventilatoren skabes fra solcellepanelerne, så ingen eksterne kablinger er nødvendig. \nTagkassetten skal kunne bruges både til renoverin<br>g og nybyggeri. Andre varianter af tagkassetten kan på sigt indeholde andre elementer end solceller, for eksempel ovenlys, solfangere eller energiabsorbere til varmepumper. Hermed vil man have et arkitektonisk tiltalende og sammentænkt byggeklodssystem til tagrenovering. \nPotentialet er meget stort. Der findes over 2,4 mio. boliger i Danmark og hvis disse har 100 m2 tag, giver det det 240 mio. m2 tagflader. Hvis blot en promille skulle have anlagt solceller er potentialet derfor 240.000 m2 solcelle<br>r. Et typisk 6kWp anlæg som der er opsat på hus landet over er på ca. 40 m2 hvilket giver potentiale for 600 mio. kr. i samlet investering \nMed den hurtige og billige montageløsning, sikkerhed for tæt konstruktion og arkitektonisk pæne løsninger får en VE-løsning, der giver løbende afkast i form af energikroner samt en heltænkt løsning til huset. \nHvis muligt vil tagkassetten blive opbygget i glasfibermaterialer genbrugt fra gamle vindmøllevinder hvilket giver en god bæredygtig vinkel på projektet.",
           2013,
           "Sol",
           "Illumino",
           "Ingen data"
          ],
          [
           "ODIN-Vind-dekommissionering af havvindmøller \n ODIN-Vind vil udvikle og demonstrere et management system til dekommissionering af havvindmøller. Software systemet vil gøre det muligt for interessenter at reducere risiko, omkostninger og tidforbrug ved dekommissionering og samtidig minime<br>re miljøpåvirkningen ved optimal affaldshåndtering og genbrug af delkomponenternes med restlevetid. \n ODIN-Vind-projektet har til formål at etablere et software-system til styring af den fulde dekommissioneringsproces af havvindmøller. ODIN-Vind vil omfatte værktøjer til estimering af de<br>n resterende levetid for havvindmøllekomponenterne der kan vurdere potentialet i genbrug af dele af havvindmøllekomponenterne på andre lokaliteter eller til andre formål. \nSoftwaren udvikles gennem syv work packages (WP):\nWP1: Administration\nWP2: Determination of the decommisioning softw<br>are model\nWP3: Data administration and “Good practices”\nWP4: Approaches and Tools for estimating remaining lifetime of wind turbine components\nWP5: Strategies to Decommissioning process and ID of KPI´s \nWP6: Software programming and database update\nWP7: Demonstration of ODIN-Wind on Horn<br>s Rev 1 \nEfter hver WP udarbejdes en rapport over det udførte arbejde og endelig skal de samlede resultater præsenteres til interessenter gennem artikler, konferencer etc. \nODIN-Vind vil indeholde en generel metode til dekommissionering, hvor hele processen fra planlægning til affaldshån<br>dtering vil være inkluderet. ODIN vind vil indsamle tilgængeligt data fra alle udførte projekter for at, opretholde en database med opdateret prisdata og state-of-the-art teknologier.\nHensigten er at udvikle et management system, som guider bruger gennem hele dekommissioneringsprocessen.",
           2013,
           "Vind",
           "NIRAS A/S",
           "Ingen data"
          ],
          [
           "FUD Energieffektiv transport: Avancerede komponenter til elektro mobilitet \n Dette projekt vil udvikle nye power elektroniske systemer til storskala lithium-svovl-batterier, der direkte er rettet mod markedet for elektromobilitet. Lithium-svovl batterier har både større energitæthed, og er væsentlig<br>t mere sikre end traditionelle lithium-ion batterier, og desuden integreres batteristyring, inverter, lader og grid-filter i en enhed for at reducere vægt og omkostninger. \n Elbiler er for dyre sammenlignet med køretøjer med fossile brændstoffer, og forbrugerne er tilbageholdende med at investere i <br>EV teknologi på grund af sikkerhedsmæssige bekymringer og den begrænsede kørselsrækkevidde. Alle disse tre bekymringer bliver behandlet af forskning og udvikling udført i dette projekt og efterfølgende demonstreret.\nKonsortiet vil gennemføre forskning i Lithium Svovl batterier (Li-S), som har op til<br> 5 gange højere teoretisk specifik energi end traditionelle lithium-ion batterier. Disse celler har også en 100% tilgængelig Depth-of-Discharge og kan ikke blive beskadiget af over-ladning, hvilket gør Li-S-celler meget mere sikre end de nuværende lithium-ion-batterier.\nKonsortiet vil også sammensæt<br>te effektelektroniske systemer til en enkelt enhed med\nhenblik på at reducere omkostningerne, størrelse og vægt. Dette omfatter batteri management system, inverter, oplader og gridfilter.\nProjektet vil også udvikle aktiv balancering i BMS med henblik på at øge afbalanceringshastigheden, og dermed ti<br>llade anvendelsen af ringere celler, ældre celler eller udskifte enkelte celler i et batteri og derved udvide den effektive udnyttelse af et batteri og reducere levetiden omkostningerne.\nMålet er, at Li-S-celler med de udviklede BMS kan påvises i demonstrationsfasen af projektet på et arbejdskøretøj<br>.",
           2013,
           "Energieffektivitet",
           "Lithium Balance A/S",
           "Ingen data"
          ],
          [
           "Brintproduktion baseret på induktiv opvarmning \n Induktionsopvarmet<br> dampreformering af metan har potentiale til at åbne en ny vej til <br>billig brintproduktion. Dette projekt vil give bevis for konceptet <br>og muliggøre videre kommerciel udvikling. \nInduktionsopvarmning gør<br> det muligt at afsætte energien inden i katalysatoren, hvor der er <br>behov for den, hvilket er en stor fordel ved endoterme reaktioner. <br>\n ",
           2013,
           "Brint og brændselsceller",
           "HALDOR TOPSØE A/S",
           "Ingen data"
          ],
          [
           "Solvarme og energiforsyningens samfundsøkonomi \n I dette projekt a<br>nalyseres solvarmens rolle i fremtidens vedvarende og intelligente<br> energisystemer. Formålet er at udvikle strategier, tekniske løsni<br>nger og værktøjer på forskellige niveauer fra bygningsniveau til b<br>yområder ud fra et samfundsøkonomisk synspunkt. Projektet skal vær<br>e med til at udbrede best practise og sikre dansk eksportfremme. \n<br> ",
           2013,
           "Sol",
           "Aalborg Universitet (Fredrik Bajers Vej)",
           "Ingen data"
          ],
          [
           "Kompakt, Intelligent, Kraftfuld Elektrisk Drivlinje til elektris<br>ke køretøjer \n CIPED projektet vil udvikle en hjulmonteret drivl<br>inje til elektriske køretøjer med en unik lav udæmpet masse og k<br>raft/vægt forhold. Løsningen vil endvidere være meget energieffe<br>ktiv og producere yderligere energi fra støddæmperne, hvilket gi<br>ve en forøget rækkevidde af de køretøjer, hvorpå det monteres. \n<br> ",
           2013,
           "Energieffektivitet",
           "ECOMOVE ApS",
           "Ingen data"
          ],
          [
           "Analyser for kommercialisering af brintteknologier \n Projektets formål er a<br>t analysere og redegøre for, hvor der er behov for at fremme yderligere bri<br>ntteknologisk udvikling, så brintteknologierne kan integreres i det danske <br>energisystem. Analysen vil ske på basis af modelberegninger, hvor kritiske <br>teknologiske og økonomiske flaskehalse for brintteknologierne vil blive ide<br>ntificeret og betydende rammevilkår og barrierer vil blive identificeret. \n<br> ",
           2013,
           "Brint og brændselsceller",
           "Partnerskab for brint og brændselsceller",
           "Ingen data"
          ],
          [
           "Demonstration af REnescience fuldskala anlæg \n Formålet med projektet er at demonstrerer REnescience teknologien i fulskala som en integreret del af affaldssystemet i kommunerne Vejle, Kolding, Fredericia og Middelfart, for der igennem at synligøre teknolo<br>giens kommercielle modenhed \n Formålet med projektet er at demonstrerer REnescience teknologiens kommercielle modenhed  som fulskala anlæg og som en integreret del af det samlede affaldshåndteringssystem for dagrenovation i kommunerne Kolding, Fredericia ,<br> Middelfart og Vejle.\n\nProjektet er opdelt i 2 projektfaser med tilhørende og arbejdspakker (WP), hvoraf WP 1 til 4 skal afdække de endelige leveringsgrænser og projektet rentabilitet. Hver projektfase afsluttes med en stop/go-beslutning om opstart of næst<br>e projektfase.\n\nBaseret på resultaterne i WP 1 & 2, udarbejdes der under WP3, det endelig anlægskoncept med et foreløbigt anlægsbudget. Anlægsbudgettet indgår som basis for den foreløbige business case. Under WP3 udarbejdes yderlig den endelige samarbejdsa<br>ftale og forretningsmodel mellem projektparterne.\n\nResultaterne fra WP 1 til 3 vil danne beslutningsgrundlaget for en  stop/go beslutning omkring fortsættelse til projektfase 2 (WP4).\n\nWP 4 indeholder detailed design på REnescienceanlægget og de tilhørende<br> hjælpeanlæg. Der udarbejdes et endelig anlægsbudget med tilhørende projekttidsplan baseret på tilbud fra forskellige leverandører. Business casen opdateres og resultatet herfra vil danne grundlag for  investeringsbeslutningen (FID) på etablering af anlægg<br>et.",
           2013,
           "Bio og affald",
           "Ørsted A/S",
           "Ingen data"
          ],
          [
           "Formidling af forskningsresul<br>tater inden for bioenergi, br<br>int og – brændselsceller \n Pr<br>ojektet vil formidle forsknin<br>gsresultater inden for bioene<br>rgi, brint og brændselsceller<br> \n ",
           2013,
           "Andet",
           "BioPress",
           "Ingen data"
          ],
          [
           "Test af højtryks PEM elektrolyse ved brint tankstation \n HighPEM projektet skal udvikle og test en højtryks PEM eletrolyse ved en brint tankstation i Danmark. Baseret på projektet skal en F&U Roadmap for PEM elektrolyse til HRS udvikles og de første analyser skal foretages af <br>potentialet for brug af PEM elektrolyse til indfødning af brint i det danske naturgas net. \n HighPEM projektet skal udvikle og test en højtryks PEM eletrolyse ved en brint tankstation i Danmark, og udarbejde en F&U Roadmap for PEM elektrolyse til HRS og analysere potentialet f<br>or indfødning af brint i det danske naturgas net. \n\nPEM elektrolyse kan muliggøre et betydeligt højere afgangstryk, som kan reducere omkostninger til kompression ved tankstationen, reducere footprint og øge energieffektiviteten. \n\nHighPEM projektet vil blive et af meget få pro<br>jekter i verden, hvor der foretages field-test af 50bar PEM elektrolyse ved en brint tankstation i daglig drift. PEM elektrolyse som er tilgængelig på markedet, tilbyder typisk kun op til 30bar og højere tryk er primært kun blevet testet i laboratorier. \n\nHighPEM skal videreud<br>vikle eksisterende IRD PEM elektrolyse teknologi, som anvendes i μCHP markedet ved at udvikle de tekniske interfaces, som vil muliggøre installation og sammenkobling med en brint tankstation. Ligeledes skal design udvikles for et større og modulært elektrolyse anlæg som kan an<br>vendes på længere sigt. PEM elektrolyse anlægget skal installeres ved en brint tankstation i Danmark og testes for en 12 måneders periode. \n\nDanish Gasteknisk Center A/S (DGC) vil bidrage med ekspertise indenfor CE dokumentation og test samt foretage brint renhedstest og analy<br>ser.",
           2013,
           "Brint og brændselsceller",
           "NEL Hydrogen",
           "Ingen data"
          ],
          [
           "Grøn methanol infrastuktur (GMI) \n Projektets hovedformål er at udvikle og demonstrere en tankningsinfrastuktur, der sikrer at methanoldrevne køretøjer kan operere på en simpel, sikker og pålidelig måde. Resultatet vil give tankningsmulighed for køretøjer, der bliver udviklet i sideløbende projekter og planlagte demonstrationsaktiviteter. Endelig vil konceptet genbrug eksisterende infrastruktur til flydende drivmidler og derved spare store investeringer. \n Projektet ”Grøn methanol infrastruktur” har til formål at udvikl<br>e og demonstrere ny tankningsteknologi, der, sammen med et innovativt drivlinjekoncept baseret på methanol, vil muliggøre en transportsektor drevet af 100 % vedvarende energi. \nProjektets indhold er baseret på dansk forskning og kernekompetencer fra aktive, industrielle spillere, og de(n) færdige tankstationer vil bl.a. servicere en mindre flåde af QBEAK-køretøjer fra en dansk bilproducent, udviklet under projektet MECC.\nMarkedet for infrastruktur-projektet er dels de danske kommuner, hvoraf flere også skal være demovær<br>ter under projektforløbet, dels brugere af professionelle arbejdskøretøjer. Som eksempel på et sådan køretøj kan nævnes det brændselscelledrevne Ecomotion-køretøjer, som flere af de samme partnere i nuværende projekt var med til at udvikle i et tidligere projekt. \nOptankningskonceptet tilbyder operatører, samfund og slutbrugere en praktisk og økonomisk fordelagtig løsning, da konceptet både indebærer lavere investeringer og driftsomkostninger ift. Øvrige, alternative tankningskoncepter. Konceptet bygger nemlig på en vid<br>ereudvikling af eksisterende tankningsenheder til flydende brændstoffer. Projektet vil således tilbyde et bud på en enkel, pålidelig og billig infrastruktur, som indeholder innovativ teknologi, der bringer danske kompetencer på banen. \nTankningsløsningen er desuden endnu sikrere end de nuværende til benzin grundet methanolens lavere antændelsespunkt og et ”no spill” tankanlæg, som holder person-og miljømæssig risici på et absolut minimum. \nProjektet består af en række arbejdspakker, som vil blive gennemført i løbet af d<br>en toårige projektperiode med henblik på at udvikle forskellige methanol-tankstationer, stationære som mobile. Disse vil som nævnt bl.a. blive testet og demonstreret af forskellige kommuner. \nProjektet vil sikre et dansk konkurrencemæssig fordel inden for tankningsteknologi og demonstration, som styrker fundamentet for en nær fremtids køretøjer med alternative drivmidler såsom methanol. Desuden vil Danmark på en fornuftig og omkostningseffektiv måde nemmere kunne leve op til CO2-reduktionsforpligtigelse med en grøn meth<br>anol-infrastruktur. \nAlle resultater vil blive grundigt kommunikeret med hensyn til at nå de relevante fremtidige kundesegmenter, sikre politisk opbakning og opbygge generel tillid til de nye tankningsteknologier og methanol-drevende køretøjer. Således kan projektet være med til at bane vej for en fremtidig kommercialisering af tankningskoncepter i takt med at flere methanol-drevne køretøjer bliver udviklet. En strategiplan for en fremtidig udrulning af en methanol-infrastruktur i Danmark er derfor også en del af projek<br>tet.",
           2013,
           "Andet",
           "OK A.M.B.A.",
           "Ingen data"
          ],
          [
           "Brintteknologier – positionering af danske interesser I opstart af Horizon 2020 \n I EU Kommissionens opstart af Horizon 2020 er det vigtigt, at danske interesser bliver repræsenteret optimalt i konkretisering af det nye Rammeprogram. <br>Dette skal ske via Partnerskabets deltagelse i relevante forberedende møder i Brussels. Partnerskabet vil deltage i/planlægge Europæiske netværksaktiviteter, workshops, dokumentudarbejdelse etc. \n Formålet med denne ansøgning er at si<br>kre at danske interesser varetages bedst muligt for brint og brændselscelleområdet under opstart af det kommende europæiske Rammeprogram, Horizon 2020 – planlagt til at forløbe fra 2014 til 2020. \nUnder opstart af Horizon 2020 er det <br>vigtigt, at danske interesser bliver repræsenteret optimalt i relation til konkretiseringen af det nye rammeprogram. Dette skal ske via Partnerskabets deltagelse i relevante forberedende møder i Brussels. Partnerskabet vil deltage i/p<br>lanlægge Europæiske netværksaktiviteter, workshops, udarbejdelse af dokumenter etc. \nPlaner, strategier og øvrige dokumenter under den nye FCH JU vil blive evalueret og kommenteret af danske interessenter for at fremme danske interess<br>er.\nIsær tysk-danske samarbejde planlægges forstærket, men der vil også blive lagt speciel vægt på at fremme samarbejdet med Frankrig og England. \nArbejdet under dette projekt planlægges påbegyndt midt 2013 og forløbe indtil midt 2014<br>.",
           2013,
           "Bio og affald",
           "Partnerskab for brint og brændselsceller",
           "Ingen data"
          ],
          [
           "Hybrid varmepumper til fjernvarme \n For at leve op til de politiske målsætninger om uafhængighed af fossile brændsler og støtte op omkring brugen af vedvarende energi, vil vi demonstrere hvorledes en elektrisk drevet varmepumpe kan integreres i fjernvarmesystemets måde at konvertere overskudsstrøm fra vindmøller til fjernvarme, som kan pumpes ud til forbrugerne. \n På den måde kan fjernvarmeværkern<br>e reducere brugen af naturgas og erstatte det med strøm fra vindmøller. Løgumkloster vil være ”vært” for denne installation. \nVi ønsker at anvende en såkaldt hybrid varmepumpe, som formodes at være mere energieffektiv end en traditionel kompressionsvarmepumpe, og som er i stand til at levere høj temperatur vand, der kan anvendes direkte i fjernvarmenettet. Samtidig leverer varmepumpen afkølet vand<br>, som kan bruges i andre varmeproducerende enheder, for eksempel værkedets solfanganlæg. Derved øges den termiske virkningsgrad og den årlige anvendelsestid for disse øges. \nI dette projekt installeres varmepumpen parallelt med andre varmeproducerende enheder såsom gasmotor, gaskedel, solfangeranlæg og en absorptionsvarmepumpe drevet af hedtvand fra en træpillekedel. Værket vil altid bruge disse p<br>roduktionsenheder på den mest omkostningseffektive måde til at levere den nødvendige varme til forbrugerne. Det er således en væsentlig udfordring i dette projekt at lave et systemdesign, som er så fleksibelt, og således erstatter brugen af fossile brændsler og øger brugen af vedvarende energikilder. \nI projektet skal der installeres en 1320 kW hybrid varmepumpe i Løgumkloster Fjernvarmes central.<br> Hybrid varmepumpen installeres parallelt med værkets øvrige varmeproducerende enheder, såsom gasmotor gaskedel, solfangere og absorptionsvarmepumper. \nHybrid varmepumpen vil blive testet under et bredt temperaturområde, og  COP vil blive dokumenteret for hvert enkelt tilfælde. Varmepumpen skal være i stand til at operere med temperaturer fra 17 °C til 40 °C på fordampersiden og helt op til 85 °C <br>på kondensatorsiden. Afhængig af temperaturkonditioner forventes COP op til 4,5. \nProjektet er inddelt i 4 arbejds ”pakker”, a) detaljeret design, b) implementering, c) måleprogram og d) projektstyring. \nResultaterne fra projektet vil blive udbredt gennem relevante fagtidsskrifter, gennem seminarer og gennem IEE projektet SDH-plus, alt rettet mod fjernvarmeselskaber – og medarbejder i Danmark og E<br>U27.",
           2013,
           "Smart Grid og systemer",
           "Innoterm A/S",
           "Ingen data"
          ],
          [
           "Udvikling af lavtemperatur frostlager Generation B \n Projektet vil udvikle en generation B version der \n-\tikke er baseret på anvendelse af flydende nitrogen men eldrevet køling\n-\tsikrer at fugt/rim ikke skaber problemer for funktion og drift af anlægget\n-<br>\tenergieffektiv løsning\n-\tsikrer at komponenter, materialer, lejer og samlingsmetoder kan anvendes ved -80° C\n-\tsimplificerer og modner mekaniske konstruktioner\nder er gennemtestet \n Projektet videreudvikler og demonstrerer et nyt cryogen lager (-80° C) t<br>il et vækstmarked. Målgruppen og markedet for det nye cryogen lager er hospitaler, nationale serum institutter og større private medicinalvirksomheder globalt. Det nye koncept er baseret på en udvikling der startede i 1998 Via dialog med kunder globalt ku<br>nne konstateres, at der er et stigende behov for større, kompakte, sikre, automatiserede og energieffektive cryogen lagre. Disse kundebehov vil blive imødekommet i det nye anlæg, og forventes at være helt unik på markedet, såfremt det kommer på markedet i<br> løbet af 2-3 år. \nProjektet vil udvikle en generation B version der \n-\tikke er baseret på anvendelse af flydende nitrogen men eldrevet køling\n-\tsikrer at fugt/rim ikke skaber problemer for funktion og drift af anlægget\n-\tenergieffektiv løsning\n-\tsikrer a<br>t komponenter, materialer, lejer og samlingsmetoder kan anvendes ved -80° C\n-\tsimplificerer og modner mekaniske konstruktioner\n-\tder er gennemtestet \n\nProjektet indeholder\n- opdatering af systemet\n- design af kølesystemet\nTest af materialer ved lave tempe<br>ratur",
           2013,
           "Energieffektivitet",
           "HCP innovation ApS",
           "Ingen data"
          ],
          [
           "EUDP 13-l, optimering af grundvandsvarmepumper \n Elafgiften er re<br>duceret for elektricitet anvendt I varmepumper. Det forventes at <br>øge markedet for store varmepumper til fjernvarmeproduktion. Grun<br>dvandssystemet og integration i varmeproduktionsanlæg skal udvikl<br>es og standardiseres. PlanEnergi ønsker at gøre dette sammen med <br>Præstø Fjernvarme i et demonstrationsanlæg understøttet af GEO. \n<br> ",
           2013,
           "Energieffektivitet",
           "PlanEnergi",
           "Ingen data"
          ],
          [
           "Green Flex – Mobilisering af driftsflexibilitet i grøn energiproduktion \n Formålet med projekt Green Flex er at udvikle og demonstrere er software værktøj, FlexIQ, som kan støtte økonomisk optimal driftsplanlægning og styring af grøn energiproduktion, så der kan tilbydes øget fleksibilitet til varme- og elmarkederne. Værktøjet vil <br>lukke hullet mellem markedsbehovene og det uudnyttede potentiale i eksisterende anlæg. \n Projekt Green Flex vil udvikle og demonstrere en pilot version af et modelbaseret værktøj, kaldet FlexIQ, hos Sønderborg Fjernvarme. FlexIQ vil understøtte en samlet optimering af den daglige drift ved simulering af nøgletal og besvare spørgsmå<br>l som: \n-\tHvor meget driftsfleksibilitet kan vi i morgen tilbyde eksempelvis systemydelsesmarkedet? \n-\tHvordan udvides driftsfleksibiliteten når fjernvarmens fleksibilitet inddrages?\n-\tHvordan og hvorfor påvirkes brændselsomkostningerne ved øget fleksibilitet?\n-\tHvordan ændres anlæggets miljøpåvirkning?\n-\tHvordan påvirkes vedligeho<br>ldes omkostningerne i form af slid og levetidsforbrug?\n-\tHvilke fejltilstande eller performance-reduktioner kan inddrages?\nFlexIQ anvendes af forskellige typer abonnenter, som alle søger en mere optimal drift: \n-\tEn driftsmester, som overvåger og justerer mhp. Effektiv, sikker og optimal drift\n-\tEn lastplanlægning, som udføres manu<br>elt eller assisteret af et planlægningsværktøj \n-\tEt kontrolanlæg, som optimerer sætpunkter for delanlæg og delsystemer\n-\tEn opfølgning og rapportering af produktionsregnskab\nSlutproduktet vil indeholde adskillige værdibidrag for brugerne i form af optimeret markedsbud, minimerede drifts-og vedligeholdelses omkostninger. Den forven<br>tede tilbagebetalingstid for slutproduktet er mindre end et år. Markedspotentialet indenfor dansk kraftvarmeproduktion og indenfor udenlandske og relaterede industrier er blevet estimeret. Desuden vil potentialet øges i takt med udbredelse af multiprodukt anlæg, som udover el og fjernvarme producer biobrændsel, brint, fjernkøling, <br>mv.",
           2013,
           "Smart Grid og systemer",
           "Added Values",
           "Ingen data"
          ],
          [
           "AdAmmine – beholder genfyldning  og doseringsteknologi \n Pr<br>ojektet retter sig mod at færdigudvikle konceptet for genfy<br>ldning af ammoniakbeholdere til brug for reduktion i forure<br>ningen fra dieselkøretøjer, færdiggøre en ammoniakdoserings<br>enhed som er egnet til brug på køretøjer samt implementere <br>begge dele i det komplette system til montering på køretøje<br>r. \n ",
           2013,
           "Energieffektivitet",
           "AMMINEX A/S",
           "Ingen data"
          ],
          [
           "Varmegenvinding fra korrosive røggasser \n Varm røggas fra teglvær<br>kets ovn udgør en betydelig uudnyttet varmekilde, der kan anvende<br>s til opvarmning af tørrerierne, i ovnen eller som supplement til<br> fjernvarmenettet som erstatning af fossilt brændsel. Projektets <br>formål er at udvikle og demonstrere omkostningseffektiv røggasren<br>sning, der samtidig muliggør varmegenvinding fra korrosive gasser<br>. \n ",
           2013,
           "Energieffektivitet",
           "EnviScan A/S",
           "Ingen data"
          ],
          [
           "Livø - Further implementation of energy supply opt \n Formålet med projektet er at gennemføre en fuld implementering af en off-grid VE løsning på Livø. Et tidligere projekt har - bl.a. baseret på mængden af lokale energiressourcer på øen fra landbr<br>uget og skoven - identificeret biogas, solceller og eventuelt også mindre vindmøller som relevante VE løsninger på øen. \n Naturstyrelsen har i 2011 gennemført projektet \"Grøn Livø - et bæredygtigt kulturmiljø\". En væsentlig del af projektet bestod<br> i at undersøge, hvordan Livø, som ikke har noget elkabel til fastlandet, i videst muligt omfang kan blive forsynet med vedvarende energi.I forbindelse med projektet blev der i første omgang (Fase 1) peget på følgende energiløsninger til erstatnin<br>g for den nuværende forsyningsform med dieselgeneratorer: 1) Renovering/udskfitning af fjernvarmenet og elektricitetsnet, 2) Etablering af solcelleanlæg samt evt. små vindmøller på havnen, 3) Etablering af biogasanlæg (gårdanlæg), 4) Eftergang af <br>eksisterende træfyringskedel og 5) Udskiftning af dieselgeneratorer.I en senere fase (ikke en dle af denne ansøgning) er det tanken at gøre energiforsyningen endnu mere VE baseret, herunder også at se på muligheden i relation til færgetransporten <br>til/fra øen samt den interne transport på øen og landbrugsmaskinerne.Projektet vil med udgangspunkt i Livø bidrage til at finde egnede VE løsninger for småøer og andre isolerede samfund, hvor det er en særlig udfordring at integrere vedvarende ene<br>rgi.",
           2014,
           "Bio og affald",
           "Naturstyrelsen",
           "Ingen data"
          ],
          [
           "Energibesparelser via spændingsregulering \n Projektet vil udvikle og teste en Digital Voltage Control (DVC) og en 10/04 Voltage Optimisation Unit (10/4 VOU). DVC’en er en digital transformer, der skal sænke energiforbruget i private hjem med 6-20%. 10/04 VOU’en skal stabilisere forsyningsnettet og gøre det muligt for forsyningsselskaberne at overvåge, regulere og kontrollere spændingen i forsyningsnettet. \n Formålet med dette projekt er at udvikle og demonstrere to nye energieffektive enheder: DVCen (Digital\nVoltage Control) til private husholdninger, som m<br>uliggør en direkte el-besparelse på 6-20%, og 10/04\nVOUen (Voltage Optimisation Unit) som vil stabilisere el-nettet. DVC PSS Energy er allerede i markedet\nmed en løsning, der kan reducere el-forbruget i store bygninger med 5-35% ved at reducere spændingen\nog standby-forbruget. Disse systemer er solgt og installeret i lande med høj spænding, såsom Danmark,\nCypern og Italien, på kontrakter der garanterer el-besparelser for kunderne. Kort fortalt leverer elleverandører\nofte højere spændinger (op til 253V i Danmark) end nødvendigt for at dække kundernes behov,\n<br>som følge af knap kapacitet i el-nettet, og dette fører til et øget el-forbrug. Spændingsreduktion alene\nsparer op til 15% af el-forbruget, imens yderligere regulering af standby-forbruget i f.eks. kontorbygninger -\nudenfor kontortiden - dokumenterer en total el-besparelse på op til 35%. I dette projekt vil en DVC blive\nudviklet, som er i stand til at sænke spændingen og dermed reducere el-forbruget i de mere end 1 mio.\ndanske en-familie-huse, hvilket vil udgøre en betydelig forretning for PSS Energy. Endvidere vil politisk\nmotiverede mål, såsom reduceret a<br>fhængighed af fossile brændsler og reduceret CO2-udledning blive\nunderstøttet på meget effektiv vis. For el-leverandøren vil fordelene ved en DVC være: 1. Undgåede eller\nudskudte investeringer i infrastruktur 2. Aktiv overvågning og regulering af el-forbrug (modsat \"smart\nmetering\", som begrænses til overvågning) 3. Smart Grid parathed for alle en-familie-huse i\nforsyningsområdet. 10/04 VOU Solpanelers stigende popularitet hos husejere og muligheden for at levere\npanelernes overskydende produktion til el-nettet skaber store udfordringer for el-selskaberne. <br>For at den\noverskydende elektricitet kan sendes tilbage til el-nettet, skal denne elektricitet have en højere spænding\nend den, der i forvejen er i el-nettet. Resultatet bliver, at presset på hele netværket øges, hvilket øger\nspændingen og dermed energiforbruget hos alle el-nettets aftagere. Og en afledt effekt heraf bliver en\nreduceret levetid for husstandenes elektriske apparater. Endvidere sker det i nogle tilfælde, at elproduktionen\nfra solceller er højere end el-produktionen fra de traditionelle kraftværker. Når dette er\ntilfældet, kan el-leverandørern<br>e ikke kontrollere spændingen eller frekvensen i netværket, hvilket medfører\nustabil el-forsyning eller i værste fald strømsvigt. 10/04 VOUen kan integreres med Smart Grid og hjælpe\nmed at stabilisere el-nettets udsving og dernæst sikre stabilitet i el-forsyningen. Den giver el-selskaberne\nmulighed for at overvåge spændingsniveauet i el-nettet og gør dem i stand til at regulere spændingen og\nudbalancere transformerstationens tre faser, hvorved el-leverancen optimeres. Slutteligt giver den mulighed\nfor at kontrollere, og i nødstilfælde lukke af for, el-forbr<br>uget.",
           2012,
           "Energieffektivitet",
           "PSS ENERGY A/S",
           "Ingen data"
          ],
          [
           "SOFC Accelereret – Udvikling der fremskynder større demonstrationer \n Projektet vil udvikle og teste forbedrede keramiske brændselscelleprodukter (SOFC), så de bliver velegnede til brug i større demonstrationsprojekter. Projektet bidrager til at bringe teknologien væsentligt tættere på markedet. \n Fastoxidbrændselscelleteknologi (SOFC) til effektiv produktion af el og varme tiltrækker stadig større\nopmærksomhed fra energibranchen i Europa og Asien. Væsentlige SOFC egenskaber som skalerbar\nkraftv<br>arme produktion, høj el-virkningsgrad samt hurtig og kontrollerbar variation af el-produktionen gør det attraktivt at inkludere SOFC i et fremtidigt energiforsyningssystem, som skal integrere anvendelsen af\nbrændsler som naturgas med vind og solenergi. De høje forventninger til SOFC’s pålidelighed og den høje\nbrændstoffleksibilitet gør SOFC yderligere attraktivt for el-produktion i afsides egne og egne med ustabil\ncentral strømforsyning. En betydelig forsknings- og udviklingsindsats, både i Danm<br>ark og internationalt,\nhar fundet sted, og det er realistisk at forvente en markedsintroduktion i løbet af få år. Imidlertid mangler\nder fortsat vellykkede og mere omfattende demonstrationer af teknologien i en realistisk drift. Dette projekt\nvil udvikle forbedrede SOFC produkter så de bliver velegnede til brug i større demonstrationsprojekter. Den\nindustrielle partner, Topsoe Fuel Cell A/S (TOFC) producerer celler, stakke, stakmoduler og integrerede\nhotbox-moduler (Topsoe PowerCore). TOFC er ve<br>d at udvikle to produkter for stationære applikationer: En\n1kW PowerCore til mikro-kraftvarme (mCHP) og el-produktion i afsides egne, og et stakmodul til decentral\nel-produktion (DG) og kraftvarme. Formålet med dette projekt er at forbedre SOFC-celler, stakke, DG\nstakmoduler og PowerCores, og eftervise at de er klar til mere omfattende demonstrationer med hensyn til\nydeevne, robusthed, pålidelighed, levetid og pris. Projektet består af fire arbejdspakker, som omhandler\nudvikling og test af celle<br>r, stakke, DG stakmoduler og PowerCores med fokus på at opnå en pålidelig\nkvalitet, samt en arbejdspakke, der indsamler feedback fra andre demonstrationsprojekter og udfører\nyderligere eksterne verifikationstests. De forbedrede PowerCores og DG stakmoduler vil blive demonstreret\nsammen med TOFC’s system-integrator partnere udenfor dette projekt. Det kan f.eks. være i europæiske\nprojekter eller bilaterale samarbejder, især med SK i Korea. Hovedmålet med projektet er forbedrede\nmCHP PowerCores og <br>DG stakmoduler med en kvalitet og pålidelighed der er velegnet til mere omfattende\ndemonstrationer. Yderligere projektmål er at produkternes følsomhed over for udfordringende\ndriftsbetingelser skal være kendt og acceptabel. PowerCoren’s effektivitet skal være >66% og en\nPowerCore skal være testet mere end 10.000 timer. Fejlprocenten ved stakkene skal være maksimalt 5%,\nog vejen til kommercielle mål for produktionsudbytte og omkostninger skal være synlig. Et prækommercielt\nmål for omkostningerne <br>(",
           2012,
           "Brint og brændselsceller",
           "TOPSOE FUEL CELL A/S",
           "Ingen data"
          ],
          [
           "Compact Thermal Energy Storage \n Projektformålet er dansk deltagelse i IEA SHC Programme Task 42 projektet \"Compact Energy Storage:\nMaterial Development and System Integration 2. periode\". I projektet vurderes egnetheden af kompakte\nsæsonvarmelagre baseret på et stabilt underafkølende salthydrat til solvarmeanl<br>æg, som fuldstændigt kan\ndække det årlige varmebehov for bygninger. \n Projektet er det danske bidrag til 2. periode af det internationale IEA SHC Programme Task 42\nprojekt \"Compact Energy storage: Material Development and System Integration\". Der udarbejdes en\nworldwide oversigt over markedsførte kompakte sæson<br>smeltevarmelagre. Et sæsonvarmelager baseret på\nsalthydratet natriumacetat trihydrat med stabil underafkøling markedsføres af det tyske firma H.M.\nHeizkörper GmbH & Co. KG. Dette varmelager vil blive grundigt undersøgt ved hjælp af eksperimentelle og\nteoretiske undersøgelser. Et kompakt sæsonvarmelager baseret <br>på en saltvandsblanding bestående af\n58% natriumacetat og 42% vand vil blive udviklet i et samarbejde mellem Danmarks Tekniske Universitet,\nGraz University of Technology, Nilan A/S og Velux A/S i et EU støttet forskningsprojekt COMTES. De to\nvarmelagre vil blive sammenlignet. Med validerede simuleringsmodeller <br>gennemføres beregninger af\nydelsen af solvarmeanlæg med de to ovenfor nævnte sæsonvarmelagre. Ved hjælp af beregninger\nklarlægges det hvorledes udformningen af solvarmeanlægget og varmelageret påvirker anlægsstørrelsen,\nsom er nødvendig for at anlægget fuldstændig kan dække nye bygningers årlige varmebehov. På <br>basis af\nberegningerne og prisvurderinger for varmelagrene klarlægges det hvorledes varmelagrene bedst udformes.\nDesuden klarlægges egnetheden af solvarmeanlæg med de to sæsonvarmelagre. Det forventes at projektet\nkan dokumentere at sæsonvarmelagring er en mulighed og at sæsonvarmelagre er økonomisk attraktive.",
           2012,
           "Andet",
           "Danmarks Tekniske Universitet (DTU)",
           "Ingen data"
          ],
          [
           "Polymersolceller til selvforsynende produkter \n Projektets formål er, at kommercialisere polymersolceller til selvforsynende produkter. Mekoprint A/S og\nDTU Energikonvertering vil udvikle polymersolceller til et stadie, hvor deres unikke egenskaber kan\nanvendes i produkter som fx en selvforsynende trådløs sensor udformet som klistermærke. Dette stadie er\net skridt på vejen mod energiproduktion. \n Dette projekt sigter mod kommercialisering af polymersolceller og er den tredje fase af et EUDP-støtt<br>et\nforløb. Gennem de tidligere faser er den første kommercielle produktionslinje til polymersolceller etableret,\nog markedspotentialet er blevet undersøgt gennem produktion af demonstratorer. Formålet med dette\nprojekt er, at udvikle konkurrencedygtige polymersolceller til selvforsynende produkter. Dette kræver en\nmoduleffektivitet på 5%, en levetid på 5 år og en kostpris på under 2 kr. for en polymersolcelle på størrelse\nmed et kreditkort. De unikke egenskaber for polymersolceller, såsom fleksib<br>ilitet, lav vægt, uudtømmelige\norganiske materialer og formater, der nemt kan tilpasses vil gradvist åbne nye markeder. Denne udvikling\ner et skridt på vejen mod storskala energiproduktion. Polymersolceller er 3. generations solcelle teknologi\nbestående af printede lag af blæk (polymerer i et opløsningsmiddel). Teknologien har lovende udsigter til\nlavere omkostninger og har allerede kortere energitilbagebetalingstid (tid i brug før solcellen har genereret\nden mængde energi, der blev brugt i produ<br>ktionen af den) end nogen anden kendt solcelleteknologi, men\nhar endnu ikke vist sit fulde potentiale. I dette projekt vil Mekoprint arbejde sammen med en kommerciel\nblækleverandør og adskillige potentielle kunder for at sikre, at teknologien har tilstrækkelige\nkonkurrencefordele ved projektets afslutning. DTU Energikonvertering vil udvikle metoder, til pålideligt at\nforudbestemme levetiden af en polymersolcelle. Der bruges en væsentlig del af indsatsen i projektet på\naccelereret levetidstest, så<br>dan at ydelsen gennem hele solcellens levetid kan garanteres. Dette er ikke en\nsimpel opgave pga. den komplekse kemi, der er involveret, og det er i øjeblikket et meget aktivt\ninternationalt forskningsfelt. Dette område er centralt i samarbejdet mellem Mekoprint og DTU.\nKundedialog er central for at sikre kommercielle specifikationer og Mekoprint er i tæt kontakt med adskillige internationale kunder i forskellige markeder. Mekoprint vil promovere polymersolcellerne på\nmarkedet ved: \n- Demonstrato<br>rer der viser fordelene ved polymersolceller præsenteret på f.eks. messer \n- De etablerede salgskanaler ved Mekoprint \n- Nem online adgang til produktinformation og produktprøver for produktudviklere \n- Messer, konferencer, osv. Støtte til dette projekt muliggør, at polymersolcelleteknologien\nkan nå det modenhedsniveau, der er nødvendigt for en markedsintroduktion. \nGennem dette støttede projekt opnår Danmark en unik international position ved at have en industriel produktion af polymersolceller.",
           2012,
           "Sol",
           "MEKOPRINT A/S",
           "Ingen data"
          ],
          [
           "Biomassefyret mikrokraftvarmeanlæg \n Projektets formål er at udvikle et forretningsområde indenfor mindre bi<br>omassefyrede kraftvarmeanlæg. I projektet skal \net 100 kW anlæg demonstreres. Anlægget skal producere el til<br> markedspris. \n Projektets formål er at udvikle et forretningsområde indenfor mindre biomassefyrede kraftvar<br>meanlæg ved at\ndemonstrere driften af et 100 kW anlæg baseret på ORC-teknologi. Anlægget skal dokumentere\nel<br>produktion til markedspris og fremvise acceptabel driftsikkerhed. Kraftvarmeanlægget er en naturlig udvidels<br>e af Fausts produktområde, idet der p.t. produceres ca. 80 biomassefyrede varmtvandskedler årligt på fabrikk<br>en.",
           2012,
           "Bio og affald",
           "MASKINFABRIKKEN FAUST ApS",
           "Ingen data"
          ],
          [
           "Effektiv integration af vindkraft i fjernvarmesystemet \n Projektet vil sætte skub i anvendelsen af store varmepumper i fjernvarmesystemet. Projektet skal demonstrere og dokumentere potentialet i at integrere vedvarende energikilder vha. varmepumper.  Projektet skal demonstrere de tekniske, økonomiske og miljø<br>mæssige perspektiver  ved at anvende varmepumper i det fremtidige energisystem. Dette kan bidrage til at åbne markedet for danske leverandører. \n Elektriske varmepumper har et stort potentiale, hvis de annoncerede klimamålsætninger skal opnås. I kombination med fjernvarmesystemer kan afbrændingen af fossile b<br>rændsler erstattes med store mængder vedvarende energi. Fordi varmen kan produceres uafhængigt af det aktuelle behov, kan løsningen samtidig bidrage til stabilisering af el-nettet. Herved bliver det muligt at udnytte stadigt mere el fra fluktuerende produktion, efterhånden som der udbygges med vind- og solene<br>rgi. I modsætning til el-kedler kan varmepumper udnytte den høje energikvalitet i elektricitet, hvorved energiforbruget reduceres. Igennem projektet vil der blive installeret en varmepumpe på 1 MW (varmeeffekt) på Ans Kraftvarmeværk. Det forventes at varmepumpen kan opstilles tidligt i projektet, så der blive<br>r en længere periode til dokumentation og indsamling af driftserfaringer. Udover demonstration af tekniske og økonomiske forhold vil projektet også omhandle systemets klimamæssige betydning. Med de eksisterende energipriser forventes det ikke at der er en sammenhæng mellelm optimal driftsmønster for hhv. økon<br>omisk og miljømæssigt perspektiv. Dette forhold vil blive dokumenteret i projektet. Det forventes at resultaterne kan bidrage ved en fremtidig omlægning af afgiftsystemet eller andre adfærdsregulerende virkemidler, som vil sikre en energioptimal dimensionering og driftsstrategi på tilsvarende anlæg i fremtide<br>n",
           2011,
           "Smart Grid og systemer",
           "ANS FJERNVARMEVÆRK A M B A",
           "Ingen data"
          ],
          [
           "Brændselsceller til hjælpestrøm i lastbiler (DESTA) \n I DESTA-projektet vil en lastbils APU (hjælpekraft enhed) blive demonstreret. Projektet vil arbejde imod\nkrav specificeret af Volvo og baseret på en konkret amerikansk lastbilstype. To forskellige APU enheder vil\nblive designet og bygget af de to system-integratorer AVL og JE og et endeligt design blive udvalgt. Dette\ndesign skal benyttes til en afslut<br>tende demonstration på en Volvo lastbil. \n Indenfor DESTA-projektet vil den første europæiske SOFC (Fastofoxid brændselscelle) lastvogns APU (Hjælpe-strøm-enhed) blive demonstreret. SOFC teknologien tilbyder store fordele sammenlignet med andre brændselscelleteknologier grundet kompatibilitet med konventionelle vej-brændsler såsom diesel. Indenfor de seneste år er der opnået betydelige forbedringer for at<br> bringe SOFC-stakteknologien og APU BoP (Resterende dele af enhed) komponenter til prototype og produktniveau. Projektet vil begynde med definition af APU krav for indbygning af en SOFC APU i en amerikansk tung klasse lastvogn. Parallelt med dette vil testbetingelser for test på og udenfor køretøjet blive udformet. Grundet stor udviklingsindsats ved Eberspächer og AVL vil der allerede ved DESTA projektsta<br>rt være 2 SOFC APU systemer til rådighed på laboratorie prototype niveau. Disse 2 APU-systemer (i begge tilfælde 3 stk) vil blive testet baseret på en accelereret testprofil i mindst 1 år. Baseret på test resultaterne og yderligere undersøgelser vil en benchmark analyse blive udført af det uafhængige forskningsinstitut, Forschungszentrum Jülich. Baseret på denne benchmark og afledte anbefalinger vil de to<br> systemer blive ét og optimeret til en endelig DESTA SOFC APU. I denne proces vil de mest lovende tilgange fra begge systemer, blive identificeret og indbygget i den endelige DESTA SOFC APU. Parallelt med systemtest og udvikling vil TOFC fokusere på SOFC stakoptimering. I dette projekt er der truffet afgørelse om at fokusere på ASC (Anode Støttede Celler) stakke pga denne teknologis høje grad af modenhed.<br> Denne teknologi er allered meget tæt på industrialisering, men stakkene skal stadig forbedres hvad angår opstartstid, levetid og svovl tolerance hvilket vil blive udført i WP3 (Arbejdspakke 3). Til sidst vil de optimerede DESTA SOFC APU-systemer blive testet. På den ene side vil lastvognsdemonstrationen blive udført og på den anden side laboratoriesystem-test (ydelse, langtidstest, vibration, salt spray.<br>..)",
           2011,
           "Brint og brændselsceller",
           "TOPSOE FUEL CELL A/S",
           "Ingen data"
          ],
          [
           "Sugearm til energieffektiv procesudsugning \n Projektet har til formål at udvikle og demonstrere en sugearm – et procesudsug, der ved hjælp af\nautomatik- og robotteknologi selv følger forureningskilder fra forskellige industriprocesser.\nVed at benytte projektets sugearm med et skønnet 75 % lavere energiforbrug end i dag, vil man\nkunne udsuge røg, støv og gasser og opnå min. samme eller bedre arbejdsmiljø i opholdszonen. \n Projektet har til formål at udv<br>ikle og demonstrere en sugearm - et procesudsug, der følger bearbejdningsprocessen og således kan holde sig relativt tæt på forureningskilden og dermed være mere energieffektiv end den mauelt flytbare eller stationære, der benyttes i dag. Ideen har fået titlen: Energieffektiv adaptiv procesudsugnig - forkortet EAP. Der fokuseres her på punktudsug, der benyttes i typiske eller udbredte industrielle processer som f.eks. svejsning, fræsning, slibning, mal<br>ing og anden manuel hhv. automatisk spåntagning og bearbejdning. Udsugningen er i dag karakteriseret af manuel eller stationær placering af udsugningshoven (mundingen) og deraf manglende optimal placering i procesforløbet. Det bevirker at volumenstrømmen oftest er - og skal være - unødvendig stor for at opnå den ønskede effekt i form af fjernelse af uønskede stoffer som røg, støv, partikler eller skadelige gasser. Men den manglende mobilitet kan også m<br>edføre (for) lange sugeafstande, der nedsætter sugets effekt på koncentrationen af skadelige stoffer i luften, hvorfor det kan være svært at opretholde det rette og ønskede arbejdsmiljø. Når den udsugede volumenstrøm pr. udsug i de nuværende løsninger er relativt høj, medfører det, at der dels benyttes forholdsvis meget driftsenergi dertil, men også at der skal indblæses tilsvarende mængde erstatningsluft, som der tilmed en stor del af året skal benytt<br>es varmeenergi til at bringe op i rette indblæsningstemperatur. EAP ideen er at gøre punktudsug bevægelige ved brug af automatik- og robotteknologi og med en styring og sensorteknik (også benævnt sensorik) med indbygget adaptiv intelligens, så sugehoven bliver bevægelig i sig selv og automatisk kan følge bearbejdningsarbejdet og den deraf genererede forureningskilde. Ved at holde en mere konstant og kort sugeafstand kan luftmængden nedsættes og effekti<br>viteten alligevel som minimum bevares. Projektgruppens gennemsnitsberegning på svjseudsug medfører at der er energibesparelsespotentiale på ca. 75%. Det er projektets mål at bygge en demonstrator, der kan vise, at et udsug baseret på EAP kan fungere i praksis med mindre løbende energiforbrug og med tilsvarende eller bedre luftkvalitet i produktionslokaler end i dag. Det er Geovent og de øvrige partners mål, at produktet er modnet, så EAP er tæt på mark<br>edet.",
           2011,
           "Energieffektivitet",
           "Teknologisk Institut",
           "Ingen data"
          ],
          [
           "Demonstration af elforsyning til telekom basestationer baseret på brændselscelle \n Projektet arbejder me<br>d demonstration af elforsyning til telekom basestationer baseret på brændselsceller uden for det etabler<br>ede\nelsystem. \n Demonstration af elforsyning til telekom basestationer baseret på brændselsceller uden f<br>or det etablerede\nelsystem. Enhederne forsynes med el fra brændselcelleanlæg i kombination med bl.a. ele<br>ktrolyseanlæg og solceller. Målet er at erstatte dieselmotorer og batterianlæg m.m. der benyttes i nuvær<br>ende løsninger. Dette vil bringe de deltagende virksomheder på forkant med udviklingen inden for området",
           2011,
           "Brint og brændselsceller",
           "Ballard Europe",
           "Ingen data"
          ],
          [
           "Grøn naturgas \n Haldor Topsøe vil udvikle nøglekomponenter til et to-vejs brændselscelle-elektrolysesystem, der skal gøre det muligt at integrere el- og gasystemet ved at lagre overskydende vindmølle-e<br>l og CO2 som syntetisk fremstillet naturgas. En ”omvendt” fastoxid brændselscelle (SOEC) skal producere gassen ved hjælp af elektrolyse. \n Formålet med dette projekt er at analysere systemaspekterne sa<br>mt udvikle nøglekomponenter for ''grøn naturgas'' produktion baseret på Solid Oxide elektrolyse samt fornybar CO2 og elektricitet. Ved grøn naturgas forstås en ''grøn'' metan (CH4) baseret gas som er k<br>ompatibel med det eksisterende naturgasnet. \n\nSolid Oxide elektrolyse (SOEC) er valgt som elektrolyse teknologi da denne er den potentielt mest energi- og kost-effektive elektrolyse teknologi og fordi <br>meget lovende tekniske resultater for nyligt er opnået med SOEC. Projektet inkluderer også kost analyser for grønne naturgas systemer og med udgangspunkt i disse vil en ''road map'' for teknologien bli<br>ve foreslået.\n\n Kost analysen og roadmap'en kan blive vigtige elementer i fremtidige beslutninger vedrørende en kost-effektiv integration af store mængder flutuerende (vind) energi i det danske energis<br>ystem",
           2011,
           "Brint og brændselsceller",
           "HALDOR TOPSØE A/S",
           "Ingen data"
          ],
          [
           "Ny lågløsning for damvarmelageret i Marstal \n Projektet stiler mod at udvikle og demonstrere en ny flydende, isolerende lågkonstruktion til det eks<br>isterende 10.000m3 vandvarmelager i Marstal Fjernvarme. Løsningen forventes at kunne implementeres i kommende bassinlagre i større størrelser. \n Pr<br>ojektets formål er at projektere og demonstrere en ny flydende lågløsning for et eksisterende 10.000 m3 damvarmelager, hvor det totale design kan a<br>nvendes i fremtidige damvarmelagre på over 50.000 m\"3. Andre fjernvarmeværker (bl.a. Dronninglund, hvor en forprojektering er finansieret af Vækstf<br>orum Nordjylland og Dronninglund Fjernvarme) er interesserede i etablering af store solvarmearealer kombineret med damvarmelager og varmepumper. De<br>rfor vil et konsortium til varetagelse af det samlede koncept blive etableret. Konceptet kan dække op til 100% af varmeproduktionen i et fjernvarme<br>værk.",
           2008,
           "Sol",
           "PlanEnergi",
           "Ingen data"
          ],
          [
           "3. generations brintdrevne brændselscelle gaffeltrucks (HyLIFT - Demo) \n  \n HyLIFT-DEMO skal foretage Europæisk demonstration af 3. generations brint <br>drevne brændselscelle gaffeltrucks og tilhørende brint optanknings infrastruktur. HyLIFT-DEMO har følgende målsætninger: 1) Foretage Europæisk demonst<br>ration af 3. generations brændselscelle gaffeltrucks og brint optankningsinfrastruktur, samt påvise at disse når opstillede prækommercielle målsætning<br>er for levetid, effektivitet og pris.  2) Planlægge og sikre igangsætning af 4. generations produktudvikling og modning samt udrulningsprojekter frem <br>mod fuldt kommercielle målsætninger.  3) Planlægge og sikre igangsætning af kommerciel markedsintroduktion af brændselscelle gaffeltrucks og brint inf<br>rastruktur i 2012. 4) Identificere fremtidige behov for lovgivning og standarder som er nødvendige for at muliggøre certificering af høj volumen produ<br>ktion",
           2009,
           "Brint og brændselsceller",
           "NEL Hydrogen",
           "Ingen data"
          ],
          [
           "Energibesparende solafskærmning (MicroShade) \n 3xn og PhotoSolar har udviklet et innovativt vinduesglas,”Microshade”, med integreret solafskærmning, der giver frit udsyn, men samtidig nedsætter energiforbruget til køling. Solafskærmningen består af en tynd rustfri stålfolie med e<br>t stort antal mikroskopiske perforeringer. Teknologien er demonstreret hos virksomheden Datagraf og forventes at give PhotoSolar et markedsgennembrud. \n MicroShade er en unik teknologi fra den danske forskningsbaserede virksomhed, PhotoSolar. MicroShades er vinduesglas med indbyg<br>get solarskærmning baseret på geometrisk screening af solstrålerne, som skærmer for direkte solindfald udefra, mens man stadig har et klart udsyn indefra. Den største fordel ved teknologien er et reduceret kølebehov i bygningen og dermed en forøget energieffektivitet. Endvidere f<br>orventes det, at teknologien, når den er demonstreret, vil være omkostningseffektiv sammenlignet med andre typer solafskærmning. Givet den nødvendige opskalering vurderer vi at designløsninger med MicroShades integreret vil danne en sund forretningsplatform for PhotoSolar og 3XN.<br> Projektets formål er derfor opskalering og implementering af MicroShade-glas i en let håndterbar, kosteffektiv og energibesparende showcase.  3XNs rolle er at forsyne PhotoSolar med kravspecifikationer for MicroShade-teknologien baseret på feedback fra 3XNs kunder. Dernæst vil 3<br>XN vælge og tilbyde en fuldskala facade i et prestigebyggeri velegnet til teknologien. Nødvendig produktudvikling vil blive finansieret af 3XN og PhotoSolar. Formålet med EUDP-ansøgningen er en reduktion af den finansielle risiko forbundet med opskalering af MicroShade-teknologie<br>n",
           2008,
           "Sol",
           "3XN A/S",
           "Ingen data"
          ],
          [
           "Energieffektiv ventilation til eksisterende etagebyggeri \n Projektet vil udvikle et renoveringskit, der omfatter nye brandsikrede kanalsystemer og aggregater.  Det vil nedbringe omkostningerne til implementering af ventilation med varmegenvinding i den eksisterende etageboliger, så energiforbruget reduceres, indeklimaet forbedres og<br> fugtskader/ skímmelsvamp reduceres. Samtidig bliver stramninger i Bygningsreglementet implementeret og overholdt på en rentabel og brandteknisk godkendt måde. \n Projektet udvikler nye innovative ventilationstekniske systemløsninger til den meget store etagebolig bygningsmasse. Det faglige perspektiv er først og fremmest brud med gæ<br>ngs vanetænknlng, som bevirker at Danmark halter efter de øvrige nordiske lande mht. ventilation.  Varmeforbruget udgør ca. en femtedel af Danmarks samlede energiforbrug. DTU vurderer at 50-60 % af energfiorbruget til opvarmning af boliger går til spilde blandt andet fordi naturlig ventilation eller kontroludsug stadig er normen i b<br>oliger frem for at installere aktiv ventilation med varmegenvinding.  Projektet gennemføres i følgende 4 arbejdspakker: WPl: Analyse at fem systemløsninger.  Hver systemløsning udformes med hensyntagen til følgende paremetre: 1) Optimal distribution at udeluft til de enkelte lejligheder; 2) Det optimale indblæsningsarmatur; 3) Brand<br>teknisk sikring af modelløsninger; 4) Strategi for behovsstyring.  WP2: Etablering og dokumentation at system løsninger i to boligblokke.  WP3: Udvikling af dimensioneringsværktøj.  WP4: Formidling af systemløsninger.  Projektet vii forbedre state-of-the-art for ventilation i etagebyggeri på følgende vigtige punkter: - lavere energi<br>udgifter til ventilation, - forbedret termisk klima og luft kvalitet, - reduceret risiko for skimmel, råd, svamp, - mulighed for behovsstyring.  Energiforbruget til ventilation uden vgv udgør teoretisk 35% af det totale varmeforbrug i den ekslsterende etageboligmasse. Substitutionen vil kunne reducere dette energiforbrug med ca. 7S%",
           2010,
           "Energieffektivitet",
           "Teknologisk Institut",
           "Ingen data"
          ],
          [
           "Intelligente og effektive brændeovne \n Projektets formål er at udvikle og demonstrere ny brændeovnsteknologi med en signifikant større energivirkningsgrad, betydeligt mindre partikeludslip og øget brugerkomfort i forhold til de typer, som markedsføres <br>i dag. Projektet udvikler både et digitalt styringssystem og et nyt forbrændingskammer. \n Formålet med projektet er at udvikle en brændeovn med høj energieffektivitet og lave udledninger af luftforurenende stoffer og CO2. Vi vil udvikle et generisk kon<br>trol system og et optimalt brændkammer, der kan anvendes i forskellige brændeovnsdesign.  Det første trin i projektet bliver at etablere et kontrolsystem og fremskaffe komponenter samt at udvikle et generisk software modul, der kan indbygges i en eksis<br>terende brændeovn. Systemet vil blive testet i laboratoriet og in-situ under kontrollerede betingelser. Systemet vil sikre en forbedret regulering af ovnen, der er uafhængig af brændeovnejerens adfærd. Det generiske kontrolsystem vil blive markedsført <br>til andre brændeovnsfabrikanter.  Desuden vil et nyt forbrændingskammerdesign blive udviklet på basis af grundlæggende viden om forbrændingsprocesser og dannelse af luftforurenende stoffer - inklusiv matematisk modellering af batch fyrede forbrændingsp<br>rocesser. Til sidst vil et forbedret forbrændingskammer med integreret kontrol system blive opbygget baseret på systematiske laboratorieforsøg. Den endelige godkendelse af brændeovnssystemet vil blive foretaget af et godkendt teknologiservice institut.",
           2010,
           "Bio og affald",
           "Danmarks Tekniske Universitet (DTU)",
           "Ingen data"
          ],
          [
           "”Solprisme” Task Force \n Cenergia og gruppen af projektdeltagere vil videreudvikle Solprisme-prototypen, efterfulgt af en demonstration i et parcelhus fra 1970´erne. I udviklingsprocessen vil dels klimaskærmen gennemgå en produktmodning til lavenergiklasse 1 standard, dels tilpasse solprismet til at genere energi med og uden varmepumpe. \n På baggrund af det vellykkede arbejde i EUDP projektet ''Albertslund Konceptet'', gennemføres et opfølgende EUDP projekt med fokus på en videreudvikling af ''Solprisme'' prototypen, som der er vist stor interesse for som ''Business Case'' i relation til energirenovering. Dette har senest vist sig på udstillinger i relation til KL's klimakonference primo juni 2009 og ''Nordic Climate Solutions'' d. 8. og 9. september 2009, begge afholdt i Bella Centret. Der var her en Velux <br>stand med deltagelse fra Danfoss, hvor Solprismet blev præsenteret med brochurer og plancher.  I relation til det igangværerende EUDP projekt ''Albertslund Konceptet'' er der fremstillet en 1. prototype af Solprismet med varmepumpe, som anvendes sammen med præfabrikerede isoleringselementer til en enkelt C02 neutral, lavenergibolig i Hyldespjældet bebyggelsen i Albertslund. Denne blev indviet i december 2009 i forbindelse med klimatopmødet i København. Udover dette, skal der også anvendes en mindre Solprisme, uden varmepumpe, til en enkelt bolig med fladt tag i bebyggelsen Røde Vejrmølleparken i Albertslund. Ligesom for alle øvrige renoveringsbyggerier i Albertslund indgår der her fjernvarme således at det ikke er relevant at anvende varmepumper. Situationen er samtidig, at der ikke vil blive afprøvet Solpri<br>smer i traditionelle parcelhuse med skråt tag, som har det langt største potentiale for energirenovering i Danmark.  Målet med nærværende projektansøgninq er derfor at der samtidlgt med det eksisterende arbejde i Albertslund, i regi af en hurtigt arbejdende Task Force, gennemføres en udvikling og produktmodning af Solprismet i samarbejde med VELUX, Danfoss og Rockwool, med fokus pa efterfølqends demonstration i et almindeligt parcelhus fra 1970'erne med skråt tag, hvor klimaskærmen samtidigt forbedres. Hensigten her er at opnå en lavenergiklasse 1 standard.  Hertil vil Solprismet kunne udgøre en samlet kosteffektiv, præfabrikeret energiforsynings- og/eller lnstallatlonsløsning af høj kvalitet. Dette anses af projektgruppen som værende af afgørende betydning for at sikre en efterfølqende stor skala implemente<br>ringsindsats.  Beregninger med Be06 og BYG-SOL beregningsprogrammerne viser at det hermed, og med begrænsede klimaskærmsforbedringer er muligt at opnå en lavenergiklasse 2 standard for et standard parcelhus pa 150 m2 fra 1970'erne. Der foreslås både at se på generelle anvendelsesmuligheder for brug af Solprismet, som samlet energiforsynlng inkl. brug af en varmepumpe, samt som energieffektivt installationsmodul til områder med fjernvarme.  En af de vigtigste kvaliteter ved Solprisme løsningen, som især er afgørende i forbindelse med energirenovering, er at de nødvendige installationselementer til et lavenergibyggeri her placeres i et isoleret rum uden at tage plads op i boligen. Hermed kan man sikre sig at beregnede energibesparelser også vil blive opnået i praksis. Samtidig med at der opnås en samlet ration<br>el installation uden risiko for fejl.  Med hensyn til udviklingsarbejde er der især en speciel problematik i forhold til indpasning i forbindelse med det skrå tag, f.eks. med hensyn til tilgængelighed i forbindelse med vedligehold, som helst skal ske indefra via lysskakten i forbindelse med Velux tagvinduet. Desuden tænkes der på en isoleringsløsning fra Rockwool, hvor dele af løsningen indeholder mineraluld sammen med vakuum isolering for at optimere volumenet. Desuden skal varmeinstallation og varmegenvinder optimeres med hensyn til pladsen og tilgængelighed. Ligesom solfangeranlæg og varmtvandsbeholder med meget begrænsede varmetab skal tilpasses husstørrelsen.  Med hensyn til varmepumpen anvendes en større og forbedret udgave, og der vil, i den forbindelse, både blive vurderet muligheden for en ny og meg<br>et effektiv udeluft baseret varmepumpe samt anvendelse af en løsning med jordslanger.  For den samlede ventilations- og varmeinstallation vil der blive søgt optimeret en såkaldt ''klimasmart'' løsning, som baseres primært på luftopvarmning. Hermed undgås afhængighed og fremtidig vedligeholdelse af det eksisterende radiatorsystem. For varmegenvinderen satses på den højest mulige varmegenvindingsgrad der findes pa markedet i dag. Desuden skal der gøres meget ud af at modernisere anvendelsesmulighederne for Solprismet, således at hver hoveddel af Solprismet kan leveres for sig som præfabrikeret element, der sammensættes på stedet på en rationel og sikker måde. Endelig skal de begrænsede indvendige installationer inde i boligen optimeres til parcelhuset, f.eks.  luftkanaler og forbindelsesrør for varme og varmt <br>vand.",
           2009,
           "Energieffektivitet",
           "CENERGIA PROJEKT ApS",
           "Ingen data"
          ],
          [
           "Nødstrøms- og hjælpestrømsanlæg drevet af brændselsceller \n Projektet har som mål, at udvikle en fælles platform for nødstrøms- og hjælpestrømsanlæg\npå basis af metanolfyrede brændselsceller (højtemperatur-PEM). LEAnECO´s\nstrømforsyningsanlæg vil kunne reducere partikel- og støjemissionen i forhold til eksisterende\nanlæg. Projektets målgruppe er bl.a. serverrum. Anlæ<br>ggene vil kunne installeres\ni industrihavne, havneliggende skibe og havvindmøller. \n Projektets formål er at accelerere kommercialiseringen af brændselscelleteknologien ved at reducere de barrierer, der oftest står I vejen for udviklingen og anvendelsen af teknologien. \n\nDette gøres ved at forfølge maksimal synergi på tværs af flere forskellige kommercielle anvendels<br>esområder (havvindmøller, strøm til skibe i havn, IT nødstrømsanlæg samt SmartGrid anvendelser i elforsyningen). \n\nTillige er der tale om anvendelser, der kan omgå - og derfor ikke lider under - de traditionelle forhindringer og som derfor bedre tillader anvendelse af dagens teknologi på det stade, som den har inden for den nære fremtid (eksempler på sådanne barriere<br>r er levetidskrav og store investeringsbehov i brændstof infrastruktur). \n\nResultatet forventes at være fælles udviklingsaktiviteter, fælles produktion og komponenter, hurtigere reduktion i omkostninger, reduceret risiko for leverandørerne - samt ikke mindst hurtigere time-to-market. Projektet er baseret på et tidligere EUDP projekt - DanDan - og vil definere og udvi<br>kle et sæt generiske byggeblokke (platforme), der passer de forskellige kommercielle retninger. Projektet baserer sig tillige på LeanEco's unikke system arkitektur der - i kraft af en smart måde at anvende brændselsceller på - tillader at reducere omkostningerne samtidigt med at kunderne får state-of-the-art ydeevne og unikke kundefordele. \n\nI tillæg til prototypeudv<br>ikling vil projektets platforme blive anvendt og demonstreret i to demonstrationsanlæg i specifikke kundeanvendelser. Her vil platformenes anvendelighed blive eftervist samtidigt med at de teknologiske og kommercielle potentialer demonstreres. Endeligt vil projektet danne basis for en kommerciel udvikling af såvel forretning som produkter i de involverede virksomhede<br>r.",
           2011,
           "Brint og brændselsceller",
           "LEANECO A/S",
           "Ingen data"
          ],
          [
           "Store elektrolyseanlæg til brintprodukti<br>on (HyProvide) \n Projektets mål er at ud<br>vikle et koncept for store alkaliske ele<br>ktrolyseanlæg til brintproduktion. Målet<br> er at skabe anlæg, der kan producere me<br>llem 125 og 1000 kubikmeter brint i time<br>n. \n ",
           2011,
           "Brint og brændselsceller",
           "Green Hydrogen Systems A/S",
           "Ingen data"
          ],
          [
           "Avanceret indvindingsmetode til olie- og gasreservoirer \n Smart Water - Advanced Water Flooding er en samling af metoder til at forbedre olieudvindingen (EOR, Enhanced Oil Recovery) i danske olie reservoirer. Metoderne indebærer intelligente ændringer af sa<br>ltholdigheden af det injicerede vand. Det nye system kan forbedre olieudvindingen med op til 10% uden høje merudgifter eller miljømæssige virkninger. Projektet kombinerer erfaringerne fra de store operatører i Nordsøen med state-of-the-art forskning på DTU.<br> Målet er at udvikle nye innovative vandoversvømmelsesmetoder, der kan pilottestes i de danske oliefelter i Nordsøen. \n Det er projektets formål at formulere et forslag til et pilotanlæg, der involverer intelligent vandinjektion i danske kulbrintereservoire<br>r. I projektet vil der blive udført laboratorieforsøg, hvor vand med forskelligt indhold af ioner pumpes igennem borekerneprøver. Forsøgene vil blive udført ved typiske reservoirtemperaturer. Ud fra eksisterende geofysiske boringsdata vil det også blive und<br>ersøgt om vand fra sandlag i undergrunden vil kunne anvendes til formålet. Der vil blive udført termodynamisk, reservoirteknisk og bjergartsfysisk modellering af væskeblandinger og af væske-bjergartsblandinger. Nye undersøgelser på DTU peger på at prevandsk<br>emien kan have betydelig indflydelse på indvindingsgraden af olie fra vandvåd kalk. Her kan både bjergarts-væske og olie-vand processer spille en rolle. Det forventes at et pilotforsøg med Smart Water vil være teknisk muligt et år efter projektets afslutnin<br>g.",
           2011,
           "Andet",
           "Danmarks Tekniske Universitet (DTU)",
           "Ingen data"
          ],
          [
           "Systemtjenester fra mindre decentrale energi enheder \n Dette projekt vil specificere og dokumentere systemtjenester fra decentral vedvarende energi. Det skal bane vejen for Smart Grids og gøre det muligt for VE-enhederne at levere de kontrol- og balancetjenester, der i dag hovedsagelig leveres af kraftværkerne. \nProjekts resultat vil kunne bruges af netselskaber som Energinet.dk og af industrivirksomheder, der lever udstyr og komponenter \n Dette projekt vil gennem eksperimentel afprøvning<br> udvikle metoder og procedure til validering af decentrale energiressourcers evne til at levere systemtjenester til elsystemet, således at behov og krav hos såvel systemoperatør (Energinet.dk) som distributionsoperatører opfyldes. For at realisere de overordnede energipolitiske mål vil der være behov for integration og koordination af decentrale energiproduktionsenheder primært enheder baseret på vedvarende energi (VE). Denne integration vil omfatte et stort antal enheder. Det energipolit<br>iske mål for 2025 om 30 % VE i energisystemerne vil således forudsætte omkring 50 % vind i elsystemet. Der vil derfor være brug for en hurtig udvikling af det nuværende energisystem til et nyt paradigme, hvor forsyningen i høj grad er baseret på decentrale VE enheder. Der er desuden behov for integration af de eksisterende delvis adskilte energisystemer (el, transport, varme og naturgas). Driften af elsystemet er baseret systemtjenester såsom frekvens- og spændingskontrol og balancetjenes<br>ter (reserver). Disse systemtjenester leveres i dag overvejende af centrale kraftværker. Det nye paradigme for energisystemerne forudsætter, at en del af disse ydelser kan leveres af decentrale ressourcer. Dette kræver udvikling af nye teknologier og nye strategier for både net-drift og net-styring baseret på et skift fra passive til aktive systemer (såkaldte smart grids). En central barriere for implementeringen af smart grids er specifikation og dokumentation af de systemtjenester fra d<br>e decentrale enheder. Beskrivelse og eftervisning af de decentrale enheders evne til at levere systemtjenester og understøtte nye styringsstrategier vii være en forudsætning for at opnå en teknisk/økonomisk optimal drift af energisystemerne. Det er ønskeligt, at en sådan beskrivelse og eftervisning baseres  på adækvate standarder for produktions- og lagerenheder, der tilsluttes elsystemer. Sådanne standarder kan anvendes i relevante 'grid codes' Nærværende projekt har til formål at udvikl<br>e et koncept for tilvejebringelsen af disse standarder. Integrationen af et stort antal decentrale eneheder vil desuden kræve en aggregering af enheders egenskaber i form af 'virtuelle kraftværker' og/eller 'Smart Grids'. Projekts resultat, konceptet, vil kunne bruges af såvel netselskaber som Energinet.dk som af industrivirksomheder, der lever udstyr og komponenter til såvel net som decentrale enheder. Resultatet skal implementeres i form af standarder, nye styringsstrategier og 'grid co<br>des'",
           2011,
           "Smart Grid og systemer",
           "Danmarks Tekniske Universitet (DTU)",
           "Ingen data"
          ]
         ],
         "hovertemplate": "topics_name=Ikke Kategoriseret<br>x=%{x}<br>y=%{y}<br>text_br=%{customdata[0]}<br>Bevillingsår=%{customdata[1]}<br>Fælles overordnet teknologiområde=%{customdata[2]}<br>Ansvarlig virksomhed=%{customdata[3]}<br>Fokusområder EUDP=%{customdata[4]}<extra></extra>",
         "legendgroup": "Ikke Kategoriseret",
         "marker": {
          "color": "#ededed",
          "size": 5,
          "symbol": "circle"
         },
         "mode": "markers",
         "name": "Ikke Kategoriseret",
         "orientation": "v",
         "showlegend": true,
         "type": "scatter",
         "x": [
          3.6266562938690186,
          2.737029552459717,
          3.685504674911499,
          3.2431528568267822,
          4.286048889160156,
          2.2251930236816406,
          1.9656171798706055,
          3.3055896759033203,
          2.9833526611328125,
          0.17978951334953308,
          2.7800259590148926,
          3.0998568534851074,
          0.7095721364021301,
          2.0428433418273926,
          2.2651448249816895,
          1.1460248231887817,
          3.819714069366455,
          3.9350697994232178,
          2.9290828704833984,
          3.6512868404388428,
          2.7954418659210205,
          1.5017163753509521,
          2.8969526290893555,
          3.8012466430664062,
          2.2295405864715576,
          2.417133092880249,
          1.7788139581680298,
          1.833375096321106,
          3.3561058044433594,
          2.272409200668335,
          2.862922191619873,
          1.4705365896224976,
          3.1042356491088867,
          4.171538352966309,
          1.6898164749145508,
          1.7063124179840088,
          1.917064905166626,
          0.6257995963096619,
          5.0834641456604,
          2.9136765003204346,
          1.7576757669448853,
          3.0981838703155518,
          2.5262272357940674,
          2.661425828933716,
          2.2631101608276367,
          3.7745487689971924,
          1.9958022832870483,
          2.8470964431762695,
          2.0255656242370605,
          2.926842212677002,
          2.2785935401916504,
          3.3819427490234375,
          3.1687991619110107,
          3.224627733230591,
          0.3756924569606781,
          2.988990545272827,
          2.5204877853393555,
          3.2346508502960205,
          1.4398945569992065,
          0.8956112861633301,
          2.3292922973632812,
          2.14272403717041,
          0.011403807438910007,
          2.6472702026367188,
          0.15547528862953186,
          1.0157883167266846,
          3.73085880279541,
          1.2883391380310059,
          0.605894923210144,
          2.311323881149292,
          0.8480585217475891,
          1.0563386678695679,
          3.5344502925872803,
          1.936708688735962,
          1.5169926881790161,
          2.4855384826660156,
          2.671417236328125,
          3.7112679481506348,
          2.34601092338562,
          1.022828459739685,
          1.3618829250335693,
          0.6007530093193054,
          1.977052927017212,
          0.5165716409683228,
          0.7175019383430481,
          3.1034114360809326,
          2.2534005641937256,
          1.4066754579544067,
          2.2984416484832764,
          2.375321388244629,
          3.5921239852905273,
          3.0994391441345215,
          0.01519780047237873,
          1.7001290321350098,
          2.034133195877075,
          0.5192618370056152,
          0.05663800984621048,
          0.8700224161148071,
          3.207378625869751,
          1.6731655597686768,
          1.4764480590820312,
          1.5473395586013794,
          1.7616413831710815,
          1.4474616050720215,
          2.7180979251861572,
          2.1795105934143066,
          2.0203959941864014,
          3.43051815032959,
          0.3349132239818573,
          2.0123231410980225,
          2.27290678024292,
          2.221670389175415,
          2.784151077270508,
          1.6309058666229248,
          2.974412679672241,
          3.300382614135742,
          2.211430311203003,
          3.7942187786102295,
          2.957331657409668,
          1.6667649745941162,
          3.5162222385406494,
          0.3755221664905548,
          1.1784679889678955,
          0.8656549453735352,
          4.618340492248535,
          2.1118338108062744,
          0.14904068410396576,
          4.525659561157227,
          3.366708755493164,
          2.1663427352905273,
          0.6979096531867981,
          3.424312114715576,
          2.8621504306793213,
          3.252190589904785,
          3.767418146133423,
          3.7633302211761475,
          1.1660809516906738,
          1.4295462369918823,
          2.411994695663452,
          3.3341543674468994,
          3.18119215965271,
          0.3492330014705658,
          4.178973197937012,
          2.69458270072937,
          2.6953508853912354,
          0.48512759804725647,
          2.7504568099975586,
          2.070363759994507,
          3.943117141723633,
          3.0942163467407227,
          3.532970905303955,
          3.567314386367798,
          2.3839643001556396,
          2.0515153408050537,
          1.30915105342865,
          1.3967537879943848,
          3.9447381496429443,
          3.6683566570281982,
          2.48694109916687,
          2.1800589561462402,
          2.9931840896606445,
          2.77132248878479,
          1.239101767539978,
          0.052521832287311554,
          3.0174107551574707,
          1.6700571775436401,
          3.203897476196289,
          2.584916114807129,
          2.149683713912964,
          3.3145713806152344,
          0.23892320692539215,
          3.1691455841064453,
          0.07502877712249756,
          0.9676409959793091,
          2.5080089569091797,
          0.6219104528427124,
          3.0501012802124023,
          3.2145605087280273,
          3.8093738555908203,
          2.045159339904785
         ],
         "xaxis": "x",
         "y": [
          8.579862594604492,
          6.353117942810059,
          8.62887191772461,
          5.6360344886779785,
          5.889039516448975,
          7.016283988952637,
          5.9827985763549805,
          5.923148155212402,
          7.224382400512695,
          5.159397602081299,
          9.207019805908203,
          8.615339279174805,
          6.9746294021606445,
          6.710020065307617,
          7.314906597137451,
          7.747135639190674,
          6.110560894012451,
          8.79227066040039,
          8.158594131469727,
          9.100385665893555,
          9.479269981384277,
          7.81473445892334,
          5.669235706329346,
          7.065871715545654,
          8.241924285888672,
          8.24472427368164,
          7.584554672241211,
          8.346525192260742,
          8.102259635925293,
          8.396750450134277,
          7.141358375549316,
          7.679224967956543,
          9.919651985168457,
          5.6081061363220215,
          7.6726250648498535,
          6.005821704864502,
          7.799480438232422,
          7.39347505569458,
          6.415278911590576,
          5.640057563781738,
          6.917425632476807,
          6.047394752502441,
          6.207789421081543,
          6.238744735717773,
          6.020360469818115,
          8.268950462341309,
          5.54236364364624,
          9.350640296936035,
          6.496196746826172,
          6.932938575744629,
          7.107557773590088,
          6.3375163078308105,
          8.592957496643066,
          7.649357795715332,
          5.857907295227051,
          8.994002342224121,
          8.350822448730469,
          7.357725143432617,
          7.0104570388793945,
          6.188383102416992,
          6.716721057891846,
          8.587725639343262,
          6.769998550415039,
          7.273274898529053,
          5.383825302124023,
          7.211277961730957,
          7.305820465087891,
          6.799494743347168,
          7.141223907470703,
          5.829579830169678,
          8.024654388427734,
          6.139272212982178,
          6.893064022064209,
          5.706437110900879,
          7.5346269607543945,
          5.634859561920166,
          5.600210666656494,
          7.363144397735596,
          6.776032447814941,
          6.039796829223633,
          7.357059478759766,
          7.637557506561279,
          8.210331916809082,
          5.691511154174805,
          5.815632343292236,
          9.908707618713379,
          8.488109588623047,
          5.663255214691162,
          6.710811614990234,
          5.988037109375,
          6.307657241821289,
          8.579791069030762,
          6.716389179229736,
          7.491862773895264,
          6.266881942749023,
          6.204659461975098,
          6.018594264984131,
          6.936153888702393,
          5.680381774902344,
          7.679830074310303,
          7.5925493240356445,
          6.693722724914551,
          6.567690372467041,
          7.2751312255859375,
          7.209397792816162,
          6.882972717285156,
          6.130125045776367,
          7.6008405685424805,
          6.062614917755127,
          6.633925914764404,
          6.149868488311768,
          5.733278751373291,
          8.598816871643066,
          8.244949340820312,
          7.1617751121521,
          7.367151260375977,
          6.708212375640869,
          7.953747272491455,
          6.968060493469238,
          5.292896270751953,
          6.242354393005371,
          6.125849723815918,
          5.848147869110107,
          7.865084648132324,
          5.3076934814453125,
          7.682033538818359,
          6.7010040283203125,
          5.958685874938965,
          8.757420539855957,
          7.3612847328186035,
          7.028527736663818,
          7.245621204376221,
          6.1916890144348145,
          6.1756367683410645,
          6.241614818572998,
          5.857333660125732,
          5.204164505004883,
          8.239985466003418,
          7.93046236038208,
          7.9432854652404785,
          6.688379764556885,
          5.622923851013184,
          5.938658237457275,
          6.8544182777404785,
          8.57443618774414,
          6.247781276702881,
          6.873086452484131,
          6.497754096984863,
          8.792104721069336,
          9.883516311645508,
          7.012028694152832,
          7.849969387054443,
          6.032037258148193,
          7.5084028244018555,
          6.906268119812012,
          7.795349597930908,
          7.434568405151367,
          8.64218521118164,
          8.769428253173828,
          6.916323661804199,
          5.959603309631348,
          8.144352912902832,
          6.9551191329956055,
          5.663726329803467,
          8.692148208618164,
          7.160455703735352,
          7.170684337615967,
          8.058892250061035,
          7.744208812713623,
          8.137308120727539,
          6.606454849243164,
          7.910785675048828,
          6.049314975738525,
          6.2583537101745605,
          8.412391662597656,
          6.031338691711426,
          6.9535346031188965,
          8.337406158447266,
          7.117583751678467,
          5.444088935852051
         ],
         "yaxis": "y"
        },
        {
         "customdata": [
          [
           "SpeedUP \n Udvikling af <br>direkte drivet højhasti<br>gheds turbokompressor t<br>il højtemperaturvarmepu<br>mpning (> 100C) med van<br>ddamp som arbejdsmedie <br>\n ",
           2020,
           "Energieffektivitet",
           "WEEL & SANDVIG ENERGI OG          PROCESINNOVATION ApS",
           "Energieffektivisering"
          ],
          [
           "Optimering af store udeluftvarmepumper \n Projektets formål e<br>r at udvikle nye innovative løsninger, som både adresserer d<br>e udfordring, som er konstateret på markedet for store udelu<br>ftsvarmepumper i dag, og som sikre større udbredelse af varm<br>epumpetyper til mindre varmeværker, hvor andre varmekilder e<br>nten ikke er tilgængelige eller ikke direkte kan anvendes. \n<br> ",
           2019,
           "Energieffektivitet",
           "Innoterm A/S",
           "Ingen data"
          ],
          [
           "OPSYS 2.0 \n Formålet med projektet er: - at øge effektiviteten af bade eksister<br>ende og nye varmepumpeinstallationer ved at udvikle en kontrolboks som kan opti<br>mere bade fremløbstemperaturen fra varmepumpen og volumenstrømmene gennem varme<br>afgiversystemet - baseret på ovenstående at udvikle et kontrolsystem der kan: \n<br>\n- tilbyde fleksibilitets services til stabilisering af elnettet.\n\n- optimere e<br>getforbruget af PV-strøm genereret på bygninger og/eller reducere curtailment. <br>\n ",
           2018,
           "Energieffektivitet",
           "Teknologisk Institut",
           "Ingen data"
          ],
          [
           "Energieffektive boligventilationsvarmepumper \n Projektet har<br> til formål:\n•\tAt benytte naturligt kølemiddel (eller enden <br>law-GWP-kølemiddel)\n•\tAt øge energieffektiviteten \nDette ska<br>l gøres, således at produktet er sikkert at installere og be<br>nytte, samt at produktet er konkurrencedygtigt på det global<br>e marked. Målsætningen er at øge energieffektiviteten med 10<br>% \n ",
           2018,
           "Energieffektivitet",
           "NILAN A/S",
           "Ingen data"
          ],
          [
           "Metoder til effektiv udnyttelse af værksinterne varmekilder med varmepu<br>mper \n Projektet har til formål at oplyse om samt eksemplificere værksi<br>nterne varmekilder til varmepumpedrift og dertilhørende fordele og ulem<br>per. Målgruppen er fjernvarmeværker, rådgivere og energiplanlæggere i d<br>en danske fjernvarmebranche. Endvidere udvikles en metode til beregning<br> af varmepumper, der udnytter værksinterne kilder, let kan vurderes. \n ",
           2018,
           "Smart Grid og systemer",
           "EMD INTERNATIONAL A/S",
           "Ingen data"
          ],
          [
           "Udvikling af større luft/vand va<br>rmepumper med naturligt kølemidd<br>el \n At udvikle og demonstrere s<br>tore eldrevne luft/vand varmepum<br>per (100 til 500 kW) på naturlig<br>t kølemiddel, fx R290 propangas.<br> \n ",
           2018,
           "Energieffektivitet",
           "Henning Pallesen Holding ApS",
           "Ingen data"
          ],
          [
           "Billiggørelse af højeffektive varmepumper til h<br>øjtemperatur \n Vi vil forbedre investeringen ma<br>rkant i varmegenvinding og lignende varmepumpep<br>rojekter med varmekilder fra 20-50 °C ved at ud<br>vikle en serieproduceret højtemperaturvarmepump<br>e til projekter med varmeeffekt fra 50-1.000 kW<br>. \n ",
           2016,
           "Energieffektivitet",
           "ThermoNova ApS",
           "Ingen data"
          ],
          [
           "CASH Pump - Intelligent styring og aggregering af varmepumper i små og mellems<br>tore virksomheder \n Formålet med CASHPump er at demonstrere en økonomisk attra<br>ktiv løsning for SMV-ejere af varmepumper, med henblik på levering af balancek<br>raft. Dette imødekommer udfordringen ved at balancere el-nettet med en voksend<br>e andel af fluktuerende, vedvarende energi og samtidig mindske afhængigheden a<br>f kraftværker baseret på fossile brændstoffer, som leverer balancekraft i dag.<br> \n ",
           2016,
           "Smart Grid og systemer",
           "EConGrid ApS",
           "Ingen data"
          ],
          [
           "Direkte gasfyret absorptionsvarmepumpe \n Projektet har til formå<br>l at etablere og demonstrere en direkte gasfyret absorptionsvarm<br>epumpe i ”fjernvarme-størrelse” med fokus på konkurrencedygtig v<br>armepris, høj VE-andel og brændselseffektiv drift. Et vigtigt må<br>l er, ved praktisk demonstration, at medvirke til implementering<br> af en ny og konkurrencedygtig teknologi i fjernvarmesektoren. \n<br> ",
           2016,
           "Energieffektivitet",
           "DANSK GASTEKNISK CENTER A/S",
           "Ingen data"
          ],
          [
           "Varmepumper med blandede kølemidler (MIREHP) \n Projektet vil udvikle vid<br>en for at finde de mest velegnede zeotrope kølemiddelblandinger til varm<br>epumper og kølesystemer, samt opbygge et pilot setup for at kunne analys<br>ere og validere det teoretiske grundlag og derved opnå fornøden erfaring<br> for at kunne opnå en optimal udformning og styring. Fokus vil være på a<br>t kontrollere temperaturglidet for både fordamperen og kondensatoren. \n ",
           2016,
           "Energieffektivitet",
           "Teknologisk Institut",
           "Ingen data"
          ],
          [
           "Optimering af gulvvarme og varmepumpe systemer \n Udv<br>ikling af styringssystemer til energieffektiv drift <br>af kombinationen af husstandsvarmepumper og gulvvarm<br>esystem. \nStyringssystemerne skal sikre den lavest m<br>ulige fremløbstemperatur fra varmepumpen, samt den m<br>est optimale volumenstrøm gennem gulvvarmesystemet. <br>\n ",
           2014,
           "Energieffektivitet",
           "Teknologisk Institut",
           "Ingen data"
          ],
          [
           "Energieffektive og miljøvenlige flaskekølere \n Målsætningen er at<br> skitsere, bygge og teste flaskekølere som kan klare kriterierne <br>for at komme i den bedste energiklasse i den kommende EU energimæ<br>rkningsordning. Dette kræver ca. 30% energibesparelse i forhold t<br>il Vestfrosts nuværende M200 flaskekøler, som er den mest energie<br>ffektive på markedet. Samtidig skal køleren være konkurrencedygti<br>g. \n ",
           2014,
           "Energieffektivitet",
           "Teknologisk Institut",
           "Ingen data"
          ],
          [
           "Omkostningseffektiv, online varmepumpe \n Formålet med dette projekt er at udvikle og d<br>emonstrere en billig, effektiv og fleksibel varmepumpe som er tilpasset ældre huse, hv<br>or der er en høj fremløbstemperatur. Varmepumpen skal være let at installere, modulær <br>i sin opbygning og skal kunne kontrolleres online, hvilket gør, at varmepumpen er Smar<br>tGrid ready. Ideen er, at varmepumpen skal kunne sammensættes af standardenheder til a<br>t passe til individuelle huse og at dette resulterer i et omkostningseffektivt system.<br> \n ",
           2013,
           "Energieffektivitet",
           "Insero Energy A/S",
           "Ingen data"
          ],
          [
           "Højeffektiv termodynamisk kredsproces med ”Isolated System Energy Chargi<br>ng” (ISEC) \n Formålet med projektet er at demonstrere en forbedring af e<br>nergieffektiviteten for varmepumper med op til 50 % ved hjælp af en ny t<br>eknologi hvor varmepumperne anvendes sammen med en optimal brug af lager<br>beholdere som derved vil reducere gennemsnitstemperaturen i varmepumpen.<br> Tilbagebetalingstiden for merinvesteringen forventes at være under 3 år<br>. \n ",
           2013,
           "Energieffektivitet",
           "Teknologisk Institut",
           "Ingen data"
          ],
          [
           "Ultra-høj-temperatur hybrid varmepumpe \n Hybridvarmepumpen anvender de naturlige kølemidler ammoniak og vand. Partnerne i konsortiet er de\neneste leverandører af denne type varmepumper, der i dag højest kan nå 110°C, da der anvendes standard\nkøleudstyr. Nye kom<br>mercielle kompressorer til højere tryk gør det muligt at nå 180-250 °C. Fortrængning\naf fossilt brændsel i termiske processer som i fx fødevareindustrien og i fjernvarmesystemer er dermed mulig. \n Industrielle varmepumper har indtil for nyligt maksimalt kunnet <br>nå 75 - 80°C og dermed begrænset udbredelsen af højtemperatur varmepumper. I hybridvarmepumpen kombineres absorption- og kompressionsbaserede processer. Der anvendes ammoniak og vand som stof-par, hvilket gør det muligt at nå 110°C med industrielle standard køl<br>ekomponenter. Dette gøres med meget høj effektivitet og processen har bevist at de teoretiske COP værdier kan nås. Projektets mål er at udvide driftsområderne for hybridprocessen ved at anvende nye standardkomponenter, godkendt til højere arbejdstryk. Projektet<br> vil demonstrere at det er muligt at udvikle en effektiv og pålidelig varmepumpe, der kan nå temperaturer på op til 180 - 250°C. Af kandidaterne til ultra-højtemperatur-varmepumper er hybrid processen uden diskussion den teknologi, der er nærmest markedet. Proj<br>ektet består af tre dele: A. Teoretisk og praktisk undersøgelse af hybridvarmepumpeprocessen ved ultra-høje temperaturer; B. Undersøge mulig implementering i procesanlæg hos slutbrugere i projektkonsortiet; C. Demonstration hos en af slutbrugerne i projektkonso<br>rtiet",
           2011,
           "Energieffektivitet",
           "INDUSTRI-MONTAGE VEST A/S",
           "Ingen data"
          ]
         ],
         "hovertemplate": "topics_name=varmepumper - varmepumpen - nå<br>x=%{x}<br>y=%{y}<br>text_br=%{customdata[0]}<br>Bevillingsår=%{customdata[1]}<br>Fælles overordnet teknologiområde=%{customdata[2]}<br>Ansvarlig virksomhed=%{customdata[3]}<br>Fokusområder EUDP=%{customdata[4]}<extra></extra>",
         "legendgroup": "varmepumper - varmepumpen - nå",
         "marker": {
          "color": "#1CA71C",
          "size": 5,
          "symbol": "circle"
         },
         "mode": "markers",
         "name": "varmepumper - varmepumpen - nå",
         "orientation": "v",
         "showlegend": true,
         "type": "scatter",
         "x": [
          1.2004737854003906,
          1.1717174053192139,
          1.032793641090393,
          1.1431114673614502,
          1.1164820194244385,
          1.1330422163009644,
          1.1928606033325195,
          1.3430722951889038,
          1.265390396118164,
          1.0900217294692993,
          1.2075865268707275,
          1.1656162738800049,
          1.089830994606018,
          0.9772356152534485,
          1.349509358406067
         ],
         "xaxis": "x",
         "y": [
          8.127928733825684,
          8.031693458557129,
          7.847890853881836,
          7.962320804595947,
          7.840301990509033,
          8.095775604248047,
          8.10359001159668,
          7.969726085662842,
          8.146239280700684,
          7.956489562988281,
          7.80360746383667,
          7.815896511077881,
          7.969188213348389,
          7.878300666809082,
          8.063786506652832
         ],
         "yaxis": "y"
        },
        {
         "customdata": [
          [
           "Bio-metanol på danske tankstationer \n Transport med personbiler er stadig stort set baseret på fossile <br>brændstoffer. Bestræbelserne på at ændre dette er i øjeblikket koncentreret omkring elektrificering af <br>transportsektoren. De største ulemper ved denne strategi er, at den kræver udskiftning af den eksistere<br>nde køretøjsflåde og en helt ny infrastruktur. Flydende brændstoffer som metanol fra vedvarende kilder <br>er et interessant alternativ, der kan bruges i eksisterende køretøjer. Dette projekt vil udvikle metano<br>lblandinger, distributionsinfrastruktur, procedurer til konvertering af køretøjer til drift med metanol<br>. \n ",
           2020,
           "Bio og affald",
           "Teknologisk Institut",
           "Energieffektivisering"
          ],
          [
           "Project Greensand Fase 1 \n Projektet har til formål at bevise<br>, at udtømte olie- og gasfelter i den danske Nordsø kan bruge<br>s til sikker, langsigtet CO2 lagring. Projektet har også til <br>formål at vise, at på grund af eksistensen af store mængder u<br>nderjordiske data og infrastruktur, vil det være muligt at mo<br>dne omkostningseffektive CO2 lagringssteder inden for 4-6 år.<br> \n ",
           2020,
           "Smart Grid og systemer",
           "INEOS E&P A/S",
           "Energieffektivisering"
          ],
          [
           "Bæredygtig og fleksibel produktion af skibsbrændstof<br>fer fra biomasse \n At arbejde mod en omkostningseffe<br>ktiv og bæredygtig proces, der kobler de uudnyttede <br>globale biomasseressourcer på den ene side og efters<br>pørgslen efter \"grønne\" brændstoffer på den anden si<br>de - i dette tilfælde, i den danske maritime sektor.<br> \n ",
           2019,
           "Bio og affald",
           "MASH Energy ApS",
           "Ingen data"
          ],
          [
           "Spectro Biogas – online måling af procesparametre med he<br>nblik på bedre procesforståelse, styring og performance <br>på danske biogasanlæg. \n Det er projektets overordnede f<br>ormål at dokumentere og videreudvikle dette system til e<br>t operationelt værktøj til realtidsovervågning og optime<br>ring af biogasprocessen i landbrugsbaserede biogasanlæg <br>\n ",
           2019,
           "Bio og affald",
           "Teknologisk Institut",
           "Ingen data"
          ],
          [
           "Udvikling af teknologi til reduceret lugtemission fra biogasanlæg i forbindelse me<br>d spidsbelastninger. \n Ved produktion af biogas produceres samtidigt andre ildelug<br>tende forbindelser f.eks. svovlbrinte (H2S), der, uden velfungerende lugtreduktion<br>steknologi, kan være til stor gene for naboerne til biogasanlægget. Projektet vil <br>udvikle teknologi som skal bruges til at imødegå spidsbelastninger af særligt H2S,<br> som erfaringsmæssigt har været vanskelig at håndtere med eksisterende teknologi. <br>\n ",
           2019,
           "Bio og affald",
           "BKK bio airclean",
           "Ingen data"
          ],
          [
           "Udvikling og test af ny type mixervogn til<br> forbehandling af halm og dybstrøelse til <br>biogasproduktion \n Projektet har til formå<br>l at udvikle en specialdesignet mixervogn <br>til forbehandling af halm og dybstrøelse f<br>orud for anvendelse til biogasproduktion. <br>\n ",
           2019,
           "Bio og affald",
           "Teknologisk Institut",
           "Ingen data"
          ],
          [
           "Ecodrying Bioraffineringsanlæg \n Formålet med at udvikle et Ecodrying Bioraffineringsanlæg i small skala version, er at gøre det nemmere for hver enkel ejendom med heste at håndterer deres hestemødding. Og gøre deres hestemødding til grøn energi, og ikke en ressource belastning for miljøet. Formål<br>et for kunden, ved at investerer i et Ecodrying Bioraffineringsanlæg, er at holde deres hestemødding væk, også producerer disse Bioraffineringsanlæg varme til alle kundens bygninger. Så kunden ikke skal tilkøbe eksternt brændsel i form af træpiller, halm eller olie. Summersumarum kunden varmer kun<br> op med, deres egen hestemødding som de kører igennem deres tilkøbte Ecodrying Bioraffineringsanlæg, når hestemøddingen har været igennem Bioraffineringsanlægget og blevet til biobrændsel, afbrændes dette i deres Ecodrying kedel. I dag producerer Ecodrying A/S, større skala bioraffineringsanlæg ti<br>l hestemødding som er optimalt til stutterier med et større antal hestehold, Fx. fra 25-500 heste. Men Ecodrying A/S, har erfaret at ejendomme med hestehold på 2-25 heste, har ligeså store udfordringer som de store stutterier med deres hestemødding. Derfor ville det være optimalt at videreudvikle <br>på Ecodrying`s større skala bioraffineringsanlæg, som i dag bliver solgt til stutterier i Danmark og Tyskland, og på vej med export i hele Europa. Denne videreudvikling fra store Bioraffineringsanlæg til små gård Bioraffineringsanlæg, ville betyde flere arbejdspladser i Danmark, grønnere miljø og <br>export. Et Ecodrying Bioraffineringsanlæg, omdanner hestemødding til biobrændsel. Dette gøres gennem en ny teknologi, som er patenteret både i Danmark og Europa. Dog skal det siges, at muligheden for at gå ind i andre landbrugsbrancher men andre dyrehold. Dette vil sige at marked er meget bredt. \n<br> ",
           2019,
           "Bio og affald",
           "Ecodrying A/S",
           "Ingen data"
          ],
          [
           "Metanol som brændstof<br> i marinedieselmotore<br>r \n At køre en marine<br>dieselmotor på metano<br>l uden brug af diesel<br> som støttebrændstof.<br> \n ",
           2019,
           "Energieffektivitet",
           "Teknologisk Institut",
           "Ingen data"
          ],
          [
           "Bioenergy Task 40 - Implementering af biobaserede værdikæder - Dans<br>k repræsentation 2019-2021 \n Projektets formål er at sikre Danmarks<br> adgang til viden om fremskridt indenfor bæredygtige, biomassebaser<br>ede værdikæder i andre IEA Bioenergy Task 40 medlemslande. Formålet<br> opfyldes gennem deltagelse i Task 40 og gennem formidling af grupp<br>ens resultater, herunder resultater fra øvrige deltagende lande. \n ",
           2019,
           "Andet",
           "EA ENERGIANALYSE A/S",
           "Ingen data"
          ],
          [
           "ECO-DIST II \n Formålet med ECO-DIST er at udvikle, konstruere og <br>demonstrere den økonomiske bæredygtighed af relativt små lokale b<br>ioraffinaderier, der udnytter energi- og omkostnings effektive EC<br>O-DIST moduler til produktion af bioethanol og foder. Råvarerne v<br>il være højtydende afgrøder, der giver mulighed for ”cross-over” <br>mellem meget foder/lidt bioethanol og lidt foder/meget bioethanol<br>. \n ",
           2019,
           "Energieffektivitet",
           "Holm Christensen Biosystemer",
           "Ingen data"
          ],
          [
           "GASIFICATION BIOCOMBINE \n Nærværende projekt er et forprojekt, som har til formål at<br> afklare potentialet i etablering af et fuldskala demonstrationsanlæg, der kan under<br>støtte etableringen af en bæredygtig cirkulær energiproduktion på Samsø og gøre øen <br>fossilfri. Nærværende projekt er således et forprojekt, som udgør Fase 1 af et fuldt<br> demonstrationsprojekt, der har til formål at demonstrere et fuldskala forgasningsan<br>læg til konvertering af organisk husholdningsaffald til energi og biochar på Samsø. <br>\n ",
           2019,
           "Bio og affald",
           "Griffin People ApS",
           "Ingen data"
          ],
          [
           "Biocat Roslev - Projekt 1 \n Projektet g<br>år ud på at bygge et ”strøm til biogas”<br> værk tæt på Roslev. Denne teknologi vi<br>l gavne Danmark på flere forskellige må<br>der, som f.eks. optimiering af biogasan<br>læg og nedsættelse af CO2 emissioner. \n<br> ",
           2018,
           "Smart Grid og systemer",
           "BioCat Roslev ApS",
           "Ingen data"
          ],
          [
           "Straw2Gas \n Straw2Gas projektet har i sin helhed til formål at demonstrer<br>e anvendelsen af halmfibre fra JENA’s halm behandlings teknologi til prod<br>uktion af biogas og dermed åbne for en økonomisk og teknisk attraktiv løs<br>ning for at anvende halm for biogasproduktion. Denne del af projektet ink<br>luderer de nødvendige design og økonomi aktiviteter for at nå frem til en<br> endelig investeringsbeslutning for begge parter; målsætning er juli 2019<br>. \n ",
           2018,
           "Bio og affald",
           "Jena Bio Projects A/S",
           "Ingen data"
          ],
          [
           "Energi- og Omkostningsoptimering af Bionaturgasproduktion \n Projektets <br>formål er at reducere omkostninger til og klimabelastning fra produktio<br>n af bionaturgas ved at se på: - Reduktion af energiforbruget til bioga<br>sproduktion og -opgradering til bionaturgas. - Varmegenvinding fra opgr<br>adering - Øget biogasudbytte ved forbehandling af biomasse - Reduktion <br>af metantab - Reducerede omkostninger ved injektion i naturgasnettet. \n<br> ",
           2018,
           "Bio og affald",
           "DANSK GASTEKNISK CENTER A/S",
           "Ingen data"
          ],
          [
           "Demonstration af forbedret metanproduktion fra ammoniak-forbehandlede biomasser i bio<br>gasanlæg (DEMONIAGAS) \n Formål: 1) Opskalering til et pilotanlæg og demonstrere effek<br>tiviteten af teknologien. 2) Dokumentere muligheden for effektiv ammoniakudvinding fr<br>a biomassen efter ammoniak-behandling og for recirkulation af ammoniak. 3) Bestemmels<br>e af de optimale betingelser for ammoniak-behandling af forskellige biomasser. 4) Bri<br>nge AMMONOX-teknologien op fra TRL 3-4 til TRL 5-6 klar til fuldskala demonstration. <br>\n ",
           2018,
           "Bio og affald",
           "DANSK GASTEKNISK CENTER A/S",
           "Ingen data"
          ],
          [
           "Konstruktion af filtersystem til rensning af forgasnings-gas baseret på restprodukte<br>r. \n Formålet med projektet er at; udvikle, bygge og afprøve et filtersystem der kan<br> behandle produktgas fra en forgasningsproces, således at denne gas klargøres til ef<br>terfølgende anvendelse. Udover dette skal filter-systemet være selvrensende således <br>kontinuerlig drift i lange perioder er muligt. Systemet vil også omfatte en rensekol<br>onne der behandler procesvandet således at dette efterfølgende kan ledes til kloak. <br>\n ",
           2018,
           "Bio og affald",
           "Green Gas Combustion - Technology",
           "Ingen data"
          ],
          [
           "Demonstraton af samensileret roetop og<br> halm til biogasproduktion \n Det er pr<br>ojektets formål at demonstrere og test<br>e forskellige metoder til håndtering o<br>g anvendelse af samensileret roetop og<br> halm til biogasproduktion i fuld skal<br>a \n ",
           2018,
           "Bio og affald",
           "Teknologisk Institut",
           "Ingen data"
          ],
          [
           "El Opgraderet Biogas II \n At bringe teknolog<br>ien fra TRL 6 til TRL 8 ved implementering a<br>f forebyggende vedligehold, forbedret kontro<br>l samt brug af biologisk svovlrensning samt <br>forbedret rensning af damp. Målet er at demo<br>nstrere 4000 driftstimer med lav degradering<br> \n ",
           2017,
           "Smart Grid og systemer",
           "HALDOR TOPSØE A/S",
           "Ingen data"
          ],
          [
           "Bio-ReFuel – fase 1 \n Formålet med projektet er at designe, ud<br>vikle og optimere et system, der skal konvertere biogas og bri<br>nt til syngas i ét trin ved at kombinere eksisterende damp- og<br> tør-reforming processer for biogas. Syngassen bliver derefter<br> ledt gennem en innovativ syntese-reaktor, hvor katalytiske re<br>aktioner vil konvertere den producerede syngas til methanol. \n<br> ",
           2017,
           "Smart Grid og systemer",
           "Danmarks Tekniske Universitet",
           "Ingen data"
          ],
          [
           "P2G-Biocat 3, System kontrol og integrati<br>on \n Biocat 3 tilbyder en kommerciel modn<br>ing af en disruptiv teknologi til robust,<br> skalerbar, replikabel og omkostningseffe<br>ktiv energilagring ved at lagre overskudd<br>et af vedvarende elektricitet i gasnettet<br>. \n ",
           2017,
           "Smart Grid og systemer",
           "ELECTROCHAEA.DK ApS",
           "Ingen data"
          ],
          [
           "SEGRABIO \n Formålet projektet er at: • Udvikle og demonstre<br>re fremstilling af 2Gbiethanol og biogas ud fra sekunda hal<br>m og andre lav-pris biomasser så som dybstrøelse. • Eftervi<br>se en høj energivirkningsgrad og verificere synergier ved a<br>t integrere biogas og 2Gbioetanol produktion. • Forbedre og<br> simplificere kritiske komponenter til tryksat hydrolyse. \n<br> ",
           2016,
           "Bio og affald",
           "TK ENERGY ApS",
           "Ingen data"
          ],
          [
           "Automatisk sortering af usorteret dagrenovation Fase 2 \n At vise at <br>der med automatisk sortering kan opnås en genanvendelses grad af dag<br>renovation på 70% samtidig med at restproduktet fra udnyttelse af de<br>n bionedbrydelige fraktion til bioethanol eller biogas har så lavt i<br>ndhold af problematiske stoffer, at restproduktet kan udnyttes til g<br>ødning, således at indholdet af fosfor, kvælstof og kalium udnyttes <br>\n ",
           2016,
           "Bio og affald",
           "Holm Christensen Biosystemer",
           "Ingen data"
          ],
          [
           "Økonomisk 2. generations bioethanol \n Hovedfor<br>målet med ECONOL projektet er at demonstrere m<br>ulighederne for at reducere omkostningerne og <br>energiforbruget ved produktion af ethanol ud f<br>ra lignocellulose med omkring 50% ved at udnyt<br>te 4 innovative teknologier og 2 koncepter. \n ",
           2016,
           "Brint og brændselsceller",
           "Holm Christensen Biosystemer",
           "Ingen data"
          ],
          [
           "Naturtro uoploselig kromogen Biomasse Substrater til omkostningse<br>ffektiv 2. \n Nuværende state-of-the-art metoder til screening af <br>enzyrner, som f.eks. AZCl-substrater, er designet til at analyser<br>e effekterne af enzymer eller kulturer pi substrater, der er udvi<br>klet ud fra ren fremstillede polysaccharider. Derfor kan de kun g<br>ive et tilnrermelsesvist billede af enzymers effekter i biomasse.<br> \n ",
           2016,
           "Bio og affald",
           "GlycoSpot",
           "Ingen data"
          ],
          [
           "Biogasopgradering for højrent CO2 og biomet<br>an i naturgaskvalitet (BIOCO2) \n Formålet e<br>r at udvikle en ny og mere energi-effektiv <br>amin-opgraderingsteknologi, som både gør de<br>t muligt at opgradere biogas til naturgasne<br>ttet og producere højrent CO2 til industrie<br>n. \n ",
           2016,
           "Bio og affald",
           "Danmarks Tekniske Universitet (DTU)",
           "Ingen data"
          ],
          [
           "Præproces biogas til energ \n Formålet med projektet er at red<br>ucere tab af metan fra stalde og for-tanke samtidig med at bi<br>ogasanlæggene vil kunne øge deres biogasproduktion. Projektet<br> sigter både mod at kvalificere tab af metan før biogasproces<br>sen samt at udvikle teknologi og management systemer således <br>at metanen kan nyttiggøres og drivhusgasemissioner reduceres.<br> \n ",
           2016,
           "Bio og affald",
           "Aarhus Universitet",
           "Ingen data"
          ],
          [
           "Demonstration af ny teknologi til biogas opgradering \n P<br>rojektet vil demonstrere en ny banebrydende miljøvenlig <br>biogas-opgraderingsteknologi. Teknologien benytter enzym<br> baserede bio-katalysatorer som accelererer CO2 absorpti<br>onen. Forbruget af el og damp reduceres herved, hvilket <br>resulterer i forventede omkostningsbesparelser på 25%. \n<br> ",
           2013,
           "Bio og affald",
           "HMN Naturgas I/S",
           "Ingen data"
          ],
          [
           "SYNERGI ved INTEGRATION af BIOGAS og B<br>IO-SNG \n Formålet med projektet er at <br>demonstrere synergien mellem biogaspro<br>duktion, termisk forgasning af biomass<br>e og gasopgradering til naturgaskvalit<br>et med injektion på naturgasnettet. \n ",
           2015,
           "Bio og affald",
           "DANSK GASTEKNISK CENTER A/S",
           "Ingen data"
          ],
          [
           "Stabil formulering af gær til 2G bioethanol: Skalerbar produktion af C5 tørgær ti<br>l kommecielt brug \n Terranol har udviklet en avanceret hexose og pentose fermente<br>rende gær til 2. generations bioethanol produktion. En undervurderet udfordring f<br>or den kommercielle anvendelse af en sådan gær ligger i produktion af kommerciel <br>relevant mængde og kvalitet. Dette projekt har til formål at udvikle og demonstre<br>re en effektiv og økonomisk produktion og formulering af et aktivt tørgærprodukt.<br> \n ",
           2015,
           "Bio og affald",
           "TERRANOL A/S",
           "Ingen data"
          ],
          [
           "BioUpgrade- Ex-situ biogas upgrading through biolo \n BioUp<br>grade har til formål at udvikle en innovativ, effektiv og <br>robust teknologi til biologisk biogas opgradering, ved at <br>udnytte de allerede eksisterende hydrogenotrophic mikroorg<br>anismer fra anaerob nedbrydning proces, for at opnå metan <br>koncentration i biogas svarende til naturgas (> 95% CH4). <br>\n ",
           2017,
           "Bio og affald",
           "Danmarks Tekniske Universitet (DTU)",
           "Ingen data"
          ],
          [
           "PolyGas - POLYgeneration by thermal GASification \n Projektets mål e<br>r at udvikle et teknisk fundament for et bioraffinaderi baseret på <br>LT-CFB forgasning og zeolit tjære-reformering. Systemet kan produce<br>re både elektricitet, fjernvarme, rå bio-olie og gødningsegnet aske<br> på basis af mange forskellige biomasse- og affaldsfraktioner. Proo<br>f-of-concept forsøg og optimeringsmodellering er del af projektet. <br>\n ",
           2016,
           "Bio og affald",
           "Danmarks Tekniske Universitet (DTU)",
           "Ingen data"
          ],
          [
           "Ny måde at oprense af biogas til naturgas \n Formålet med projekte<br>t er at udvikle et nyt koncept til at opgradere biogas til naturg<br>as til brug i det danske naturgasnet, ved hjælp af en elektrokemi<br>sk methanisering af det CO2 der findes i gassen. Det foreslåede k<br>oncept anslås at kunne reducere oprensningen af gassen og nedsætt<br>e energiforbruget med ca. 20 % sammenlignet med ”State of the Art<br>”. \n ",
           2016,
           "Smart Grid og systemer",
           "DANISH POWER SYSTEMS ApS",
           "Ingen data"
          ],
          [
           "XEL2Gas – excess electricity to biogas \n XEL2Gas udvikler lang<br> tids lagring af vedvarende overskuds elektricitet ved et bior<br>affinaderi integreret med overskuds CO2 produktion. Konceptet <br>indebærer biologiske omdannelse af brint og kuldioxid til eddi<br>kesyre af skræddersyede mikroorganismer samt anvendelses af ed<br>dikesyren til hurtig biogasproduktion når dette efterspørges. <br>\n ",
           2016,
           "Smart Grid og systemer",
           "Aalborg Universitet (Fredrik Bajers Vej)",
           "Ingen data"
          ],
          [
           "Oxy-fired Biomass Gasification for Flexible Power \n Biomasse blive<br>r en uundværlig resurse i et dansk energisystem baseret på 100% ve<br>dvarende energi. Projektet vil udvikle løsninger der bruger biomas<br>se så effektivt som muligt og med høj fleksibilitet: Ved at benytt<br>e forgasning med integrerede iltmembraner kan man efter behov omda<br>nne biomassen til enten el eller bæredygtige transportbrændsler. \n<br> ",
           2016,
           "Bio og affald",
           "Danmarks Tekniske Universitet (DTU)",
           "Ingen data"
          ],
          [
           "Udnyttelse af energipotentialet fra have-<br>parkoverskud, tang og grøde i Aikan tekno<br>logien \n Projektet har til formål at udvi<br>nde biogas fra den fine del af have-parko<br>verskud, tang og grøde via Aikan teknolog<br>ien og fremstille et godt kompostprodukt.<br> \n ",
           2015,
           "Bio og affald",
           "Solum A/S. AIKAN",
           "Ingen data"
          ],
          [
           "Forøget biogasudbytte ved brug af halm, dybstrøelse og a<br>ndet landbrugsaffald \n Projektets formål er at udvikle e<br>n kosteffektiv metode til at forbedre reaktivitet og hån<br>dteringsegenskaber af landbrugsaffald, med henblik på at<br> kunne forbedre udbyttet og driftsøkonomien på biogasfre<br>mstillingen med 25% i forhold til nu anvendte teknikker.<br> \n ",
           2015,
           "Bio og affald",
           "IPU",
           "Ingen data"
          ],
          [
           "Demonstration af REnescience full-scale plant - 2 \n Projekte<br>ts formål er at demonstrere REnescience teknologien i fuldsk<br>ala som en integreret del af et samlet affaldshåndteringssys<br>tem med udnyttelse af den bionedbrydelige del til biogas og <br>resten af affaldet med henblik på maksimal genanvendelse og <br>demonstrere teknologiens modenhed og kommercielle parathed. <br>\n ",
           2015,
           "Bio og affald",
           "Ørsted A/S",
           "Ingen data"
          ],
          [
           "Demonstration af AD Booster systemet for øget biogasprodukti<br>on \n Formalet med projektet er at demonstrere en op til 50% <br>stigning i biogasproduktion ved brug af AD Booster system på<br> biogasanlæg til forbehandling af forskellige typer af organ<br>iske fibre, såsom halm og andre biomasser med højt fiberindh<br>old, som normalt betragtes som uegnet til biogas produktion.<br> \n ",
           2015,
           "Bio og affald",
           "BioVantage.dk ApS",
           "Ingen data"
          ],
          [
           "Urban Energy, Forprojekt \n At foretage et feasibility stud<br>ie af hvordan et biogasanlæg kan anvendes til at genindvin<br>de energi og næringsstoffer i \"urban waste\" på en økonomis<br>k, miljømæssig og politisk bæredygtig måde. Projektet er e<br>t dansk-kinesisk samarbejde, der ventes at medføre eksport<br> af dansk teknologi velegnet til urbane områder i Kina. \n ",
           2014,
           "Bio og affald",
           "Renewable Energy Systems",
           "Ingen data"
          ],
          [
           "Håndtering af Bio Korrosion \n Indflydelsen af materiale mikrost<br>ruktur på korrosion i biomassefyrede kraftvarmeværker undersøge<br>s. Modeller af korrosion afhænging af brændsel, materiale og ko<br>rrosionsmiljø vil blive udviklet. Resultaterne vil muliggøre fo<br>rbedret håndtering af korrosion i biomasse, som fører til laver<br>e vedligeholdelses omkostninger og bedre rådighed for værkerne <br>\n ",
           2015,
           "Bio og affald",
           "Danmarks Tekniske Universitet (DTU)",
           "Ingen data"
          ],
          [
           "Advanced Utilization of Wood Pellets \n Projektet omhandler aktiv<br>iteter der skal bidrage til en hurtigt og effektiv konvertering <br>af eksisterende kulfyrede kraftværker til biomassepiller. Der fo<br>kuseres på detaljerede undersøgelser af formalingen af biomassep<br>iller i eksisterende kulmøller, med det formål at øge brændselsf<br>leksibiliteten, forbrændingseffektiviteten og driftssikkerheden.<br> \n ",
           2015,
           "Bio og affald",
           "Danmarks Tekniske Universitet (DTU)",
           "Ingen data"
          ],
          [
           "MicrobStopNH3 \n MicrobStopNH3 projektet vil anvende bioaugmen<br>tering af ammoniaktolerante metanogene konsortier for at øge <br>produktionen af metan op til 35pct i en biogasreaktor som er <br>hæmmet af ammoniak. Tilsætning af ammoniak-tolerante mikroorg<br>anismer vil blive foretaget som en enkelt handling og direkte<br> i reaktoren uden at standse fødningen eller ændre biomasse. <br>\n ",
           2015,
           "Bio og affald",
           "Danmarks Tekniske Universitet (DTU)",
           "Ingen data"
          ],
          [
           "Ultraformaling af halm øger dansk biogas produktion \n Vi vil opti<br>mere halm som biomasse. Ved at formale halm, kan vi nedbringe oph<br>oldstiden i biogasreaktoren. Kornstørrelser på 0,5-1,5 mm. vil væ<br>re langt lettere at omsætte organisk, og vi forventer at kunne re<br>ducere halmens opholdstid med ca. 30 % - samtidigt med, at vi øge<br>r gasudbyttet med 10-15 % i forhold til mere kompakte strukturer.<br> \n ",
           2014,
           "Bio og affald",
           "EUROmilling A/S",
           "Ingen data"
          ],
          [
           "Regenererbar svovlfjernelse fra biomasseforgassere \n Forgas<br>ningsgas fra biomasse-forgassere indeholder betydelige mæng<br>der hydrogensulfid som skal fjernes, hvis gassen skal omdan<br>nes til f.eks. syntetiske brændsler. Formålet med dette pro<br>jekt var at absorbere svovl ved høj temperatur vha. metalox<br>id-absorbere og udvikle en teknik til absorber-regenerering<br>. \n ",
           2014,
           "Bio og affald",
           "Teknologisk Institut",
           "Ingen data"
          ],
          [
           "CoRyFee - Omkostningsreduktion i Gærfermentering for Kommerciel <br>\n I dette projekt deltager én dansk og svenske partnere med supp<br>lerende teknologier omfattende hele processen, som fører til 2. <br>generations bioethanol. Formålet med projektet er i demonstratio<br>nsskala at reducere gæringsrelaterede produktionsomkostninger ve<br>d at forbedre udbytte, produktivitet, kapital- og driftsudgifter<br>. \n ",
           2014,
           "Bio og affald",
           "TERRANOL A/S",
           "Ingen data"
          ],
          [
           "Biogas til transport \n Projektets formål er at gennemføre et <br>360 gr. feasibility study af en værdikæde for lokal produktio<br>n af flydende biogas på Samsø til fossilfri drift af Samsøfær<br>geme og landtransport på øen. Den skal udgøre kemelementet i <br>et Smart Energy System, der kan gøre Samsø til modelsamfund f<br>or den nationale 2050 målsætnin om et 100% fossilfrit Danmark<br> \n ",
           2014,
           "Smart Grid og systemer",
           "Samsø Kommune",
           "Ingen data"
          ],
          [
           "Udvidet Brændsels Sortiment \n Formålet med <br>projektet er at sikre den fremtidige forsyn<br>ing med billige biobrændsler til afbrænding<br> ved at udvide brændselssortimentet. Samtid<br>ig er det formålet at undgå deponi af aske <br>ved at nyttiggøre de bundne næringsstoffer.<br> \n ",
           2014,
           "Bio og affald",
           "DALL ENERGY ApS",
           "Ingen data"
          ],
          [
           "Nye coating til biomassefyring \n Projektet har til form<br>ål at udvikle og demonstrere nye korrosionsresistente c<br>oating materialer til varmevekslere (overhedere) i biom<br>assefyrede kraftvarmeværker. Disse materialer kan forbe<br>dre økonomien i biomassefyring igennem øget pålidelighe<br>d, længere levetid og højere virkningsgrad for værkerne<br>. \n ",
           2014,
           "Bio og affald",
           "Danmarks Tekniske Universitet (DTU)",
           "Ingen data"
          ],
          [
           "Udvikling af elektrofilter til biobrændselsanlæg \n Formålet med<br> projektet er at udvikle en effektivt og økonomisk løsning af r<br>øg fra biomassefyrede kedler – primært halm og flis. Der vil væ<br>re et globalt marked for det fuldt udviklede produkt. På længer<br>e sigt vil teknologien bidrage til øget anvendelse af biomasse <br>i stedet for fossilt brændsel og dermed reducere CO2-udledning.<br> \n ",
           2014,
           "Bio og affald",
           "Maskinfabrikken REKA",
           "Ingen data"
          ],
          [
           "Automatisk sortering af usorteret dagrenovation \n At færdigudvikl<br>e og levere ”proof of concept” til en teknologi der kan dele usor<br>teret dagrenovation op i 5-7 fraktioner i ét sorteringstrin heraf<br> en bionedbrydelig fraktion. Kombineres med teknologi, der kan se<br>parere emballeret madaffald fra butikker i en madpulp og emballag<br>e fraktion. Madpulp og bionedbrydelig fraktion anvendes til bioga<br>s. \n ",
           2014,
           "Bio og affald",
           "Holm Christensen Biosystemer",
           "Ingen data"
          ],
          [
           "Flexible CHP from Biogas based on Waste Biomass \n Det danske energ<br>isystem kommer i fremtiden i stigende grad til at efterspørge flek<br>sibel elproduktion. Produktionen på biogasanlæg kan reguleres ved <br>tilsætning af letomsættelig, koncentreret biomasse. Projektet etab<br>lerer vidensgrundlaget for anvendelse af samensileret roetop og ha<br>lm, restbiomasser, der udgør en stor, hidtil upåagtet ressource. \n<br> ",
           2014,
           "Bio og affald",
           "AGROTECH A/S",
           "Ingen data"
          ],
          [
           "Fleksibel anvendelse af bio<br>mass på PF kedler \n Projekt<br>et vil tilvejebringe værktø<br>jer, der understøtter konve<br>rtering af danske PF fyrede<br> kedler fra kul til biomass<br>e. \n ",
           2014,
           "Bio og affald",
           "Danmarks Tekniske Universitet (DTU)",
           "Ingen data"
          ],
          [
           "Biomass Gasification Polygeneration (BGP) \n Biomass Gasificatio<br>n Polygeneration (BGP) er en højeffektivitetsproces udviklet ti<br>l at bistå i løsningen af de problemer som fremtidens høje pene<br>tration af fluktuerende, fornybare energikilder kan give. Anlæg<br>get konverterer biomasse til syntetisk naturgas (bufferkapacite<br>t) eller til el og varme afhængigt af efterspørgsel og elpris. <br>\n ",
           2014,
           "Bio og affald",
           "Danmarks Tekniske Universitet (DTU)",
           "Ingen data"
          ],
          [
           "Kalundborg Next \n Projektets mål er at udvikle en holdbar og konk<br>urrencedygtig lignocellulose baseret mikrobiel olie til produktio<br>n af renewable brændstoffer. Projektet vil demonstrere produktion<br> af mikrobiel olie fremstillet ud fra lignocellulose baseret sukk<br>er, som produceres ud fra halm, og vil levere de nødvendige tekno<br>-økonomiske data til at opskalere processen til kommercielt skala<br>. \n ",
           2013,
           "Bio og affald",
           "Ørsted A/S",
           "Ingen data"
          ],
          [
           "Videreudvikling og demonstration af Hydrofaction platform til ko<br>mmerciel udnytte \n Projektet er en fortsættelse af et igangværen<br>de EUDP projekt, som fokuserer på videreudvikling og demonstrati<br>on af Steeper Energy's Hydrofaction Technologi. Fokus er på etab<br>lering af verdens første kommercielle biorafinaderi, til fremsti<br>lling af svovlfattigt bioolie til skibe på Frederikshavn havn. \n<br> ",
           2013,
           "Bio og affald",
           "STEEPER ENERGY ApS",
           "Ingen data"
          ],
          [
           "Værktøjer til optimering af biogasproduktion- AnaSTYR \n I projektet AnaSTYR udvikles og demonstreres et optimeringsværktøj til online styring af den rådneproces, der finder sted i biogas-og rådnetanksanlæg. Ved anvendelse af værktøjet vil det være muligt at optimere gasudbyttet fra gylle, slam og anden biomasse, uden<br> at øge energiforbruget til drift af reaktoren. Dette vil samlet set medvirke til at forbedre den tekniske-og økonomiske drift af anlægget. \n I projektet udvikles og demonstreres en teknologi til online styring af den rådneproces, der finder sted i biogas-og rådnetanksanlæg. Projektet er et samarbejde mellem renseanl<br>æg med rådnetanke og biogasanlæg. \nVed at udvikle og afprøve et optimeringsværktøj vil det være muligt at optimere gasudbyttet fra gylle, slam og anden biomasse, uden at øge energiforbruget til drift af reaktoren. Optimeringsværktøjet baseret på online overvågning af udrådningsprocessen samt procesanalyser. På baggru<br>nd af disse aktuelle måleværdier, der beskriver de nuværende konditioner i reaktoren, sendes feedback, i form af setpunkter tilbage til SROén. \nTilbagemeldingen fra reaktoren kan således bruges til at give direkte feedback til pumper etc. Eller benyttes som udgangspunkt for personalet til at foretage en objektiv vurd<br>ering af tilstanden i reaktoren. På nuværende tidspunkt varierer omfanget af procesovervågningen og styringen af biogasproduktionen på de danske anlæg meget, og der er derfor et stort potentiale i udviklingen af et værktøj til optimering af anaerob udrådning af biomasse.  \nNærværende udviklings-og demonstrationsproje<br>kt består af et feasibility studie med undersøges state-of-the-art inden fro online sensorer samt en efterfølgende demonstration af optimeringsværktøj og sensorer i et fuldskalaforsøg. På baggrund heraf udvikles optimeringsværktøj, der anvender målesignaler fra udrådningsprocessen til optimering af biogasproduktionen<br>.",
           2013,
           "Bio og affald",
           "EnviDan",
           "Ingen data"
          ],
          [
           "Energieffektivt high-tech røggasfilter til biomassekedler \n Teknologien har lavt energiforbrug, lave driftsomkostninger og lang levetid i forhold til eksisterende teknologi. \n Formålet med projektet er at udvikle og demonstrere en ny type filter til rensning af røggas fra halmfyr.\nProjektet vil udvikle et relativ prisbilligt og fuldt pålideligt filter, der kan opfylde de skærpede krav til partikelemission fra biomass<br>efyrede kedelanlæg. Disse krav er beskrevet i den fælles europæiske standard EN303-5, som pt. er under revision. Det forventes, at revisionen af standarden medfører, at der maksimalt må udledes 60 mg partikler pr. m3 røggas fra biomassefyrede kedelanlæg for anlæg op 500 KW. Det danske miljøministerium har meldt ud, at i Danmark vil EN303-5 også komme til at gælde for større kedler. Uden en effektiv filtrering af røgg<br>assen vil kravet til partikel emission ikke kunne opfyldes for halmfyrede kedler. \n\nOpfindelsen vil være et gennembrud i kedelbranchen og sikre en bæredygtig anvendelse af biomasse fra halm også i fremtiden, der lever op til de nye krav til partikelemission og de overordnede politiske mål om en 100% vedvarende energi i 2050 i Danmark. Det nye filter vil både være billigere i drift pga. et mindre el-forbrug samt mindr<br>e vedligeholdelsesudgifter og samtidig betyde et anseeligt kvalitetsløft, idet filtret også sikrer udskillelse af selv meget små partikler. \n\nArbejdsprogrammet vil fokusere på design og konstruktion af demo-prototype tilpasset et kedelanlæg. Projektet vil foretage testkørsler og justeringer og udvikle en protokol for målinger af renseevne. \n\nProjektet har et stærkt kommercielt fokus. Men det vil også bidrage til at l<br>øse efterspørgslen blandt andre danske (og EU) kedelvirksomheder, og dermed sikre arbejdspladser i branchen. Danmark har en lang tradition for anvendelse af halm i energiforsyningen (både varme og el), og danske virksomheder har gennem mange års produktion af halmfyrede kedler opnået unikke kompetencer og en globalt førende position på området. Det er derfor afgørende, at der udvikles teknologi som sikrer anvendelsen<br> af halm i energiforsyningen, såvel i Danmark som i EU. I modsat fald får der en række negative konsekvenser: 1) Tab af arbejdspladser for danske kedelvirksomheder og tillige tab af potentielt set meget store eksportmuligheder; 2) betydelige vanskeligheder med at opfylde den energipolitiske målsætning om 100 % VE i 2050 – biomasse, herunder halm, der er en betydende VE-kilde såvel til produktion af varme som el-energ<br>i.",
           2013,
           "Bio og affald",
           "MASKINFABRIKKEN FAUST ApS",
           "Ingen data"
          ],
          [
           "Fuldskaldemonstration af trykkogning og anaerob nedbrydning af dybstrøelse. \n Proj<br>ektet fokuserer på en fuldskalademonstration på Ribe Biogas af den praktiske og øk<br>onomiske gennemførlighed af at anvende dybstrøelse som substrat til biogasprodukti<br>on ved anvendelsen af en patenteret forbehandling kaldet NiX baseret på trykkognin<br>g med basetilsætning. Metoden har i tidligere projekter vist øget nedbrydelighed a<br>f dybstrøelse såvel som en evne til at fjerne hovedparten af indholdet af ammonium<br>. \n ",
           2013,
           "Bio og affald",
           "Nature Energy Construction A/S",
           "Ingen data"
          ],
          [
           "Katalytisk fjernelse af tjære fra biomasseforgassere II \n Fokus i projekt<br>et har været på biomasseforgasning til kraftvarme og fremstilling af nye <br>biobrændstoffer bremses af ineffektiv fjernelse af tjærer fra forgasnings<br>gassen. Tilsodning og regenerering af tjærekatalysatoren studeres og en n<br>y katalysator installeres i Skive Fjernvarmes anlæg. Et forstudie til ops<br>tilling af Haldor Topsøes bio-syntetisk brændsel anlæg i Skive foretages <br>\n ",
           2013,
           "Bio og affald",
           "HALDOR TOPSØE A/S",
           "Ingen data"
          ],
          [
           "Ny teknologi for en effektiv udnyttelse af enggræs i biogas reaktor \n Formålet er at udvikle og markedsføre teknologi, der kan nyttiggøre græs fra enge og naturplejearealer til energiformål billigt og effektivt. Løsningen omfatter en mekanisk behandling – excoriation - integreret med slåningen, som opbryder det <br>lignificerede græsstrå og fordobler nedbrydeligheden i gasreaktoren, og øger dermed gasudbyttet med 30%. \n Biomasse fra ekstensive arealer, i særdeleshed græs fra enge og overdrev, vil udgøre en væsentlig ressource i omstillingen til grøn energi. I Europa findes store områder, der kan producere ganske væsentlige<br> mængder af biomasse, men udnyttelsen er betinget af at arealerne kan høstes effektivt og billigt og at græsset kan forbehandles på en måde der øger dets nedbrydelighed og dermed gasudnyttet. \n\nProjektet har til formål at udvikle og demonstrere en innovativ kombination af mindre og mere energieffektive høsttekno<br>logier sammenholdt med en indbygget behandling der excorierer, det vil sige skræller og åbner cellestrukturen i det lignificerede og modne græs. \n\nProjektet involverer deltagelse af både private virksomheder og offentlige universiteter der sikrer udvikling af et teknologisk og kommercielt konkurrencedygtigt prod<br>ukt, som er grundigt testet med en videnskabelig dokumentering af det forøgede gaspotentiale i græsset.\nPrototyper vil blive testet under areal forhold for at eftervise høsteffektivitet og kortlægge energiforbruget i hele værdikæden og der fremstilles demonstrationsmaskiner til høstning af biomasse fra enge. Eff<br>ekten fra produktets indbyggede forbehandling vil blive efterprøvet i fuld skala biogasreaktorer.\n\nProjektet vil levere viden i form af produktvalidering og driftsøkonomi som er vital for den videre markedsføring af teknologien. Produktet vil blive markedsført gennem virksomhedens eksisterende globale markedskan<br>aler.",
           2013,
           "Bio og affald",
           "Kverneland Group Kerteminde A/S",
           "Ingen data"
          ],
          [
           "Bæredygtig biomasse til energimarkedet \n Københavns Universitet vil i dette IEA projekt bidrage til at optimere samarbejdet mellem førende\nbiomasseproducerende og forbrugende lande. For at udbrede brugen af lovende former for biobrændsler og\nsikre dokumentation for biomassens bæredygtighed vil projektet tilvejebri<br>nge informationsmateriale til\nprivate og offentlige beslutningstagere. \n Formålet med dette projekt er at muliggøre et samarbejde mellem Danmark og andre førende lande\nindenfor produktion eller forbrug af biomasse til energiformål. Herunder søger projektet at bidrage til\nmobilisering af biomasse til energimarkedet<br>, men med behørig hensyntagen til produktion af fødevarer og\nfibre, samt at fremskaffe viden og dokumentation for kritiske faktorer i forhold forskellige internationale\nbiomasseressourcer og –brændslers bæredygtighed. Dansk deltagelse i Task 43 og Task 38 vil i\nsamarbejde med andre lande, der alle er stærkt engage<br>rede i produktion og anvendelse af biomasse til\nenergi, afrapportere en undersøgelse af praktiske erfaringer med biomassecertificering, Alle dele af\nbioenergisektoren er repræsenteret i undersøgelsen, som også ser på konsekvenserne af certificering for\nbiomassemarkedet. Desuden vil arbejdet omfatte evalueringer af<br> hvilke faktorer, der er i mest kritiske i\nforhold til internationale biomasseressourcers bæredygtighed og dermed mobilisering. Projektet ser både\npå økonomiske, sociale og miljømæssige bæredygtighedsaspekter, inklusiv klimaeffekterne ved at erstatte\nfossile brændsler med biobrændsler. Projektet vil tilvejebringe <br>informationsmateriale og anden formidling\nrettet bredt mod danske private og offentlige beslutningstagere. Den danske deltagelse i Task 43 og 38 vil\nsøge at være på forkant med områder, hvor videnskabelige resultater kan blive af betydning for udviklingen\naf politik, lovgivning og markedsbaseret biomassecertificer<br>ing.",
           2012,
           "Bio og affald",
           "Københavns Universitet",
           "Ingen data"
          ],
          [
           "Nye dieselbrændstoffer \n Formålet med projektet er, ved gennemgang af stat-of-the-art og udvikling og demonstration, at undersøge\nmulighederne for at anvende alkoholer som brændstoffer i dieselmotorer gennem et internationalt\nsamarbejdsprojekt under IEA Advanced Motor Fuels Implementing Agreement. \n Det er den generelle opfattelse at flydende biobrændstoffer som alkoholer skal anvendes hvor der ikke er\nandr<br>e realistiske alternativer, når der bliver knaphed på fossile brændstoffer. På transportområdet gælder\ndette for fly, skibe og lastbiler. I denne sammenhæng forudser mange internationale organisationer, som\nIEA Advanced Motor Fuels Implementing Agreement (IEAAMF), at der vil blive mangel på\ndieselbrændstoffer i nærmere fremtid. Alkoholer er glimrende brændstoffer til tændrørsmotorer på grund af\nde høje okta<br>ntal. Til gengæld er de ikke velegnede til dieselmotorer, med mindre der anvendes\ntændingsforbedrende tilsætningsstoffer eller der anvendes det såkaldte \"dual fuel\" koncept, hvor en lille\nsmule dieselbrændstof indsprøjtes for at antænde blandingen. På denne baggrund har IEAAMF besluttet\nat etablere et projekt med henblik på, at undersøge mulighederne for at anvende alkoholer i dieselmotorer.\nIdeen bag dette<br> projekt er, at karakterisere og vurdere mulighederne for fremtidig anvendelse af alkoholer i\nkompressionstændingsmotorer (dieselmotorer). Dette vil ske ved at evaluere eksisterende viden (literatur\nog know-how hos relevante personer/virksomheder/forskningsinstitutioner), samt ved at udføre forsøg på en\nstate-of-the-art dieselmotor ved anvendelse af alternative tilsætningsstoffer og forskellige blandinger a<br>f\nalkohol/diesel blandinger. Dette involverer studier af ethanol brændstof specifikationer og biomasse\nbaserede additiver, som er kompatible med dagens dieselmotorer til ethanoldrift. En anden væsentlig idé\nbag projektet er at studere \"flex fuel\" ethanol/diesel motorer, som kan anvende både ethanol og diesel\nbrændstof, uden pilot indsprøjtning. Dette indebærer muligheder for udvikling af både ethanol brænds<br>toffer\nog dieselmotor koncepter. Projektet startes op i en separat del, WP1, hvor den eksisterende viden om\nanvendelse af ethanol i dieselmotorer kortlægges. I WP2, undersøges eksperimentelt mulighederne for\nanvendels af ethanol i Scania's seneste dieselmotor teknologi. Forsøgene udføres hos VTT i Finland. Dette\ninvolverer adskillige additiv og ethanol/diesel brændstof kombinationer og studier af forskellig<br>hed.",
           2012,
           "Andet",
           "Danmarks Tekniske Universitet (DTU)",
           "Ingen data"
          ],
          [
           "El-opgraderet biogas \n Projektet skal i en skala på 10 Nm3/t demonstrere effektiv biogasopgradering til rørledningskvalitet ved katalytisk omdannelse af CO2 indholdet i biogassen til metan ved reaktion med hydrogen fremstillet fra damp med Solid Oxide Elektrolyse. Parallelt designes og vurderes økonomi for et fuldskala anlæg samt samfundsmæssige nyttevirkning \n Projektets formål er: • at designe, bygge og drive en pilot til metanisering af CO2 i biogas ved hjælp af\nhydrogen produceret ud fra damp i en Soli<br>d Oxide Elektrolyse (SOEC) enhed i en skala på ca. 10 Nm3/h\nsvarende til 40 kW elektrolyse kapacitet • at måle effektivitet og holdbarhed af procestrinene og estimere\nprisen på et fuld skala anlæg, der kan konkurrere med traditionel opgraderingsteknologi samt udarbejde\nplaner for markedsintroduktion og –udvikling • at analysere værdien af teknologien for den danske\nelektricitet og gas infrastruktur Metanisering af CO2 i biogas vil samtidig muliggøre energilagring af\nelproduktion fra vind (og på den måde re<br>ducere behovet for transmission kapacitet), opgradere biogas og\nforøge biogas resursen med 50 -80 % (og derfor reducere naturgasforsyningsusikkerhed og CO2 udslip).\nTidligere gennemførte projekter har indikeret at en omsætningseffektivitet fra elektricitet til nedre\nbrændværdi i metan på 74-76 % kan opnås. Derudover kan der opnås en omsætningseffektivitet til\nfjernvarme på 14 %. Disse høje effektiviteter er muliggjort af den indbyggede høje effektivitet for SOEC\nteknologien samt synergien med avanceret met<br>aniseringsteknologi, der er i stand til at produceres den\ndamp, som anvendes i SOEC enheden. Projektpartnerne dækker hele værdikæden fra landbrugsråvarer og\nelektricitets produktion til brug af den opgraderede biogas. Haldor Topsøe A/S vil være projekt koordinator\nog stå for design af demonstrationsanlægget samt fuldskala anlægget. Topsøe vil også levere SOEC\nmodulet, rensemasser til biogassen samt katalysator til metaniserings trinnet. Aarhus Universitet vil levere\nbiogas fra deres eksisterende biogasreak<br>tor i Foulum. AU vil være ansvarlig for den daglige drift af\ndemonstrationsanlægget. Baseret på data fra demonstrationsanlægget vil der blive udført et feasibility\nstudie for et fuldskala anlæg. PlanEnergi vil sammen med Ea Energyanalyses optimere fuldskala\nanlægget baseret på dynamiske modeller af fremskrevne prisstrukturer for elleverancer. HMN og Naturgas\nFyn vil udføre ingeniørarbejder i forbindelse med rørledninger og målestationer og vil også bidrage med\nderes viden om kvalitetskravene til naturgas s<br>ystemet. EnergiMidt vil stå for de elektriske installationer.\nXergi har bygget det eksisterende biogas test anlæg i Foulum og vil deltage med deres viden om biogas\nanlægsdesign. DGC vil udføre certificerede analyser af bio- og produktgasserne. Cemtec vil se på\ncertificering af komponenter og tilladelser. Ea Energyanalyses vil indbygge de indhøstede driftserfaringer i\nen dynamisk model. Baseret på denne model vil samfundsværdien af integration af et biogas\nmetaniseringsanlæg i energisystemet blive evalueret<br>.",
           2012,
           "Brint og brændselsceller",
           "HALDOR TOPSØE A/S",
           "Ingen data"
          ],
          [
           "Højeffektiv fremstilling af 2G bioethanol \n Projektet skal udvikle og demonstrere en højeffektiv produktionsproces for 2. generations bioethanol. Processen kombinerer forbehandling, enzymatisk hydrolyse og brug af modificeret gær i stor skala i Inbicons anlæg i Kalundborg. \n Ved en optimal kombination af de seneste dansk udviklede<br> teknologier til forbehandling, enzymatisk\nhydrolyse samt af modificeret gær til fermentering, kan 2. generations bioethanol i dag teoretisk\nproduceres med høj effektivitet fra hvedehalm til en konkurrencedygtig pris. Projektformålet er at udvikle,\nimplementere og demonstrere den kombinerede process i storskala i Inbicons anlæg i <br>Kalundborg.\nEn økonomisk levedygtig 2. generation bioethanol proces, hvor integration af Inbicon's forbehandlingsteknologi med robuste terranol gærstammer, som udover hexose, også fermenterer xylose til ethanol med højt udbytte og effektivitet, vil blive demonstreret.\nUdviklingen af batch og fed-batch fermenteringsprocesser i biom<br>asse hydrolysat vil blive efterfulgt af yderligere udvikling i en udvidet semikontinuert eller kontinuert proces og bestemmelse af proceskritiske parametre vil herved blive etableret. Desuden vil et procesovervågningssystem samt en procedure til fremstilling af gær inokulum blive realiseret i stor skala.\nEn række specifikke modifi<br>kationer af Inbicon-anlægget er nødvendige og vil blive adresseret inden demonstration af den udviklede fermenteringsteknologi kan finde sted.\nDa anvendelsen af en genetisk modificeret organisme (GMO) er påkrævet for gennemførelsen af dette projekt er et lovgivningsmæssigt arbejde nødvendigt for at opnå tilladelse til produktion m<br>ed en GMO. Dette arbejde involverer en komplet beskrivelse af den fælles teknologi, der skal anvendes i Inbicon-anlægget.\nSåledes vil parametrene for kontinuert drift i industriel målestok blive fastsat og derefter overført til stor skala, hvorved der opnås mindst 50% forøget udbytte af hvedehalm i demonstrationsanlægget i Kalundb<br>org.",
           2012,
           "Bio og affald",
           "TERRANOL A/S",
           "Ingen data"
          ],
          [
           "Bioolie fra biomasse og affald \n Projektets formål er i to trin at kontruere det første fuldskala demonstrationsanlæg til produktion af bio olie til at erstatte fossil<br>e brændstoffer til varme og el-produktion. \n Organic Fuel Technology (OFT) processen er udviklet til at producere bio olie fra organiske materialer som halm eller orga<br>nisk affald, ved hjælp af en innovativ proces baseret på mikrobølger ved en katalytisk depolymerisering. Projektets formål er i to trin at kontruere det første fuldska<br>la demonstrationsanlæg til produktion af bio olie til at erstatte fossile brændstoffer til varme og el-produktion. \n\nOFT teknologien er blevet demonstreret på selskabe<br>ts pilotanlæg i Århus/Ødum og Randers, Danmark. Massebalance test i pilotanlægget har vist, at når der bruges halm, træ eller gyllepiller, er resultaterne ca. 30% olie<br>, 20-25% gasser, vand (28-33%) og resten er andre restprodukter. I pilotforsøget var udbyttet omkring 1 liter bio-olie (brændværdi 32 MJ/kg) pr. 3,3 kg indført halmpil<br>ler",
           2012,
           "Bio og affald",
           "ORGANIC FUEL TECHNOLOGY A/S",
           "Ingen data"
          ],
          [
           "Bæredygtig biomassekraftvarme i Sindal \n Dall Energy vil demonstrere en højeffektiv biomassekedel t<br>il både el- og fjernvarmeproduktion i Sindal sammen med partneren Sindal Fjernvarme. \n Dall Energy <br>vil sammen med partneren SEAS-NVE demonstrere en innovativ biomassekedel til både el- og fjernvarme<br>produktion i Sorø.  I anlægget samles og demonstreres en række nye tiltag: Kedlen har en høj effekt<br>ivitet, er brændselsfleksibel og den har lave emissioner samtidig med, at den kombineres med elprod<br>uktion ved hjælp af ORC-teknologi. Ved ORC teknologi produceres el ved hjælp af et hedt-olie-anlæg.",
           2011,
           "Bio og affald",
           "DALL ENERGY ApS",
           "Ingen data"
          ],
          [
           "Industriel storskala konvertering af halm til biogas \n Projektet vil demonstrere en ny mekanisk metode til effektiv forbehandling af halm før en biogasproces samt selve udrådningen af halmen i Århus Universitets biogasanlæg i Foulum. Der opbygges en fuldskala halmlinje til forbehandling af 10.000 tons halm årligt før afgasning i biogasanlægget.<br> Systemet kan anvendes til såvel biometan som bioethanol og andre biobrændstoffer. \n Landbrugets biomasser, i form af især husdyrgødning og afgrøderester, udgør en meget betydelig kilde til vedvarende energi og gødning – og med den rette teknologi tillige et betydeligt forretningspotentiale.\n \nVi har udviklet en ny forbehandlingsteknologi til l<br>ignocellulose–holdige afgrøderester som især halm. Teknikken tillader udnyttelse af halm i normale gyllebaserede biogasanlæg under opnåelse af fuldt teoretisk udbytte af halmen (EUDP J.nr. 64010-0423 ). Teknologien kan benyttes til såvel biogas som bioethanol eller for den sags skyld et hvilket som helst andet biobrændstof, som baseres på ligno<br>cellulose.\n\nTeknologien vil blive demonstreret og yderligere udviklet i fuld skala på Århus Universitets biogasanlæg i Foulum, hvor op til 10.000 tons halm årligt vil blive forbehandlet og udrådnet til biogas sammen med 50.000 tons gylle og anden biomasse. \n\nEn delstrøm af det forbehandlede materiale vil undergå enzymatisk forflydning med henbl<br>ik på at demonstrere teknikkens anvendelig til produktion af bioethanol.\n \nProcessen forbruger en minimal mængde vand, energi og katalysatorer og opnår en næsten komplet tilgængelighed af halmens indhold af sukre. Varme tilsættes i form af kinetisk energi og via exoterme kemiske hydrolyse reaktioner. Det er nu muligt, at tilsætte tørt halm til <br>en biogasreaktor, hvilket er afgørende for en industriel udnyttelse af halm til produktion af biobrændstof.\n\nDemonstrationen vil blive benyttet som en basis for en global markedsføring af teknologien. C. F. Nielsen A/S og BioFuelTechnology ApS vil markedsføre komplette halm-linjer så vel som hele bioenergianlæg med denne nye forbehandlingstekno<br>logi.",
           2011,
           "Bio og affald",
           "C.F. NIELSEN A/S",
           "Ingen data"
          ],
          [
           "Fleksibel og bæredygtig lav-temperatur biomasseforgasning \n Projektet skal teste PYRONEER forgasningsteknologien som en lovende platform for øget anvendelse af en række lavværdi og besværlige bio-brændsler fra forskellige sektorer i samfundet med henblik<br> på produktion af el og varme med høj effektivitet. Udvikling af askefraktionen fra processen til et produkt med høj gødningsværdi til landbrugssektoren er den centrale del af projektet. \n Projektformålet er at teste PYRONEER forgasningsteknologien som e<br>n lovende platform for øget anvendelse af en række lavværdi og besværlige biobrændsler fra forskellige sektorer i samfundet med henblik på produktion af el og varme med høj effektivitet. Samtidig vil askefraktionen fra processen udvikles til et produkt m<br>ed høj gødningsværdi til landbrugssektoren, herved udvides PYRONEER forgasningsteknologiens bæredygtighed og økonomiske rentabilitet. \n\nProjektet udføres i fire tæt koblede work packagesr: \nWP1: PYRONEER forgasning af alternative biobrændsler; \nWP2: Kara<br>kterisering of bioasken og udvikling af metoder til fjernelse af tungmetaller og uønskede organiske stoffer; \nWP3: Anvendelse af bioaske som gødningsprodukt i landbruget; \nWP4: Markedet, økonomi, lovgivning og guidelines. Resultaterne af projektet vil bi<br>drage til den videre udvikling og kommercialisering af \n\nPYRONEER teknologien og dermed væsentligt forbedre udnyttelsen af biobrændstoffer i energiproduktion. Desuden vil udviklingen af et bioaske baseret gødningsprodukt øge bæredygtigheden af biobrændsl<br>er.",
           2011,
           "Bio og affald",
           "Danmarks Tekniske Universitet (DTU)",
           "Ingen data"
          ],
          [
           "Copenhagen BioFuel - et integreret 2. generations bioethanol demonstrationsanlæg i Høje Taastrup \n BioGasol og gruppen af projektdeltagere vil opfø<br>re et demonstrationsanlæg for bioethanol, som anvender halm som råvare i produktionsprocessen. Anlægget forventes placeret i Høje Taastrup. Projekt<br>deltagerne forventer at anlægget kommer til at producere ca. 5 mio. liter bioethanol på årsbasis. Nøglen til produktionsvolumen er BioGasols to nye<br> kerneteknologier i form af en ny forbehandlingsmetode og en ny genmodificeret mikroorganisme. \n Der projekteres og opføres et demonstrationsanlæg <br>med en årlig produktionskapacitet på 5 mio. liter bioethanol, der kan følges via www.biogasol.com. Anlægget skal på semi-industrielle driftsbetinge<br>lser dokumentere de positive resultater fra Maxifuel-pilotanlægget, herunder energibalance, driftsstabilitet, brændselsfleksibilitet og driftsøkono<br>mi",
           2008,
           "Bio og affald",
           "BIOGASOL ApS",
           "Ingen data"
          ],
          [
           "TOBRI – Briketter med højt energiindhold af ”torrefied” biomasse \n Projektet tester og indhenter kundekrav på ”torrefied” briketter til energiselskaber. Efterfølgende udvikles og demonstreres en briketteringspresse, der kan fremstille briketter af ”torrefied” råmateriale med <br>en kapacitet på 3-4 tons per time. Brikettering gør biomassen lettere at håndtere, lagre og transportere. \n I det følgende vises de forskellige WP(work packages). Efter hver vises projektforløb og mål. WP1 Screening test og optimering af basis parameter for effektiv komprimer<br>ing af torrefied biomasse. Testene vil blive udført i laboratorium hos DTI og hos CF Nielsen, og vil give den nødvendige basis for designet af briket pressen. Projektforløb: 01-04.2011. Mål: Positiv test hos DTI og CFN. WP2 Definition af krav til torrefied briketter, dvs.  Kr<br>av til transport, håndtering og anvendelse i kraftværker. Det er væsentligt at der opnås accept af det nye produkt af aktørerne på markedet. Projektforløb: 02-06.2011. Mål: Godkendt design specifikation WP3 Design og udvikling af den nye briket presse. Projektforløb: 04.2011-<br>07.2012. Mål: Færdig design og test af briket presse hos CFN WP4 Produktion af prototype. Projektforløb: 06.2012-01.2013. Mål: Positiv test at ved demonstrationsanlæg. WP5 Løbende test og demonstration af den nye presse. Samarbejdet mellem producenten af torrefied biomasse me<br>d demonstrationsanlægget vil sikre at der er tilfresstillende material til testning af briket pressen. Projektforløb: 01.2013-10.2013. Mål: Launch på Ligna 2013. WP6 Test af de producerede torrefied briketter hos potentielle kunder, herunder kraftværker. WP7 Markeds introdukt<br>ion",
           2010,
           "Bio og affald",
           "C.F. NIELSEN A/S",
           "Ingen data"
          ],
          [
           "Ensilering af grønne afgrøder til 2. generations bioethanol \n Proj<br>ektet vil udvikle en metode til at forbehandle halm og energigræss<br>er ved hjælp af \"naturlig\" ensilering, så omsætning til bioethanol<br> lettere kan ske. Der er tale om et industrielt forskningsprojekt <br>med efterfølgende ethanol- og biogasproduktion. Processen vil bliv<br>e afprøvet i pilot-skala. \n Informationsskema findes ikke på sagen",
           2010,
           "Bio og affald",
           "Danmarks Tekniske Universitet (DTU)",
           "Ingen data"
          ],
          [
           "Biogas transmissionsnet \n Projektet skal udvikle og demonstrere en ny biogas infrastruktur: 35 km biogasledning, der forbinder 5 store gård-biogasanlæg med Skjern Fjernvarmeværk. \n Projektet skal udvikle og demonstrere en ny biogas infrastruktur: 35 km biogasledning, der forbin<br>der 5 store gård-biogasanlæg med Skjern Fjernvarmeværk. Projektet er første trin (Etape 1) i realiseringen af den såkaldte ''Ringkøbing Skjern model'' i fuld skala, hvor store gårde producerer biogas lokalt og sender gassen gennem ledninger til det lokale kraftvarmeværk. Projek<br>tet indebærer udvikling af specialkomponenter til at håndtere fugtig, svovlholdig biogas, en samlet logistik og styring af flere leverandører og gaskvalitet. Arbjedsprogrammet omfatter planlægninge, herunder aftalekomplekset med leveradører og aftagere, indspil til myndighedsbe<br>handling, tracering, udbud og licitation samt udvikling af specialkomponenter som kondensbrønde inkl. måle-, melde- og tømmesystem, gasmålere (køb af gas/salg af gas), styringssystem for flow og tryk, kommunikations- og registreringssystem. Arbejdsprogrammet er iværksat med hen<br>blik på at indgå kontrakter med entreprenører i maj 2012 og inværksætte konstruktionen af biogasledningen. Resultaterne skal anvendes til at demonstrere princippet og skabe grundlag for yderligere ekspansion af biogasledningsnettet i Rinkøbing-Skjern i senere faser soom omfatte<br>r yderligere ca. 200 km biogasledning. Endelig skal resultaterne anvendes til at kommercialisere konceptet i et nyt datterselskab, Bioenergi Vest innovation, så der kan udbydes biogasledinger med tilhørende komponenter, logistik og handelsmodel på såvel eksport- som hjemmemarke<br>det",
           2011,
           "Bio og affald",
           "BIOENERGI VEST A/S",
           "Ingen data"
          ]
         ],
         "hovertemplate": "topics_name=biogas - biomasse - halm<br>x=%{x}<br>y=%{y}<br>text_br=%{customdata[0]}<br>Bevillingsår=%{customdata[1]}<br>Fælles overordnet teknologiområde=%{customdata[2]}<br>Ansvarlig virksomhed=%{customdata[3]}<br>Fokusområder EUDP=%{customdata[4]}<extra></extra>",
         "legendgroup": "biogas - biomasse - halm",
         "marker": {
          "color": "#FB0D0D",
          "size": 5,
          "symbol": "circle"
         },
         "mode": "markers",
         "name": "biogas - biomasse - halm",
         "orientation": "v",
         "showlegend": true,
         "type": "scatter",
         "x": [
          3.779858350753784,
          3.6131339073181152,
          3.3333280086517334,
          3.9987826347351074,
          3.610811948776245,
          3.9986824989318848,
          4.063309192657471,
          3.6206722259521484,
          3.6026625633239746,
          3.9869301319122314,
          3.8344290256500244,
          3.639939546585083,
          4.095976829528809,
          3.681147575378418,
          3.57963490486145,
          2.798386812210083,
          3.9661946296691895,
          3.756021022796631,
          3.8796982765197754,
          3.317378282546997,
          4.08333683013916,
          4.064390182495117,
          3.9505810737609863,
          4.07867431640625,
          3.781212568283081,
          3.694624900817871,
          3.745011568069458,
          3.7765560150146484,
          4.107551097869873,
          3.792600393295288,
          3.1339263916015625,
          3.6630074977874756,
          3.51069712638855,
          3.473038673400879,
          3.7279698848724365,
          3.69041109085083,
          4.032897472381592,
          3.6486032009124756,
          3.464949607849121,
          3.3862574100494385,
          3.0983479022979736,
          3.6901462078094482,
          3.7478654384613037,
          3.4517905712127686,
          3.967717170715332,
          3.6524596214294434,
          3.264530897140503,
          3.1933815479278564,
          3.219468832015991,
          3.982858657836914,
          3.6902546882629395,
          3.197448492050171,
          3.4038281440734863,
          3.97359299659729,
          3.966979503631592,
          3.6115918159484863,
          2.8674118518829346,
          3.816755533218384,
          3.558178186416626,
          3.9071192741394043,
          3.456101894378662,
          3.703909397125244,
          3.7244832515716553,
          4.099783897399902,
          3.864628553390503,
          3.4179282188415527,
          3.86627197265625,
          3.1964964866638184,
          3.9744222164154053,
          3.1387386322021484,
          3.9860808849334717,
          3.735175371170044
         ],
         "xaxis": "x",
         "y": [
          8.836099624633789,
          9.129400253295898,
          9.391860008239746,
          10.083972930908203,
          9.606639862060547,
          10.136894226074219,
          9.603828430175781,
          8.92601203918457,
          9.625443458557129,
          9.614350318908691,
          9.870259284973145,
          10.201080322265625,
          9.625409126281738,
          10.410872459411621,
          10.039562225341797,
          9.285067558288574,
          10.1179838180542,
          10.153996467590332,
          10.253881454467773,
          9.57757568359375,
          9.974711418151855,
          9.394693374633789,
          9.749641418457031,
          9.575742721557617,
          10.429380416870117,
          10.303764343261719,
          10.311595916748047,
          10.275399208068848,
          9.653664588928223,
          10.340011596679688,
          9.248923301696777,
          10.173105239868164,
          9.660171508789062,
          9.519830703735352,
          9.916720390319824,
          10.309755325317383,
          9.938170433044434,
          10.205705642700195,
          9.601361274719238,
          9.349841117858887,
          9.211416244506836,
          9.78403091430664,
          9.997720718383789,
          9.546339988708496,
          9.53127384185791,
          9.742444038391113,
          9.66740608215332,
          9.207514762878418,
          9.557883262634277,
          9.421379089355469,
          9.083036422729492,
          9.273740768432617,
          9.287618637084961,
          9.726590156555176,
          9.326603889465332,
          9.885710716247559,
          9.305710792541504,
          9.413262367248535,
          9.371173858642578,
          9.289346694946289,
          9.262181282043457,
          8.8378267288208,
          10.22140121459961,
          9.604135513305664,
          9.457475662231445,
          9.283028602600098,
          9.787656784057617,
          9.176925659179688,
          9.763436317443848,
          9.140445709228516,
          9.673441886901855,
          10.205168724060059
         ],
         "yaxis": "y"
        },
        {
         "customdata": [
          [
           "Exowave, Vand, Elektricitet og PtX \n Det første formål er at føre havvand u<br>nder højt tryk til land og omdanne det til ferskvand alene ved brug af bølg<br>eenergi. Målinger skal vise, at det er økonomisk og klimamæssigt bedre end <br>at bruge anden energikilde. Det andet formål er at påvise, at bølgeenergi e<br>r attraktiv i vindmølleparker, når de to energikilder i fællesskab producer<br>er elektricitet til nettet eller vand og elektricitet til brintproduktion. <br>\n ",
           2020,
           "Bølge",
           "Exowave Aps",
           "Mere grøn el – og til flere formål"
          ],
          [
           "Blockshipping AI Import Container Dwelltime Prediction (AI-IDP) \n Med dette <br>projekt, AI-IDP (Artificial Intelligence - Import Dwelltime Prediction), anv<br>ender Blockshipping sofistikeret ‘artificial intelligence’ og ‘machine learn<br>ing’ til optimering af operationen på ocean container-terminaler. Gennem Blo<br>ckshippings AI-IDP, vil container-terminalerne opnå betydelige reduktioner i<br> energiforbrug og CO2-udledning samt opnå betydelige økonomiske besparelser.<br> \n ",
           2020,
           "Andet",
           "Blockshipping A/S",
           "Tung transport og Power-to-X i stor skala"
          ],
          [
           "Effektivis<br>ering af b<br>ølgeenergi<br> vha. tryk<br>satte cykl<br>ontanke \n <br> \n ",
           2015,
           "Bølge",
           "WAVE STAR A/S",
           "Ingen data"
          ],
          [
           "Gyroelektrisk energikonverterings teori og analyse. \n Det er projek<br>tets formål at opbygge en teoretisk viden omkring gyroelektrisk ene<br>rgikonvertering systemer, med henblik på anvendelse inden for bølge<br>energi. Det primære mål vil være at udvikle en regulering strategi <br>der kan optimere energioptaget i uregelmæssige bølger. Forskellige <br>strategier vil blive afprøvet i AAU bølgebassin og på en 5 kW Gvrop<br>TO \n ",
           2015,
           "Bølge",
           "JolTech ApS",
           "Ingen data"
          ],
          [
           "Håndbog for bølgeenergi \n Denne bog vil fremlægge en klar<br> oversigt over de forskellige tekniske økonomiske discipl<br>iner, der er involveret i udviklingen af bølgeenergianlæg<br>. Bogen skrives af udvalgte eksperter, for at kunne sikre<br> den højeste standard i indhold, og være nyttig for et be<br>dre udvalg af interessenter, fra opfindere til investorer<br>. \n ",
           2015,
           "Bølge",
           "Aalborg Universitet (Fredrik Bajers Vej)",
           "Ingen data"
          ],
          [
           "Nyt materiale for bølgeenergi undervandsstruktur \n Projektet<br>s formål er at udvikle et nyt materiale til levetidsforlænge<br>lse af undervandsstrukturer, herunder specielt undervandsdel<br>e til bølgeenergianlæg. materialet fremstilles direkte på lo<br>kaliteten ved hjælp af elektrolyse. materialet vil udover at<br> forstærke strukturerne også virke korrosionsbeskyttende. \n ",
           2015,
           "Bølge",
           "Aalborg Universitet (Fredrik Bajers Vej)",
           "Ingen data"
          ],
          [
           "Wavepiston –  Næste Generation Bølgeenergi \n Formålet med <br>projektet er at opnå final proof of concept for Wavepiston<br>-teknologien. Det grundlæggende koncept er tidligere bleve<br>t valideret på Ålborg Universitet og et pilot projekt er t<br>estet med succes i Nissum Bredning. Projektet vil skabe fu<br>ndamentet for test af et fuldskala demonstrationsanlæg. \n ",
           2015,
           "Bølge",
           "Wavepiston ApS",
           "Ingen data"
          ],
          [
           "WaveSpring for at forøge bølgeenergi absorption \n Form<br>ålet med dette proof of concept projekt er en nærmere <br>undersøgelse af WaveSpring teknologien, og hvorledes d<br>en kan gavne bølgeenergianlæg. Resultaterne fra projek<br>tet vil øge effektiviteten af bølgeenergianlæg samt re<br>ducere prisen på den producerede energi fra anlæggene.<br> \n ",
           2014,
           "Bølge",
           "Aalborg Universitet (Fredrik Bajers Vej)",
           "Ingen data"
          ],
          [
           "Gyroelektrisk energikonverterings enhed t<br>il bølgeenergi \n Det er projektets formål<br> at udvikle en gyroelektrisk energikonver<br>terings enhed til bølgeenergi, samt foret<br>age en eksperimental afprøvning af en 5 k<br>W enhed under virkelighedsnære forhold. \n<br> ",
           2014,
           "Bølge",
           "JolTech ApS",
           "Ingen data"
          ],
          [
           "Bøttefundament-installation i lagdelte jordprofiler \n Formålet med projektet er, at fundamentkonceptet kendt som Bøttefundamentet kommer tættere på kommercialisering. Anvendelsen af Bøttefundamentet kan reducere omkostningerne til havvindmølleparker med 30 %. Projektet vil udføre installationsforsøg i fuld skala med fokus på jordprofiler og installationsp<br>rocessen. \n UNIVERSAL FOUNDATION er næste generations af innovative fundament koncept, der potentielt er i stand\ntil at levere betydelig omkostningsreduktion til havmølleparker. Formålet er at demonstrerer installationen\naf UNIVERSAL FOUNDATION i fuld skala i flere jordbundstyper inklusive lavdelt jordprofiler\naf \"impermeabelt\" ler og tætte sand. Endvider<br>e vil projektet validere og demonstrere nye innovative\nkonstruktioner elementer der vil forbedre håndtering af de store offshore konstruktioner. Fordelene, som er\nidentificeret af OWA, omfatter reduktioner i installationsomkostninger (ingen pæle ramning, ingen støj eller\nhavbundens forberedelse, lille kran til installation, billig afvikling) og fabrikatio<br>nsomkostninger (simpel mono\npæl design uden overgangsstykke), og evnen til at fungere i varierende jordbundsforhold. OWA har anslået\nen reduktion af de samlede omkostninger til fundamenter i en vindmøllepark med så meget som 30%, når\nUNIVERSAL FOUNDATION strukturen anvendes, og de anses for brugbare i 80-90% af alle offshore\nvindparker i Nordeuropa. Strat<br>egien er at udvikle UNIVERSAL FOUNDATION fra F & U-fasen til\nkommercialisering og industrialisering af produktionen inden 2015. Hvis de beskrevne milepæle er opfyldt,\ner det målet at sikre en kontrakt i mindre målestok (5 - 10 enheder) med installation i 2014, der efterfølges\naf udbud og sikring af et storstilet projekt (en fuld skala offshore vindmøllepa<br>rken) ved hjælp af Bøtte\nfundamentet med kontrakttildeling i 2015. For at opnå denne strategi, er CT Trial projekt afgørende for\nUniversal Foundation. Konkurrencen om at udvikle nye fondamenter, teknologier er omfattende, men bøtte\nteknologien er et skridt foran konkurrenterne, da det var det var blandt dem, der blev valgt fra OWA 's\nfundament konkurrence<br>.",
           2012,
           "Vind",
           "UNIVERSAL FOUNDATION A/S",
           "Ingen data"
          ]
         ],
         "hovertemplate": "topics_name=bølgeenergi - foundation - universal foundation<br>x=%{x}<br>y=%{y}<br>text_br=%{customdata[0]}<br>Bevillingsår=%{customdata[1]}<br>Fælles overordnet teknologiområde=%{customdata[2]}<br>Ansvarlig virksomhed=%{customdata[3]}<br>Fokusområder EUDP=%{customdata[4]}<extra></extra>",
         "legendgroup": "bølgeenergi - foundation - universal foundation",
         "marker": {
          "color": "#DA16FF",
          "size": 5,
          "symbol": "circle"
         },
         "mode": "markers",
         "name": "bølgeenergi - foundation - universal foundation",
         "orientation": "v",
         "showlegend": true,
         "type": "scatter",
         "x": [
          4.241049289703369,
          3.871199369430542,
          4.441348552703857,
          4.104608058929443,
          4.170228958129883,
          4.355018615722656,
          4.3530731201171875,
          4.250034809112549,
          4.022028923034668,
          4.019130706787109
         ],
         "xaxis": "x",
         "y": [
          6.317168712615967,
          6.789157867431641,
          6.359748840332031,
          6.4833550453186035,
          6.451972007751465,
          6.423757553100586,
          6.4203715324401855,
          6.465785503387451,
          6.558457374572754,
          6.693896293640137
         ],
         "yaxis": "y"
        },
        {
         "customdata": [
          [
           "Smart Grid i grøn og energiteknologisk omstilling \n Smart Grid står centralt i den grønne omstilling på energiom<br>rådet. Med Smart Grid kan vi styre strømforbruget, så vi sikrer, at der - selv med fremtidens stigende andel af <br>vedvarende energi, der kan fluktuere med vejret - er strøm nok til alle på alle tider af døgnet. Men Smart Grid <br>er, trods flere forsøgsprojekter, stadig ikke udrullet i Danmark. Projektets formål er at undersøge og på levend<br>e, let tilgængelig vis at formidle, hvilke energiteknologiske landvindinger Smart Grid hviler på - og hvad vi ka<br>n forvente af fremtiden, hvorfor vi endnu ikke har Smart Grid i Danmark, og hvad der skal til, for at vi får det<br>. \n ",
           2020,
           "Smart Grid og systemer",
           "De Frie Energiselskaber",
           "Ingen data"
          ],
          [
           "Automatiseret auditering og kontinuerlig commissioning af næste gene<br>rations bygningsstyringssystemer \n Projektet adresserer stigende kra<br>v for energieffektivitet, komfort og sikkerhed i byggesektoren. Proj<br>ektet udvikler og demonstrerer et innovativt software til automatise<br>ret auditering og kontinuerlig commissioning af bygninger, som får b<br>edre energieffektivitet, lavere driftsomkostninger og emissioner. \n ",
           2019,
           "Energieffektivitet",
           "Syddansk Universitet",
           "Ingen data"
          ],
          [
           "Lille skala Smart Power Buoy leverer strøm og data kommunikation i det åbne hav \n <br>Dette projekt har til formål at bringe den patenterede Smart Power Buoy, i lille s<br>kala, fra TRL5 til 7 og gøre den markedsklar til et krævende og høj profitabelt gl<br>obalt niche marked i offshore olie og gassektoren hvor der er behov for kontinuerl<br>ig strøm og data forbindelse til måleinstrumenter og tekniske anlæg under vand.Høj<br> drift pålidelighed er vigtigst for at komme i betragtning og målet i dette projek<br>t. \n ",
           2019,
           "Bølge",
           "Resen Waves ApS",
           "Ingen data"
          ],
          [
           "International Smart Grid Technology Collaboration \n Projektet støtter dansk <br>deltagelse i MI og sikrer et solidt dansk aftryk i den internationale energi<br> politik. Derved får vi mulighed for at påvirke, hvordan fremtidens energi s<br>ystem kommer til at se ud samt videreformidle dette til de danske virksomhed<br>er der udvikler energiteknologi. Dette skal understøtte virksomhederne i at <br>udvikle løsninger, der matcher behovet fra det internationale energi marked.<br> \n ",
           2018,
           "Andet",
           "DTU Elektro",
           "Ingen data"
          ],
          [
           "Flerlags aggregatløsninger til at lette optimalt efter<br>spørgselsrespons og gitter fleksibilitet \n Meningen me<br>d SMART-MLA projektet er at udvikle cloud-baserede fle<br>rlags aggregator ICT løsninger til muliggørelsen af op<br>timal forbruger deltagelse og fleksibilitet i energi s<br>ystemer for at kunne udnyttet 100% vedvarende energi. <br>\n ",
           2018,
           "Smart Grid og systemer",
           "Danmarks Tekniske Universitet (DTU)",
           "Ingen data"
          ],
          [
           "Smartgrid-sikring af Bornholm ved hjælp af batterilager - BOSS \n Formålet med BO<br>SS projektet er at udvikle og idriftsætte et stort batteri-elektrisk lager og ef<br>terfølgende demonstrere og studere, hvordan et effektivt batterilager kan sikre <br>effektiv indpasning af sol og vind. Det forventes, at en fuldt udviklet BESS pla<br>tform kan hjælpe med at afdække nye forretningspotentialer for dansk industri sa<br>mt tiltrække yderligere danske og internationale interesser og investeringer. \n ",
           2018,
           "Smart Grid og systemer",
           "Danmarks Tekniske Universitet (DTU)",
           "Ingen data"
          ],
          [
           "Ancillary services i Smart Grid ved hjælp af multi-zone behovsstyrede<br> boligventilationssystemer \n Projektet vil demonstrere en hierarkisk <br>kontrolstrategi til regulering af klima- og ventilationssystemer i bo<br>liger. Strategien involverer en aggregator, som kontrollerer en grupp<br>e af bygninger med det mål at optimere fleksibiliteten i klima- og ve<br>ntilationssystemerne og udnytte denne fleksibilitet på elmarkedet. \n ",
           2018,
           "Smart Grid og systemer",
           "BUILD - Institut for Byggeri, By og Miljø - AAU CPH",
           "Ingen data"
          ],
          [
           "Intelligent Energistyring i Mindre Boligblokke \n Tilbyde en omkost<br>ningseffektiv og let-installerbar opstilling, og på bæredygtig vis<br> indsamle data i en større bygninger. Benytte det indsamlede data <br>til at opnå den mest effektive forsyning af vandbaseret opvarmning<br>. Optimere løsningen til specifikke bygninger, bl.a. baseret på by<br>gningens placering, indretning og intelligent brug af vejrudsigter<br>. \n ",
           2017,
           "Energieffektivitet",
           "DTU Fotonik",
           "Ingen data"
          ],
          [
           "itGrows 2.0 \n Fugtstyring er det element de<br>r bruger mest energi i avanceret væksthuspr<br>oduktion. itGrows 2.0 vil udvikle et integr<br>eret beslutningsstøtte- og styringssystem, <br>der bygger på InfoGrow (klimakontrol) og De<br>t Virtuelle Væksthus (simuleringsværktøj). <br>\n ",
           2017,
           "Energieffektivitet",
           "Teknologisk Institut",
           "Ingen data"
          ],
          [
           "(12548) Bygninger som energilager i et smart grid \n Formålet med proje<br>ktet er at afdække en række typiske danske huses egenskaber som energi<br>lager i et fremtidigt smart grid. Generelt har danske huse lange opvar<br>mnings- og afkølingstider, hvorfor de samlet set kan blive interessant<br>e som energilager i et smart grid, hvor det går ud på at flytte elforb<br>rug væk fra koge-peaks og intensivere det i perioder med overskuds-el.<br> \n ",
           2017,
           "Smart Grid og systemer",
           "Aalborg Universitet",
           "Ingen data"
          ],
          [
           "SafeBESS \n SafeBESS-projektet vil præsentere sikre og pragma<br>tiske anbefalinger til opstilling af stationære nettilslutte<br>de batterianlæg. Ud fra international forskning samt bedste-<br>praksis fra flere lande forberedes oplæg til vejledninger og<br> tjeklister, suppleret med kursusprogram rettet mod forhandl<br>ere og formidlere af batterianlæg, montører og forbrugere. \n<br> ",
           2017,
           "Smart Grid og systemer",
           "Teknologisk Institut",
           "Ingen data"
          ],
          [
           "MATCH: Markets - Actors - Technologies: A comparative study of smart grid \n MATCH study how small consumers act within different set-ups of <br>smart grid solutions. We aim to identify characteristics related to technological design, market solutions and types of stakeholder involvem<br>ent (e.g. in relation to ownership) that influence how well small consumers adopt smart grid solutions. By following up on existing projects<br> instead of developing new solutions and demonstrations, MATCH cover a larger number of demonstration projects, which will substantiate the <br>comparative findings and knowledge exchange among the partners. We aim to contribute to developing smart grid solutions through increased un<br>derstanding of the complex interplay of factors influencing the effectiveness and success of smart grid solutions targeting small consumers.<br> \n ",
           2017,
           "Smart Grid og systemer",
           "BUILD - Institut for Byggeri, By og Miljø - AAU CPH",
           "Ingen data"
          ],
          [
           "VOLATILE - Voltage Control on the transmission grid using wind power<br> at other voltage levels \n The main goal of this project is to devel<br>op suitable technologies for decentralized voltage control for centr<br>al needs. This includes both control algorithms, needs of ICT to tra<br>nsport input signals, selection of inputs, need of coordination, con<br>sideration of dynamic states and dynamic limits in the grids etc. \n ",
           2015,
           "Smart Grid og systemer",
           "Danmarks Tekniske Universitet (DTU)",
           "Ingen data"
          ],
          [
           "Smart Energy Butikscentre \n Projektet udvikler og demonstrerer<br> teknologier og services, der sikrer energifleksibiliteten for<br> de energi intensive store indkøbscentre. Den holistiske tilga<br>ng omfatter : Fleksibelt indeklima ; Intelligent styring ; Ene<br>rgiforbrug og Energiforsyning ; VE; Energi lagre ; Energieffek<br>tivitet, Energigenvinding, brugeradfærd , behov og barrierer. <br>\n ",
           2016,
           "Smart Grid og systemer",
           "Teknologisk Institut",
           "Ingen data"
          ],
          [
           "FlexReStore: Flexible Retail Stores \n Den danske detailbranc<br>he kan blive en nøglespiller i fremtidens smart grid. Udnytt<br>elsen af intelligente energiløsninger i detailbranchen hæmme<br>s dog af kortsigtet økonomisk tænkning og lave profit-margin<br>er. Projektet adresserer potentialer og motivation for, at d<br>etailbranchen som helhed kan blive en aktiv smart grid aktør<br>. \n ",
           2016,
           "Smart Grid og systemer",
           "Syddansk Universitet",
           "Ingen data"
          ],
          [
           "REMOTEGRID \n Dette projekt fokuserer på at udvikle et sys<br>tem til DSO'er med formål at opsamle, visualisere og anve<br>nde data fra smart meters i lavspændingsnet, og evaluere <br>dette system i 1) en test bed med fokus på cyber attacks <br>og håndtering af grid assets, og 2) en field test med fok<br>us på visualisering og operationel anvendelse af data. \n ",
           2016,
           "Smart Grid og systemer",
           "Aalborg Universitet (Fredrik Bajers Vej)",
           "Ingen data"
          ],
          [
           "Security Assessment of Renewable Power Systems \n I dette pro<br>jekt videreudvikles og implementeres realtids algoritmer til<br> bestemmelse af systemsikkerhed for fremtidens vedvarende el<br>forsyningssystem. Metoderne integreres i en avanceret hardwa<br>re platform som gør det muligt at teste metoderne i realisti<br>ske scenarier og integrere data og erfaringer fra industrien<br>. \n ",
           2016,
           "Smart Grid og systemer",
           "Danmarks Tekniske Universitet (DTU)",
           "Ingen data"
          ],
          [
           "DECODE \n Forbedret aktiv management og automatisering er nød<br>vendinag for fremtidens el-net. I dette projekt udvikles rob<br>uste og kosteffektive løsninger til at forbedre observerbarh<br>ed, styring og beskyttelse samt interfacet mellem el-selskab<br>erne, markedet og forbrugerne i det aktive distributionsnet <br>for at supportere stor vedvarende lokal energiproduktion. \n ",
           2016,
           "Smart Grid og systemer",
           "Aalborg Universitet (Fredrik Bajers Vej)",
           "Ingen data"
          ],
          [
           "ERA-NET SALVAGE \n Cybersikkerhed er ved at blive et af de sto<br>re udfordringer i smart grids: IKT-systemer bliver mere udbre<br>dt og komplekse og truslen om cyberangreb stiger mens de nuvæ<br>rende værktøjer og modforanstaltninger ikke er tilstrækkeligt<br> udviklet. Formålet med projektet er at udvikle metoder og væ<br>rktøjer til design og drift af fremtidens sikkert smart grid.<br> \n ",
           2014,
           "Smart Grid og systemer",
           "Danmarks Tekniske Universitet (DTU)",
           "Ingen data"
          ],
          [
           "READY.Dk Ad On \n Der udvikles en metodik til detaljeret kortl<br>ægning af smart grid potentialet i bygninger der skal energir<br>enoveres. READY.DK er et forsknings-bidrag til et stort EU pr<br>ojekt, og skal bidrage til at balancere det økonomiske trade-<br>off mellem investeringer i energibesparelse, smart grid tekno<br>logier, og energiproduktion i fremtidige renoveringprojekter.<br> \n ",
           2015,
           "Energieffektivitet",
           "Aarhus Universitet",
           "Ingen data"
          ],
          [
           "Håndtering af demand-response kapaciteten fra e<br>rhvervsbygninger \n Projektets formål er at demo<br>nstrere, hvordan smart grid teknologi kan mulig<br>gøre, at erhvervsbygninger kan levere fleksibil<br>itetsydelser til de eksisterende markeder for f<br>leksibilitet, samt til den lokale net-Operator.<br> \n ",
           2014,
           "Energieffektivitet",
           "Insero software",
           "Ingen data"
          ],
          [
           "Energibesparelse ved kontinuert overvågning på apparatniveau \n Visi<br>onen er at undgå energispild ved løbende overvågning af tekniske in<br>stallationer, nemt, billigt og fleksibelt. Nyheden er at overvågnin<br>g på apparatniveau, opnås ganske enkelt ved at klæbe sensorer på va<br>rmerør og elkabler. Herved kan de kendte gevinster fra løbende over<br>vågning af apparater i industrien udbredes til langt bredere kredse<br>. \n ",
           2013,
           "Energieffektivitet",
           "ReMoni ApS",
           "Ingen data"
          ],
          [
           "Smart Grid skolerenovering i København \n EUDP projek<br>tet vil udvikle brugen af innovative og prisbillige <br>bygningsindpassede solcelleløsninger i samspil med s<br>ystemløsninger for ”performance” dokumentation, ”Sma<br>rt Grid” funktion og solcelleassisteret ventilation <br>ifm. program for renovering af 50 skoler i København<br>. \n ",
           2013,
           "Smart Grid og systemer",
           "CENERGIA PROJEKT ApS",
           "Ingen data"
          ],
          [
           "SMART GRID-Styring til Kolding Central Renseanlæg \n Et Automatisk Smart Grid system til Kolding Central Renseanlæg skal, ud fra en prognose for den fremtidige spildevandsbelastning, en prognose for den fremtidige variation på<br> elpriser, den aktuelle driftsstatus og en risikovurdering, automatisk kunne fastlægge den fremtidige drift af udvalgte el forbrugende enheder på renseanlægget, herunder også optimere den interne el-produktion. \n Der etablere<br>s Smart Grid software til styring på Kolding Central Renseanlæg (KCR). Styringen skal automatisk optimere elforbrug og -produktion på anlægget, i forhold til variationen på elpriser, tilstrømning og afløbskvalitet, således at<br> der fortrinsvis forbruges eksternt købt el, når elprisen er lav, for herved at reducere elforbruget i perioder, hvor elprisen er høj. \nStyringssoftwaren skal ligeledes udvikles til at give et forecast på afstrømningen i aflø<br>bssystemet, så systemet kan udnyttes som bufferkapacitet under hensyntagen til forventede tørvejrs- og regnperioder, og herved bidrage til omfordeling af energiforbrug.\nProjektet består af 2 hovedfaser, hvor softwaren udvikle<br>s, testes og idriftsættes successivt, idet der startes på renseanlæggets energiforbrugende processer, herefter optimeres på afstrømningen fra kloaksystemet og endeligt optimeres på energiproduktionen fra biogas på renseanlægg<br>et.",
           2013,
           "Energieffektivitet",
           "KRÜGER A/S",
           "Ingen data"
          ],
          [
           "Smart Grid fjernvarmesystemer for lavtemperatur \n Projektet skal udvikle et grundlag for driftsoptimering af Smart Grid-fjernvarmesystemer, hvor forskellige vedvarende energikilder spiller ind, og detaljerede data giver indsigt i forbrugsmønstre og aktuelt energiforbrug. Projektet tager afsæt i kendt simuleringssoftware kombineret med datafiltrering, usikkerhedsanalyse og et unikt testområde med 78 målere på minutbasis. \n Fjernvarmen dækker over 60% af boligernes varmeforbrug i Danm<br>ark, og der er stor – og stærkt stigende\ndansk eksport af fjernvarmekomponenter. Der er samtidig energipolitisk ønske om i stigende grad at\nanvende vedvarende energi (VE). For at kunne udnytte VE-kilder optimalt i et fjernvarmesystem kræves et nøje kendskab til de forskellige driftsparametre og dynamikken i systemet herunder forbrugsmønstre. I\ndisse år installeres der landet over et stort antal forbrugsmålere ”Smart Meters”, der er i stand til at levere\nomfattende data med høj tidsl<br>ig opløsning og som kan fjernaflæses. Dermed er der unik mulighed for at få\nindblik i dynamikken i fjern¬varmenettet samt forbrugeradfærden og for driftsoptimering med betydelig\nenergibesparelse til følge. En væsentlig udfordring er imidlertid at analysere og bearbejde denne\ndatamængde, så den kan indgå i samspil med traditionelle simuleringsprogrammer for driftsoptimering af\nfjernvarmesystemer. AffaldVarme Aarhus har to forsøgsområder, hvor der er installeret 78 fjernaflæste\nSmart <br>Meters, der leverer data på minutbasis, hvilket er en usædvanlig høj samplingsfrekvens. Den store\ndatamængde, der genereres via disse unikke målere, giver særlige muligheder for at analysere driftsforhold\nog forbrugsmønstre samt for at afprøve tidsligt højtopløselige modelleringsstrategier for driftsoptimering.\nProjektets formål er derfor - via anvendelse af disse testmuligheder - at udvikle en metode, der inkorporere\ndet store datamateriale i en generisk modelleringsstrategi i samm<br>enspil med eksisterende hydrauliske\nmodelleringsværktøjer, samt at udarbejde generiske modeller for dynamikken i distributionsnetværket via\ndetaljerede analyser af forbrugsmønstre. Endvidere er det formålet ved hjælp af den udviklede\nmodelleringsstrategi at analysere ændring i driftsbetingelser og energibesparelsespotentialet ved\nforskellige driftsoptimeringstiltag. Projektet omfatter derfor følgende aktiviteter: • Modelleringsstrategier •\nSænkning at middelfremløbstemperatur til de<br>t lavest mulige niveau for forsøgsområdet. • Afprøvning af\ntilpassede fjernvarmeunits hos udvalgte forbruger. • Afprøvning af automatiske omløbsventiler. Resultatet af\nprojektet er optimerede modelleringsstrategier for Smart Grid systemer, samt detaljerede analyser at\ndriftsoptimeringspotentialer ved forskellige optimeringsstrategier. For de involverede virksomheder vil det\ngive unikke input til videre udvikling af komponenter, der spiller effektivt ind i fremtidige Smart Grid\nsyste<br>mer.",
           2012,
           "Energieffektivitet",
           "Teknologisk Institut",
           "Ingen data"
          ],
          [
           "Smart Grid Ready lysstyring til gartnerier \n Projektets mål er at udvikle energiomkostningseffektiv kunstlysstyring til gartnerier. Styringen skal optimere\nplanternes vækst i forhold til energiomkostningen og integrere gartnerierne med elnettet. \nDermed kan gartnerierne levere systemydelser ved dynamisk at regul<br>ere deres forbrug. \n Med den nuværende energipolitiske målsætning om et dansk elnet, der hovesageligt baserer sig på vedvarende energikilder som vind og sol, vil væksthusgartnerierne i lighed med andre energitunge produktionsvirksomheder stå over for store økonomiske udfordringer. Det skyldes at de  fluktuerende<br> vedvarende energikilder alt andet lige vil resultere i større udsving i timeprisen på el. De udsving udgør et problem for væksthusgartnerier, der handler på soptmarkedet, da de direkte kan påvirke de samlede produktionsomkostninger for brug af kunstlys. For at sikre en konkurrencedygtig dansk gartnerisektor med<br> mange tusinde arbejdspladser og milliardeksport er det tvingende nødvendigt, at der udvikles innovative produktionsteknologier, der muliggør og fremtidssikrer en energiomkostningseffektiv og mere bæredygtig væksthusproduktion.\nProjektet vil udvikle og implementere sådanne innovative, energiomkostningseffektive <br>produktionsteknologier inden for de vigtigste danske prydplantearter. Det vil sætte væksthusgartnerierne i stand til dynamisk at tilpasse deres planteprduktion til udsving i elproduktionen og -pris og dermed reducere udgifterne. Da gartnerierne dynamisk vil kunne tilpasse kunstlysforbruget i planteproduktionen t<br>il de udsving, som vedvarende energikilder medfører, vil det medføre, at væksthusgartnerierne kan levere systemydelser i form af regulerkraft. Hermed vil væksthusgartnerierne være forberedte på kravet om øget fleksibilitet, som alle forbrugere bliver stillet overfor i et fremtidigt dansk Smart Grid-baseret elnet<br>.",
           2012,
           "Smart Grid og systemer",
           "Syddansk Universitet",
           "Ingen data"
          ],
          [
           "Smart City Kalundborg \n Projektet skal udvikle en intelligent Smart City energi-distributionsplatform og demonstrere denne i Kalundborg. Energiforsyningen skal reagere på nettets behov og afstemmes med intelligent\ndistribution og slutbrugeradfærd. Brugen af vedvarende og distribueret energi skal optimeres. \n Formålet med initiativet er at demonstrere den optimerede anvendelse af vedvaren<br>de energi og decentral energiproduktion og energistyringsmuligheder og samtidig opfylde de nationale og regionale energimål. Dette vil ske ved at harmonisere de net-responsive energitjenester med intelligent netdrift og dynamisk slutbrugertiltag i byen Kalundborg (demonstrationsvært). Energy Services Hub (ESH) vil forvandle distribuerede ressourcer såsom elektriske køretøjer (elbiler), s<br>olceller (PV), bygninger, boliger og en elektrisk færge til bl.a. understøttende aktiver som kan anvendes af DNO for at optimere netdrift. Igennem processen vil initiativet understøtte opståede forretningsmodeller ved at understøtte hele værdikæden i en bæredygtig og skalerbar operationel servicearkitektur.\nDe primære aktiviteter i projektet vil omfatte  udvikling af en Energy Service Hu<br>b (ESH) teknologi og en række \"Net-Responsive\" tjenester og teknologier fra de mange service- og teknologipartnere (SP'er og TPS) der deltager i projektet. ESH er en teknologisk platform, der muliggør et problemfrit, dynamisk samspil mellem tjenesteudbydere og DNO for derigennem at optimere realtids netdrift. Dette opnås ved at muliggøre en ny form for interaktion: et fælles system, hvor<br> Service leverandører og slutbrugere kan besvare anmodninger om data fra DNO og andre tjenesteudbydere gennem et fælles system. Dette er bygget op omkring den ESH, som vil blive integreret med DNOs BI system for derigennem at binde markedsmuligheder og krav i et sammenhængende informationssystem og samtidig sikre optimeret netdrift. \nFlere andre teknologier afprøves i projektet, herunder<br>: bygningsovervågning, effektiv pumpestyring, solceller, elbiler og ladestationer, som alle vil interagere med Energi Services Hub for derigennem at optimere udnyttelsen af vedvarende energi og effektivitets forbedringsteknologier i byen. Hver af disse teknologier vil blive gjort \"Net-Responsive\" for at aktivere de synergetiske muligheder for optimering af nettet og støtte til andre serv<br>ices.",
           2012,
           "Smart Grid og systemer",
           "SEAS-NVE STRØMMEN A/S",
           "Ingen data"
          ]
         ],
         "hovertemplate": "topics_name=smart - grid - smart grid<br>x=%{x}<br>y=%{y}<br>text_br=%{customdata[0]}<br>Bevillingsår=%{customdata[1]}<br>Fælles overordnet teknologiområde=%{customdata[2]}<br>Ansvarlig virksomhed=%{customdata[3]}<br>Fokusområder EUDP=%{customdata[4]}<extra></extra>",
         "legendgroup": "smart - grid - smart grid",
         "marker": {
          "color": "#222A2A",
          "size": 5,
          "symbol": "circle"
         },
         "mode": "markers",
         "name": "smart - grid - smart grid",
         "orientation": "v",
         "showlegend": true,
         "type": "scatter",
         "x": [
          1.8704743385314941,
          1.6897804737091064,
          2.0336697101593018,
          1.6448415517807007,
          2.1722373962402344,
          2.1222801208496094,
          1.950513482093811,
          1.8048380613327026,
          2.041168212890625,
          1.784095287322998,
          2.440001964569092,
          2.3629236221313477,
          2.494135856628418,
          1.7631810903549194,
          2.3356199264526367,
          2.277512550354004,
          2.2773685455322266,
          2.508776903152466,
          2.296419620513916,
          1.9931226968765259,
          2.2490808963775635,
          1.9627323150634766,
          1.8258920907974243,
          1.9596798419952393,
          2.0702013969421387,
          1.7788846492767334,
          1.847366213798523
         ],
         "xaxis": "x",
         "y": [
          4.967343330383301,
          5.455883026123047,
          5.095012187957764,
          5.391957759857178,
          5.128754138946533,
          5.182697772979736,
          5.224902629852295,
          5.35059118270874,
          5.2144551277160645,
          4.984044551849365,
          5.485375881195068,
          5.208157539367676,
          5.427677631378174,
          5.301643371582031,
          5.180814743041992,
          5.388262748718262,
          5.415994644165039,
          5.706644058227539,
          5.4591264724731445,
          5.0856218338012695,
          5.196288585662842,
          5.42439603805542,
          4.964312553405762,
          5.078192234039307,
          5.43022346496582,
          5.007315158843994,
          5.075232028961182
         ],
         "yaxis": "y"
        },
        {
         "customdata": [
          [
           "GreenCem \n GreenCem har et klart mål om at udvikle det fuld<br>e tekniske layout og dokumentation for et energieffektivt C<br>O2-opsamlingssystem på Aalborg Portland cementfabrik i Aalb<br>org og et PtX-anlæg som genanvender CO2 i grønt e-fuel ved <br>reaktion med brint. Projektet skal sikre en ”turnkey” løsni<br>ng der kan implementeres på andre store cementprocesanlæg. <br>\n ",
           2020,
           "Andet",
           "Aalborg Portland Group A/S",
           "Ingen data"
          ],
          [
           "Automatisk presenning over halmtransporter \n Formålet <br>med projektet er at reducere brændstofforbruget og her<br>med Co2 udledningen i landbruget ved transport af halm<br>. Målet nås ved udvikling af et system til automatisk <br>pålægning af presenning over et læs halm, som skal tra<br>nsporteres fra lager til aftager på vej med lastbil. \n<br> ",
           2018,
           "Energieffektivitet",
           "SKINNERUP MASKINSTATION I/S",
           "Ingen data"
          ],
          [
           "SCAVOP \n Formålet med project SCAVOP (SCAVenger Optimering) er at re<br>ducere behovet for vedligehold på olie og gas produktions- og proces<br>seringsfaciliteter ved at optimere injectionen af produktionskemikal<br>ier kaldet ”H2S scavenger”. Som følge heraf estimeres det, at operat<br>ører kan reducere behovet for H2S scavenger signifikant og derved re<br>ducere den miljømæssige påvirkning fra produktion af olie og gas. \n ",
           2018,
           "Andet",
           "Aalborg Universitet",
           "Ingen data"
          ],
          [
           "HyTon – verdens største brint kompressor \n HyTon skal udvikle ver<br>dens største brintkompressor som skal anvendes til storskala påfy<br>ldning af brint fra vedvarende energi på forureningsfrie biler, b<br>usser og lastbiler. Den øgede kapacitet skal bidrage til at reduc<br>ere brintprisen til et niveau konkurrencedygtig med benzin og die<br>sel og dermed muliggøre en markedsudrulning af brint tankstatione<br>r. \n ",
           2018,
           "Brint og brændselsceller",
           "NEL Hydrogen",
           "Ingen data"
          ],
          [
           "HyScale \n HyScale skal udvikle og demonstrere en ny tre<br>dje generation af brint tankstationer til brintbiler me<br>d fordoblet optankningskapaciteten og 50% reduktion i o<br>mkostninger. Det skal gøre brint optankning konkurrence<br>dygtig med benzin og muliggøre en efterfølgende markeds<br>introduktion og udbredelse i Europa og USA fra 2020. \n ",
           2017,
           "Brint og brændselsceller",
           "NEL Hydrogen",
           "Ingen data"
          ],
          [
           "H2Cost-2 \n H2Cost-2 projektet skal reducere omkostning<br>er for brintproduktion og hurtig brint optankning genn<br>em udvikling af billigere komponenter og systemer med <br>øget kapacitet. Greenhydrogen.dk ApS skal arbejde med <br>MW alkalisk elektrolyse teknologi, og Nel Hydrogen ska<br>l arbejde med kølingsteknologi til brint tankstationer<br>. \n ",
           2016,
           "Brint og brændselsceller",
           "Green Hydrogen Systems A/S",
           "Ingen data"
          ],
          [
           "HyBoost-2 »Mere brint optankning for mindre« \n HyBoost-2 projek<br>tet skal udvikle teknologi til påfyldning af brint med øget kap<br>acitet og reduceret arealbehov, så brint kan integreres ved sid<br>en af konventionelle brændstoffer på eksisterende tankstationer<br>. Det skal muliggøre en accelereret udbredelse af brintoptankni<br>ng, der kan understøtte markedsintroduktionen af brintbiler. \n ",
           2016,
           "Brint og brændselsceller",
           "NEL Hydrogen",
           "Ingen data"
          ],
          [
           "HyBalance \n HyBalance is a project that demonstrates the u<br>se of hydrogen in energy systems. The hydrogen will be pro<br>duced from water electrolysis, enabling the storage of che<br>ap renewable electricity from wind turbines. It will thus <br>help balance the grid, and the green hydrogen will be used<br> for clean transportation and in the industrial sector. \n ",
           2015,
           "Andet",
           "Air Liquide",
           "Ingen data"
          ],
          [
           "Demonstration af 2G ethanol prodktion i industriel skala, MEC \n Energiforsyningsikkerhed, bæredygtighed og markedets krav styrer parametre for at udvikle energisystemer. Lignocellulos ebaseret ethanol er en del af løsningen på forsyningssikkerhed og efterspørgslen efter en bæredygtig udvikling inden for transportsektoren. Lignocelluloseholdige råstoffer er en attraktiv rigelig ressource<br>, som ikke konkurrer med fødevare og foder produktion. Worldwide, er lignocellulosisk biomasse en kæmpe uudnyttet kulstofkilde, som har potentiale for en omfattende bæredygtig produktion af biobrændstof til transport. EU har i maj 2015 vedtaget et nyt direktiv for at facilitere overgang fra konventionelle biobrændstoffer til biobrændstoffer der leverer væsentligt drivhusgasbesparelser (<br>avancerede/ andengenerations-biobrændstoffer). Direktivet fastsætter også klar lovgivningsmæssig ramme for produktion af biobrændstoffer, og beskytter samtidig eksisterende investeringer i sektoren. I direktivet om brændstofkvalitet er indført et binende mål for en reduktion af drivhusgasemissionerne på 6% fra brændsel, der anvendes inden for vejtransport. Dette skal opnås inden 2020. D<br>irektivet om vedvarende energi etablerer også binende mål for en samlet andel på 20% af vedvarende energi i EU og en andel af vedvarende energi i transportsektoren på 10% i 2020. Heraf anbefales, at 0,5% er avancerede biofuels som 2G ethanol. Lignocellulosebaseret ethanol er det mest oplagte valg af avancerede biobrændstoffer til at opfylde det nye EU-direktiv. Udvikling af nye energite<br>knologier til transportsektoren er tidskrævende. EU og nogle af de nationale stater har allerede finansieret udvikling og demonstration af lignocellulose baseret ethanol i de sidste 15 år. Teknologien er veludviklet. Endvidere kan ethanol blandes direkte i benzinen, hvilket betyder at der ikke er behov for ændringer i energiinfrastrukturen. Lignocellulosebaseret ethanol vil være en god <br>overgangsløsning, indtil mere avancerede energiløsninger er klar til implementering i samfundet. Udvikling af bioraffinaderier, hvor biomasse bliver fraktioneret i sukkerarter, lignin og andre komponenter kan også anvendes til produktion af andet end ethanol. Lignocellulose afledte sukkerarter kunne for eksempel andevendes til fermentering af mælkesyere eller andre grønne kemikalier. \n ",
           2015,
           "Bio og affald",
           "Ørsted A/S",
           "Ingen data"
          ],
          [
           "Kostreduktion af alkalisk elektrolyse og brint tankstationer \n H2Cost projektet skal reducere omkostninger, for alkalisk elektrolyse teknologi og brint tankstationer. Nye komponenter skal udvikles, som er optimeret i forhold til omkostninger og som øger brint produk<br>tions og optankningskapacitet betydeligt. Forsatte F&U og kommercialiserings bestræbelser skal ligeledes planlægges. \n H2Cost projektet skal reducere omkostninger og øge den tekniske performance, for 2. gen. Alkalisk\nelektrolyse (2. Gen AEC) fra GreenHydrogen.dk ApS<br> (GK) og komponenter til brint tankstationer fra H2 Logic A/S (H2L). \n\nMotivationen for H2Cost er baseret på adskillige års succesfuld udvikling af basis teknologierne, som har banet vej, for næste skridt med yderligere reduktion af omkostninger og udvidelse af mark<br>edsmulighederne. \n\nGH og DTU-MEK har udviklet og testet 2. Gen. AEC teknologi, gennem tidligere\nEUDP støttede projekter og vil gennem H2Cost foretage yderligere udvikling, som skal muliggøre kostreduktion og forøgelse af brint produktionskapaciteten. \n\nH2L har succe<br>sfuldt udviklet komponenter, til brint tankstationer gennem det EUDP støttede\nprojekt ”HyProvide-HRS” i samarbejde med Gramstrup Køling A/S (GK). Teknologien anvendes i dag i H2Station® CAR-100 produktet, som er blandt få i verden der muliggør 70MPa brint tankning p<br>å 3 minutter.\n\nEn fortsat udrulning af brint tankstationer efter 2015 kræver dog en øget tankkapacitet og reducerede omkostninger, hvor netop fortsat udvikling af komponenter, er en af hovedudfordringerne og opgaverne som H2L og GK vil adressere gennem HyCost projek<br>tet.",
           2013,
           "Brint og brændselsceller",
           "NEL Hydrogen",
           "Ingen data"
          ],
          [
           "GREENSHIP – green liner shipping \n Målet med projektet er at forøge kapacitetsudnyttelsen af containerskibe via et computerprogram til optimering af lastsammensætningen, som fungere<br>r som beslutningsstøtte for Mærsk’s medarbejdere, således at CO2 udslippet ved at transportere en container reduceres med mindst 5 %. \n Demonstrationsprojektet omfatter en teknologi<br> der er udviklet i pilotskala med lovende resultater.\nTeknologien er et optimeringssystem til lastning af containerskibe. Containerskibe følger en bestemt rute med et stort antal ha<br>vne, hvor der losses og lastes containere. Et containerskib bliver i princippet aldrig tomt, men lasten udskiftes gradvist. Skibets kapacitet måles i både volumen (antal containere)<br> og vægt, og projektets mål er at øge den gennemsnitlige udnyttelsesgrad med mindst 5%, således at energiforbruget per container-kilometer bliver reduceret med mindst 5%.\nTeknologie<br>n fra pilotprojektet bliver udbygget således at optimeringen omfatter flere havne på ruten, flere containertyper og flere skibstyper. Ansøger har en samlet flåde på mere end 600 ski<br>be.",
           2013,
           "Andet",
           "A.P. MØLLER - MÆRSK A/S",
           "Ingen data"
          ],
          [
           "Hydrogen fremstillet ved elektrolyse \n Projektet skal fremme kommercialisering af hydrogenelektrolyseteknologien. Der skal  udvikles en elektrolyseenhed til produktion af tryksat hydrogen med alt fra strømforsyning til hydrogenlager. Enheden skal afprøves i <br>forbindelse med et PEM mikrokraftvarmeanlæg. Der sigtes på en kommercialisering i 2016. \n PEM elektrolyseceller (PEMEC) er bygget op omkring en proton ionbytter membran (PEM) med \nen gas diffusions elektrode på hver side, der generer henholdsvis hydrogen og <br>oxygen. PEMEC er i \nopbygning meget lig PEM brændselscellen (PEMFC) og vigtige dele af de seneste års tekniske \nfremskridt indenfor PEMFC kan også udnyttes i PEMEC teknologien. Projektet vil bygge på de \nresultater, der er opnået indenfor FCH JU projektet Pr<br>imolyzer, som er fokuseret på grundlæggende \nmaterialeforskning, PEMEC-celle udvikling og -stak konstruktion. Projektet her har til formål at \nyderligere udvikle de lovende resultater fra Primolyzer ved ikke blot at øge PEMEC effektiviteten \nog reducere pris<br>en, men også at konstruere et første system, der opfylder det ambitiøse danske µ-\nPEMEC road-map m.h.t. kost, levetid og effektivitet. Projektet er 3-årig og konsortiet består af de \ntre partnere IRD Fuel Cells og elforsyningsselskaberne TRE-FOR og SEAS NVE.<br> Tre PEMEC \nenheder vil blive udviklet og funktionsafprøvet hos de respektive partnere. En egentlig felttest \nsammen med en µ-KV enhed er planlagt til en efterfølgende fase. Projektets resultater forventes at \nbidrage betydeligt til en kommercialisering i 20<br>16",
           2011,
           "Brint og brændselsceller",
           "IRD A/S",
           "Ingen data"
          ],
          [
           "Brændselscellebiler og brintstationer i København (HyTEC) \n HyTEC-DK skal demonstrere et netværk af 3-5 brint tankstationer i København sammen med 10 stk.\nbrændselscellebiler fra en bilproducent. Sammen med en infrastruktur udrulningsanalyse skal dette sikre at mindst to bilprod<br>ucenter beslutter at iværksætte markedsintroduktion i Danmark og at det besluttes at etablere et landsdækkende netværk af tankstationer frem mod 2015. \n HyTEC er et fælles europæisk demonstrationsprojekt med et samlet budget på 226 millioner kroner støttet af Fuel Cells & Hydrog<br>en Joint Undertaking Programme (FCH-JU), og med aktiviteter i både København (DK) og London (UK) udført af 16 partnere fra 5 lande. I Danmark og København skal et antal brintbiler indkøbes fra en international bilproducent og anvendes af Københavns Kommune for daglige transporto<br>pgaver. Hovedaktiviteten indenfor HyTEC-DK er demonstrationen af et netværk af brint tankstationer i København. Alle stationer skal baseres på brint produktion ved stationen ved brug af vedvarende elektricitet indkøbt med CO2 certifikater. Samlet vil HyTEC projektet sikre Københ<br>avn som en metropol med det mest dækkende netværk af brint tankstationer i verden, hvilket gør det til en stærk kandidat for markedsintroduktion af brintbiler fra bilproducenter. Disse aktiviteter skal, sammen med en omfattende infrastruktur udrulningsanalyse for Danmark, sikre <br>at næste skridt og beslutning tages om introduktion af brintbiler og infrastruktur i Danmark. Specifikt skal bilproducenter beslutte at iværksætte markedsudrulning i Danmark fra omkring 2015 og en beslutning om etablering af et landsdækkende netværk af brint tankstationer skal t<br>ages",
           2011,
           "Brint og brændselsceller",
           "Everfuel A/S",
           "Ingen data"
          ]
         ],
         "hovertemplate": "topics_name=brint - tankstationer - brint tankstationer<br>x=%{x}<br>y=%{y}<br>text_br=%{customdata[0]}<br>Bevillingsår=%{customdata[1]}<br>Fælles overordnet teknologiområde=%{customdata[2]}<br>Ansvarlig virksomhed=%{customdata[3]}<br>Fokusområder EUDP=%{customdata[4]}<extra></extra>",
         "legendgroup": "brint - tankstationer - brint tankstationer",
         "marker": {
          "color": "#B68100",
          "size": 5,
          "symbol": "circle"
         },
         "mode": "markers",
         "name": "brint - tankstationer - brint tankstationer",
         "orientation": "v",
         "showlegend": true,
         "type": "scatter",
         "x": [
          3.534871816635132,
          3.7350428104400635,
          3.7370383739471436,
          3.7936477661132812,
          3.837029218673706,
          3.668771266937256,
          3.8295321464538574,
          3.5770423412323,
          3.841259002685547,
          3.674671173095703,
          3.7122716903686523,
          3.459029197692871,
          3.6374170780181885
         ],
         "xaxis": "x",
         "y": [
          8.23945140838623,
          7.676670551300049,
          8.206456184387207,
          7.8456645011901855,
          7.90646505355835,
          8.323644638061523,
          8.03032112121582,
          8.180852890014648,
          7.687592029571533,
          8.157393455505371,
          7.778879642486572,
          8.250614166259766,
          7.781834602355957
         ],
         "yaxis": "y"
        },
        {
         "customdata": [
          [
           "Hybridt Energilager \n Projektet vil udvikle, teste og optime<br>re hybride energilagringssystemer. Tre lagringsteknologier v<br>il blive karakteriseret i laboratoriet for at optimere et hy<br>bridenergilager på basis af et dimensione-rings- og optimeri<br>ngsværktøj Et hybridlager som en integreret del af en vindmø<br>lle - vil blive udviklet mod en demonstration i fuld skala. <br>\n ",
           2020,
           "Smart Grid og systemer",
           "DTU Elektro",
           "Ingen data"
          ],
          [
           "Store flow-batterier til elnettet \n Med baggrund i det øge<br>de behov for lagring af vedvarende el-energi, er det proje<br>ktets formål at udvikle store energilagre til det kollekti<br>ve elnet, og omkostningseffektivisere etableringsudgiften <br>ved at genanvende bestående store ståltanke til olieopbeva<br>ring, og bruge dem som beholderdelen til et flow-batteri. <br>\n ",
           2019,
           "Smart Grid og systemer",
           "Nordisk Energirådgivning",
           "Ingen data"
          ],
          [
           "Forbedring af strømkvalitet ved energilagring. En case: jernbanetransfo<br>rmerstationer \n Elektriske tog har et stort men kort effektforbrug, hvi<br>lket er problematisk for el-nettet. Vi vil anvende et 3.3 MW magnetisk <br>svinghjul som energilagring, til at belaste el-nettet med en jævn, men <br>lille belastning, som så kan levers til togene, når dette er påkrævet. <br>Svinghjulet vil blive testet på en togtransformerstation i Nordsjælland<br> \n ",
           2016,
           "Smart Grid og systemer",
           "Danmarks Tekniske Universitet (DTU)",
           "Ingen data"
          ],
          [
           "Power-2-Electrolysers \n Projektet skal optimere MW elektrolyse<br>anlæg ved at udvikle en højeffektiv strømforsyning. Denne skal<br> desuden levere systemydelser til nettet i form af frekvensreg<br>ulering og regulerkraft til balancering, samt fasekompensering<br> til minimering af tab i nettet. Yderligere udvikles og optime<br>res forretningsmodeller for intelligente elektrolysesystemer. <br>\n ",
           2013,
           "Brint og brændselsceller",
           "Aalborg Universitet (Fredrik Bajers Vej)",
           "Ingen data"
          ],
          [
           "TEG for energieffektivisering i tunge køretøjer \n Elektricitet kan blive genereret baseret på varmen fra motorer og udstødninger på tunge køretøjer. Termoelektriske generatorer forbedrer energi effektiviteten på køretøjer så en brændstofbesparelse kan opnås. Formålet med dette projekt er at udvik<br>le og for første gang demonstrere en termoelektrisk generator i et køretøj på koncept basis. \n Det overordnede formål med dette projekt er at udvikle og demonstrere en effektiv og billig termoelektrisk generator for tunge køretøjer baseret på Zn4Sb3/Mg2SiSn termoelektriske materialer.\nI starten a<br>f projektet vil flådeejere for tunge køretøjer bliver inviteret for at komme med input til projektet.\nSenere vil det termoelektriske materiale blive forbedret i stræben efter lang tids pålidelighed, når det udsættes for høje temperaturer, det samme gælder for de termoelektriske moduler. Bestræbel<br>ser vil finde sted for at beskytte det termoelektriske materiale mod oxidation ved hjælp af coating. Potting tekniker såvel som alternative samlingsteknikker for det termoelektriske modul vil ligeledes blive undersøgt. Computer simulering vil sikre den optimale virkningsgrad for det termoelektris<br>ke modul.\nSenere i projektet vil termoelektriske moduler blive integreret i termoelektriske generatorer. I starten af denne fase vil design parametre blive identificeret. Så vil først en 20W - siden en 100W generator blive bygget for at demonstrere konceptet. De termoelektriske generatorer vil bl<br>ive testet ved hjælp af varm luft, svarende til udstødningsgas, i en testbænk.\nProjektet vil bane vejen for at termoelektriske elementer vil blive en integreret del af fremtidens udstødningssystemer, hvorved en brændstofbesparelse på 1% vil kunne opnås, da en traditionel generator vil kunne udela<br>des.",
           2013,
           "Energieffektivitet",
           "TEGnology Aps",
           "Ingen data"
          ],
          [
           "Auxiliary Hybrid Power \n Målet er at demonstrere en mobil, kombineret brændselscelle og lithiumbatteriløsning med høj udgangseffekt, der kan erstatte traditionelle fossile brændstofløsninger. \n Med introduktion af en ny grøn strøm ge<br>nerator teknologi baseret på brændselsceller og litium, skaber vi en ny type Auxiliary Power Unit der kan erstatte traditionelle fossilt drevet industrielle generator løsninger. Det nye system vil reducere driftsomkostningerne og udl<br>edningerne signifikant. \nVed at kombinere litium – og brændselscelleteknologi, får vi et system med høj effektivitet og lave brændselsomkostninger. De to teknologier komplimenterer hinanden perfekt og giver den energiforlængelse der <br>skal til for at gå ind på nye markeder og applikationer, hvilket ellers ikke ville være muligt. Ved at bruge fremtidens batteri-og brændselsteknologier i form af litium og methanol, vil vi bidrage til et skifte inden for de teknologi<br>er der bliver brugt til strømforsynende formål. \nTeknologierne er i øjeblikket ved at opnå kommerciel succes når det gælder mindre, enkelt teknologisystemer. Men for virkeligt at levere en konkurrencedygtigt højeffektsprodukt, ser vi<br> nødvendigheden af at demonstrere større løsninger med kombineret teknologi, som er testet i virkelig omgivelser. Målet er at have en kommerciel, markedsklar, højeffektløsning der minimere driftsomkostningerne og leverer en grøn prof<br>il.",
           2013,
           "Smart Grid og systemer",
           "CLAYTON POWER ApS",
           "Ingen data"
          ],
          [
           "EMoCrane – Energieffektive mobile kraner \n EMoCrane formålet er at udvikle og afprøve en energieffektiv modulopbygget og batteridrevet elektrisk/hydraulisk\nenhed, der monteres som drivkraft for lastbilkraner. Ved at konvertere et højt dieselforbrug til\nelektrisk drift, reducerer løsningen CO2-emissioner, partikelforurening og støjbelastning fra intensivt\nbenyttede tunge arbejdskøretøjer. \n EMoCrane formålet er at udvikle og afprøve en energieffektiv modulopbygget og batteridrevet elektrisk/hydraulisk\nenhed, der monteres som drivkraft for lastbilkraner. <br>Ved at konvertere et højt dieselforbrug til\nelektrisk drift, reducerer løsningen CO2 emissioner, partikelforurening og støjbelastning fra intensivt\nbenyttede tunge arbejdskøretøjer. Den innovative ’plug-and-play’ teknologi adresserer et marked hvor der\nikke i dag findes effektive, pålidelige og robuste batteridrevne løsninger. EMoCrane løsningen består af: (1)\nbatterimodul der er drivkraft for kranens funktioner med en lithium-ion batteripakke, som dagligt bliver\nopladet i køretøjets hvileperiode. Afhængig af kranens arbejdsopgaver kan yderligere opladn<br>ing ske på\narbejdsstedet. Den konventionelle hydrauliske tilkobling af kranen til lastbilmotoren udgør et back-up\nsystem; (2) elektronisk modul der indeholder et system af energieffektive og robuste effektelektroniske\nkomponenter til batteriladning og som elektrisk drivlinje; (3) hydraulisk modul der er konfigureret således,\nat der opnås en energieffektiv forsyning af kranens funktioner ved genvinding af hydraulisk energi fra\nkranens bevægelser og anvendelse af optimerede komponenter. På grundlag af et stærkt projekt og partner\nkonsortium er EMoCrane in<br>novationsbidraget baseret på mobilisering, kombination og udvikling af\nkompetencer vedrørende: (1) batterielektrisk kraftudtag (E-PTO) koncept til udstyr på arbejdskøretøjer med\nlithium-ion batteriteknologi og effektelektroniske komponenter; (2) energieffektiv konfiguration af hydrauliske\nsystemer med energigenvinding; (3) logistikoperationer med lastbilmonterede kraner. Udvikling og\ndemonstration er målrettet: • Medio 2013: proof-of-principle prototype konstrueret og sendt til afprøvning •\nUltimo 2013: funktionel prototype konstrueret og sendt til afpr<br>øvning • Medio 2014 – primo 2016: pilot serie\nmed 25 enheder produceret og sendt til afprøvning. Målgrupperne er købere af ydelser fra lastbilkraner såvel\nsom operatører, der leverer services til dem. Løsningen vil give en markant merværdi ved at reducere miljø og\nklimapåvirkninger, idet emissionerne af CO2, partikler og støj bliver reduceret. Ved anvendelse af den\nelektrisk/hydrauliske løsning anslås, at der kan spares 40-80 % af krankøretøjernes brændstofforbrug, som\nkonverteres til en billigere anvendelse af strøm. Dét giver driftsøkonomisk grundlag <br>for yderligere investering\ni teknologi, og en anslået tilbagebetalingsperiode på 3-5 år. Det vil også forbedre de miljø- og\narbejdsrelaterede forhold ved mobile lastbilkraner. Det potentielle marked for den elektrisk/hydrauliske\nEMoCrane løsning anslås at være 1500 enheder per år, hvilket giver en omsætning på 450-750 millioner\nDKK. Forretningsmodellen er at producere den modulbaserede enhed som en ’plug-and-play’ løsning, der\numiddelbart kan integreres i fremstillingsprocesserne hos lastbilkran OEM’er, hvorved der opnås\nomkostningsmæssige stordriftsfor<br>dele.",
           2012,
           "Energieffektivitet",
           "Banke A/S",
           "Ingen data"
          ]
         ],
         "hovertemplate": "topics_name=termoelektriske - tunge - emocrane<br>x=%{x}<br>y=%{y}<br>text_br=%{customdata[0]}<br>Bevillingsår=%{customdata[1]}<br>Fælles overordnet teknologiområde=%{customdata[2]}<br>Ansvarlig virksomhed=%{customdata[3]}<br>Fokusområder EUDP=%{customdata[4]}<extra></extra>",
         "legendgroup": "termoelektriske - tunge - emocrane",
         "marker": {
          "color": "#750D86",
          "size": 5,
          "symbol": "circle"
         },
         "mode": "markers",
         "name": "termoelektriske - tunge - emocrane",
         "orientation": "v",
         "showlegend": true,
         "type": "scatter",
         "x": [
          2.391495704650879,
          2.5409157276153564,
          2.56306529045105,
          2.4315457344055176,
          2.580836534500122,
          2.580901622772217,
          2.6957621574401855
         ],
         "xaxis": "x",
         "y": [
          7.207865238189697,
          7.020090579986572,
          7.128262519836426,
          7.088930606842041,
          7.1929521560668945,
          7.034708499908447,
          6.88111686706543
         ],
         "yaxis": "y"
        },
        {
         "customdata": [
          [
           "Optimering af energieffektivitet af industriel insektproduktion med særlig<br> fokus på klimasty-ringssystemet (EntoPower) \n Formålet med EntoPower er a<br>t udvikle et intensivt og innovativt sort soldaterfluelarve (SSFL) Heat Ve<br>ntilation, Air handling and Control (HVAC) system, der reducerer energibeh<br>ovet og sikrer optimale opdrætsforhold. Målet er at reducere energiforbrug<br>et med mindst 50% ved at reducere behovet for ventilation, varme og køling<br>. \n ",
           2020,
           "Energieffektivitet",
           "Teknologisk Institut",
           "Ingen data"
          ],
          [
           "COBRA DRIVE \n COBRA Drive har <br>til formål at løfte den reform<br>eret metanol brændselscelletek<br>nologi på et niveau, hvor den <br>kan erstatte dieselmotorer i l<br>ette kommercielle vehikler. \n ",
           2018,
           "Brint og brændselsceller",
           "SERENERGY A/S",
           "Ingen data"
          ],
          [
           "Ecogrid 2.0 \n Formålet med projektet var at demonstrere, hvo<br>rdan elkunder gennem demand response kan tilbyde ydelser, de<br>r kan hjælpe med driften af elsystemet og afhjælpe udfordrin<br>ger som implementering af vedvarende energi og forbrug fra v<br>armepumper og elbiler kommer til at give. Projektet blev dem<br>onstreret på den unikke bornholmske EcoGrid forbrugerplatfor<br>m \n ",
           2015,
           "Smart Grid og systemer",
           "Dansk Energi",
           "Ingen data"
          ],
          [
           "Opskalering af katalysator for brændselscelle \n Elektrokata<br>lysatorer er nøglen til høj ydeevne i udviklingen af polyme<br>r elektrolyt brændselsceller i kombination med vedvarende e<br>nergikilder, f. eks. vindmøller. UPCAT projektet er dediker<br>et til at adressere problemer med katalysatorer, fra materi<br>aledesign og opskalering til brændselscelle anvendelser. \n ",
           2015,
           "Brint og brændselsceller",
           "Danmarks Tekniske Universitet (DTU)",
           "Ingen data"
          ],
          [
           "Power2Hydrogen \n Power2Hydrogen projektet søger<br> at fremme et nyt grønt energimarked ved at dem<br>onstrere, hvordan dynamisk drift af et PEM elek<br>trolyse anlæg kan udnyttes til stabilisering af<br> elnettet og samtidig producere grøn brint til <br>højværdi markeder såsom transport og proces. \n ",
           2015,
           "Brint og brændselsceller",
           "Air Liquide",
           "Ingen data"
          ],
          [
           "Optimering af plante balance \n Dantherm Power og partnere ø<br>nsker at udvikle en 2,5 kW platform rettet mod markedet for<br> mikrokraftvarme og nødstrøm. Målet med projektet er (1) at<br> reducere omkostningerne ved anlæg og drift, (2) opretholde<br> systemets ydelse og forbedre dets levetid samt (3) forbedr<br>e forsyningssikkerheden ved at reducere systemets nedetid. <br>\n ",
           2014,
           "Brint og brændselsceller",
           "Ballard Europe",
           "Ingen data"
          ],
          [
           "REST – Realistisk ESTimering af pålidelighed for bri<br>nt og brændselscelle systemer \n Formålet med REST-pr<br>ojektet er at løse de nuværende begrænsninger for es<br>timering og test af pålidelighed på tværs af applika<br>tionssegmenter for H2 og FC – med fokus på brændsels<br>cellebaseret nødstrømsanlæg og brint tankstationer. <br>\n ",
           2014,
           "Brint og brændselsceller",
           "Ballard Europe",
           "Ingen data"
          ],
          [
           "Bæredygtig teglproduktion med mikrobølger \n Hovedformålet er at halvere<br> energiforbruget til tørring og brænding af tegl, samtidig med at energ<br>ikilden transformers fra fossilt brændsel til el, potentielt fra vedvar<br>ende energi. Dette kan opnås ved at anvende MAGF (Microwave Assisted Ga<br>s Firing) teknologi. Projektets slutmål er at MAGF-teknologien kan betr<br>agtes som moden i forhold til at blive etableret i branchen generelt. \n<br> ",
           2013,
           "Energieffektivitet",
           "Teknologisk Institut",
           "Ingen data"
          ],
          [
           "Energilagring – Brintinjektion i Gasnettet via felt test af elektro<br>lyse \n Overskud af VE-strøm kan via elektrolyse konverteres til bri<br>nt, som kan lagres i gasinfrastrukturen. M/R-stationer langtidstest<br>es via on-site genereret brint fra elektrolyse for egnethed til tra<br>nsport af brint/naturgasblandinger, og konsekvenser for M/R station<br>ernes og elektrolyseanlæggets drift, vedligehold og økonomi analyse<br>. \n ",
           2013,
           "Brint og brændselsceller",
           "Energinet",
           "Ingen data"
          ],
          [
           "SIMBA platformsprojekt om udv. og demo. af små brændselscelleanlæg. \n Formålet med projektet (SIMBA) er at fremskynde volumen produktion af små miljøvenlige og energieffektive stationære brændselsceller (FC) systemer. Med hjælp fra reformatoren SIMBA FC platformen vil blive udviklet for naturgas, flydende gas (LPG) og methanol med en output kapacitet omkring 2 kWel. \n Formålet med SIMBA-projektet er at fremskynde volumen produktionen af de små milj<br>øvenlige og energieffektive stationære brændselscellesystemer med reformer. Gennem udvikling af fælles platform for tre anvendelser, vil produktionsvolumen til disse tre tidlige markeder vil blive brugt til en hurtigere reduktion af omkostningerne. Tre af de tidlige og væsentligste markeder for kommerciel anvendelse af brændselsceller (FC) er: Mikrokraftvarme (µCHP), ”Home Generator” (HomeGen) og hjælpegenerator (Sup). Det overordnede formål med pr<br>ojektet er at udvikle, demonstrer og validere en samlet platform for de tre forskellige anvendelser. En fælles platform giver store fordele i forbindelse med udvikling og produktion, og danner basis for kost reduktioner og forøget konkurrencedygtighed, som skal lede til vækst og arbejdspladser i Danmark. Desuden vil SIMBA medvirke til at opnå de energipolitiske mål om CO2 reduktion. EUDP-ansøgningen vedrører medfinansiering af aktiviteter i Danther<br>m Power (DTP) samt udvalgte aktiviteter på Aarhus Universitet (AU) vedr. udvikling og demonstration af en fælles produktionsplatform dækkende de tre anvendelser. Et Sydafrikansk firma medfinansierer projektet, og vil sikre demonstration af HomeGen løsninger i sydafrika. µCHP produktet vil blive demonstreret i EU-projekterne ene.field. Planen er at opbygge og demonstrere en række enheder i EU, primært i Danmark, medfinansieret i EU. EUDP midler til <br>SIMBA vil således blive gearet med investeringer fra Sydafrika og finansieringen fra EU projektet. De første aktiviteter vil fokusere på at skabe en system platform af komponenter (befugter, reformer, stak, inverter, konverter, mekanisk design etc.), der kan anvendes i alle tre forskellige produktsegmenter. En anden gruppe af opgaver, ledet af Au, vil fokusere på karakterisering og analyse af kvaliteten af forskellige stedet i verden samt udvikling<br> af oprensningsprincipper og metoder. Desuden omfatter projektet aktiviteter, dedikeret til demonstration af de første HomeGen systemer i Sydafrika. Demonstrationen vil blive ledet af DTP i samarbejde med lokale partnere. Det overordnede mål er at sikre strømforsyning i små samfund uden tidligere el-tilslutning, ved anvendelse af brændselsceller (i første omgang Sydafrika, senere også i andre afrikanske lande samt udviklingslande såsom Indien og Ki<br>na).",
           2013,
           "Brint og brændselsceller",
           "Ballard Europe",
           "Ingen data"
          ],
          [
           "COBRA II \n COBRA II er en fortsættelse af et teknologiudvi<br>klings platform for HT PEM brændselsceller der dækker\nudvi<br>klingen af brændselscelle stakken og dens komponenter samt<br> integrationen af et komplet system.\nMålet er et effektiv,<br> kost effektiv generisk 5 kW integreret brændselscelle sys<br>tem, der er relevant til en\nrække specifikke applikationer<br>. \n ",
           2012,
           "Brint og brændselsceller",
           "SERENERGY A/S",
           "Ingen data"
          ],
          [
           "Brændselsceller til store arbejdskøretøjer (MegaDrive) \n MegaDrive har udviklet brændselscellesystem<br>er til store arbejdskøretøjer. Systemdesign til arbejdskøretøjer er udviklet og\nafprøvet i laborator<br>ium. \n MegaDrive skal udvikle og teste prototype brændselscellesystem i laboratorium med det sigte a<br>t øge effektleverancen til 30 kW, da det vil muliggøre anvendelse i større arbejdskøretøjer, sådom g<br>affeltrucks. Teoretisk modellering og design af fremtidige koncepter for brændselscellesystemer fra <br>100 kW og op skal også gennmføres  med det mål at muliggøre anvendelse i endnu større arbejdskøretøj<br>er.",
           2012,
           "Brint og brændselsceller",
           "NEL Hydrogen",
           "Ingen data"
          ],
          [
           "Brændselscelleløsninger til ekstreme klimaforhold \n Projektets formål er at udvikle et anden generations brændselscellesystem til ekstreme klimaforhold. Der findes et niche marked for sådanne systemer, hvor betalingsvillighed<br>en er stor. Det færdige system afprøves og demonstreres i et klimakammer. \n Projektets formål er at udvikle et anden generations brændselscellesystem til ekstreme klimaforhold.\nUdgangspunktet er Dantherm Powers føste generati<br>ons system. Der findes et niche marked for sådanne\nsystem, hvor betalingsvilligheden er stor. I dette projekt vil der blive gennemført udviklingsaktiviteter på\ncelle, stak og system niveau. Det færdige system afprøves og demo<br>nstreres i et klimakammer. \nDet endelige resultat af EXC-CELL projektets aktiviteter vil være et anden generations klimakit, der er blevet testet under realistiske forhold i et klimarum. De markedsorienterede aktiviteter vil <br>sikre at det nødvendige grundlag for kommercialilseringen af produktet er etableret inden for projektets tidsramme. Den samlede varighed af projektet er 28 måneder, hvorfor produktet vil være klar til markedsindtroduktion i b<br>egyndelsen af 2015.\nStørelsen af markedsnichen for back-up anlæg med klimakit skønnes at være omkring 1% til 2% af hele verdens back-up power, som repræsenterer et hurtigt voksende segment af mere end 50.000 radiobasisstation<br>er.",
           2012,
           "Brint og brændselsceller",
           "Ballard Europe",
           "Ingen data"
          ],
          [
           "Skalerbar brændselscelle baseret nødstrøm (FC2Scale) \n Der udvikles en skalerbar platform for brændselscelle back-up system<br>er.  Modulopbygningen gør det muligt at skalere effekten. Det færdige produkt forsynes med brint. I løbet af 2015 vil de ud<br>viklede teknologier kunne konkurrere med batterier og dieselgeneratorer i udendørs installationer. \n Der udvikles en skaler<br>bar platform for brændselscelle back-up systemer, der er målrettet kravene i et\nspirende marked. Modulopbygningen gør det m<br>uligt at skalere effekten mellem 1 og 5 kW. Det færdige\nprodukt forsynes med brint. Produktet demonstreres hos IKT-slutbrug<br>ere. I løbet af 2015 vil de udviklede\nteknologier kunne konkurrere med batterier og dieselgeneratorer i udendørsinstallatio<br>ner.",
           2012,
           "Brint og brændselsceller",
           "Ballard Europe",
           "Ingen data"
          ],
          [
           "Brændselsfleksibel mikrokraftvarme (UsDan-1) \n Projektet vil videreudvikle- og demonstrere et lavtemperatur-PEM mikrokraftvarmeanlæg og udvikle en universel \"br<br>ændstof-reformer\" med det formål at gøre mikrokraftvarmeanlæg fleksible i forhold til brændstof. \n Projektet sigler mod at udvikle de næste generationer af bræn<br>dselscellebaserede PEM mikrokraftvarmeanlæg. Fokus vil være på optimering af omkostningerne, reduktion af formfaktoren og fleksibilitet i valg af brændstof. En <br>fleksibel lav pris brændstof procesor vil blive udviklet af partnere i USA bistået af Aalborg Universitet. Brændstof processoren af typen damp reformering vil b<br>live udviklet til at håndtere biogas, naturgas eller LPG. Systemintegration vil fiine sted i Danmark. Demonstrations vil finde sted både i USA og Danmark. USA p<br>artnerne er Ballard Material Products Inc. Maryland og Universitey of Maryland. Udelukkende den danske del af projektet modtager tilskud til finansieringen fra <br>EUDP.",
           2011,
           "Brint og brændselsceller",
           "Ballard Europe",
           "Ingen data"
          ],
          [
           "Videreudvikling af mikrokraftvarme (Asterix 3) \n Projektet er en del af <br>et EU-projekt, og har til formål at videreudvikle et mikrokraftvarme-anl<br>æg til brug i enfamilies¬boliger, baseret på fastoxid-brændselsceller (S<br>OFC). Projektets hovedformål er at øge mikrokraftvarmeanlægs levetid, på<br>lidelighed og robusthed. Nøglen hertil er at udvikle et fuldautomatisere<br>t kontrolsystem, og forbedre den  termiske og elektriske effektivitet. \n<br> ",
           2010,
           "Brint og brændselsceller",
           "Ballard Europe",
           "Ingen data"
          ],
          [
           "Mikrokraftvarmeanlæg uafhængig af forsyningsnettet \n Projektets mål var at udvikle en ny generation af et brintbaseret lavtemperatur mikrokraftvarmeanlæg (PEM). Anlægget skal på sigt kunne sammenbygges med mikroelektrolyseanlæg, med henblik på at anvende det i områder uden fjernvarme- og natugasf<br>orsyning. \n Projektet bygger videre på de lovende resultater fra projektet 'Dansk mikrokraftvarme baseret på brændselsceller', hvor betragtelige reduktioner i pris og storrelse samt stor forbedring af effektiviteten blev opnået for IRD's brintfyrede 1,5-kW's mikrokraftvarmeanlæg ( μCHP) med lavte<br>mperaturpolymerbrændselsceller (LT-PEMFC). Trods disse landvindinger er systemet stadig for dyrt til et kommercielt gennembrud, og formålet med dette projekt er derfor at bringe teknologien over 'dødens dal', hvilket sker ved videreudvikling og demonstration af produktet. Projektet omfatter udvik<br>lingsaktiviteter rettet mod prisreduktion med samtidig fastholdelse af den høje effektivitet samt forlængelse af holdbarheden. Resultatet af projektet vil være et demonstreret 1-kW's LT-PEMFC kraftvarmeanlæg, som er konkurrencedygtigt med andre tilgængelige brændselscellebaserede kraftvarmeløsnin<br>ger. Brændselscellesystemet sammenbygges med en mikroelektrolysator (#mu#PEMEC), så der skabes et selvforsynende system, der er ideelt til husstande i områder uden fjernvarme eller naturgas.  Målene for det samlede brændselscelle/elektrolyse-anlæg er en pris under 60.000 kr. og en levetid på mind<br>st 20.000 driftstimer i 2016. Det udviklede produkt er dermed klart billigere, mere pålideligt og mere holdbart end nuvarende mikrokraftvarmeløsninger, og IRD forventer derfor at kunne sælge og installere det selvforsynende anlæg, som vil være forberedt til smart grid, på kommerciel basis fra 201<br>7",
           2011,
           "Brint og brændselsceller",
           "IRD A/S",
           "Ingen data"
          ],
          [
           "Ny generation af brændselsceller leverer el og varme til husstande \n Projektet vil udvikle fjerde generation af SOFC-brændselscel<br>ler til mikrokraftvarme. SOFC-brændselsceller kan generere el og varme med et lavt brændstofforbrug og CO2-udslip. Projektets for<br>mål er at modne brændselscelle-baserede mikrokraftvarmeanlæg til områder med og uden fjernvarme- og naturgasforsyning. \n I Gamma <br>II projektet vil næste generation SOFC mikrokraftvanne blive udviklet. Projektet bygger på erfaringerne fra det danske mikrokraft<br>varme projekt og vil føre videre til fase IV. Systemets centrale teknologi vil blive optimeret og systemer vil blive bygget. Muli<br>gheden for valg af brændstof vil blive udvidet til at inkludere LPG (flaskegas) og her med gøre driften uafhængig af naturgasnett<br>et",
           2011,
           "Brint og brændselsceller",
           "Ballard Europe",
           "Ingen data"
          ]
         ],
         "hovertemplate": "topics_name=brændselsceller - brændselscelle - mikrokraftvarme<br>x=%{x}<br>y=%{y}<br>text_br=%{customdata[0]}<br>Bevillingsår=%{customdata[1]}<br>Fælles overordnet teknologiområde=%{customdata[2]}<br>Ansvarlig virksomhed=%{customdata[3]}<br>Fokusområder EUDP=%{customdata[4]}<extra></extra>",
         "legendgroup": "brændselsceller - brændselscelle - mikrokraftvarme",
         "marker": {
          "color": "#EB663B",
          "size": 5,
          "symbol": "circle"
         },
         "mode": "markers",
         "name": "brændselsceller - brændselscelle - mikrokraftvarme",
         "orientation": "v",
         "showlegend": true,
         "type": "scatter",
         "x": [
          2.5106542110443115,
          2.9968514442443848,
          2.7640528678894043,
          2.6330373287200928,
          2.6224865913391113,
          2.6304798126220703,
          2.9268312454223633,
          2.631901979446411,
          2.409001350402832,
          2.816328525543213,
          2.9444472789764404,
          2.8758323192596436,
          2.7661025524139404,
          2.945791721343994,
          2.614435911178589,
          2.5818347930908203,
          2.5196876525878906,
          2.7989704608917236
         ],
         "xaxis": "x",
         "y": [
          7.517956733703613,
          7.419520854949951,
          7.9752888679504395,
          7.760263919830322,
          7.807327747344971,
          7.480861663818359,
          7.479241371154785,
          7.6424241065979,
          7.695229530334473,
          7.6799139976501465,
          7.471598148345947,
          7.553040504455566,
          7.8070478439331055,
          7.476357936859131,
          7.734781265258789,
          7.712358474731445,
          7.57038688659668,
          7.7448625564575195
         ],
         "yaxis": "y"
        },
        {
         "customdata": [
          [
           "Pris- og energieffektivt matsort solcellepanel til æstetisk bygningsintegrat<br>ion | Black Si BIPV | Fase 2 \n Formålet i nærværende EUDP projekt er at udvi<br>kle en pilotproduktion af et matsort solpanel baseret på nanostruktureret so<br>rt silicium (black Silicon) samt sortfarvede strenge. Pilotproduktionen kræv<br>er kun ændringer af to procestrin i modulfabrikationslinjen og en proces i c<br>ellefabrikationslinjen i forhold til en traditionelle produktionsprocesser. <br>\n ",
           2016,
           "Sol",
           "Danmarks Tekniske Universitet (DTU)",
           "Ingen data"
          ],
          [
           "DronEL - Hurtig og præcis fejlfinding på PV installati<br>oner med luminescens billedanalyse. \n Målet med projek<br>tet er at udvikle en kombineret hardware- og softwarel<br>øsning, der effektivt kan fungere som et værktøj til h<br>urtig og nøjagtig dronebaseret luminescensinspektion a<br>f jordbaserede solcelleanlæg samt taginstallationer. \n<br> ",
           2019,
           "Sol",
           "Danmarks Tekniske Universitet (DTU)",
           "Ingen data"
          ],
          [
           "PV-ROCK-ROOF \n Formålet med PV-Rock-Roof-projektet er at udvikle et<br> omkostningseffektivt, æstetisk og energibesparende tagelement, hvo<br>r en ny type PV-modul limes til isoleringen uden behov for yderlige<br>re vejrbeskyttelse. Produktet kombinerer termisk isolering med loka<br>l elproduktion fra solceller på en ny måde og vil være generelt anv<br>endelig på mange bygninger hvor man ønsker en æstetisk klimaskærm. <br>\n ",
           2019,
           "Sol",
           "Teknologisk Institut",
           "Ingen data"
          ],
          [
           "NEW SILICONE-BASED LENSES FOR LOW COST CONCENTRATED SOLA<br>R HEAT \n At udvikle mere effektive, sikre og holdbare li<br>nser til koncentreret solenergi. Effektivitet og holdbar<br>hed vil blive forbedret ved at bruge bedre materialer en<br>d det nuværende termoplast, og sikkerhed og i nogen grad<br> effektivitet vil blive forbedret ved nye linse designs.<br> \n ",
           2018,
           "Sol",
           "Heliac",
           "Ingen data"
          ],
          [
           "Skalerbar elektronik til plastsolceller \n Projektets overordnede formål er at øge markedet for plastsolceller ved at sikre entré af større paneler o<br>g systemer gennem skalerbar elektronik. Plastsolcellen udviser en helt ekstrem grad af skalerbarhed og kan i praksis klippes ud på mål alt efter hvi<br>lken effekt (i Watt) man ønsker. Den tilsvarende elektronik med samme grad af skalerbarhed findes ikke i dag. Vi har i infinityPV ApS udviklet små-e<br>lektronik til plastsolceller med succes. Elektronik til plastsolceller har været demonstreret i større skala i et nu afsluttet PSO projekt. Vi ønske<br>r at foretage den nødvendige industrielle udvikling af denne elektronik i dette projekt, således at fuld skalerbarhed opnås (for både spænding og st<br>røm) – samt at få foretaget og udfærdiget de nødvendige godkendelser til markedet for systemer til net-tilslutning og systemer med batterilagring. \n<br> ",
           2018,
           "Sol",
           "infinityPV ApS",
           "Ingen data"
          ],
          [
           "BiSun Boost \n Formålet med projektet er at r<br>educere den gennemsnitlige energipris for st<br>orskala landbaserede solcelleanlæg ved at ve<br>d at øge den høstede solenergimængde ved bru<br>g af bifaciale solcellemoduler, reflektorer,<br> trackere og forbedrede tracker-algoritmer. <br>\n ",
           2018,
           "Sol",
           "European Energy",
           "Ingen data"
          ],
          [
           "PV+Storage – Operation and Economics \n Solceller og energilagre <br>bliver stadigt mere konkurrencedygtige på grund af de støt falde<br>nde priser. Men udviklingen er gået så stærkt, at flere væsentli<br>ge problemstillinger stadigt er uafklarede. Projektet har derfor<br> til formål at evaluere og forbedre teknologien, samtidig vil de<br>t undersøge teknologiens effekt på netselskaber og elhandlere. \n<br> ",
           2017,
           "Smart Grid og systemer",
           "Danmarks Tekniske Universitet",
           "Ingen data"
          ],
          [
           "EnClose - Smart facadebeklædning til nybyg og renover<br>ing \n Nærværende projekt har til formål at udvikle og<br> demonstrere et konkurrencedygtigt facadebeklædningss<br>ystem med indbyggede solceller, som skal anvendes båd<br>e til nybyggeri og som ny yderklædning udenpå efteris<br>olerede facader ved energirenovering af etagebyggeri.<br> \n ",
           2017,
           "Energieffektivitet",
           "SolarLab.dk",
           "Ingen data"
          ],
          [
           "Ny generation af solcelledrevne køleskabe med is-lager \n<br> Formålet er at undersøge, udvikle og teste den næste ge<br>neration af ”direct drive” solcelledrevne køleskabe til <br>vaccineopbevaring og til opbevaring af fødevarer i ”off-<br>grid”-områder. Denne nye generation af kølere forventes <br>at være mere effektive, mere driftssikre og billigere. \n<br> ",
           2017,
           "Sol",
           "Teknologisk Institut",
           "Ingen data"
          ],
          [
           "Pris- og energieffektivt matsort solcellepan<br>el til æstetisk bygningsintegration | \n Proj<br>ektet har til formål at skabe proof-of-conce<br>pt og proof-of-business for sort siliciums a<br>nvendelse i forbindelse med bygningsintegrat<br>ion og sikre en dansk førerposition heri. \n ",
           2015,
           "Sol",
           "Danmarks Tekniske Universitet (DTU)",
           "Ingen data"
          ],
          [
           "Solaffugter \n Firmaet Solarventi har patenteret en forbedre<br>t udgave af den kendte luftsolfanger. Ved hjælp af et\nfugta<br>bsorberende stof kan den affugtende virkning forstærkes og <br>enheden skal styres i forhold til\nbehov for affugtning. Pro<br>totyper har vist ideens styrke og designet skal nu optimere<br>s og demonstreres ved forskellige\nformål og klimaforhold. \n<br> ",
           2015,
           "Sol",
           "Solar Venti",
           "Ingen data"
          ],
          [
           "\"Cool PVT\" Hvide PVT solcellemoduler til bygningsintegration - udvikling &<br> test \n Projektets mål var at udvikle helt nye PVT-modultyper med usynlige<br> solceller samt en hidtil uset høj æstetisk kvalitet, der også kan anvende<br>s til hvide/lyse facader. PVT-modulerne skulle være fuldt integreret i byg<br>ningen og levere strøm, høj-temperaturvarme samt køling. Derudover skulle <br>modulerne være konkurrencedygtige med eksisterende løsninger på markedet. <br>\n ",
           2015,
           "Sol",
           "Racell Saphire Technologies ApS",
           "Ingen data"
          ],
          [
           "Pilotinstallation af hybridsolfanger på et solvarmeanlæg til fjernvarme \n Formålet med dette projekt er at udvikle og afprøve et nyt koncept for termiske solfangere til anvendelse i <br>solvarmecentraler til fjernvarme, samt få bekræftet fordelene ved den nye type solfangere. De nye paneler, som kan arbejde ved differenstemperaturer fra 60K til 160K, opfylder i høj <br>grad behovet for solfangere til fjernvarmeforsyningsanlæg, idet den højere arbejdstemperatur bidrager til, at fjernvarmeforsyningen kan levere en betydelig større andel af den samled<br>e energi fra solvarmeanlæg. Det højere temperaturniveau bringer også fordele med hensyn til mulighederne for at lagre energien samt med hensyn til at levere varme direkte til fremløb<br>stemperatursiden på ledningssystemerne i en længere periode af året. Målet for projektet er, at validere at den nye hybrid solfangers konkurrencedygtighed og herunder muliggøre at fj<br>ernvarmeselskaberne kan forøge den andel af energien de frembringer fra solvarmeanlæg betydeligt, samt demonstrere at disse anlæg har lav kompleksitet, høj robusthed og lang levetid.<br> \n ",
           2015,
           "Sol",
           "POLYCSP ApS",
           "Ingen data"
          ],
          [
           "Solar Kraftvarme & køling CHP-C for erhvervsbygninger og lokal forsyning \n Solar kraftvarme/<br> kølings værker \"Solar CHP\" skal fuldt ud integreres i store kommercielle bygninger og funge<br>re som energieffektiv og økonomisk attraktiv erstatning for de fossile brændstoffer. Projekt<br>et skal udforske, udvikle og demonstrere Solar CHP systemet med udnyttelse af PVT elementer <br>som optimal kost- og energieffektiv løsning for store kommercielle bygninger som kræver ny k<br>apacitet af strøm, varme og køling i spidsbelastningsperioder eller som autonome systemer. \n<br> ",
           2015,
           "Sol",
           "Racell Saphire Technologies ApS",
           "Ingen data"
          ],
          [
           "Integration af solceller i tage eller facader med flade tegl<br> \n Formålet med projektet er at udvikle tekniske, solide og <br>æstetisk og arkitektonisk kvalificerede løsninger til integr<br>ation af solceller i tage og facader med flade teglsten. Fla<br>de teglsten efterspørges og benyttes i stigende grad til byg<br>geri i stor skala, men også til almindelige enfamilieshuse. <br>\n ",
           2015,
           "Sol",
           "Teknologisk Institut",
           "Ingen data"
          ],
          [
           "A Live PV Testing Platform for Larger Adoption \n Projektets <br>skal udvikle et PV lab i forbindelse med DTU, der kan benytt<br>es til test, forskning og udvikling af solcelleløsninger i e<br>lnettet. Endvidere skal projektet teste og værdisætte styrin<br>g af inverter i forhold til de systemydelser og tjenester de<br>r kan leveres i pilotforsøg i DTU lab og i Østkrafts elnet. <br>\n ",
           2016,
           "Sol",
           "Danmarks Tekniske Universitet (DTU)",
           "Ingen data"
          ],
          [
           "Internationalt samarbejde om prøvning og certificering af solvarmeprodu<br>kter \n Formålet er at initiere og lede et nyt IEA-SHC task vedr. (vider<br>e)udvikling af int. standarder og\nharmonisering af nationale/regionale <br>certificeringsordninger for solvarmeprodukter. Dette med henblik på at\n<br>øge kvalitet/pris forhold for solfangere og systemer. Projektet tager a<br>fsæt i de positive resultater og\nsamarbejdsrelationer der skabt i Task <br>43 \n ",
           2015,
           "Sol",
           "SolarKey Int.",
           "Ingen data"
          ],
          [
           "Ydelse og pålidelighed af solcellesystemer \n Formålet m<br>ed projektet er at sikre, at Danske forskningsinstituti<br>oner og virksomheder der arbejder med udvikling, instal<br>lation og drift af solcellesystemer, bliver opdateret o<br>m videnskabelige resultater og udviklingstendenser inde<br>nfor temaet Ydelse og pålidelighed af solcellesystemer.<br> \n ",
           2014,
           "Sol",
           "SiCon v/Jan Vedde",
           "Ingen data"
          ],
          [
           "Sensorpower – Masteintegrerbar bifaciel PV-energikoncentrator \n Pro<br>jektet har til formål at udvikle et stand alone solcelle-reflektort<br>årn, hvor en reflektor øger lysindfaldet på et lodretstående bifaci<br>elt solcellepanel. Tårnet skal strømforsyne måleudstyr til trafik o<br>g gaslinj er, hvor data sendes trådløst via egnede teknologier. Tår<br>net erstatter dyr kabellægning i jorden eller hyppige batteriskift.<br> \n ",
           2014,
           "Sol",
           "SolarLab.dk",
           "Ingen data"
          ],
          [
           "Demonstration af kombineret solcelle- og solfangermodul (PVT) til etageboliger \n <br>Projektet vil demonstrere, at solcellemoduler med indbygget isolering kan forvand<br>le en ældre etagebolig til en smuk selvforsynende arkitektonisk bygning forsynet <br>af vedvarende el og varme energi. De innovative arkitektoniske solcellemoduler ho<br>lder også varme og kulde ude på gavlen og taget. Et flerstrenget energi- og lagri<br>ngssystem vil hjælpe med at reducere tilbagebetalingstiden\nned på kun 5-10 år. \n ",
           2014,
           "Sol",
           "Racell Saphire Technologies ApS",
           "Ingen data"
          ],
          [
           "Roll-to-roll-produktion af billige koncentrerede solkraftværker \n He<br>liac har patenteret en folie, der gør det muligt at reducere install<br>ationsomkostningerne ved solparker fra 500 $/m2 til 2-10 $/m2, og de<br> samlede omkostninger med 80%. Proof-of-concept blev opnået i begynd<br>elsen af 2014 og Heliac og verdens førende leverandør af koncentrere<br>nde solparker, Aalborg CSP, skal nu demonstrere teknologien over 2 å<br>r. \n ",
           2014,
           "Sol",
           "Heliac",
           "Ingen data"
          ],
          [
           "Ny teknologi til lokalisering og karakterisering af fejl i solcellesyst<br>emer \n Projektets formål er at udvikle og demonstrere en ny, effektiv o<br>g fleksibel teknologi til fejlsøgning/-diagnosticering i PV-anlæg. Tekn<br>ologien kan anvendes bredt på det stigende servicemarked (O&M) og kan m<br>åle på strenge af flere solcellepaneler, hvorved O&M omkostningerne min<br>imeres. Samtidig optimeres performance og ”Cost of Energy” nedsættes. \n<br> ",
           2014,
           "Sol",
           "EmaZys Technologies ApS",
           "Ingen data"
          ],
          [
           "Prisbilligt montagesystem til vinklede \n Det foreslåede EUDP<br> projekt gennemføres i forlængelse af det igangværende EUDP <br>- BIPV projekt ”Prisbilligt solcelletag som komplet klimaskæ<br>rm” med det formål at udvikle et prisbilligt montagesystem t<br>il vinklede solcelleelementer til facader og gavle. Fuldskal<br>a afprøvning i forbindelse med byfornyelse i Valby i Københa<br>vn \n ",
           2014,
           "Sol",
           "KUBEN MANAGEMENT A/S",
           "Ingen data"
          ],
          [
           "Bygningsintegrerede solceller i erhvervsbyggeri \n Formå<br>let med projektet er at udvikle, demonstrere og kommerc<br>ialisere nye konkurrencedygtige byggesystemer til erhve<br>rvsbygninger, baseret på en kombination af betonelement<br>er med tyndfilms solceller, der bidrager såvel til ener<br>gieffektivitet som til nye arkitektoniske muligheder \n ",
           2014,
           "Sol",
           "Euroway",
           "Ingen data"
          ],
          [
           "PV BALCONY FENCE - et højæstetisk kosteffektivt solcelleinte<br>greret \n Projektet har til formål at udvikle og demonstrere <br>et solpanel, der både virker som altanrækværk og samtidig pr<br>oducerer energi til el-nettet. Solpanelet vil være bygningsi<br>ntegreret og lavet så det er mest muligt ensfarvet og have e<br>n mekanisk styrke, der lever op til myndighedskrav for rækvæ<br>rk \n ",
           2014,
           "Sol",
           "Danmarks Tekniske Universitet (DTU)",
           "Ingen data"
          ],
          [
           "PV-StjerneLys / arkitektoniske BIPV moduler med indbyggede lysdioder \n <br>Projektets formål er at udbygge anvendelsen af solceller i byrummets st<br>ore facader ved at raffinere det arkitektoniske udtryk via innovative b<br>ygningsintegrerede solceller med anvendelsen af indbyggede lysdioder og<br> lignende. På store pladser og bygninger forvandles efter solnedgang de<br> ellers mørke solcellefacader til lysende og livgivende byrum i natten.<br> \n ",
           2014,
           "Sol",
           "Racell Saphire Technologies ApS",
           "Ingen data"
          ],
          [
           "Heltagsløsninger til bygningsintegration af solceller \n Formålet med<br> projektet er at udvikle en solcelleheltagsløsning og koncept, som o<br>pfylder alle almindelige byggetekniske krav til tagfladen, udgør den<br> komplette klimaskærm og er designet for maksimering af solcelleydel<br>sen under alle klimabetingelser og under hensyn til forskellige lovg<br>ivninger for udnyttelse af vedvarende energi og forberedt til ekspor<br>t \n ",
           2013,
           "Sol",
           "henrik-innovation ApS",
           "Ingen data"
          ],
          [
           "PUR-LOAD Bærende Polyurethanbaseret byggesystem \n Formålet med dett<br>e projekt er at anvende unikke, energieffektive, bærende polyuretha<br>nbaserede paneler i et særligt byggesystem. \nDe bærende paneler ind<br>går i et fuldskala demonstrationsbyggeri og omfatter både i byggeri<br>ets ydervægge, tag, dæk og terrændæk. \nImplementeringen realiseres <br>i opførelsen af et tæt-lav byggeri i samarbejde med en pilotkunde. <br>\n ",
           2013,
           "Energieffektivitet",
           "DC-System Insulation",
           "Ingen data"
          ],
          [
           "Plug’n’ play facade med bygningsintegrerede solceller \n Projektet omhandler udvikling og demonstration af intelligente, omkostningseffektive selvstændige facadeunits med indbyggede solceller og solafskærmende screens. Alt laves præ-fab og vil kunne opbygges modulært og sættes sammen uden kabling, men med indbyggede han/hun stik. Mulighed for opladning til batteri som energikilde til solafskærmning. \n Projektet med plug’n’ play facaden har til formål at udvikle og demonstrere et intelligent og omkostningseffektivt byggeelement med indbygge<br>de solceller. Gennnem brug af præ-fabrikation og modul opbygning, vil produktet omkostningseffektivt være et ”hyldeprodukt” som bygherrer i fremtiden kan benytte i deres byggeri.\nBåde med nuværende Bygningsreglement BR10, samt de kommende BR15 og BR20 er kravene til energirammerne hver gang strammet med 25 % ift. Forrige Bygningsreglement. Det sætter ydeevnekrav til isolering af klimaskærmen og på sigt endog positivt bidrag til energirammen for at kompensere for energitab til fx ventilation. Derfor er der behov for nye smarte facadeløsnin<br>ger, der kan bidrage til at overholde de krav der sættes til bygningerne. \nHS Hansen har et veludviklet og helt unikt facadesystem, der er modulopbygget i units og meget hurtigt at montere på byggepladsen. Netop montagetiden og lukning af bygninger er en meget vigtig ting for en optimeret byggeproces. Ønskes det solceller på facaden vil en samtidig integrering af solceller i disse units kunne skære yderligere i tidsplaner for et projekt, og spare væsentlig tid og dermed penge for entreprenør og bygherre. \nSes der på det samlede facadebran<br>che volumen i Danmark (facader, vinduer, døre, m.v.) er det en samlet omsætning på ca. 1,2 mia. kr/år. Antages der en gennemsnitlig ca. salgspris på 3000 kr/m2 bliver der installeret ca. 400.000 m2/år. Vi anslår at det bygges ca. 150.000 m2 facader, og er godt 25 % af fladen direkte eller tilnærmet syd-vendt vil potentialet for solceller være på ca. 40.000 m2 hvoraf halvdelen eller 20.000 m2 kan være solceller. Der er således potentiale for integration af 2,0 MWp solceller i nybyggeriet hvis den specifikke effekt i solcellerne er på 100 W<br>/m2 eller derover hvilket stort set drejer sig om alle typer solceller. \nDe materieler der i dag benyttes i facader kan fx være glas og farvet glas (emalit), som koster mellem 600-400 kr/m2, eller natursten (15 mm opklæbet løsning) som koster 600-1000 kr/m2 (ekskl. Underlag). Integreres der fx tyndfilm solcelleelementer i facadesystemet, vil solprisen andrage ca. 1000 kr/m2. Der vil således på den rene overfladepris være tale om samme pris eller en merpris på op til 60 % afhængig af materialevalg. Benyttes der mere ”forædlede” materialer <br>som poleret sten eller granit i facaden, vil der ligefrem være tale om en besparelse ved vælg af solceller. Tages hele solcelleinstallationen med i betragtning (solceller + invertere + kabler mm.), vil der ved anvendelse af præ-fabrikation løsningen være en system besparelse på mellem 40-60 % hvis der kun regnes med grundprisen på facaden fratrækkes.    \nMarkedets efterspørgsel efter sådanne løsninger vil være stigende i årene frem – og det gælder også på eksportmarkedet hvor HS Hansen har forespørgsler på facader i både Sverige og Norge.",
           2013,
           "Sol",
           "HSHANSEN A/S",
           "Ingen data"
          ],
          [
           "SunTube – et pilotprojekt \n Projektets formål er at bygge et pilotanlæg baseret på en helt ny generation af ultra-omkostningseffektive solcellemoduler – SunTubes. Pilotprojektet vil dels validere teknologien med henblik på senere markedsintroduktion og dels give konkret in<br>put til produktets videre udvikling. \n Formålet med projektet er dels at bygge et 5 kW pilotanlæg med en helt ny type ultra-omkostningseffektive solcellemoduler (SunTubes) og dels at videreudvikle SunTube teknologien fra prototype- til demonstrationsstadie.\n\nSunTube teknolog<br>ien vil revolutionere måden solkraftværker bygges. Kernen i SunTube teknologien er et unikt indpaknings- og udlægningssystem af solceller, som muliggør maskinel udlægning af moduler i solkraftværker. Der er således ikke tale om en lille forbedring af den eksisterende teknol<br>ogi til indpakning af solceller, men derimod et radikalt anderledes design af solcelle moduler med unikke fordele.\n\nSunTubes anvender ikke materialer til montage og udlægges maskinelt, hvilket gør etablering af solcellekraftværker hurtigere og billigere end med konventionelle<br> moduler. Dette medfører en betydelig konkurrencemæssig fordel i form af lavere omkostninger pr. produceret kilowatt-time. Teknologien har potentiale til at gøre solcelleelektricitet så billigt, at det vil være konkurrencedygtigt med elektricitet produceret med fossile brænd<br>sler.\n\nFordi SunTube teknologien adskiller sig væsentligt fra konventionelle solcellemoduler, er demonstration af teknologien under virkelige forhold og i direkte sammenligning med konventionelle moduler af kritisk betydning for en introduktion af SunTube teknologien på mark<br>edet.",
           2013,
           "Sol",
           "Suntube",
           "Ingen data"
          ],
          [
           "Plug and Play PVT tag med STÆRKE letvægts BIPV moduler ”Herkules” \n P<br>rojektets formål er at udvikle store selvbærende PV/PVT moduler med t<br>ilhørende inddækninger som kan erstatte eksisterende tagbeklædning på<br> større bygninger som haller, lagerbygninger m.m. Bygningsintegration<br> af anlæg til solenergi har stadig større interesse og projektet vil <br>bidrage til udbredelse af arkitektonisk tilpassede anlæg til solenerg<br>i. \n ",
           2013,
           "Sol",
           "Egedal kommune",
           "Ingen data"
          ],
          [
           "Kombineret Termisk solenergi Demonstration \n Formålet med<br> projektet er at kommercialisere CSP teknologien, og veri<br>ficere at CSP og flade panelers respektive effektivitet v<br>ed forskellige temperature, udnyttelse af diffust og dire<br>kte solindfald, samt demonstrere performance mæssige og ø<br>konomiske gevinster ved at kombinere de to teknologier. \n<br> ",
           2013,
           "Sol",
           "Aalborg CSP",
           "Ingen data"
          ],
          [
           "Silicium til solceller – opskalering og genbrug af sidestrømme \n Formålet<br> med projektet er at validere det tekniske og kommercielle potentiale i e<br>n ny oprensningsmetode for silicium råmateriale til anvendelsen i fremsti<br>llingen af silicium solceller. Det forventes at den nye metode vil genere<br>re samme renhed af produktet som traditionelle rensemetoder men til væsen<br>tligt lavere fremstillingspriser og med anvendelse af meget mindre energi<br>. \n ",
           2013,
           "Sol",
           "Danica Greentech",
           "Ingen data"
          ],
          [
           "Prisbilligt solcelletag som komplet klimaskærm \n Det foreslåede EUDP projekt gennemføres i samarbejde med Boligforeningen 3B, som skal gennemføre en samlet tagudskiftning af eternittage i Måløv Park afdeling i Måløv. Det foreslås her at gennemføre<br> et EUDP støttet projekt med udvikling af den foreslåede solcelleløsning i samarbejde med det danske solcelleproducentfirma, Dansk Solenergi Int (Solcell). \n Projektet er støttet som del af en særlig pulje til udvikling og demonstration af bygning<br>sintegrerede solcelleløsninger. Projektet bygger videre på et gennemført skitseprojekt v. firmaet Solarplan ( www.solarplan.dk) , som søger at give et bud på hvordan der kan udvikles et samlet regntæt solcelletag, som kan erstatte de normale etern<br>itelementer i taget og herved erstatte sådanne for alle sydvendte og øst/vest-vendte tage eller et udvalgt antal af disse, som vil passe til det eksisterende elforbrug i Måløv Park bebyggelsen.  Den foreslåede løsning udvikles i samarbejde med det<br> lollandske solcelleproducentfirma Dansk Solenergi int. (Solcell). Herefter afprøves løsningen på en mockup inden den udføres for en prøveblok i Måløv Park bebyggelsen, hvor der også vil kunne ske afprøvning af nødvendige afslutningselementer og m<br>ulighed for ventilationsafkast etc., som indgår i en normal boligbebyggelse.  Udover de 239 boliger i parkens 2-etagers rækkehuse vil også andre tagudskiftningsprojekter v. Boligforeningen 3B være en mulighed for udbredelse af den udviklede teknol<br>ogi.",
           2013,
           "Sol",
           "Boligforeningen 3B",
           "Ingen data"
          ],
          [
           "Solcelledrevet komfortkøling \n Formålet er at udvikle et solcelle<br>drevet køleanlæg, hvor elektriciteten fra solcellerne via en varm<br>epumpe omdannes til komfortkøling i det eksisterende ventilations<br>system via en tilsluttet is-bank. \nOverskudsvarmen bruges til opv<br>armning af brugsvand, og anlæggets styring sikrer, at der på bagg<br>rund af vejrudsigter lagres energi til at kunne køle om morgenen.<br> \n ",
           2013,
           "Sol",
           "ENERGI NORD A/S",
           "Ingen data"
          ],
          [
           "Aluminiumssolfangere til fjernvarme \n Projektet vil udvikle og demonstrere to typer solfangere med aluminiumsabsorbere. Solfangerne leveres af\nde to største danske fabrikanter af solvarmeanlæg til fjernvarme, hvorved Hydro Aluminium kommer ind på\nfjernvarmemarkedet. Solfan<br>gerne demonstreres i fuld skala sammen med en hybrid varmepumpe ved\nLøgumkloster Fjernvarme. \n Projektet vil udvikle og demonstrere to typer solfangere med aluminiumsabsorbere. Solfangerne leveres af\nde to største danske fabrikanter af solvarmanlæg til fjernvarme, som derv<br>ed får et bedre produkt samtidigt\nmed at Hydro Aluminium kommer ind på fjernvarmemarkedet. Solfangerne demonstreres i fuld skala\nsammen med en hybrid varmepumpe ved Løgumkloster Fjernvarme. Projektet består af 4 arbejdspakker\nArbejdspakke 1 indeholder optimering af de to a<br>lusolfangere og detailprojektering af solfangerkredse, hvor\nsolfangerfeltet forventes inddelt i 4 med 2 x 6000 m2 alusolfangere og 2 x 1000 m2 traditionelle solfangere.\nFelterne parallelforbindes, således at solfangerproduktionerne kan sammenlignes. Desuden indeholder\narbe<br>jdspakke 1 detailprojektering af øvrige anlægsdele, udbud og kontrakt med leverandører. I\nArbejdspakke 2 implementeres og indkøres 14.000 m2 solfangere, hybridvarmepumpe og det øvrige\nenergianlæg. Arbejdspakke 3 indeholder måleprogram samt etablering af en realtime kontrol<br> af\nsolfangerydelse og online alarm for ændringer i solfangervæsken. Arbejdspakke 4 indeholder afrapportering\nincl. en design manual for alusolfangere til fjernvarmeforsyning og formidling af projektets resultater til\nfjernvarmeværker og myndigheder i Danmark og resten af <br>EU27.",
           2012,
           "Sol",
           "Hydro Aluminium Precision Tubing",
           "Ingen data"
          ],
          [
           "Solar PV-Certify – et nyt værktøj til planlægning og overvågning af solceller \n I dette projekt skal en ny solprognose-service udvikles og demonstreres. Den nye service skal baseres på de nyeste model-beregninger fra DMI af direkte og diffus solstråling for en vilkårlig adresse i Nordeuropa 48 timer frem i tid. Der skal desuden udvikles et avanceret onlineværktøj ”Solar PV Certify”. Værktøjet skal vurdere solcelleanlægs forventede og fakti<br>ske\nelproduktion, med fokus på bl.a. skyggeforhold. \n Projektets formål er at sikre kommende ejere af solceller i Nordeuropa en præcis vurdering af anlæggets faktiske ydelse ud fra præcise solprognoser, anlægsdata og lokale skygge- og reflektionsforhold. Samtidig er projektet et første bud på aggregeringsmodel der kan give netselskaberne et kvalificeret skøn over forventet elproduktion på solcelleanlæg i de kommende døgn.\nSolar-PV Certidy <br>er en avanceret web-service der giver nuværende og fremtidige ejere af solcelleanlæg et værktøj til at analysere og overvåge egne solcelleanlæg og fortløbende vurdere disses ydelser op mod \"best practice\" for tilsvarende anlæg og solforhold.\nGrundlaget for analyserne er DMI's satellitanalyser og vejrprognoser, samt målinger af den faktiske elproduktion hver 15. minut. Solar-PV Certify leverer fortløbende prognoser for elproduktionen i de n<br>ærmeste 48 timer ud fra DMI's solprognoser, samt den opbyggede model af anlæggets faktiske effektivitet som funktion af solstråling, anlægsplacering, areal, retning, hældning, beregnet effekt af lokale skyggeforhold samt anlæggets komponenter.\nSolar-PV Certify vil samtidig levere aggregerede solprognoser for en eller flere solcelleanlæg til fx elnetselskaber og el-handelsselskaber der håndterer et større antal anlæg.\nProduktet vil blive ma<br>rkedsført overfor udbydere af solcelleanlæg (tilbehør der dokumenterer anlæggets kvalitet), finansieringsselskaber, netselskaber samt solcelleejere direkte. I opstartsfasen vil fokus være rettet imod leverandører og forhandlere, som kan bruge Solar-PV Certify til at dokumentere en solcelleinstallations kvalitet, hvor målinger og nøgletal kan indgå i en garantiaftale.\nDenne nye service vil opbygge - og via nøgletal formidle - en model der p<br>å timebasis sammenholder produktion med best practice for anlæg med samme solforhold. Dette vil give ejere og andre involverede aktører, nogle helt nye muligheder for at sikre at anlægget  er indrettet og drives optimalt mhp. anlægskomponenter, placering (hældning og retning) samt lokale skyggeforholds betydning.\nDet eneste krav som Solar-PV Certify stiller mht. hardware, er at kunden har automatisk aflæsning af solcelleproduktion på timeb<br>asis.",
           2012,
           "Sol",
           "Exergi",
           "Ingen data"
          ],
          [
           "Intelligent styring af solpaneler \n Formålet var at udvikle et \"intelligent\" PV-panel, som automatisk evaluerer og optimerer systemets ydeevne\nog dermed skaber en ny generation af solpaneler med en øget systemydelse på 20% ved at omgå\nineffektive paneler. Intelligent s<br>tyring vil yderligere kunne tilbyde brandsikring og tyverisikring, to kritiske\nparametre for kunder i fremtiden. \n Projektets mål er at udvikle et solcelle-system, hvor en intelligent kontrolenhed indbygget i hvert PV panel. Dette vil medføre automatisk evaluering af d<br>et enkelte panels ydeevne, så paneler eller dele af paneler, der ikke yder optimalt, kan omgås i tilfælde af f.eks. delvis skygge. Dette vil forbedre systemets ydeevne med op til 20% imens prisen kun øges med 5%. Samtidig vil projektet udvikle og teste løsninger på to <br>betydelige hindringer mod bygnings-integrerede PV systemer: brandfare samt de stadigt stigende problemer med tyveri af paneler fra både byggepladser og færdige konstruktioner. Projektet vil trække på tekniske kompetencer fra DTU Elektroteknologi. Arbejdsprogram: Projek<br>tledelse (WP1) og konceptudvikling (WP2) vil begynde i januar 2012. Det forventes at konceptudviklingen vil vare seks måneder, hvorefter teknologiudvælgelse og udvikling (WP3) af færdig løsning kan begynde. Denne fase forventes afsluttet i december 2012, og resten af p<br>rojektperioden vil fokusere på samling og demonstration af prototype et og to. Status: Projektarbejdet vil begynde i januar 2012. Resultatanvendelse: Projektets færdige produkt vil blive introduceret på markedet, så snart det er færdigudviklet og testet på optimal vis.",
           2011,
           "Sol",
           "GAIA SOLAR A/S",
           "Ingen data"
          ],
          [
           "AC-Sun - soldrevet luftkonditioneringsanlæg \n AC-Sun ApS vil designe og dimensionere et køleanlæg drevet næsten udelukkende af solenergi. Målet er at sænke elforbruget til køling med 90 % i forhold til traditionelle str<br>ømslugende køleanlæg. \n AC-Sun´s mission er at udvikle og kommercialisere et termisk klimaanlæg drevet af solpaneler. Det soldrevne AC-Sun anlæg vil spare 90 % af elforbruget i forhold til konventionelle AC-systemer. Lø<br>sningen er en revolutionerende nyhed inden for aircondition, som forventes at få en betydelig markedsandel på grund af dets omkostningseffektivitet, brug af vand som kølemedium og den positive indvirkning på miljøet tak<br>ket være reducerede CO2-emissioner.  Denne endelige prototype vil blive fremstillet og anvendt i 4-6 teststationer placeret for 'field test' rundt i Danmark og kvalificerede institutter / universiteter i udlandet. De fo<br>rskellige teststationer vil få test-enheder i 2010 til 'field test' i sommeren 2010/2011. Projektet ledes af AC-Sun ApS og anvender de indsamlede data fra teststationerne placeret på forskellige nøgle-punkter på testanl<br>ægget. De indsamlede data vil blive brugt til det endelige og optimale design, som, sammen med et pc-program til optimal indretning og monteringsspecifikationer for et AC-Sun anlæg, gør produktet klar til brug for kunde<br>rne",
           2009,
           "Sol",
           "AC-SUN ApS",
           "Ingen data"
          ],
          [
           "Sæsonlager til stort solvarmeanlæg \n Projektet skal demonstrere et damvarme sæsonlager i tilknytning til det kommende 35.000 m2 store solfangeranlæg tilknyttet Dronninglund Fjernvarme. EUDP bevilgede i 2009 ca. 12 mio. k<br>r. til projektet. En nødvendig flytning af lageret til en ny placering har medført ekstra omkostninger, hvorfor  EUDP nu bevilger yderligere støtte til projektet. \n I SUNSTORE 3 FASE 1 er der gennemført detaljeret design<br> af et varme-produktionsanlæg med 25.000 m2 solfangere, 60.000 m3 damvarmelager og 3 MW varme varmepumpe. Yderligere geotekniske undersøgelser viste desværre, at det sted, hvor udgravningen til varmelageret skulle ligge <br>har et stort indhold af silt. Dette kombineret med et højt grundvandsspejl vil medføre ekstra udgravnings omkostninger på 5 mio. dkr. plus en høj risiko for ulykker. Et andet sted i samme område er blevet undersøgt, men <br>med samme resultat. Dronninglund Fjernvarme skulle således finde et nyt sted til lageret og dermed også til solfangere. Dette sted er fundet i en forladt grusgrav. Nye geotekniske undersøgelser er gennemført, og anlægget<br> er blevet redesignet, før et udbud fandt sted i august 2010. Resultatet af udbudsproceduren var højere priser for den innovative del forårsaget af den ændrede placering. Derfor er denne ekstra ansøgning blevet udarbejde<br>t",
           2010,
           "Sol",
           "PlanEnergi",
           "Ingen data"
          ]
         ],
         "hovertemplate": "topics_name=solceller - pv - m2<br>x=%{x}<br>y=%{y}<br>text_br=%{customdata[0]}<br>Bevillingsår=%{customdata[1]}<br>Fælles overordnet teknologiområde=%{customdata[2]}<br>Ansvarlig virksomhed=%{customdata[3]}<br>Fokusområder EUDP=%{customdata[4]}<extra></extra>",
         "legendgroup": "solceller - pv - m2",
         "marker": {
          "color": "#511CFB",
          "size": 5,
          "symbol": "circle"
         },
         "mode": "markers",
         "name": "solceller - pv - m2",
         "orientation": "v",
         "showlegend": true,
         "type": "scatter",
         "x": [
          -0.2823668122291565,
          -0.6195183992385864,
          -0.6601191759109497,
          -0.17604632675647736,
          -0.16407039761543274,
          -0.289023220539093,
          0.045340608805418015,
          0.2648228406906128,
          -0.2963108718395233,
          -0.36615392565727234,
          -0.1295342594385147,
          -0.5578706860542297,
          -0.20106400549411774,
          -0.2408980131149292,
          -0.5083370208740234,
          -0.5878201127052307,
          -0.11495341360569,
          -0.41921359300613403,
          -0.6071897745132446,
          -0.3328638970851898,
          -0.25429603457450867,
          -0.5601751804351807,
          -0.37158823013305664,
          -0.5564211010932922,
          -0.6518930792808533,
          -0.634069561958313,
          -0.46419021487236023,
          -0.13505251705646515,
          -0.3397648334503174,
          -0.12890036404132843,
          -0.6460679173469543,
          -0.4979379177093506,
          -0.24784407019615173,
          -0.2668161392211914,
          -0.04804811254143715,
          -0.09651326388120651,
          -0.49429184198379517,
          -0.30385392904281616,
          -0.06892822682857513,
          -0.05469745025038719
         ],
         "xaxis": "x",
         "y": [
          5.7466583251953125,
          5.752719402313232,
          5.67345666885376,
          5.847463130950928,
          5.625097274780273,
          6.134232044219971,
          5.478529453277588,
          5.342932224273682,
          6.506808757781982,
          5.799966812133789,
          6.369544982910156,
          5.609065532684326,
          6.410096645355225,
          5.959249496459961,
          5.563066005706787,
          5.707793712615967,
          6.123783111572266,
          5.966897010803223,
          5.658681869506836,
          5.786967754364014,
          6.181909561157227,
          5.828448295593262,
          5.937152862548828,
          5.513881206512451,
          5.594118118286133,
          5.562183380126953,
          5.589383125305176,
          5.61007833480835,
          5.624423980712891,
          6.340588092803955,
          5.648910999298096,
          5.886238098144531,
          5.787091255187988,
          6.0807623863220215,
          6.524166584014893,
          6.294366359710693,
          5.870862007141113,
          5.70938777923584,
          6.432742118835449,
          6.289600372314453
         ],
         "yaxis": "y"
        },
        {
         "customdata": [
          [
           "Fjernvarme benyttet til decentr<br>al køling ved hjælp af STAC-tek<br>nologi \n STAC Technology vil de<br>monstrere individuel køling ved<br> brug af fjernvarme som energik<br>ilde til at drive kølesystemet.<br> \n ",
           2019,
           "Energieffektivitet",
           "STAC Technology ApS",
           "Ingen data"
          ],
          [
           "Heat Pipe Spot Cooling \n Dette pr<br>ojekt har til hensigt at udvikle <br>en ny metode til køling af module<br>r, således at køleeffekt pr. area<br>l ikke i fremtiden bliver en flas<br>kehals i udviklingen af vindmølle<br>r. \n ",
           2017,
           "Vind",
           "Ymer Technology ApS",
           "Ingen data"
          ],
          [
           "Højeffektiv og forenklet termodynamisk kredsproces med isoleret opvarmn<br>ing og køling - omkostningsoptimeret (ISECOP) \n I projektet vil der bli<br>ve udviklet et nyt kombineret opvarmnings- og kølesystem, der effektivt<br> og kontinuerligt kan producere varmt og/eller koldt vand med op til 30<br> % større effektivitet end ved anvendelse af konventionelle varmepumpe-<br> og kølesystemer og som giver mulighed for at lagre varme og/eller kuld<br>e. \n ",
           2017,
           "Energieffektivitet",
           "Teknologisk Institut",
           "Ingen data"
          ],
          [
           "ELEC-TO-HEAT \n Projekte<br>ts formål er at videreu<br>dvikle og forbedre 1. g<br>eneration af SUNTHERMs <br>varmesystems arkitektur<br> og hovedkomponenter. \n<br> ",
           2017,
           "Energieffektivitet",
           "Suntherm ApS",
           "Ingen data"
          ],
          [
           "HT-TES Høj Temperatur Termisk Energi Lagring \n Dette projekt er et såkaldt højtem<br>peratur termisk energilager (på engelsk forkortet HT-TES). Tanken er at opvarme e<br>n isolereret bunke sten til 600 grader med luft. Luften opvarmes af overskudselek<br>tricitet. Varmen i lageret kan opbevares i op til en uge uden væsentligt energita<br>b. Lageret aflades i form af el og/eller varme. Et fuldskala energilager forvente<br>s at opnå 50 % effektivitet på elektricitet og 95 % af de andre 50 % på varme. \n ",
           2016,
           "Smart Grid og systemer",
           "SEAS-NVE STRØMMEN A/S",
           "Ingen data"
          ],
          [
           "Ultra-lavtemperaturfjernvarme i boligblokke \n Formålet med u<br>dviklings- og demonstrationsprojektet er at udvikle, demonst<br>rere og fremme et energieffektivt koncept med en brugsvandsl<br>øsning med lokal akkumulatortank til boligblokke, hvor brugs<br>vandet delvist opvarmes Vha. en varmepumpe, således at det m<br>uliggør fremløbstemperaturer på fjernvarmen helt ned til 35 <br>C° \n ",
           2015,
           "Energieffektivitet",
           "GRONTMIJ A/S",
           "Ingen data"
          ],
          [
           "Fjernvarmeunit med elpatron til ultra-lavtempeatur fjernvarme \n Ud<br>vikling og demonstration af en fjernvarmeunit med elpatron til bru<br>g for ultra-lavtemperatur fjernvarmesystem. Idéen er, at elpatrone<br>n hæver brugsvandstemperaturen de sidste grader til et ønsket nive<br>au. Der opnås et lavt varmetab i ledningsnettet og mulighed for la<br>ng større inpasning af vedvarende energi og spildvarmeressourcer. <br>\n ",
           2013,
           "Energieffektivitet",
           "COWI A/S",
           "Ingen data"
          ],
          [
           "Lavtemperatur fjernvarme i eksisterende bebyggelser \n Projektet vil demonstrere lavtemperatur-fjernvarme i to eksisterende bebyggelser, en i Tåstrup og en i Tilst ved Aarhus. Tidligere projekter viser, at lavtemperatur-fjernvarme kan reducere nettabene i rørene med 50 - 75% i forhold til e<br>t traditionelt fjernvarmesystem. \n Projektet vil demonstrere anvendelse af lavtemperatur (LT) fjernvarme i to eksisterende parcelhuskvarterer hhv. i Sønderby i Høje Taastrup og i Tilst ved Århus. Forskellen på de to områder er, at det ene kvarter har gulvvarme, og i det andet er der primær<br>t radiatorer som opvarmningssystem.  Et nyt højisoleret twin fjernvarmerør og modificerede LT gennemstrømningsveklser units vil blive afprøvet ved demonstrationen.  Herudover vil der være afprøvning af nyudviklet teknologi til styring af gulvvarme- og radiatoranlæg med henblik på at opnå b<br>edre afkøling. I projektet vil der også blive set på muligheder og beboerengagement for energirenovering af huse ifm. opgradering af fjernvarmenettet. Parallelt udføres supplerende optimering og analyse af LT fjernvarmesystem for lavenergibebyggelsen Lærkehaven i Lystrup ved Århus. Her fin<br>des allerede detaljeret måleudstyr, hvilket gør det muligt at foretage flere analyser af f.eks. brugeradfærd, herunder brugsvandsforbrug samt at se på muligheder for at optimere driften af ledningsnettet, herunder reduktion af returtemperatur. Analyserne vil især have fokus på optimering a<br>f den nye type brugerunit med fjernvarmebeholder. Endvidere vil der være brugerinvolvering og implementering af brugerinterface til visning af forbrugsdata med henblik på påvirkning af brugeradfærd. Endelig vil der udarbejdes en international guideline med input fra udenlandske projektpart<br>nere",
           2010,
           "Energieffektivitet",
           "COWI A/S",
           "Ingen data"
          ],
          [
           "Nyudviklet varmepumpe med solvarme \n Kernen i projektet var at demonstrere et koncept for fjernvarmeproduktion som sammenfletter et solvarme- og varmepumpningsanlæg med et naturgasfyret fjernvarmeanlæg. Projektets teknologier blev samlet i ét anl<br>æg der udnytter sol, vind og grundvand som energiressourcer. \n Projektet omfatter fuldskala demonstration of solvarme og varmepumpe etableret på et eksisterende naturgasfyret kraftvarmeværk. Rye Kraftvarmeværk vil demonstrere en nyudviklet varmep<br>umpe, som anvender ammoniak som kølemiddel, fordi den har en højere COP end en varmepumpe med CO2 som kølemiddel, da returtemperaturen fra fjemvarmenettet er højere end 40 grader C og fordi den er frekvensreguleret og derved kan indgå som elregul<br>erende. Projektets resultater forventes at blive: 1) Design af en økonomisk og teknisk optimeret varmepumpe til fjemvarmeproduktion, således at kedelproduceret varme erstattes. 2) Demonstration af konceptet solvarme, varmepumpe(r) med grundvand s<br>om varmekilde, akkumuleringstank og naturgasfyret kraftvarme, hvor varmepumpen kører i de 2.000 timer med laveste elpriser og højest andel af vindel. 3) Måleresultater for varmepumpens ydelser og systemets ydelser. 4) Erfaring med økonomisk optim<br>ering af konceptet i elmarkedet. 5) Erfaring med hastighed og kapacitet for elregulering. 6) Udvikling af et fremtidigt koncept, som kan gentages på naturgasfyrede (også de mindste) kraftvarmeværker. 7) Fremtidig produktion af varmepumpen i Danma<br>rk.",
           2011,
           "Smart Grid og systemer",
           "PlanEnergi",
           "Ingen data"
          ]
         ],
         "hovertemplate": "topics_name=varmepumpe - fjernvarme - lavtemperatur<br>x=%{x}<br>y=%{y}<br>text_br=%{customdata[0]}<br>Bevillingsår=%{customdata[1]}<br>Fælles overordnet teknologiområde=%{customdata[2]}<br>Ansvarlig virksomhed=%{customdata[3]}<br>Fokusområder EUDP=%{customdata[4]}<extra></extra>",
         "legendgroup": "varmepumpe - fjernvarme - lavtemperatur",
         "marker": {
          "color": "#00A08B",
          "size": 5,
          "symbol": "circle"
         },
         "mode": "markers",
         "name": "varmepumpe - fjernvarme - lavtemperatur",
         "orientation": "v",
         "showlegend": true,
         "type": "scatter",
         "x": [
          0.7258235812187195,
          0.8508127927780151,
          0.9100167155265808,
          0.8425508141517639,
          0.7994101047515869,
          0.7546608448028564,
          0.8142195343971252,
          0.7413644790649414,
          0.8627580404281616
         ],
         "xaxis": "x",
         "y": [
          7.571146488189697,
          7.353821754455566,
          7.821240425109863,
          7.446418762207031,
          7.56164026260376,
          7.392549991607666,
          7.552630424499512,
          7.3103718757629395,
          7.628337383270264
         ],
         "yaxis": "y"
        },
        {
         "customdata": [
          [
           "ZeroWastePreStudy \n Formålet med projektet er at; 1. Udvikle, bygge og af<br>prøve et kontrolsystem, der vil muliggøre fjernstyret drift- og overvågni<br>ng af prototyper samt af det senere opskalteret anlæg. 2. Kortlægning af <br>nationale slam-resurser samt analysere af den optimale slam til anvendels<br>e til forgasning. 3. Analyser af vores forgasningsteknologi samt anvendel<br>sesmuligheder i en international kontekst og vurdering af state of the ar<br>t. \n ",
           2019,
           "Bio og affald",
           "GGC-Tech",
           "Ingen data"
          ],
          [
           "ADNOX, Energi effektiv NOx reducering \n Formålet me<br>d projektet er op-skalering og etablering af demons<br>trationsprojekt samt udvikling af generisk model de<br>r skal fremme viden inden for dette område. På denn<br>e måde vil den ideelle kombination af NOx-reduktion<br> og energi genanvendelse identificeres og udvikles.<br> \n ",
           2019,
           "Energieffektivitet",
           "Hans Jensen Lubricators A/S",
           "Ingen data"
          ],
          [
           "El fra spildevand \n <br>I projektet testes, <br>hvordan og i hvilket<br> omfang spildevandet<br> fra NFS brugere kan<br> omdannes til el. \n ",
           2019,
           "Smart Grid og systemer",
           "Energy-mill Aps",
           "Ingen data"
          ],
          [
           "Udvikling og demonstration af I<br>R gasmålere \n Formålet er at ud<br>vikle en måler til bestemmelse <br>af gaskvaliteten og dermed hjæl<br>pe til med integrationen af grø<br>nne gasser i eksisterende gasne<br>t. \n ",
           2014,
           "Smart Grid og systemer",
           "DANSK GASTEKNISK CENTER A/S",
           "Ingen data"
          ],
          [
           "Afslutning af demonstrationsanlæg-1300<br> kWth bioforgasningsanlæg til kraftvar<br>me \n Dette er en tillægsbevilling grun<br>det uforudsete projektomkostninger i p<br>rojekt \"Demonstration af nyt forgasnin<br>gsanlæg til fjernvarmen\" (64010-0100).<br> \n ",
           2013,
           "Bio og affald",
           "BIOSYNERGI PROCES ApS",
           "Ingen data"
          ],
          [
           "Forbedret biomassefyring med nyt ristesystem og sensor \n Projektets formål er at udvikle driftsikre og effektive fyringssystemer baseret på en avanceret sensor og en rist med udvidede reguleringsmuligheder. Der er tal<br>e om et intelligent reguleringskoncept, der kan optimere driften og sikre fuldstændig udbrænding af biomasse brændsler af lavere kvalitet. \n Projektets formål er at udvikle driftsikre og effektive fyringssystemer base<br>ret på integration af en avanceret\nvision-baseret sensor og en rist med udvidede reguleringsmuligheder med et tilpas intelligent\nreguleringskoncept, til at optimere driftsparametre og sikre fuldstændig udbrænding af b<br>iomasse brændsler\naf lavere kvalitet og med større variationer i brændselsegenskaberne. \nArbejdsprogram: udvikling og installaltion af udstyret i kedelanlæg designet af henholdsvis Euro Therm og BWE; for Euro Therm in<br>klusive udviklingsarbejde på et nyt ristesystem.\nStatus: kameraet og tilhørende styresystem er testet med succes på affaldsforbrændingsanlæg. Tilpasning og udvikling til biomasseanlæg er i gang.\nResultater: det forven<br>tes, at systemet vil kunne forbedre driften på biomassekedler, således at der opnås en mere stabil forbrænding i kedlen, og dermed f.eks. mere stabil dampproduktion. Herved øges kapaciteten og brændselsforbruget reduc<br>eres.",
           2012,
           "Bio og affald",
           "Force Technology",
           "Ingen data"
          ],
          [
           "Demonstration af nyt forgasningsanlæg til fjernvarmen \n Projektet skal demonstrere en ny termisk forgasningsteknologi baseret på træflis i et anlæg til lokal el- og varmeproduktion.  Samtidig vil projektet demo<br>nstrere en finansieringsmodel for udvikling af lokale energiprojekter. \n Målsætningen for dette projekt er at etablere og idriftsætte den første opskalerede udgave (1.300 kWth svarende til ca. 300 kWel/750 kJ/s<br> varme) af BioSynergi Proces' trinopdelte bioforgasnings-kraftvarmesystem. Efter et mangeårigt udviklingsarbejde med støtte fra ForskEl programmet og Energistyrelsens UVE- og EFP programmer er det skridt er nu <br>aktuelt for BioSynergis kraftvarmesystem.  I to ForskEl projekter, ForskEl nr. 7191 og ForskEl 10025, er der udført målrettede forberedelser til at gennemføre opskaleringen af kraftvarmesystemet til en driftsøk<br>onomisk kommerciel størrelse.  Projektet vil tillige demonstrere en finansiel og organisatorisk model i praksis. Modellen er forberedt og udviklet i ForskEl projekt nr. 1-0025 og skal i det her ansøgte projekt,<br> benyttes til at skaffe supplerende tredje parts finansiering til anlægsetableringen og efterfølgende etablere driftsorganisationen omkring anlægget til at sikre forløbet af den langsigtede demonstrationsdrift.",
           2010,
           "Bio og affald",
           "BIOSYNERGI PROCES ApS",
           "Ingen data"
          ]
         ],
         "hovertemplate": "topics_name=forskel - udvikling - sensor<br>x=%{x}<br>y=%{y}<br>text_br=%{customdata[0]}<br>Bevillingsår=%{customdata[1]}<br>Fælles overordnet teknologiområde=%{customdata[2]}<br>Ansvarlig virksomhed=%{customdata[3]}<br>Fokusområder EUDP=%{customdata[4]}<extra></extra>",
         "legendgroup": "forskel - udvikling - sensor",
         "marker": {
          "color": "#FB00D1",
          "size": 5,
          "symbol": "circle"
         },
         "mode": "markers",
         "name": "forskel - udvikling - sensor",
         "orientation": "v",
         "showlegend": true,
         "type": "scatter",
         "x": [
          2.7203025817871094,
          2.8445613384246826,
          2.753385305404663,
          2.911297082901001,
          2.631190776824951,
          2.684088945388794,
          2.7220773696899414
         ],
         "xaxis": "x",
         "y": [
          8.877157211303711,
          8.947693824768066,
          8.867379188537598,
          8.96875286102295,
          8.98188591003418,
          9.045716285705566,
          8.670769691467285
         ],
         "yaxis": "y"
        },
        {
         "customdata": [
          [
           "Cirkulær LED-energi – intelligent genanvendelse af energi<br>overskud i belysningen. \n Projektets hovedformål er at ud<br>vikle en kontrol af energien i en LED-lyskilde, så den bå<br>de producerer lys OG sender kontrolleret overskudsenergi <br>over på en ladeenhed. Derved produceres recirkuleret ener<br>gi til lyskilden – og der spares energi fra el-nettet. \n ",
           2019,
           "Energieffektivitet",
           "BMD Trading Denmark ApS",
           "Ingen data"
          ],
          [
           "Energieffektiv laser forstærkning af scenespotlys \n Formålet med <br>projektet er at bringe ny energieffektiv laserbelysningsteknologi<br> ind i underholdningsbelysningsbranchen ved at udvikle og demonst<br>rere to nye typer af laserbaserede lyskilder. De skal benyttes ti<br>l erstatning af højeffektsudladningslamper i scenespots og give h<br>øjere effektivitet, længere levetid og mindre miljøbelastning. \n ",
           2017,
           "Energieffektivitet",
           "Danmarks Tekniske Universitet",
           "Ingen data"
          ],
          [
           "SportsLED \n Formålet med SportsLED er at udvikle nye lyskil<br>der til udendørs sportsfaciliteter, som i forhold til eksis<br>terende lyskilder på markedet\n\n1.\treducerer energiforbruget<br> med 50%\n2.\treducerer lysforureningen til omgivelserne med <br>90%\n3.\tforbedrer homogeniteten på det belyste areal\n4.\tredu<br>cerer de totale omkostninger, inkl. vedligehold, med 50 % \n<br> ",
           2015,
           "Energieffektivitet",
           "Danmarks Tekniske Universitet (DTU)",
           "Ingen data"
          ],
          [
           "Udvikling af RGB LED belysning i byggekonstruktioner \n Projektet v<br>il udvikle en intelligent LED belysningsløsning, hvor LED’erne ind<br>bygges direkte i f.eks. en væg eller et loft. De enkelte LED’er ka<br>n styres separat eller i grupper af en central styringsenhed, som <br>kan justere farve, lysstyrke og tænd/sluk. Løsningen vil være ener<br>gieffektiv, med dioder med lang levetid og minimal vedligehold. \n ",
           2015,
           "Energieffektivitet",
           "LED iBond",
           "Ingen data"
          ],
          [
           "Udvikling af LED belysning til EX områder. \n Formålet med projek<br>tet er at udvikle LED belysning til EX områder, som overholder k<br>ravene i EX standarden vedr. sikring mod eksplosive gasatmosfære<br>r, brandbart støv etc. Udskiftning af eksisterende belysningsløs<br>ninger med LED belysningsløsning på boreplatforme, miner etc. vi<br>l medføre en reduktion på elektricitetsforbruget på minimum 50%.<br> \n ",
           2014,
           "Energieffektivitet",
           "Resolux ApS",
           "Ingen data"
          ],
          [
           "D-Light, Energibesparende diodelaser belysning \n D-Light vil <br>udvikle lyskilder baseret på diodelasere og demonstrere anven<br>delsen af disse lyskilder til lygtepæle. Diodelaser baserede <br>lyskilder har potentiale til at være betydeligt mere effektiv<br>e end LEDer, når der skal laves store lysmængder. D-Light vil<br>le kunne flytte produktionen af lyskilder tilbage til Danmark<br>. \n ",
           2014,
           "Energieffektivitet",
           "Danmarks Tekniske Universitet (DTU)",
           "Ingen data"
          ],
          [
           "Mere effektivt LED-lys \n Light Extraction har opfundet en løsning,<br> der forbedrer effektiviteten af LED lys således at der udsendes m<br>ere lys per tilført watt. Samtidig reduceres varmeudviklingen, hvi<br>lket øger effektiviteten yderligere og forlænger LEDʼernes levetid<br>. Resultatet er energibesparelse og lavere omkostninger for LED. L<br>øsningen er baseret på en nanostrukturering af LEDʼernes overflade<br>. \n ",
           2014,
           "Energieffektivitet",
           "Light Extraction",
           "Ingen data"
          ],
          [
           "Global LED Harmonisering \n LED belysning rummer et kæmpe potent<br>iale for energibesparelse. Meget stor variation i kvalitet for <br>LED lyskilder kan ødelægge forbrugernes tillid og forhale marke<br>dsindtrængningen. I IEA blev i 2010 startet et samarbejde for k<br>valitet og harmonisering. Resultaterne er værdsat, og de deltag<br>ende lande har besluttet at fortsætte samarbejdet frem til 2019<br>. \n ",
           2014,
           "Energieffektivitet",
           "ENERGY PIANO                      V/ CASPER KOFOD",
           "Ingen data"
          ],
          [
           "PURSUC – Forbedret udnyttelse af energipotentiale I gylle \n Projekt<br>et omhandler en innovativ løsning til forbedret udnyttelse af energ<br>ipotentialet i gylle. I projektet udvikles 1) et højeffektivt tørri<br>ngsmodul, som optimerer gyllen til termisk forgasning, og 2) en til<br>passet termisk forgasser (Sublimator) som kører optimalt på gylletø<br>rstof. Resultatet er øget rentabilitet i gylle-til-energi processen<br>. \n ",
           2013,
           "Bio og affald",
           "Purfil Aps",
           "Ingen data"
          ],
          [
           "Energieffektive UV-lysdioder til den globale hærdningsindustri \n Formålet er at udvikle og demonstrere intelligent UV LED-armaturer til særdeles energieffektiv industrielle hærdn<br>ingsprocesser og efterfølgende udskiftning af den eksisterende kviksølv-baserede lampeteknologi. \n Formålet er at udvikle og demonstrere intelligent UV LED-armaturer til særdeles<br> energieffektiv industrielle hærdningsprocesser og efterfølgende udskiftning af den eksisterende kviksølv-baserede lampeteknologi. \nEt teknologiskifte til UV LED vil forbedre ene<br>rgieffektiviteten med op til 80 %, medmeget længere levetid og en mere adaptiv teknologi i form af flere bølgelængder, styrbare lysintensiteter og integration af UV-LED armaturer<br> i eksisterende produktlinjer eller i nye områder såsom robotteknologi til 3D hærdning.  \nKonsortiet bag projektet dækker hele innovationskæden fra grundlæggende udvikling (Othon<br>ia Curing Technology A/S og Syddansk Universitet), produktudvikling (Othonia Curing Technology A/S, Glunz & Jensen og Teknos) test hos /Teknos og OneWood) til salg (Glunz & Jense<br>n).",
           2013,
           "Energieffektivitet",
           "Othonia Curing Technology A/S",
           "Ingen data"
          ],
          [
           "CooLED – en ny generation LED-Lyskilde for det tidsløse high-end marked \n Projektet har til formål at udvikle og demonstrere en optisk fleksibel LED-pære til tidsløse, eksklusive lampeklassikere. Pæren udnytter LED- teknologiens energieffektivitet optimalt ved hjælp af skræddersyet og udskiftelig ”click on”-optik, der målretter lyset i retning af skærmåbningerne. CooLED muliggør en energibesparelse på op til 90 % i forhold til standard LED-lyskilder. \n Projektet har til formål at udvikle og demonstrere en optisk fleksibel LED pære, der udnytter LED\nteknologiens en<br>ergieffektivitet optimalt i forhold til anvendelse i tidsløse eksklusive lampeklassikere som\nPoul Henningsen PH5, Verner Panton FlowerPot, Verner Panton Globe, Poul Henningsen Koglen etc., hvor standard LED lyskilder grundet deres enten rundstrålende eller rettede udstrålingsprofil afsætter det\nmeste af lysenergien i lampens skærmenheder. Disse er alle baseret på LED teknologi og er væsentligt\nmere energieffektive end deres forgænger, glødepæren, men den optiske del af lysheden er baseret på en\none-size-fits-all tilgang, hvilket set fra et energimæssigt optimering<br>s-perspektiv ikke er særlig\nhensigtsmæssigt. Den udviklede løsning i nærværende projekt gør op med denne tilgang til lyskilder ved at\nintroducere en optisk fleksibel retrofit LED løsning, der via prisbillige skræddersyede udskiftelige linser kan\ngive lyset en geometri, der passer til den givne applikation. LED pære løsningen kaldet CooLED, der er\nudviklet og patenteret af AT-Lighting, er skitseret ovenfor med de udskiftelige linser vist til højre for pæren.\nEt af projektets hovedaktiviteter er at designe disse optiske enheder baseret på optiske ray trace\nmodelleri<br>nger varetaget af DTU Fotonik i en iterativ proces med, hvor løsningerne prøves af i fysiske\nmodelsystemer i en adræt administrativ proces tilpasset projektstrukturen. LEDerne i CooLED pæren er\nplaceret på en særlig patenteret køleprofil, der muliggør effektiv udnyttelse af en slags skorstenseffekt, der\nskaber en kraftig luftstrøm op gennem midten af lysenheden, og varmen fra LEDen afgives hertil. Denne\nkonstruktion har den væsentlige fordel, at LED og strømforsyning ikke nedsætter hinandens holdbarhed\nsom i de traditionelle pæreløsninger, hvor transformerprintet <br>er placeret i centeraksen af lyskilden. For at\ndenne geometriske opbygning kan realiseres, er det nødvendigt at transformerenheden reduceres i forhold\ntil traditionelle pærer således, at den kan placeres i fatningen. Firmaet Noliac er eksperter i udvikling af\npiezoelektriske transformerenheder, der med 98 % effektivitet kan konvertere 40 W/cm2. Herved kan\nrealiseres et meget lille print som transformerenhed, der opfylder de geometriske krav og kan monteres\nmed komponenter, således at pæreenheden opnår en levetid begrænset af LEDernes levetid og ikke\nelektronikkens<br>. CooLED adresserer hermed et marked for retrofit LED lyskilder optisk skræddersyet til\ntidsløse ikon-lamper, der vil præge salgs- og især vedligeholdsmarkedet i mange år fremadrettet. Dette er\nafgjort et nichemarked, men et relativt stort et af slagsen, som ingen udbyder specialløsninger til i dag.\nDen 20-30 % merpris CooLED vil have i salgsleddet tjenes hjem på energisiden, hvor op til 90 %\nbesparelse opnås ved at rette lyset ud gennem lampernes skærmåbninger ligesom lyskildeskift vil blive\nminimeret grundet den meget lange holdbarhed. Afsnittet er uddybet i bil<br>ag 1.",
           2012,
           "Energieffektivitet",
           "Danmarks Tekniske Universitet (DTU)",
           "Ingen data"
          ],
          [
           "Intelligent soldreven LED-belysning. \n Projektet har til formål at udvikle intelligente solenergidrevne LED løsninger til high-end\nbelysningsmarkedet og tilvejebringe en teknisk uovertruffen platform for at integrere solceller i\napplikationer. Endvidere<br> tilvejebringes og publiceres et interaktivt dimensioneringsværktøj til\nsolcelleprodukter. \n Formålet med projektet er at realisere den mest intelligente og teknologisk optimerede platform set på markedet i dag for autonome solenergidrevne belysningsløs<br>ninger. Et interaktivt dimensioneringsværktøj til brug for udvikling af solcelleprodukter til belysningsformål vil endvidere udvikles til sænkning af barrierer mod brug af solceller i belysningsprodukter og gøre det ekstremt nemt at vurdere potentialet <br>af nye designs og forsimple optimeringen af disse mod konkurrencedygtige produkter. Den udviklende hardwareplatform vil blive baseret på den mest optemerede kombination af solceller, LEDs (Light Emitting Diodes), lagerteknologi, optik, intelligent softw<br>are og elektronik for at realisere et skalerbart system til brug i belysningsprodukter drevet af 0,5 Wp - 100 Wp solpaneler. Systemet har arbejdstitlen ''The PV LED Engine''. PV LED Engine vil blive integreret i virksomheden out-siders solcelledrevne be<br>lysningsproduktportefølje til byrummet. PV LED Engine udbydes endvidere til brug for Dansk Center for Lys's mere end 800 medlemmer for at gøre disse væsentligt mere konkurrencedygtige på fremtidens vækstmarkeder inden for solcelledrevne belysningsløsnin<br>ger",
           2011,
           "Energieffektivitet",
           "Danmarks Tekniske Universitet (DTU)",
           "Ingen data"
          ],
          [
           "Energi-besparende LED armaturer i væksthuse \n Formålet med dette projekt er at demonstrere et lysdiode (LED) baseret armatur til gartnerisektoren. Ud over at give energibesparelser vil armaturet mindske forbruget af kemikalier, tillade manipulation af planternes udseende <br>og gøre det muligt at regulere lyskvaliteten for at kompensere for variationer i det naturlige lysindfald. \n Formålet med dette projekt er at demonstrere og forbedre et LED (lys emitterende diode) armatur til integration i erhvervsgartnerier. Dette projekt er en fortsætte<br>lse af et EUDP-projekt som dokumenterer fordelene ved at skifte fra traditionel supplerende belysning til lysdioder.  Projektet omfatter et storskala demonstrationsanlæg på 1500 m2 udstyret med LED armaturer. Svarende til et helt drivhus, hvor størrelsen sikrer fuld kontr<br>ol af alle parametre, såsom blad- temperatur, CO2-koncentration og forbrug af kemikalier, så vi kan finde løsninger for at overvinde integrationsbarrierer såsom klimacomputerkompatibilitet, varmedistribution og nye pasningsrutiner. Den 1500 m2 klimazone vil være omdrejnin<br>gspunktet for vores demonstrationsfacilitet, men også det strategiske udgangspunkt for vores næste udviklingsfase, som vil føre til et salgsklart produkt.  Desuden forventes det, at anlægget vil demonstrere armaturernes energibesparelser, robusthed og pålidelighed i stor <br>skala. Sammen med yderligere forbedringer i armaturdesign, en total integration af LED belysning i et væksthus vil resultere i et markedsklar LED armatur med en dokumenteret 50% besparelse i elforbrug, svarende til en årlig besparelse på 4 til 5 MDKK for et middelstor gar<br>tneri",
           2010,
           "Energieffektivitet",
           "FIONIA LIGHTING A/S",
           "Ingen data"
          ]
         ],
         "hovertemplate": "topics_name=led - lyskilder - belysning<br>x=%{x}<br>y=%{y}<br>text_br=%{customdata[0]}<br>Bevillingsår=%{customdata[1]}<br>Fælles overordnet teknologiområde=%{customdata[2]}<br>Ansvarlig virksomhed=%{customdata[3]}<br>Fokusområder EUDP=%{customdata[4]}<extra></extra>",
         "legendgroup": "led - lyskilder - belysning",
         "marker": {
          "color": "#FC0080",
          "size": 5,
          "symbol": "circle"
         },
         "mode": "markers",
         "name": "led - lyskilder - belysning",
         "orientation": "v",
         "showlegend": true,
         "type": "scatter",
         "x": [
          -0.22609256207942963,
          -0.2560255825519562,
          -0.1853266805410385,
          -0.18417881429195404,
          -0.19072259962558746,
          -0.26825660467147827,
          -0.2248126119375229,
          -0.21996140480041504,
          -0.15880361199378967,
          -0.20295515656471252,
          -0.2565233111381531,
          -0.24606309831142426,
          -0.22207856178283691
         ],
         "xaxis": "x",
         "y": [
          4.249780178070068,
          4.424691677093506,
          4.297949314117432,
          4.3123884201049805,
          4.238829135894775,
          4.234104633331299,
          4.259779930114746,
          4.275923252105713,
          4.482746124267578,
          4.334512233734131,
          4.298008918762207,
          4.34046745300293,
          4.285459995269775
         ],
         "yaxis": "y"
        },
        {
         "customdata": [
          [
           "KOHESYS - Køge Nord termisk energisystem (forstudie) \n Formålet med<br> dette projekt er at gennemføre en forundersøgelse, med henblik på <br>vurdering af den tekniske og økonomiske gennemførlighed af et 5. ge<br>nerations fjernvarme- og -kølesystem (5GDHC) i et nyt byområde i Kø<br>ge. Et af resultaterne af denne forundersøgelse vil være et projekt<br>forslag, der sigter mod at støtte en fremtidig demonstrationsfase. <br>\n ",
           2019,
           "Energieffektivitet",
           "Aalborg Universitet",
           "Ingen data"
          ],
          [
           "Smart citizen-centered local electricity to heat systems (SMART<br>CE2H) \n SMARTCE2H projektet skal demonstrere den tekniske og øk<br>onomiske værdi af en avanceret intelligent varmepumpe installat<br>ion med kompakt salthydrat lager på landet og i fjernvarmeforsy<br>ningen, og vise hvordan det påvirker slutbrugeres engagement og<br> sociale accept og den kommercielle implantation af teknologien<br>. \n ",
           2018,
           "Smart Grid og systemer",
           "Neogrid Technologies",
           "Ingen data"
          ],
          [
           "HEATSTORE - Højtemperatur varmelagring i undergrunden \n Projektets<br> formål er, at udforske potentialet for varmelagring i undergrunde<br>n (UTES) i Danmark, analysere eksisterende UTES anlæg, udlede vigt<br>ige erfaringer, karakterisere geologiske forhold, teste nye modell<br>er og værktøjer og tilvejebringe viden og best practice og dermed <br>bidrage til at bane vejen for kommerciel udnyttelse af teknologien<br>. \n ",
           2018,
           "Smart Grid og systemer",
           "GEUS",
           "Ingen data"
          ],
          [
           "Kortlægning af mulighederne for at etablere geologisk varmelagring \n Pro<br>jektet har til formål at undersøge mulighederne for at lagre og genindvi<br>nde varme fra relevante geologiske formationer i den danske undergrund, <br>til brug for større og mindre fjernvarmeværker og tilsvarende varmekræve<br>nde privat industri. Endvidere vil investeringsomkostninger og risici ve<br>d forskellige typer af agerfaciliteter og geometrier blive undersøgt. \n ",
           2015,
           "Energieffektivitet",
           "GEUS",
           "Ingen data"
          ],
          [
           "Opfølgningsprogram for store varmelagre i Da<br>nmark \n Projektets formål er at følge drifte<br>n af to damvarmelagre og et borehulslager op<br>ført i perioden 2011-2013 i Danmark. I proje<br>ktet opsamles, analyseres og formidles måler<br>esultater og driftserfaringer ind til 2018. <br>\n ",
           2014,
           "Sol",
           "PlanEnergi",
           "Ingen data"
          ]
         ],
         "hovertemplate": "topics_name=varmelagring - utes - køge<br>x=%{x}<br>y=%{y}<br>text_br=%{customdata[0]}<br>Bevillingsår=%{customdata[1]}<br>Fælles overordnet teknologiområde=%{customdata[2]}<br>Ansvarlig virksomhed=%{customdata[3]}<br>Fokusområder EUDP=%{customdata[4]}<extra></extra>",
         "legendgroup": "varmelagring - utes - køge",
         "marker": {
          "color": "#B2828D",
          "size": 5,
          "symbol": "circle"
         },
         "mode": "markers",
         "name": "varmelagring - utes - køge",
         "orientation": "v",
         "showlegend": true,
         "type": "scatter",
         "x": [
          1.2322701215744019,
          0.9279316067695618,
          1.0879629850387573,
          1.153477668762207,
          1.273454189300537
         ],
         "xaxis": "x",
         "y": [
          7.349941253662109,
          7.2355637550354,
          7.404168128967285,
          7.339564323425293,
          7.275224208831787
         ],
         "yaxis": "y"
        },
        {
         "customdata": [
          [
           "TOPChargE - Variabelt topologi batteri system for optimeret netbelastning u<br>nder højeffekt opladning af Elbiler \n TOPChargE’s mål er at modne, validere<br> og demonstrere en ny elbils hurtig lader med batteri-buffer, og vurdere de<br>ns teknologiske, økonomiske og miljømæssige bæredygtighed. En unik lader, n<br>em at flytte eller opgradere, givet det lavere net-tilslutningsgebyr og mod<br>ulære design. Klarer opladning af enhver EV uafhængig af batterispændingen.<br> \n ",
           2019,
           "Smart Grid og systemer",
           "Nerve Smart Systems ApS",
           "Ingen data"
          ],
          [
           "WABAT - “Værksteds Automatiseret-BAtteriTester\" \n WABAT projekte<br>t udvikler et nyt automatiseret elbil-batteri testudstyr til aut<br>oværksteder. WABAT testeren tester via DC-ladestikket og fungere<br>r samtidig også som DC-hurtiglader. Forskning i hurtigere og min<br>dre temperatur følsom test skal reducere testtiden. Diagnosemeto<br>den er ikke afhængig af bilproducentens batteriinformationer. \n ",
           2019,
           "Smart Grid og systemer",
           "Lithium Balance A/S",
           "Ingen data"
          ],
          [
           "Adaptive batteridiagnostiske værktøjer til levetidsvurdering af elbilbatterier \n<br> Projektets formål er at gøre det muligt for uafhængige værksteder, brugtbilsfor<br>handlere og synsvirksomheder at få pålidelig information om den forventede restl<br>evetid for elbilbatterier på en måde som ikke overtræder bilproducenternes garan<br>tibetingelser. Virksomheder i bilbranchen kan dermed uafhængigt af bilproducente<br>rne bruge de nye BATNOSTIC værktøjer til at rådgive ejere eller købere af elbile<br>r. \n ",
           2015,
           "Andet",
           "Lithium Balance A/S",
           "Ingen data"
          ],
          [
           "Dynamisk allokering af el til el-biler \n Det er formålet at afpr<br>øve og teknisk demonstrere en smart grid case med begrænset kapa<br>citet på en enkelt stikledning, blandet effektforbrug og opladni<br>ng af mange eI-biler (EV). Casen er udvalgt således, at afprøvni<br>ng kan ske med aktuelle markedsaktører med henblik på at demonst<br>rere teknisk modenhed og skalerbarhed for en udvalt business cas<br>e \n ",
           2014,
           "Energieffektivitet",
           "CLEANCHARGE SOLUTIONS ApS",
           "Ingen data"
          ],
          [
           "Komponent til styring af lynladning af elektriske biler \n Formålet med projektet er implementering og demonstration af CHAdeMO og I<br>EC62196-3 lynladningsfunktionalitet i et batteristyresystem til litium-ion batterier til brug i elektriske biler og industrielle ma<br>skiner. Det vil være den første kommercielt tilgængelige BMS, der understøtter disse lynladningsprotokoller. To europæiske bil og b<br>atteriproducenter støtter projektet \n The purpose is to implement and demonstrate CHAdeMO and IEC62196-3 DC fast charging functiona<br>lity in a battery management systems for lithium-ion batteries for use in electric cars and industrial machines. It will be the fir<br>st commercially available BMS to support these fast charge protocols. Two European car and battery manufacturers support in the pro<br>ject",
           2013,
           "Energieffektivitet",
           "Lithium Balance A/S",
           "Ingen data"
          ],
          [
           "EVergreen - Quick Charge \n Projektet vil udvikle en fleksibel og intelligent hurtiglader-stander til elbiler, der er tilpasset standarder og specifikke krav fra bilproducenter og er fuldt Smart Grid-forberedt. Hurtigladeren vil være frit tilgængelig, i det betalingen kan ske med kreditkort og SMS. \n Behovet for hurtig opladning anses at have stor betydning, som har været tydelig i det aktuelle EVergreen\nprojekt. Markedet har brug for både AC opladere til hjemmet, semi-offentlig og offentlig brug, og i de usecases,\nhvor el køretøjet er park<br>eret mere end et par timer, og QC for opladning, hvor tiden er en vigtig\nfaktor. Kravene fra elbilsejerne er under hastig forandring, hvor elbilen har været betragtet som sekundær\nbil til at være primært køretøj Offentligt tilgængelige QC standere har en nominel effekt på 50 kW, hvilket\ngiver en signifikant belastning på elnettet, hvor det er målet for EVG QC at kunne levere standere med\neffekt på 20 kW til 50 kW, afhængig af det aktuelle ladebehov, investeringsniveauet for den enkelte\nladestander samt opfyldelse af net krav til belastning<br>en Strategiske mål for EVG QC projektet: •Udvikle\nEVG QC der supporterer strategien bag implementeringen af elbiler og dermed en CO2\nreduktion •Understøtte at elbiler kan gå fra at være sekundært til primært køretøj, da der med effektive QC\nladere bliver en reel ubegrænset rækkevidde på elbilerne Praktiske mål med projektet er : •Genbrug af\neksisterende EVergereen udvikling •Undersøgelse af brugernes behov og forretningsmodellen bag QC\nladning •Udvikling af konkurrencedygtig QC lader med CHAdeMO •Udvikle OEM QC lader •Undersøge\nhvorledes J<br>1772 COMBO stikket kan implementeres for at imødekomme fremtidige standarder Specifik\nudvikling som skal foretages samt opgaver der skal løses fra hver part i EVG QC projektet: Vikingegaarden\ner projektleder og sikrer at alle funktionalliteter fra de forskellige partnere og standarder fungerer efter\nhensigten i EVG QC laderne. Udvikling af DC lader og CHAdeMO/COMBO kommunikations protokol. VG\ntilmeldes CHAdeMO organisationen for dermed at få adgang til standarden og den senere certificering.\nECOmove implementerer QC/CHAdeMO ladning i køret<br>øjerne. Undersøger værdier og fordele ved en evt\nnon-CHAdeMO ladning Banke implementerer QC/CHAdeMO ladning af deres batteri/hydrauliske drev til\nrenovationskøretøjerne. Undersøger værdier og fordele ved en evt non-CHAdeMO ladning, som i Bankes\ntilfælde er sekventiel intelligent ladning af flere køretøjer fra én EVG QC ladestander Mannov er et erfarent\nPR- og eventbureau som er ansvarlig for kommunikation af alle resultater til markedet, for dermed at sikre\ngrundlaget for salg af ladestandere Ramboll Management vil sikre bruger- og kunde s<br>urvey hvor resultatet\nkan anvendes til det endelige design af EVG QC og forretningsmodellen Høj grad af genbrug af EVergreen\nteknologien der er udviklet i aktuelt EUDP program: -Middleware. \"Hjernen\" i EVergreen der forbinder\nkommunikationen mellem den balanceansvarlige, spot priser, CO2, kontrol af ladestander driften og\nopbevaring af data til historiske analyser -TipCharge. Webside og smartphone app. Brugerinterface for at\nfølge aktuelt forbrug, historiske data og generel brug af laderne -Ladestanderkabinet, kommunikation og\nkontrol syst<br>em",
           2012,
           "Andet",
           "VIKINGEGAARDEN A/S",
           "Ingen data"
          ],
          [
           "Automotive certificeret batteri-styresystem \n Formålet med projektet er at udvikle og demonstrere det første kommercielt tilgængelige batteri-styresystem (BMS), som er certificeret i overensstemmelse med automotive standarder for styresystemer og elektronik til masseproducerede hybrid- og elbiler. Udvikling og test sker i samarbejde med to europæiske bilproducenter. \n Formålet med dette projekt er at udvikle det første kommercielt tilgængelige batteri-styresystem (BMS), som er certificeret i overensstemmelse med automot<br>ive standarder for styresystemer og elektronik til\nmasseproducerede biler. Denne BMS skal anvendes til litium-ion batteri pakker primært i el- og hybridbiler,\nmen den kan også anvendes i industrielle maskiner, skibe, toge og energilager-systemer såsom ifm.\nsolcelleanlæg og grid batterier. Der findes i dag ingen kommercielt tilgængelig BMS på markedet, som\nopfylder de nødvendige krav for at opnå en automotive certificering, og dette er et absolut krav fra de fleste\nOEM’er, når de går i masseproduktion med deres elbiler. <br>Store OEM’er har udviklet sådanne systemer\ninternt, men de fleste OEM’er og deres leverandører har hverken den nødvendige viden eller midler til det.\nMange OEM’er og deres underleverandører har derfor udtrykt interesse for, at Lithium Balance udvikler en\nsådan automotive certificeret BMS, og de har bidraget til det første design og prototyper til et proof-ofconcept,\nsom er blevet testet med succes i 2012. Dette koncept er til en modulær og fleksibel platform,\nsom kan anvendes med ethvert batteri, i alle applikationer fr<br>a 3-1000V og til en meget lav pris. Den har fuld\nredundans, så den kan fungere og lukke batteripakken sikkert ned i tilfælde af uheld. Målenøjagtigheden\nligger indenfor 3mV med en temperatur sensor per celle, og den måler SOC og SOH præcist på celleniveau.\nMålet med dette projekt er derfor at færdiggøre udviklingen af denne BMS platform i\noverenstemmelse med de kvalitetsprocedurer for udvikling og prouktion, som kræves af de automotive\nstandarder. To europæiske OEM’er vil deltage i projektet med design input og efterføl<br>gende valideringstest\nsåvel som langtids demonstration med henblik på at tilvejebringe den nødvendige documentation for at\nopnå automotive certificering af den nye BMS. Dette projekt er af direkte relevans for udviklingsmålene i\nEUDP’s teknologistrategier. Litium batteriet er nøgleteknologien, som har muliggjort udviklingen af elbiler\nmed en rækkevidde, der gør dem praktisk anvendelige, og det er ikke muligt at bruge litium batterier uden\nen god BMS. Da hovedapplikationen bliver el- og hybridbiler, er der en åbenlys for<br>bindelse til strategien for\nEnergieffektivitet, som også fokuserer på transportområdet. Elbiler er den mest energieffektive drivlineteknologi,\nder findes, og lades de med vindenergi, er det også den eneste drivline, der kommer tæt på at\nudlede 0 g/km CO2. Desuden synes elbiler at kunne blive en meget lovende måde at lagre energi på,\nhvilket bliver nødvendigt i fremtiden for at kunne udvide produktionen af el fra miljøvenlige energikilder.\nProjektet støtter derfor også Teknologistrategierne relateret til sol og vindenerg<br>i.",
           2012,
           "Energieffektivitet",
           "Lithium Balance A/S",
           "Ingen data"
          ],
          [
           "Rækkevidde-forlænger til elbiler \n Projektet sigter mod at udvikle et koncept for at forlænge en elbils rækkevidde. Konceptet skal give lav emission, kort genopfyldningstid, lang rækkevidde, uafhængighed af ladeinfrastruktur, udnyttelse af overskudsvarme, høj effektivitet og en længere batterilevetid. \n Projektet sigter m<br>od at udvikle og integrere et range extender koncept i den modulbaserede elbilplatform\nQbeak.\nHerved opnås: en fleksible konfiguration, lav emission, kort genopfyldningstid, lang rækkevidde,\nuafhængighed af ladeinfrastruktur, udnyttelse af overskudsvarme, høj effektivitet og en længere\nbatterilevetid.\n\nFormålet med projek<br>tet er at overvinde fem centrale udfordringer for udbredelsen af elbiler gennem introduktionen af et modulariseret energikilde koncept baseret på en brændselscelledrevet (BC) range extender på metanol. Ved at gøre dette opnår konceptet:\n- Genopfyldning på mindre end 3 min.\n- Rækkevidde over 800 km\n- Kabinevarme uafhængigt<br> af batteriet\n- Effektivitetsgrad højere end 80%\n- Betydelig længere batterilevetid.\n\nHovedaktiviteter:\n- Udvikling og integration af et dedikeret BC system til elbiler\n- Test af elbilen i et kontrolleret setup\n- Test og afprøvning af elbilen med professionelle brugere i et Levende Laboratorium.\n\nMålet er at dokumentere d<br>en teknologiske, økonomiske, politiske, miljømæssige og sociale værdi ved at bruge range extenders baseret på metanol brændselsceller. Dette indkluderer delmålene:\n- Udvikling af HTPEM BC modul tilpasset automotive applikationer\n- 1-3 køretøjer udstyret med en metanol BC med udnyttelse af restvarme\n- Beregninger af nødven<br>dig investering for en landsdækkende infrastruktur.\n\nBC teknologien vil gøre det muligt for ECOmove at udvide deres portefølje til større køretøjer eller længere distancer. Serenergy bliver i stand til  at tilgå yderligere OEM'ere med deres teknologi. Insero E-Mobility får cementeret Danmark som et hot spot for elbiltekno<br>logi.",
           2012,
           "Brint og brændselsceller",
           "Insero A/S",
           "Ingen data"
          ]
         ],
         "hovertemplate": "topics_name=qc - elbiler - bms<br>x=%{x}<br>y=%{y}<br>text_br=%{customdata[0]}<br>Bevillingsår=%{customdata[1]}<br>Fælles overordnet teknologiområde=%{customdata[2]}<br>Ansvarlig virksomhed=%{customdata[3]}<br>Fokusområder EUDP=%{customdata[4]}<extra></extra>",
         "legendgroup": "qc - elbiler - bms",
         "marker": {
          "color": "#6C7C32",
          "size": 5,
          "symbol": "circle"
         },
         "mode": "markers",
         "name": "qc - elbiler - bms",
         "orientation": "v",
         "showlegend": true,
         "type": "scatter",
         "x": [
          2.705934524536133,
          2.808953046798706,
          2.7513644695281982,
          2.718545436859131,
          2.7000741958618164,
          2.6978838443756104,
          2.6732020378112793,
          2.721646308898926
         ],
         "xaxis": "x",
         "y": [
          6.594474792480469,
          6.642550468444824,
          6.591933250427246,
          6.565430164337158,
          6.544449806213379,
          6.55864143371582,
          6.489537715911865,
          6.728604793548584
         ],
         "yaxis": "y"
        },
        {
         "customdata": [
          [
           "Kontrolmetoder og komponenter for osmotisk saltkraft og barske miljøer \n For<br>målet med projektet er at forbedre teknologien til produktion af elektricite<br>t fra saltvand, som tidligere er demonstreret af Saltkraft Aps og partnere. <br>Ved brug af intelligente kontrolmetoder vil vi øge mængden af energi som kan<br> produceres fra saltvandet, fjerne behovet for brug af kemi til rensning og <br>gøre det muligt at bruge flere typer af saltvand til elektricitetsproduktion<br>. \n ",
           2019,
           "Andet",
           "Saltkraft ApS",
           "Ingen data"
          ],
          [
           "Beton til Bølgeenergi \n Projekt undersøger, hvordan beton kan anvendes til konstruktion af store bølgeenergimaskiner i dette tilfælde Wave Dragon og KNSwing. Undersøgelsen vil omfatte løsninger baseret på almindelig armeret beton, for- og efterspændt beton, fo<br>rskellige armerings materialer og beton mix samt samlingsdetaljer. Konventionel beton vil blive brugt til hovedparten af Bølgekraftmaskinen men muligheden for at bruge Utra High Performance Concrete (UHPC) i særlige områder vil også blive undersøgt. Den specie<br>lle beton UHPC, der bruges af Hi-con-CRC-har en meget høj tryk-og trækstyrke sammenlignet med konventionel beton og har en bedre holdbarhed og er derfor specielt velegnet til strukturelle dele, der er eksponeret i splash zonen eller andre områder udsat for høj<br> varierende belastning. Omkostninger i forbindelse med identificerede beton typer og fabrikationsmetoder vil blive undersøgt og beskrevet sammenholdt med en vurdering af pålidelighed, overlevelsesevne og behov for vedligehold. Sammenholdt med den årligt produc<br>erede energi kan den langsigtede energipris, LCOE, beregnes og målet er at Bølgekraft skal være på niveau med flydende vind beregnet på grundlag af materiale og komponent enheder og enhedsomkostninger, forventet levetid og vedligeholdelsesomkostninger. Både Wa<br>ve Dragon og KNSwing enheden er skalerbare, og dimension, vægt og installeret effekt stiger med størrelse og Bølgeenergi ressourcen i havet. Som en del af dette projekt vil den mindste skala som bølgemaskinerne i praksis vil kunne bygges i beton blive definere<br>t. \n ",
           2018,
           "Bølge",
           "Offshoreenergy.dk",
           "Ingen data"
          ],
          [
           "EcoPack Ejector Optimized Value Pack \n Målet er at opnå en forbedring på 13 %<br> i årseffektivitet på mindre supermarkedsanlæg baseret på Advansors modelseri<br>e Value Pack (40 til 100 kW). Der planlægges test af den største model med ej<br>ektor hvorved ydelsen stiger til en samlet kapacitet for køl og frys på 130 k<br>W. Resultatet skal opnås ved at skalere Danfoss-styringer med ejektor ned til<br> dette segment samt ved at optimere Advansors modelserie med nye kompressorer<br>. \n ",
           2018,
           "Energieffektivitet",
           "Teknologisk Institut",
           "Ingen data"
          ],
          [
           "’Janus’ Industrielt Kontrol System VPN Firewall \n Formålet med<br> projektet er at udvikle og demonstrere et nyskabende produkt <br>til IT-sikkerhed for industrielle kontrol systemer, som fx SCA<br>DA systemer. Produktet vil bygge på koncepterne bag ’sikkerhed<br>-ved-simplicitet’ og ’sikkerhed-i-dybden’, og det vil være kom<br>patibelt med eksisterende IEC standarder i energi sektoren. \n ",
           2017,
           "Smart Grid og systemer",
           "MSB Information Security ApS",
           "Ingen data"
          ],
          [
           "MUPOS - Multi-komponent-sensor \n Formålet med at u<br>dvikle et helt nyt og billigt on-line multi-kompon<br>ent sensorsystem, der kan anvendes til en markant <br>nedbringelse af udledningen af partikler og andre <br>luftforurenende stoffer herunder tjære, sod og org<br>aniske forbindelser fra små forbrændingsenheder. \n<br> ",
           2016,
           "Bio og affald",
           "Danmarks Tekniske Universitet (DTU)",
           "Ingen data"
          ],
          [
           "Predictive Corrosion Monitoring System - Task 2 \n The vision of P<br>CMS - Task 2 is an online Predictive Corrosion Monitoring System <br>(PCMS) that through measurements of few, significant flue gas com<br>ponents can predict and hence optimise the corrosion rate of supe<br>rheaters in Waste-to-Energy (WtE) boilers in order to increase st<br>eam data and thereby the efficiency of power production of plants<br>. \n ",
           2015,
           "Bio og affald",
           "Force Technology",
           "Ingen data"
          ],
          [
           "Test, sikkerhed og kvalitetssikring af fastoxidceller \n Formål<br>et er at udvikle og validere et komplet sæt af industrielt rel<br>evante testprocedurer til fastoxid celler, mht. ydeevne, holdb<br>arhed og degradering. Projektet vil udvikle testprocedurer for<br> SOFC og SOEC under dynamiske driftsforhold og implementere ka<br>rakteriseringsteknikker som elektrokemisk impedansspektroskopi<br>. \n ",
           2014,
           "Brint og brændselsceller",
           "Danmarks Tekniske Universitet (DTU)",
           "Ingen data"
          ],
          [
           "Mikrobiologisk sikker sænkning af varmtvandstemperaturen \n Projektets formål var at demonstrere en ny teknologi til at sikre varmtvandsinstallationer mod legionella og samtidig demonstrere, at systemerne kan holdes fri f<br>or legionella med en reduceret temperatur. Teknologien udgør grundlaget for den videre udbredelse af lavtemperaturfjernvarme med store energibesparelser til følge, både for fjernvarmeforsyninger og i de enkelte bygninger<br>. \n Målet er at vide at varmtvands systemer kan holdes fri for farlige legionella bakterier med vores nye vandbehandlingsmetode uanset varmtvands systemets temperatur. \nDer er etableret vandbehandling i 6 forskellige sto<br>re bygninger med centralt varmesystem. Bygninger er udvalgt så de er så forskellige som muligt i anvendelse, teknologi, drift etc. \nI projektets første fase demonstreres den nye teknologi med normal fremløbstemperatur og<br> det demonstreres at varmtvandssystemerne er fuldstændig fri for bakterier. \nI projektets anden fase demonstreres i da samme anlæg at anlæggene holdes fuldstændig fri for bakterier med reduceret varmt vands temperatur.\nP<br>rojektets slutmål er at der er udarbejdet installations- og driftsvejledning til anvendelse af denne teknologi i bygninger med centralt varmesystem dækkende alle former for bygninger, anvendelse, teknologi, brugermønstre<br> etc.",
           2013,
           "Energieffektivitet",
           "Danish Clean Water",
           "Ingen data"
          ],
          [
           "Færdigudvikle, teste og kommercialisere et nyt sensorprincip til kølesystemer \n Projektets formål er at færdigudvikle, teste og udbrede kendskabet til og demonstrere de nye tekniske muligheder ved anvendelse af vores nydesignede gas-kvalitetssensor ”HBDX” fra HB Products A/S. Sensor<br>en tilbyder forbedret styring, regulering og overvågning af væsketilførsel til fordampere, samt sikring mod væskeslag i kompressorer. \n Målet er at færdigudvikle, afprøve og udbrede kendskabet til vores nydesignede gas-kvalitetssensor kaldet HBDX. Sensoren giver ny mulighed for styr<br>ing, regulering og overvågning af køleanlæg med naturlige og HFC kølemidler og har fokus på kontrol af væsketilførsel til fordampere og beskyttelse mod væskeslag i kompressorer. Sensoren giver nye muligheder for store miljø- og energibesparelser. \nSensoren er designet og testet i lø<br>bet af det seneste år, men er endnu ikke færdigudviklet, så den skal testes på Teknologisk Institut først under stationære forhold og senere i et dynamisk fordampersystem. \nEfter at have bestået disse test og foretaget evt. nødvendig ændringer i sensorens design skal sensoren testes<br> og dens funktion valideres i ”rigtige” køleanlæg under virkelige forhold, inklusiv erfaringer fra faktiske brugere af industrielle køleanlæg. \nDe forskellige test og valideringer bliver dokumenteret i en rapport og erfaringerne fra projektet bliver offentliggjort gennem artikler ti<br>l relevante magasiner, distribution af information på messer og udstillinger, eventuelle teammøder på testanlæg samt gennem udarbejdelse af papers til præsentation på internationale fagkonferencer; IIR´s Gustav Lorentzen Conference (International Institute of Ammoniak Refrigeration)<br>.",
           2013,
           "Energieffektivitet",
           "HB products A/S",
           "Ingen data"
          ],
          [
           "Brint optankning for biler (HyProvide) \n HyProvide-HRS har foretaget udvikling af et brint optankningssystem som kan reducere omkostninger og øge kapacitet og effektivitet for 700bar brint tankstationer. Produktions og kost reduktionspotentialer er blevet analy<br>seret. Der skal gennemføres laboratorietest af det udviklede tankstationssystem og brint produktionsanlæg, som verificerer opfyldelse af opstillede mål. \n Med HyProvide-HRS projektet sigter H2 Logic mod at videreudvikle dets 700bar brint tankstations teknologi <br>mod at nå kommercielle målsætninger, hvilket kan muliggøre salg af brint som brændstof til brændselscelle elektriske køretøjer. \n\nGennem HyProvide-HRS skal målsætninger for kapacitet, effektivitet og omkostninger nås som muliggør påbegyndelsen af en tidlig udru<br>lning af tankstationsinfrastruktur i Europa, særligt i Skandinavien og Tyskland, hvor markedsintroduktion af brændselscelle køretøjer planlægges omkring 2015. \n\nFor at muliggøre dette vil H2 Logic bruge HyProvide-HRS til at udføre dedikeret R&D af et brint opta<br>nkningssystem som kan konfigureres til en samlet tankstation. Det skal muliggøre signifikante forbedringer af den daglige og øjeblikkelig optankningskapacitet og forbedre energieffektiviteten. Ligeledes skal omkostninger reduceres. \n\nLaboratorium test af det ud<br>viklede optankningssystem skal udføres som verificerer opnåelsen af de opstillede målsætninger. Ligeledes skal en understøttende brint produktion specificeres i samarbejde med Greenhydrogen.dk ligesom at benchmark test og evaluering af et anlæg skal gennemføres<br>.",
           2011,
           "Brint og brændselsceller",
           "NEL Hydrogen",
           "Ingen data"
          ],
          [
           "Udendørs brændselscelle-redskabsbærer (ORACLE) \n Formålet er at udvikle en demonstrator for at verificere brændelscelle teknologiens fordele på\nredskabsbærere (arbejdsmaskiner) til brug for udendørs rengøring/vedligehold. Herigennem skal opnås miljøfordele ift eks<br>isterende dieselbaserede løsninger, samt en forbedring af effektiviteten af produktet for mindskelse af energiforbrug \n Målet med projektet er at påvise en brændselscelle baseret redskabsbærer til indendørs og udendørs service operationer. Dette hænger sammen med <br>de klare fordele forbundet med brugen af brændselsceller. Kunder vil opleve flere fordele: udvidet arbejdscyklusser, forbedret fleksibilitet, forbedret brændstoføkonomi, kompakt power modul, forbedring af arbejdsmiljøet, kommunikation af miljømæssige og sociale væ<br>rdier. Løsningen er en kombination af bedre energiforsyning, forbedring af sugeenheden og forbedret power-pack. ORACLE vil demonstrere teknologien og dets relevans baseret på markedsundersøgelser. Baeret på disse undersøgelsesresultater vil der blive iværksat en n<br>y kommerciel produktudvikling af Nilfisk-Advance. Følgende arbejdspakker er inkluderet i projektet: 1) Overordnet ''Nilfisk-Advance'' markeds/applikations analyse; 2) Fokuseret ''Nilfisk-Egholm'' markedsanalyse; 3) Samlet elektrisk topologikoncept; 4) Sugeudstyr o<br>ptimering; 5) Køretøjets energi-interface; 6) MEA; 7) Power-pack design og integration; 8) Brændselscelle interface; 9) Power pack test; 10) Påhæftet arbejdsudstyr integration og udvikling; 11) Påsat sugeudstyr prototype integration; 12) Rapportering og formidling",
           2011,
           "Energieffektivitet",
           "NILFISK-ADVANCE A/S",
           "Ingen data"
          ],
          [
           "Fremtidens køleanlæg \n På basis af 10 års forskning er der udviklet en unik, konkurrencedygtig, energieffektiv og miljøvenlig chiller (avanceret køleanlæg), der anvender vand som kølemiddel. Formålet med projektet er at videreudvikle teknologien og demonstrere den. Chiller-markedet vokser hurtigt, og Danmark ha<br>r bl.a. via skrappe krav til kølemidler, mulighed for via dette projekt at komme hurtigt ind på det globale marked for store industrikøleanlæg foran andre konkurrerende teknologier. \n Projektet vil udvikle og demonstrere en ny revolutionerende chiller, som kun bruger vand som kølemiddel. Projektet vil udvikle t<br>eknologien fra laboratorieniveau til turn-key field test prototype og demonstrere en virkelig anvendelse for at opnå reelle driftsbetingelser og for at markedsføre teknologien. Projektet vil omfatte følgende arbejdspakker: - Planlægning af demonstrations-site - integration af enheden i de eksisterende utility-s<br>ystemer; - Syv trins kompressor udvikling og laboratorietest - konstruktion og test af drev linje osv.; - Projektering og opførelse af 0-serien chiller unit - redesign, optimering og produktion; - Installation ved demonstrations-site - bygningsændringer, installationer og performance tests; - Demonstration og l<br>angsigtede test - datatager, inspektion, ændringer; - Formidling - rapport, papirer, præsentationer, åbent hus arrangement, kundebesøg, mv.. Projektet er baseret på et ti års, 40 millioner kroner F&U projekt, som har udviklet to fuldskala laboratorium chillere i Danmark hos TI (Teknologisk Institut) og to fulds<br>kala prototyper i Japan hos Kobe steel, hvor alle kritiske mål på design, effektivitet og performance er blevet bekræftet. Under projektets demonstrationsfase vil JCD produktmodne chilleren og forventer at frigive fuldt kommerciel vanddamp chillere i begyndelsen af 2014. Enhederne vil blive produceret i Danmark",
           2011,
           "Energieffektivitet",
           "JOHNSON CONTROLS DENMARK ApS",
           "Ingen data"
          ]
         ],
         "hovertemplate": "topics_name=beton - test - hyprovide<br>x=%{x}<br>y=%{y}<br>text_br=%{customdata[0]}<br>Bevillingsår=%{customdata[1]}<br>Fælles overordnet teknologiområde=%{customdata[2]}<br>Ansvarlig virksomhed=%{customdata[3]}<br>Fokusområder EUDP=%{customdata[4]}<extra></extra>",
         "legendgroup": "beton - test - hyprovide",
         "marker": {
          "color": "#778AAE",
          "size": 5,
          "symbol": "circle"
         },
         "mode": "markers",
         "name": "beton - test - hyprovide",
         "orientation": "v",
         "showlegend": true,
         "type": "scatter",
         "x": [
          3.3498129844665527,
          3.3767435550689697,
          3.55631160736084,
          3.222900390625,
          3.4015769958496094,
          3.677938461303711,
          3.386052370071411,
          3.754122734069824,
          3.365993022918701,
          3.590092182159424,
          3.272045135498047,
          3.4616081714630127
         ],
         "xaxis": "x",
         "y": [
          6.728374004364014,
          6.792764186859131,
          7.452009201049805,
          6.668705463409424,
          7.098316669464111,
          7.390462398529053,
          6.785967826843262,
          7.587449073791504,
          6.990165710449219,
          7.40561056137085,
          6.66851806640625,
          7.272036075592041
         ],
         "yaxis": "y"
        },
        {
         "customdata": [
          [
           "Task 34 Direct Thermochemical Liquefaction \n Repræsentation af DK som national te<br>chnology lead (NTL) i IEA Task 34 og varetage aktiviteter i denne forbindelse der<br> fremmer dansk forskning og industriel udvikling indenfor dette specialområde af <br>bæredygtige biobrændstoffer. Formålet med deltagelse er at give synlighed for dan<br>ske styrkepositioner indenfor tekniske, politiske og strategiske områder, og at e<br>ngagere danske partnere i stærke internationale netværk for at opnå disse mål. \n ",
           2019,
           "Andet",
           "Aalborg Universitet",
           "Ingen data"
          ],
          [
           "The Energy Collective \n I lighed med udviklin<br>gen af det danske elsystem til et decentralis<br>eret set-up, foreslår og analyserer projektet<br> Energy Collective nye typer elmarkeder med e<br>lforbrugeren i centrum, der giver mulighed fo<br>r at producere, handle og forbruge el lokalt.<br> \n ",
           2016,
           "Andet",
           "Danmarks Tekniske Universitet (DTU)",
           "Ingen data"
          ],
          [
           "Integration af vedvarende energi ved hjælp af decentrale l<br>agersystemer \n I projektet belyses decentrale energilagres<br> rolle i den fremtidige energiforsyning. Formålet er en øk<br>onomisk mere effektiv integration af vedvarende energi. Pr<br>ojektet skal sikre dansk deltagelse i Annex 28 i IEA´s Ene<br>rgy Conservation Through Energy Storages (Eces) program. \n<br> ",
           2014,
           "Smart Grid og systemer",
           "PlanEnergi",
           "Ingen data"
          ],
          [
           "Partnerskab for Termisk Forgasning \n Form<br>ålet er at koordinere, styrke og målrette<br> den danske FUD-indsats for termisk forga<br>sning, således at termisk forgasning kan <br>udfylde sin rolle og sit potentiale i det<br> forventede fremtidige danske energisyste<br>m. \n ",
           2014,
           "Bio og affald",
           "DANSK GASTEKNISK CENTER A/S",
           "Ingen data"
          ],
          [
           "Lavtemperatur fjernvarme til fremtidens energisystem \n Projektet udgør den danske deltagelse i det planlagte ‘task shared annex, TS1, i IEA-DHC: Lavtemperatur\nfjernvarme. Formålet med den danske deltagelse er at bidrage til en international udvikling af lavtemperatur\nfjernvarme baseret på vedvarende energi til opvarmn<br>ing af energieffektive bygninger. \n Fjernvarme med lavere temperaturer i ledningsnettet giver en økonomisk og miljømæssig god mulighed for\nvarmeforsyning af lavdensitetsområder og lavenergihuse. Den reducerede fremløbstemperatur øger også\nudnyttelsen af vedvarende energi og spildvarme. Projektet er en fortsættelse af <br>forskningen i\nlavtemperaturfjernvarme (4.generations fjernvarme) med det formål at fremme forståelsen af de tekniske\nudfordringer ved: \n1. karakterisering af forsyningsløsninger i lavtemperaturfjernvarme og muliggøre\nanvendelsen i forskellige bebyggelser\n2. varmeforsyning ved lave temperaturer under forskellige forhol<br>d\n3. optimere VE-forsyningsløsninger i forhold til stadig mindre varmebehov i bygninger. \nDe vigtigste emner er: \n- Anvende resultater fra det foregående EUDP projekt (IEA-DHC Annex X: fjerde generation fjernvarme) til at\nkarakterisere forsyningsteknologier til lavtemperatur fjernvarme og til at identificere løsninger<br> til generiske\ndesign problemer, for at implementere dem i forskellige bebyggelser. \n- Analyse af de tekniske udfordringer ved forsyning af eksisterende bebyggelser før udførelsen af vidtgående bygningsrenoveringer. \n- Udvikle løsninger til udvidelse af fjernvarmenettet og til effektiv udnyttelse af varmekilder svaren<br>de til deres kvalitet. \n- Identificere løsninger til undgåelse af vækst af Legionella bakterier så varmt brugsvand kan leveres ved lave temperaturer i etageejendomme. \n- Undersøge en 100% VE-baseret optimal energiforsyningsstruktur i et samspil mellem forsyning med lavtemperaturfjernvarme og varmebesparelser i bygning<br>er.",
           2012,
           "Andet",
           "Technical University of Denmark, Department of Civil Engineering",
           "Ingen data"
          ]
         ],
         "hovertemplate": "topics_name=fjernvarme - lavtemperatur fjernvarme - danske<br>x=%{x}<br>y=%{y}<br>text_br=%{customdata[0]}<br>Bevillingsår=%{customdata[1]}<br>Fælles overordnet teknologiområde=%{customdata[2]}<br>Ansvarlig virksomhed=%{customdata[3]}<br>Fokusområder EUDP=%{customdata[4]}<extra></extra>",
         "legendgroup": "fjernvarme - lavtemperatur fjernvarme - danske",
         "marker": {
          "color": "#862A16",
          "size": 5,
          "symbol": "circle"
         },
         "mode": "markers",
         "name": "fjernvarme - lavtemperatur fjernvarme - danske",
         "orientation": "v",
         "showlegend": true,
         "type": "scatter",
         "x": [
          1.6030594110488892,
          1.7073147296905518,
          1.7025099992752075,
          1.5118573904037476,
          1.4704149961471558
         ],
         "xaxis": "x",
         "y": [
          6.387628078460693,
          6.523712635040283,
          6.440362930297852,
          6.438209533691406,
          6.5037760734558105
         ],
         "yaxis": "y"
        },
        {
         "customdata": [
          [
           "iCeiling – intelligent køle og varmeloft med energilagring: <br>Hybrid ventilation, køling og opvarmning med decentral varme<br>pumpe, energilagring og intelligent styring \n Projektet udvi<br>kler ”iCeiling”: Et ventilationsloft med hybrid ventilation <br>(mekanisk med varmegenvinding og naturlig ventilation), træk<br>fri køling og opvarmning leveret af små decentrale varmepump<br>er \n ",
           2018,
           "Energieffektivitet",
           "JS VENTILATION A/S",
           "Ingen data"
          ],
          [
           "Fremtidens Ventilationsanlæg \n Projektet har til formål at udvi<br>kle næste generations klimaanlæg samt: innovativ, omkostningsef<br>fektiv og skalérbar løsning til termisk komfort en hidtil uset <br>energibesparelse på mellem 50-­90% til køling/opvarmning i forh<br>old til de bedste alternative DX køleløsninger, uden brug af kø<br>lemidler. Smart Grid integration for omkostningsoptimeret drift<br> \n ",
           2017,
           "Energieffektivitet",
           "Syddansk Universitet",
           "Ingen data"
          ],
          [
           "Vedvarende, bygningsintegreret varme- og køleforsyning til fremtidens re<br>siliente byer \n Projektet skal undersøge mulighederne for bæredygtig, jo<br>rdvarmebaseret varme- og køleforsyningen tænkes ind i én samlet energilø<br>sning på tilsvarende måde som klimatilpasningsløsninger typisk tænkes og<br> udføres. Projektet fraviger derfor den typiske tankegang med individuel<br>le energiløsninger for enkelte bygninger eller traditionel fjernvarme. \n<br> ",
           2017,
           "Energieffektivitet",
           "Professionshøjskolen VIA University College",
           "Ingen data"
          ],
          [
           "Airmaster Decentral Varme, Ventilation og Air Condition enhed \n AMHVAC er et l<br>ille, energieffektivt ventilationsanlæg - f.eks. til et klasselokale eller et <br>kontor som klarer al opvarmning eller køling med en luft-luft varmepumpe. Det <br>er ”decentralt” dvs. uden brug af kanaler, monteret direkte ved rummets ydervæ<br>g. Lydproblemer ved drift af varmepumpen indendørs løses innovativt ved hjælp <br>af aktiv lyddæmpning, dvs. lyd fjernes ved at udsende \"modlyd” med en højttale<br>r. \n ",
           2015,
           "Energieffektivitet",
           "Airmaster",
           "Ingen data"
          ],
          [
           "Passiv køling med udeluft I energirenoverede boliger \n Projektets<br> formål er både at adressere projekteringsudfordringerne relatere<br>t til reduktion af kølebehov og risiko for overophedning i energi<br>renoverede bolig, under forskellige klimatiske forhold gennem uda<br>rbejdelse af guidelines for projektering, samt gennem udvikling a<br>f attraktive løsninger til passiv køling af boliger med udeluft. <br>\n ",
           2013,
           "Energieffektivitet",
           "Aalborg Universitet (Fredrik Bajers Vej)",
           "Ingen data"
          ],
          [
           "Naturlig ventilation med varmegenvinding og køling i en sportshal \n IKM A<br>/S demonstrerer konceptet \"Naturlig ventilation med varmegenindvinding og<br> køling\" i Fryndesholmhallen på Als. \n I dette projekt udvikles og demons<br>treres et teknisk koncept for naturlig ventilation med varmegenindvinding<br> og køling. Projektet er fortsættelse af 63011-0172 og i denne sidste fas<br>e af projektet, vil det udviklede anlæg indreguleres, idriftsættes og tes<br>tes.",
           2013,
           "Andet",
           "IKM A/S",
           "Ingen data"
          ],
          [
           "Energi effektiv ventilation med optimeret spjæld styring af flow og systemtryk \n Med LeanVents nye Dråbespjæld er det muligt at reducere tryktab og energitab i ventilationsanlæg med\nover 50%, og samtidigt overholde alle krav til indeklima og til fremtidens bygningsreglementer.\nProjektets formål er at videreudvikle Dråbespjæld til et internationalt produkt, som kan markedsføres på\nhele det Europæiske ventilationsmarked. \n Med LeanVents nye Dråbespjæld er det muligt at reducere tryktab og energitab i ventilationsanlæg med\nover 50%, og samtidigt <br>overholde alle krav til indeklima og til fremtidens bygningsreglementer. Projektets\nformål er at videreudvikle Dråbespjæld i retning mod et produkt, som kan markedsføres på hele det\nEuropæiske ventilationsmarked. LeanVent har fremstillet 3000 prototype Dråbespjæld, har solgt 2000\nDråbespjæld til ventilationsanlæg i DK og NL, og har desuden demonstreret produktet i SE, FIN og DE.\nErfaringerne herfra har bl.a. bekræftet følgende: A. Dråbespjæld giver de forventede fordele (value\npropositions) I form af meget lavere tryktab, energitab og støjnive<br>au - og vil dermed være istand til at\noverholde fremtidens krav til indeklima og bygningsreglementer. B. Med den nuværende kostpris for Dråbespjæld vil det være muligt at sælge til det danske installationsmarked med et beskedent overskud,\nhvorimod udenlandske distributører kræver betydeligt lavere indkøbspriser, hvilket bl.a. kræver en halvering\naf nuværende kostpris. C. Dråbespjæld skal være mere tilgængelige for både installatører og brugere,\nhvilket bl.a. kræver en helt ny bruger-interface til indstilling af projekt parametre. EUDP projekte<br>t skal\nfokusere på ovenstående punkt B. og C. og dermed gøre Dråbespjæld til et internationalt produkt. Dette vil\nske i tæt samarbejde med DTU Byg og med Teknologisk Institut, som begge har været aktive partnere i\nden hidtidige udvikling og verifikation af produktet. Projektets vigtigste aktiviteter er: WP1: Redesign af\nproduktet til 50% færre komponenter og til yderligere optimering af Dråbespjældets aerodynamiske\negenskaber. Dette udføres af LeanVents egen design ingeniør i tæt samarbejde med værktøjsleverandøren\nog med producenten. Aktivite<br>ten afsluttes med afprøvning hos Teknologisk Institut. WP2: Udvikling af helt\nnyt Bruger-interface i form af en klemmekasse med display og menu til indstilling af nødvendige\nprojektparametre (f.eks. ønsket luftmængde eller tryk). Forventes udviklet og afprøvet i samarbejde med\nTeknologisk institut. WP3: Styringer med programmer til ”flow-regulering efter behov” (DCV) og\ntil ”Dynamisk Statisk Tryk justering” (DSPR). Disse styringer skal udvikles og testes i tæt samarbejde\nmed DTU Byg med udgangspunkt i literaturstudier i erfaringerne fra især U<br>SA WP4: Verifikation af færdige\nprodukt prototyper i samarbejde med DTU Byg WP5: Analyse af mulighederne for at kombinere energieffektiv\nventilation med SMART GRID strømforsyning. Det er målet er skabe en produkt-platform som kan\ndanne basis for et årligt salg i Europa af minimum 50000 stk/år, hvilket kan medfører en årligt elenergibesparelse\ntil ventilatorer på ekstra ca 65 GWh/år plus en nogenlunde tilsvarende besparelse i varmeeller\nkøle-energi. Med en forventet levetid på 20 år vil el-energibesparelsen kunne akkumuleres til op mod\n1314 GWh<br>/år.",
           2012,
           "Energieffektivitet",
           "LEANVENT ApS",
           "Ingen data"
          ],
          [
           "Dynamisk frikøling \n Projektet ”Dynamisk frikøling” videreudvikler det en<br>ergibesparende og rørløse ventilationssystem, MicroVent. I stedet for at <br>bruge energi på aktiv køling i bygninger går projektet ud på at anvende k<br>old udeluft til køling. Med udviklingen af et sådant frikølingsmodul vil <br>MicroVent blive et multifunktionelt ventilationssystem, som kan efterleve<br> bygningers vekslende behov for varmegenvinding og køling ved ventilation<br>. \n .",
           2011,
           "Energieffektivitet",
           "INVENTILATE ApS",
           "Ingen data"
          ]
         ],
         "hovertemplate": "topics_name=dråbespjæld - køling - ventilation<br>x=%{x}<br>y=%{y}<br>text_br=%{customdata[0]}<br>Bevillingsår=%{customdata[1]}<br>Fælles overordnet teknologiområde=%{customdata[2]}<br>Ansvarlig virksomhed=%{customdata[3]}<br>Fokusområder EUDP=%{customdata[4]}<extra></extra>",
         "legendgroup": "dråbespjæld - køling - ventilation",
         "marker": {
          "color": "#A777F1",
          "size": 5,
          "symbol": "circle"
         },
         "mode": "markers",
         "name": "dråbespjæld - køling - ventilation",
         "orientation": "v",
         "showlegend": true,
         "type": "scatter",
         "x": [
          0.9500967860221863,
          1.0229798555374146,
          1.1622709035873413,
          0.934432864189148,
          0.9844976663589478,
          0.9565330743789673,
          1.04617178440094,
          0.9471060633659363
         ],
         "xaxis": "x",
         "y": [
          6.556207656860352,
          6.578677177429199,
          6.87447452545166,
          6.536465167999268,
          6.844383716583252,
          6.558628559112549,
          6.479342460632324,
          6.703110694885254
         ],
         "yaxis": "y"
        },
        {
         "customdata": [
          [
           "IBPSA Project 1 CEI - SDU Deltagelse \n Hoved<br>formålet med projektet er at deltage i det i<br>nternationale netværksprojekt, IBPSA Project<br> 1, for at fremme samarbejde med højt anerke<br>ndte internationale partnere inden for model<br>lering og simulering af energi i bygninger. <br>\n ",
           2018,
           "Energieffektivitet",
           "Syddansk Universitet",
           "Ingen data"
          ],
          [
           "Aces (Across Continents Electric Vehicles Services) \n De<br>t er ACES projektets mål at gennemføre en holistisk unde<br>rsøgelse af de tekniske og økonomiske gevinster og udfor<br>dringer ved et stort antal elbiler på Bornholm, supplere<br>t af indsamlet elbilsdata, elnetsdata og felttests for a<br>t sikre replikabilitet på tværs af systemer og regioner.<br> \n ",
           2017,
           "Smart Grid og systemer",
           "DTU Elektro",
           "Ingen data"
          ],
          [
           "NSON-DK \n NSON-DK projektet er det danske bidrag til <br>et Nordsø offshore netværk (NSON) med deltagelse af f<br>orskere fra Storbritannien, Tyskland, Norge og Hollan<br>d. Formålet med det danske bidrag er at undersøge hvo<br>rdan fremtidens udbygning af offshore vindkraftværker<br> og offshore elnet vil påvirke det danske elsystem. \n<br> ",
           2016,
           "Vind",
           "Danmarks Tekniske Universitet (DTU)",
           "Ingen data"
          ],
          [
           "ELECTRA top up financing (EERA Smart Grid Integrated research project)<br> \n Projektet udvider DTU bidrag i FP7-projektet ‘ELECTRA’. VE tilslutt<br>et alle spændingsniveauer kræver nye måder at styre millioner af enhed<br>er. Projektet udvikler og implementerer proof-of-concept der holistisk<br> udnytter fleksibiliteten på tværs af grænser. Det demonstrerer nøgler<br>esultater ved brug af PowerlabDK og forbindelser til den danske elsekt<br>or \n ",
           2014,
           "Smart Grid og systemer",
           "Danmarks Tekniske Universitet (DTU)",
           "Ingen data"
          ],
          [
           "Partnerskab for Bølgekraft- Roadmaps. (EUDP-13-l) \n Målet for partnerskab for Bølgekraftprojekt er, at detaljeret at beskrive, hvorledes de prioriterede indsatsområder - Forankringssystemer – teknologisk el producerende systemer – El-transmissioner fra flyende anlæg til havbund.  Materialer og komponenter kan realiseres og udvikles gennem en række af forsknings-, udviklings og testaktiviteter. \n Partnerskabet<br> for Bølgekraft blev etableret under EUDP projektet ”Ny strategi for bølgekraft gennem industrielt partnerskab” i 2011. Herunder blev der udarbejdet en ny strategi for udvikling og demonstration af bølgekraft i Danmark. I strategien blev de væsentligste fælles indsatsområder beskrevet, som partnerskabet anser nødvendige for den videre udvikling af bølgekraftområde. Formål: Med denne ansøgning vil Partnerskabe<br>t konsolidere og mere detaljeret beskrive, hvorledes de prioriterede indsatsområder kan realiseres og udvikles gennem en række forsknings-, udviklings- og testaktiviteter. De enkelte aktiviteters formål og indbyrdes relationer beskrives, herunder de enkelte aktiviteters udfordringer, økonomiske og tidsmæssige aspekter. Roadmaps for teknologiudvikling: Målet hermed er at udarbejde roadmaps for teknologiudvikli<br>ng indenfor følgende 4 områder: Forankringssystemer – PTOsystemer – El-transmissioner fra flydende anlæg til havbund – Materialer og komponenter. Formålet med at udarbejde roadmaps er at få et værktøj til at koordinere og målrette forsknings-, udviklings-og testaktiviteter.   På denne måde sikres det, at ressourcer (økonomiske og knowhow) anvendes hensigtsmæssigt og med størst mulig fremdrift til følge. Inden<br>for hvert af de 4 områder, skal der tages udgangspunkt i det nuværende teknologiniveau og derfra skal det skitseres, hvilke aktiviteter (forskning, udvikling og test) der er nødvendige for at nå frem til det ønskede teknologiniveau i f.eks. 2020. Roadmaps kan således anvendes til at prioritere og koordinere teknologiudviklingsprojekter. Partnerskabs workshops Invitere partnerskabets medlemmer og andre relevan<br>te aktører til fire workshops/seminarer i projekt perioden omkring udviklingsområdet, og i fælleskab definere de udviklingsprojekter som beskrives i roadmaps. Herudover er det formålet med partnerskabsmøderne at få skabt kompetente konsortier (mellem flere udviklere og i samarbejde med anden relevant faglig ekspertise på områderne), der fremadrettet kan drive udviklingsarbejdet vedrørende de prioriterede emne<br>r.",
           2013,
           "Bølge",
           "DanWEC Fonden",
           "Ingen data"
          ],
          [
           "Hydrogen Implementing Agreement \n Formålet med deltagelsen i IEA Hydrogen Implementing Agreement er at sikre koordinering af den\nnationale F&U-indsats på brintområdet med den internationale F&U-indsats. Endvidere via deltagelse i\nudvalgte arbejdsgrupper at få tilgang til knowhow og netværk inden for specifikke faglige områder af\nrelevans for den danske udvikling på brintområdet. \n Formålet med deltagelsen i IEA Hydrogen Implementing Agreement (HIA) er at sikre koordinering af den\nnationale F&U-indsats på brintområdet med den international<br>e F&U-indsats. Endvidere via deltagelse i\nudvalgte arbejdsgrupper at få tilgang til knowhow og netværk inden for specifikke faglige områder af\nrelevans for den danske udvikling på brintområdet. Aktiv dansk deltagelse i IEA Hydrogen Implementing\nAgreement sker via: • Deltagelse i Executive Committee (ExCo) • Dansk deltagelse i arbejdsgrupper\n(Tasks) • Formidling og koordinering af resultater fra IEA-arbejdet Deltagelse i Executive Committee der\nafholdes 2-3 to årlige møder i Executive Committee, hvor 1-2 møder afholdes som web-møder. Væsen<br>tlige\nelementer er: Gensidig orientering om nationale resultater og initiativer; Status for igangværende\ntaskarbejde; Godkendelse og igangsættelse af nye tasksamarbejder; Samarbejde med øvrige IEA\nImplementing Agreements samt support vedr. hydrogenspørgsmål til IEA Renewable Energy WP og IEA\nkontoret generelt samt endvidere til andre internationale samarbejder vedr. hydrogen. Til generel\ninformation og til brug for diskussion og hvervning af danske task-deltagere udarbejdes og distribueres\nnotater efter hvert Executive Committee møde. DGC<br> udarbejder et afsnit til HIA’s årsrapport om den\ndanske energisektor og danske F&U-aktiviteter på hydrogen- og FC-området. DGC v. Jan K. Jensen er\nefter aftale med Energistyrelsen i 2011 valgt som chairman for HIA i perioden 2011-2014. DGC har deltaget\naktivt i strategiarbejdet (2009-2014) og samarbejdet med andre IEA Implementing Agreements, IEA\nkontoret og andre internationale organisationer vil naturligt blive større i formandsperioden, ligesom der\nbudgetteres med såvel ledelses- som administrative opgaver i forhold til HIA sekretaria<br>tet (USA). DGC\ndeltager aktivt i arbejdsgruppe Large Scale Hydrogen Delivery Infrastructure (Task 28), som blev igangsat\nultimo 2010. De danske gasselskaber finansierer DGC`s deltagelse i arbejdet, idet gasnettet er en af de\nlagermuligheder for brint, som indgår i studiet. Der er p.t. dansk repræsentation i en række arbejdsgrupper\n(tasks) ved hhv: iNANO, Risø-DTU (flere tasks), Haldor Topsøe AS, DGC og H2-logic. DGC arbejder for\naktiv dansk deltagelse i nye tasks. Deltagelse i tasks forudsætter, at deltagerne udfører mindst ½ års taskrele<br>vant\narbejde per år. Task deltagelse er ikke ressource-ansat i denne ansøgning – hverken som honorar\neller som medfinansiering. Formidling og koordinering af resultater fra IEA arbejdet DGC vil aktivt\ninformere relevante danske aktører om IEA’s brintaktiviteter. Formidlingen sker via hjemmeside,\nnyhedsspot og indlæg på temamøder mv. Gasselskaberne følger arbejdet via Gasselskabernes\nsamarbejde om drift og teknik, og der forventes et samarbejde om formidling af IEA arbejdet med\nPartnerskab for Brint og Brændselsceller, som DGC er medlem af<br>.",
           2012,
           "Andet",
           "DANSK GASTEKNISK CENTER A/S",
           "Ingen data"
          ],
          [
           "Standardisering og koordinering af elektrolyseprojekter \n Projektet har for de danske EUDP 11 - I støttede projekter inden for elektrolys<br>e til formål at\nudvikle fælles grundlag for benchmarking, tests og standarder. Koordinering skal sikre en effektiv\nenergiteknologisk udvi<br>kling blandt komponentudviklere, systemintegratorer og producenter og forhindre at der sker unødig dobbeltarbejde blandt potentielle inte<br>ressenter inden for området. \n Projektet har for de danske EUDP 11 - I støttede projekter inden for elektrolyse til formål at\nudvikle fæl<br>les grundlag for benchmarking, tests og standarder. Koordinering skal sikre en effektiv\nenergiteknologisk udvikling blandt komponentudvik<br>lere, systemintegratorer og producenter og forhindre at der sker unødig dobbeltarbejde blandt potentielle interessenter inden for området<br>.",
           2011,
           "Brint og brændselsceller",
           "Partnerskab for brint og brændselsceller",
           "Ingen data"
          ]
         ],
         "hovertemplate": "topics_name=deltagelse - iea - dgc<br>x=%{x}<br>y=%{y}<br>text_br=%{customdata[0]}<br>Bevillingsår=%{customdata[1]}<br>Fælles overordnet teknologiområde=%{customdata[2]}<br>Ansvarlig virksomhed=%{customdata[3]}<br>Fokusområder EUDP=%{customdata[4]}<extra></extra>",
         "legendgroup": "deltagelse - iea - dgc",
         "marker": {
          "color": "#620042",
          "size": 5,
          "symbol": "circle"
         },
         "mode": "markers",
         "name": "deltagelse - iea - dgc",
         "orientation": "v",
         "showlegend": true,
         "type": "scatter",
         "x": [
          2.7979066371917725,
          2.6451804637908936,
          2.802861452102661,
          2.741335391998291,
          2.7456681728363037,
          2.714566469192505,
          2.669963836669922
         ],
         "xaxis": "x",
         "y": [
          5.8225789070129395,
          5.831490993499756,
          5.732154369354248,
          5.800100326538086,
          5.880066394805908,
          5.858225345611572,
          5.930886268615723
         ],
         "yaxis": "y"
        },
        {
         "customdata": [
          [
           "Sustainable Energy Market Integration \n Moderne energisystemer æn<br>drer sig hurtigt på en måde så der skabes større indbyrdes afhæng<br>ighed mellem dem, og andelen af vedvarende energikilder stiger, o<br>g dermed stilles forskellige operativsystemer overfor hinanden og<br> nye forsyningsstrategier må udvikles. Formålet med projektet er <br>at undersøge energimarkedet med henblik på de integrerede energis<br> \n ",
           2017,
           "Smart Grid og systemer",
           "Syddansk Universitet",
           "Ingen data"
          ],
          [
           "Effektiv Power2Gas ved kombination af electrolyse og forgasnin<br>g af biomasse \n Det fremtidige danske el-system vil være baser<br>et på vedvarende energi, hvilket kræver energilagring i stor s<br>kala. Projektet vil lagre elektricitet i form af metan ved at <br>udvikle en effektiv Power2Gas-løsning baseret på optimal integ<br>ration af elektrolyse, forgasning af biomasse og metanering. \n<br> ",
           2017,
           "Smart Grid og systemer",
           "DTU Energy Conversion and Storage",
           "Ingen data"
          ],
          [
           "Økonomisk el lagring i fremtidens energisystem \n Projektets formål<br> er at understøtte udviklingen af fremtidens energisystem baseret <br>på 100% vedvarende kilder. Dette gøres ved at udvikle en omkostnin<br>gseffektiv og skalerbar elektrolyseteknologi som gør det muligt at<br> omdanne overskydende el til energibæreren brint som kan lagres og<br> senere konverteres til syntetisk brændstof eller tilbage til el. <br>\n ",
           2017,
           "Smart Grid og systemer",
           "DTU Energy Conversion and Storage",
           "Ingen data"
          ],
          [
           "Sun Charge \n Projektets formal er at udvikle og de<br>monstrere en løsning til hurtigladning af elbiler <br>med lokalt produceret el. Dette vil spare store in<br>vesteringer i udvidelse af elnettet, særligt i omr<br>åder hvor elnettet i dag ikke kan understøtte de s<br>tore strømkrav der er til hurtigladning af elbiler<br>. \n ",
           2017,
           "Energieffektivitet",
           "Heliac",
           "Ingen data"
          ],
          [
           "Renewable FlowStorage \n Hovedformå<br>let med Renewable FlowStorage (RFS<br>) projekt er at udvikle og lave fe<br>ltforsøg med et vanadium redox flo<br>w batteri (VRFB) til lagring af el<br> til professionelle bruger med PVs<br>. \n ",
           2015,
           "Sol",
           "Fre3nergy",
           "Ingen data"
          ],
          [
           "I-REMB – Innovative re-making of markets \n <br>Der er et gap mellem de politiske ambitione<br>r for om at udvikle et vedvarende energisys<br>tem baseret på vindkraft og de organisatori<br>ske, reguleringsmæssige og markedsmæssige r<br>ammer, der kan understøtte denne udvikling.<br> \n ",
           2016,
           "Andet",
           "Aalborg Universitet (Fredrik Bajers Vej)",
           "Ingen data"
          ],
          [
           "EBC - Annex 64: ”LavEx Samfund” \n Formålet er at udvikle helheds<br>orienterede løsninger baseret på exergi principper anvendt på re<br>gionale niveauer. Forskellige typer af forsyningssystemer kræver<br> forskellige forsyningstemperaturer. For at opnå maksimale outpu<br>t fra forskellige primære energi flow kan\nforsyningstemperaturer<br>ne sammensættes alt afhængigt at bygnings typologi og teknologi.<br> \n ",
           2014,
           "Energieffektivitet",
           "Danmarks Tekniske Universitet (DTU)",
           "Ingen data"
          ],
          [
           "Fremtidens lager for vedvarende energi \n<br> Projektets formål er at fastlægge og de<br>monstrere i hvor høj grad gasdistributio<br>nssystemet kan anvendes som infrastruktu<br>r og lager for et energisystem, som – he<br>lt eller delvist – er baseret på hydroge<br>n. \n ",
           2013,
           "Brint og brændselsceller",
           "DANSK GASTEKNISK CENTER A/S",
           "Ingen data"
          ]
         ],
         "hovertemplate": "topics_name=energisystem - el - baseret<br>x=%{x}<br>y=%{y}<br>text_br=%{customdata[0]}<br>Bevillingsår=%{customdata[1]}<br>Fælles overordnet teknologiområde=%{customdata[2]}<br>Ansvarlig virksomhed=%{customdata[3]}<br>Fokusområder EUDP=%{customdata[4]}<extra></extra>",
         "legendgroup": "energisystem - el - baseret",
         "marker": {
          "color": "#1616A7",
          "size": 5,
          "symbol": "circle"
         },
         "mode": "markers",
         "name": "energisystem - el - baseret",
         "orientation": "v",
         "showlegend": true,
         "type": "scatter",
         "x": [
          1.9481579065322876,
          2.1332881450653076,
          2.0716400146484375,
          1.9258947372436523,
          1.8481954336166382,
          1.9139975309371948,
          1.75124990940094,
          1.975331425666809
         ],
         "xaxis": "x",
         "y": [
          6.993758678436279,
          7.332636833190918,
          7.1454997062683105,
          7.052342414855957,
          7.133569717407227,
          6.986390590667725,
          7.116947650909424,
          7.199177265167236
         ],
         "yaxis": "y"
        },
        {
         "customdata": [
          [
           "Energirenovering med PVT, Smart Grid styring og energilagring - ERPSGEL \n Formålet med projekte<br>t er at udvikle og demonstrere en samlet energirenovering af en offentlig bygning, der integrer<br>er SMART GRID / SMART ENEGY og energilagring. Ved at implementere løsningen i et aktuelt renove<br>ringsprojekt opnås konkrete resultater med denne samlede løsning. Disse erfaringer vil b.la. væ<br>re et vigtigt bidrag til den kommende udvikling af ”Danmarks fleksible energisystem” der er af <br>nøgleområderne for den nye Energi kommission, nedsat af Energi-, forsyning- og klimaministeriet<br>. \n ",
           2016,
           "Sol",
           "Cenergia Energy Consultants",
           "Ingen data"
          ],
          [
           "eRCV - energieffektivt elektrisk renovationskøretøj<br> \n Formålet med eRCV projektet er at udvikle og dem<br>onstrere et koncept for et innovativt fuldelektrisk<br> tungt (op til 26 tons totalvægt) renovationskøretø<br>j (RCV), som er specifikt designet til optimal, ene<br>rgieffektiv og miljøvenlig anvendelse i byområder. <br>\n ",
           2016,
           "Energieffektivitet",
           "Banke Electrotrans ApS",
           "Ingen data"
          ],
          [
           "Evaluering af indlejret energi og CO2 fra byggematerialer, udvidelse \n Formålet med projektet er at arbejde med indlejret energi og udledning af drivhusgasser ved produktion af byggematerialer for bygninger sammen med en række internationale samarbejdspartnere i IEA regi. Projektets formål er at udvikle en solid vide<br>n på området, samt udvikle en vejledning for hvorledes dette kan evalueres og identificere fremgangsmåder for hvorledes dette kan reduceres i byggeriet. \n Formålet med nærværende projekt er at arbejde med indlejret energi og udledning af drivhusgasser ved produktion af byggematerialer for bygninger sammen med en rækk<br>e internationale samarbejdspartnere i IEA regi. Projektets formål er således, at: \n-\tUdvikle en solid viden om indlejret energi i bygninger og udledning af drivhusgasser ved produktion af byggematerialer. \n-\tUdvikle vejledning over metoder for hvorledes indlejret energi i bygninger og udledning af drivhusgasser evalu<br>eres.\n-\tIdentificere fremgangsmåder for bygningsdesign med lavere indlejret energi i bygninger og udledning af drivhusgasser ved produktion af byggematerialer. \nProjektet gennemføres som et 3-årigt forløb med start 01.07.2012 og afslutning 30.06.2015. Danmark vil indgå som subtask-leder for subtask 4, samt indgå som <br>almindelig projektdeltager i øvrige subtasks. \nProjektet forventes at generere en øget viden for Danmark omkring indlejret energi i bygninger og udledning af drivhusgasser ved fremstilling af byggematerialer, som forventes at kunne få en øget betydning i fremtidige danske bygningsreglementer. Her henvises også til de<br>n nye europæiske byggevareforordning (CPR), de europæiske standarder under TC 350 og EU Roadmap for ressourceeffektiv Europa, hvor livscyklusvurdering af byggerimaterialer og bygninger for øget fokus – og herunder indlejret energi og udledning af drivhusgasser. \nProjektet er en udvidelse af EUDP projekt nr. 64012-013<br>3.",
           2013,
           "Energieffektivitet",
           "BUILD - Institut for Byggeri, By og Miljø - AAU CPH",
           "Ingen data"
          ],
          [
           "Energieffektive belysningsløsninger ved renoveringer \n Projektet har til formål at deltage i Task 50 <br>under IEA-SHC om belysningsløsninger ved renoveringer. \n Projektet skal deltage i den nye Task 50 und<br>er IEA-SHC. Formålet med det nye IEA Task er at identificere energieffektive belysningsløsninger og p<br>rincipper til at forbedre dagslysudnyttelsen ved renovering af bygninger. Danske virksomheder, bygher<br>rer og beslutningstagere vil have stor gavn af det internationale samarbejde, fordi der herigennem sk<br>abes dokumentation for succesrige energieffektive belysningsrenoveringer med store økonomiske gevinst<br>er.",
           2012,
           "Energieffektivitet",
           "Aalborg Universitet (Fredrik Bajers Vej)",
           "Ingen data"
          ],
          [
           "Omkostningseffektiv Energi- og CO2-emissions-optimering \n Fortsat dansk deltagelse i IEA Annex 56. I den oprindelige ansøgning blev der søgt midler til de første 2 år,\nså der søges hermed midler til de sidste 27 måneder. Formålet er at udvikle værktøjer, retningslinjer,\nanbefalinger mv. for relevante parter til omkostningseffektiv minimering af CO2-emission og energiforbrug i\neksisterende bygninger. \n Formålet er at fremskynde omfattende energirenovering af de eksisterende bygninger i Danmark og resten\naf verden. For at nå dette er 4 delmål blevet ident<br>ificeret: • Udvikling af en ny metode som grundlag for\nfremtidige standarder, som muliggør omkostningseffektiv renovering af eksisterende bygninger mod næstennul-\nenergi og -emissioner. • Udvikling af værktøjer, retningslinjer, anbefalinger, best-practice eksempler\n(case studies), for politiske beslutningstagere, designere, brugere, ejere og initiativtagere • Anvendelse af\nen bredere strategi, der går ud over energieffektivitet og samtidig fokuserer på den samlede værditilvækst\nopnået i energirenoveringprocessen, f.eks. gennem bedre termisk komfort, nat<br>urlig belysning, indendørs\nluftkvalitet, større etageareal, etc, Derudover vil også den totale forbedring af bygningen samt de\ntotaløkonomiske konsekvenser analyseres i et cost/benefit perspektiv • Direkte link fra IEA til målgruppen\ngennem let tilgængeligt sprog og værktøjer, der formidler fordele, men også problemer og risici forbundet\nmed vidtgående energirenovering. Vigtigste aktiviteter i arbejdet i IEA Annex 56 har 4 subtasks: Subtask A -\nMetode Udvikling af en metode til at definere standarder for energirenovering, der kan tilpasses og\nanvendes a<br>f forskellige lande med forskellige vilkår. Subtask B - Værktøjer Udvikling af modulære og\nfleksible værktøjer, med forskellige niveauer af kompleksitet samt en renoveringsvejledning. Subtask C -\nCase Studies Case-studier vil blive brugt som kilder til relevante tekniske oplysninger og til vurdering af den\nforeslåede metode, idet udvalgte eksempler analyseres detaljeret. Subtask D - Bruger Accept og formidling\ni) Brugernes accept ii) Formidling af resultaterne til målgruppen. Forventede resultater Følgende resultater\nforventes: • En metode til at fastlæ<br>gge standarder for energirenovering af bygninger • Fleksible redskaber\nog retningslinjer for brugere, ejere, initiativtagere, designere og politiske beslutningstagere •\nKommenterede succesfulde case-studies hvor merværdien fremhæves • En renoveringsvejledning, baseret\npå omkostningseffektive løsninger og på et koncept om optimal værdi I den oprindelige ansøgning blev der\nansøgt om midler til deltagelse i første halvdel af det internationale projekt. Der ansøges hermed om midler\ntil de sidste 27 måneder inklusive indeklimaundersøgelse i boligbebyggelsen <br>Traneparken. Dansk\ndeltagelse i og bidrag til IEA Annex 56 er vigtig, da det forventes at føre til omfattende energirenovering af\nden eksisterende bygningsmasse og det vil dermed bidrage til at nå energipolitiske mål. Endvidere kan\nresultatet af projektet danne grundlag for et fremtidigt EU-direktiv om bygningers energimæssige ydeevne\nfor eksisterende bygninger. Cenergia Energy Consultants er co-leader i subtask C, dvs en del af\nledelsesteamet, og kan dermed medvirke til at sikre den bedst mulige relevans af projektets aktiviteter og\nresultater for Danm<br>ark.",
           2012,
           "Energieffektivitet",
           "Aalborg Universitet (Fredrik Bajers Vej)",
           "Ingen data"
          ],
          [
           "Formidling af forskningsresultater \n Deltagelse i IEA-aftalen Energy Data Technology Exchange (ETDE) medvirker til at formidle dansk\nenergiforskning og -udvikling via ETDE World Energy Base. Endvidere etableres en web-portal med nem\nadgang til danske energirapporter og anden litteratur for at styrke formidlingen af dansk energiforskning og -\nudvikling både i Danmark og internatio<br>nalt. \n Det overordnede formål er, at formidle resultaterne af dansk energiforskning og -udvikling ved at give gratis\nog nem adgang til rapporter og anden litteratur publiceret af danske institutioner og firmaer. Formålet\nopnås ved:\n - fortsat at deltage i IEA-aftalen Energy Technology Data Exchange (ETDE) og opfylde\nforpligtelserne i denne aftale. Forpligtelserne vedrører leveri<br>ng af data om danske publikationer til\ndatabasen ETDE World Energy Base \n- ETDEWEB, som er et værktøj til formidling af dansk\nenergiforskning. Dansk medlemskab af ETDE aftalen betyder også at danske firmaer og\nforskningsinstitutioner får adgang til at finde publikationer om energi F&U i andre lande \n- yderligere at styrke formidlingen ved at give gratis og nem adgang for alle i h<br>ele verden til danske forskningsresultater.\nDette sker ved at opbygge en web-portal med oplysninger om rapporter og anden litteratur. Web-portalen\nvil være et værktøj for både danske og udenlandske firmaer og forskningsinstitutioner til at finde resultater\naf den energiforskning og -udvikling der sker i Danmark og dermed medvirke til at formidle kontakt til de\ndanske aktører. Dan<br>mark har deltaget i IEA-ETDE aftalen siden dens oprettelse i 1987, og det danske\ndatahåndteringssystem, der har været anvendt til at kunne levere de korrekte data til ETDE’s database\nETDEWEB, er nu forældet og må erstattes af et nyt system. Der skal derfor etableres et nyt\ndataindsamlings- og databehandlingssystem for fortsat at kunne levere data om dansk energilitteratur til\nETD<br>EWEB. Det nye system vil imidlertid ikke kun være et internt redskab til dataindsamling og -levering,\nmen vil også blive anvendt som basis for en web-portal med data om og direkte adgang til publikationer.\nWeb portalen vil være gratis tilgængelig for alle i hele verden, både ved direkte søgning i portalen og ved at\ngøre portalens data tilgængelige i Google og andre web søgemaskin<br>er.",
           2012,
           "Andet",
           "Danmarks Tekniske Universitet (DTU)",
           "Ingen data"
          ]
         ],
         "hovertemplate": "topics_name=iea - bygninger - indlejret energi<br>x=%{x}<br>y=%{y}<br>text_br=%{customdata[0]}<br>Bevillingsår=%{customdata[1]}<br>Fælles overordnet teknologiområde=%{customdata[2]}<br>Ansvarlig virksomhed=%{customdata[3]}<br>Fokusområder EUDP=%{customdata[4]}<extra></extra>",
         "legendgroup": "iea - bygninger - indlejret energi",
         "marker": {
          "color": "#DA60CA",
          "size": 5,
          "symbol": "circle"
         },
         "mode": "markers",
         "name": "iea - bygninger - indlejret energi",
         "orientation": "v",
         "showlegend": true,
         "type": "scatter",
         "x": [
          1.701629400253296,
          1.7242096662521362,
          1.7538070678710938,
          1.8698114156723022,
          1.786063551902771,
          1.7693160772323608
         ],
         "xaxis": "x",
         "y": [
          5.600363731384277,
          5.884400367736816,
          5.8316779136657715,
          5.767462730407715,
          5.965865135192871,
          6.004690647125244
         ],
         "yaxis": "y"
        },
        {
         "customdata": [
          [
           "Tynd efterisolering til efterisolering af bygninger \n Pr<br>oof of concept udvikling af efterisolerings materiale\n• <br>Med 5-10 gange bedre lambdaværdi\n• Kun 1 cm tykkelse så <br>man undgår at flytte el-kontakter, radiator og ændre vin<br>dueskarme\n• Let og hurtig gør det selv montering\n100 mil<br>liarder m2 uisoleret klimaskærm venter på denne opfindel<br>se \n ",
           2015,
           "Energieffektivitet",
           "Create.dk",
           "Ingen data"
          ],
          [
           "EUDP 2015 Særpilje BIPV, Ny BIPV Teknologi \n Det forslåede EUDP<br> projekt gennemføres i forlængelse af andre igangværende EUDP-B<br>IPV projekter med det formål at udvikle fuldskala demonstration<br>en og afprøvning af optimerede BIPV løsninger og montage løsnin<br>ger i samspil med en helt ny generation BIPV produkt, som kan f<br>ås i mange farver inkl. hvid og med en effektivitet over 10%. \n<br> ",
           2015,
           "Sol",
           "Cenergia Energy Consultants",
           "Ingen data"
          ],
          [
           "Det bæredygtige ovenlysvindue \n Projektet udvikler et avanceret<br> tagvindue til Nord og Centraleuropa, primært til fremtidens re<br>noveringsopgaver til den eksisterende boligmasse. Vinduet bring<br>er lys og friskluft til boligen uden energitab set over hele op<br>varmningsperioden. Bæredygtighed er nøgleordet også i fremstill<br>ing af vinduet. Konceptet kan på sigt udnyttes til facadevindue<br>r \n ",
           2015,
           "Energieffektivitet",
           "VELUX DANMARK A/S",
           "Ingen data"
          ],
          [
           "CleanTechBlock 2 – Energibesparende facadebeklædning \n Projektets v<br>ision er at udvikle og dokumentere en vægløsning, som opfylder bygn<br>ings-reglementet 2020 og som samtidig fremstår som en æstetisk attr<br>aktiv mur med lang levetid. Ideen i projektet er at bygge huse med <br>præfabrikeret vægblokke, der består af celleglas sat sammen mellem <br>to mursten. Husmuren vil være brandsikker og total vand- og vindtæt<br>. \n ",
           2015,
           "Energieffektivitet",
           "Gråsten teglværk",
           "Ingen data"
          ],
          [
           "Low cost Active House BIPV \n Det er målet i “Low Cost Active <br>House BIPV projektet at realisere en demonstrationskampagne m<br>ed 3 MWp prisbillige BIPV løsninger i relation til lavenergik<br>lasse 2020, energi neutralt og plus energi nybyggeri og genne<br>mgribende renovering med samtidig fokus på elbesparelser, ”pe<br>rformance documentation” og Active House specifikationerne. \n<br> ",
           2015,
           "Sol",
           "Gate 21",
           "Ingen data"
          ],
          [
           "Bygnings Adapteret Sol Energi \n Formålet er ar udvikle en priseffektiv højtydende BIPV løsning, der kan skræddersyes til unikke bygningskrav, med fokus på etage ejendomme i bymiljø. En supplerende forretningsmodel vil blive udviklet sideløbende for at sikre behovsopfyldelse hos slutkunden, samt <br>skabe services til interessenter i værdikæden, som muliggør og styrker markedet. \n Målet med dette projekt er at adressere det store potentiale for integration af solenergi i høj og tæt bebyggelse, ved at bruge København som demonstrations område for en ny innovativ og omkostnings effektive BIPV<br> systemløsninger. \nDen udviklede løsning vil kunne tilbyde bygningsejerne; 1) Et overblik over PV potentialet, som klarlægger mulighederne for æstetik, giver et økonomisk perspektiv, skaber et overblik over multifunktionalitet og integrations mulighederne – som i sidste ende er baggrunden for et<br> solidt beslutningsgrundlag for investering i solceller. 2) En billigere og mere omkostningseffektiv PV-løsning, med reducerede omkostninger til system-processer (BoS) og en forretningsmodel til den specifikke bygningsejer af enten; boligforeninger, kontorbygninger eller offentlige bygninger, so<br>m, i høj grad, kan skabe skræddersyede løsninger, som medfører bedre investeringer i relation til æstetik og økonomi. \nProdukterne på markedet for BIPV, i Danmark, har og kan på nuværende tidspunkt kategoriseres ved en begrænset mængde af turnkey løsninger og få med komplet kundetilpassede løsni<br>nger. Flere faktorer har været barrierer for at få accepteret og brugt BIPV løsninger generelt. Hertil kan nævnes, højere produktionsomkostninger, udfordrende at integrere i eksisterende byggerier, mangel på information og redskaber som kan hjælpe arkitekter og ingeniører til at sælge idéen om B<br>IVP.",
           2013,
           "Sol",
           "GAIA SOLAR A/S",
           "Ingen data"
          ],
          [
           "Nordic Built - Genbrug af bygningskomponenter \n Projektet udforsker ved hjælp af 1:1 modeller en ny praksis for anvendelse af genbrug fra nedtagne bygningskomponenter med henblik på at udvikle metoder til at håndtere, organisere, udbyde og forhandling af byggematerialer, der bliver til overs efter nedrivning og renovering.\nMålet er at stimulere markedet for genbrug af byggematerialer, spare energiressourcer, skabe nye forretningsmodeller og fremelske ny arkitektonisk identitet. \n Projektet vedrører 'bagsiden' af renove<br>ringsprojekterne: Materialespildet. Når der opstår byggeaffald i \nkølvandet på en renovering, repræsenterer det et potentielt tab af hele tre forskellige typer ressourcer, nemlig økonomiske, energimæssige og kulturelle. Med den nuværende praksis for bygningsrenovering mistes alt for mange af disse i processer, hvor materialerne nedbrydes til en meget lavere anvendelsesgrad. I forbindelse med de nye certificeringssystemer som DGNB-DK og BREEAM -NOR er livscyklusvurdering (LCA) på vej til at blive en integreret del af rå<br>dgivningsvirksomhedernes designpraksis. Herigennem kvantificeres og synliggøres de indlejrede ressourcer i materialer og komponenter, ophobet igennem livscyklusprocesser som råstofudvinding, industriel forarbejdning, \nopførelse, drift og vedligeholdelse. Livscyklusforståelsen tilf0jer nye parametre til repertoiret for bæredygtigt byggeri, som primært har været ensidigt fokuseret pa at nedbringe energiforbruget til drift. De nordiske lande følger i dag alle en meget effektiv praksis for nedrivning, hvor byggeaffald sepa<br>reres omhyggeligt, og mængden af restaffald minimeres. Imidlertid medf0rer denne praksis i næsten alle tilfælde, at komponenterne nedbrydes til et meget lavt niveau for potentiel genanvendelse, f.eks. til forbrænding eller nedknusning til sekundært råstof for ny materialeproduktion. Kun en forsvindende del af de nedtagne bygningskomponenter genanvendes i en tilsvarende funktion eller til andre formal uden omfattende nedbrydning. Herved mistes energi, økonomisk værdi, og undertiden også æstetisk, historisk, kulturel vær<br>di.\nProjektet sigter i mod at cendre denne praksis til fordel for en bedre udnyttelse af genbrugspotentialet er, \nved at:\n1. Demonstrere praktiske principper for genanvendelse af nedtagne produkter; nedtagning, håndtering, \nafrensning, sortering, oparbejdning, oplagring, distribution og salg.\n2. Demonstration af principper for at inddrage genbrugte komponenter i projekteringsarbejdet, herunder at anvende reversible konstruktionsprincipper.\nDet er således hensigten, at producer et stort antal løsninger på prototype-nive<br>au, som tilsammen \nbeskriver, hvorledes man kan systematisk oparbejde nedtagne bygningsdele til nye produkter med \nen kvalitet og en tilgængelighed på markedet, der gør det muligt, at 'regne' med dem i projekteringen. Derfor udforsker projektet projekteringsmader og udbudsbeskrivelser, der er fleksible, f.eks. i forhold til formater og dimensioner. I denne forbindelse vil løsninger på de forskellige udfordringer, f.eks. miljømæssige og økonomiske, i forbindelse med oparbejdning af komponenter blive afsøgt og beskrevet.",
           2013,
           "Energieffektivitet",
           "Vandkunsten AS",
           "Ingen data"
          ],
          [
           "Det Ny Tag \n ”Det Ny Tag” er en helhedsorienteret ny tilgang til at opnå det multifunktionelle og energihøstende tag til brug for renoveringer og nybyggeri. Det udvikles i en tværfaglig integreret designproces, hvor der udvikles et markedsorienteret systemprodukt, som fleksibelt og æstetisk kan tilpasses eksisterende og nye bygninger. \n Solcelleanlæg ødelægger i mange tilfælde arkitekturen!\n\nVi ser i dag mange energirenovering<br>er med påsatte eller integrerede energianlæg i eksisterende tagflader. Ofte ser det grimt ud! Specielt visuelt problematisk ved saddeltage / mansardtage / københavnertage. Det er løsninger som ofte er stærkt skæmmende for arkitekturen. \nSom samarbejdspartner på fremstillingssiden i denne EUDP-BIPV ansøgning indgår firmaet Komproment/Nordic Energy Group, som allerede har en bygningsindpasset solcelleløsning i sortimentet. Udgan<br>gspunktet for Komproment/ Nordic Energy Group er at være leverandør af samlede tagløsninger. Den eksisterende BIPV løsning de har er tilpasset en lang række af de mest almindelige tegltyper til tage, samtidig med at man også kan indpasse en termisk solfangerløsning i porteføljen baseret på lignende principper.\n\nDer er dog behov for at udvikle nye BIPV løsninger der blandt andre ting er billigere ved bl.a. ved at bestå af præfa<br>brikerede elementer, men hvor der også indgår andre værdimæssige elementer som god æstetik, materialekvalitet i et teknisk kredsløb samt tilpasningselementer i forhold til alle de ting et energitag skal kunne klare i fremtiden. Her nævnes i flæng - tilgang af dagslys, håndtering af ventilationsforhold, fornuftig relation til andre tagmaterialer og ikke solbeskinnede tagflader, god tæthed med minimale krav til vedligehold inkl.<br> enkel udskiftning af delkomponenter, indbygget mulighed for vandafledning, en bred pallette vedr. farver og tekstur og endelig fokus på komponenter med et minimum af indlejret energi, som er fleksible, genanvendelige og så vidt muligt ”Cradle to Cradle” certificerede. Af denne grund er det besluttet at inddrage firmaet ”Vugge til Vugge” i udviklingsarbejdet vedr. ”Det Ny Tag”, så man kan sikre en samlet miljøoptimeret løsning<br>.\n\n For at sikre det grundlæggende udviklingsarbejde er det desuden aftalt at alliere sig med en af de førende design virksomheder i Danmark, ”Designit”, og yderligere tilknytte en række aktører med stor erfaring dels på BIPV området og dels inden for udvikling af lavenergibyggeriet og kommunikation vedr. dette marked.\n\nDer foreslås derfor gennemført et EUDP-BIPV projekt rettet mod udvikling af fremtidens aktive tag, Det Nye T<br>ag.",
           2013,
           "Sol",
           "CENERGIA PROJEKT ApS",
           "Ingen data"
          ],
          [
           "Energirigtig komfort i ældre etageboliger \n EUDP projektet for Rye<br>sgade 30 viste, at det er muligt at renovere den ældre boligmasse <br>til nutidig standard uden at gå på kompromis med arkitektoniske væ<br>rdier. Dette projekt vil med inddragelse af en vifte af leverandør<br>er med nye produkter og partnere fra branchen understøtte, at de u<br>dviklede renoveringsprincipper modnes til et markedsgennembrud. \n ",
           2013,
           "Energieffektivitet",
           "Danmarks Tekniske Universitet (DTU)",
           "Ingen data"
          ],
          [
           "Nordic Built: Aktive tage og facader som led i bæredygtig ren<br>overing \n Vision for det foreslåede projekt er , at ”Aktive t<br>age og facader” kan udvikles til et samlet stærkt nordisk tek<br>nologiområde inden for energirenovering. Projektet er et Nord<br>ic Built projekt med partnere fra Sverige, Norge, Island og F<br>indland. Danmark varetager den overordnede projektlederrolle.<br> \n ",
           2013,
           "Energieffektivitet",
           "CENERGIA PROJEKT ApS",
           "Ingen data"
          ],
          [
           "Bæredygtig energirenovering af murede facader i etageejendomme \n Formålet er at muliggøre en effektiv energirenovering af de ældre murede facader med respekt for teglarkitekturen og med optimering af indeklima. Materialer og koncept skal sikre facadens æstetiske kvaliteter og robusthed, således at boligens og <br>bymiljøets kvaliteter bevares eller forbedres. Fokus er på murede etageejendomme opført i 1930-1980. \n Målet er at udvikle en metode til bæredygtig energirenovering af de ældre murede facader med respekt for arkitekturen. Løsningen skal sikre facadens æstetiske kvaliteter og robusthed, således at boligens og b<br>ymiljøets kvaliteter bevares eller forbedres. Fokus er på murede etageejendomme opført i 1930-1980.\nMålet for det energiteknologiske udbytte er en potentiel besparelse på i alt 2 PJ frem mod 2020. Målet for det kommercielle udbytte er, at det eksisterende renoverings- og vedligeholdelsesefterslæb, omsættes i f<br>orretning for danske virksomheder, samtidig med at ejendommens værdi bevares eller øges. \nKonceptet er baseret nedrivning af den eksisterende formur. Der opføres herefter en ny slank klimaskærm af tegl, som giver plads til mere isolering, idet man som udgangspunkt ”bliver” på den eksisterende sokkel, og kun øg<br>er facadetykkelsen minimalt. \n\nArbejdsprogram:\n- Vurdering af egnede ejendomme og deres kulturarvsværdi (kan facaden nedrives)\n- Statiske forhold og afstivning mens facademuren nedrives\n- Proces. En rationel, evt. successiv fremgangsmåde skal udvikles\n- Totaløkonomi. Ud over udgiften til renovering indgår frem<br>tidigt vedligehold, ejendomsværdi, energibesparelser, sparede udgifter til skimmelrenovering samt bymiljø\n\nDer gennemføres afprøvning af konceptet på en egnet etageejendom udpeget af AAB i samarbejde med arkitekt. Udførelsen følges tæt med bl.a. videodokumentation, måling af effekt og formidling af resultater.",
           2013,
           "Energieffektivitet",
           "Teknologisk Institut",
           "Ingen data"
          ],
          [
           "Vidtgående energirenovering af statslige/offentlige bygninger \n Formålet med Annex 61 er at forbedre beslutningsprocessen for at opnå vidtgående energirenovering af\nstatslige/offentlige bygninger, begyndende med fastlæggelsen pakkeløsninger af teknologier og tilhørende\nforretningsmodeller med kombineret offentlig og privat finansiering. \n Anvendelsesområde: Formålet med Annex 61 er at forbedre beslutningsprocessen for at opnå vidtgående\nenergirenovering af statslige/offentlige bygninger, begynde<br>nde med fastlæggelsen af pakkeløsninger af\nenergibesparende foranstaltninger og tilhørende forretningsmodeller med kombineret offentlig og privat\nfinansiering. Formål: - udvikle en metodik og udvalgte værktøjer og retningslinjer til at reducere\nenergiforbruget (med mere end 50%) og forbedre indeklimaet i statslige og offentlige bygninger - indsamle\nog i nogle tilfælde forske, udvikle og demonstrere innovative og yderst effektive pakkeløsninger af ECMs\n(energy conservation measures) for udvalgte <br>bygningstyper og klimaforhold - udvikle og demonstrere\ninnovative, ressourceeffektive forretningsmodeller for energirenovering af bygninger og grupper af bygninger,\nder anvender egnede kombinationer af offentlig og privat finansiering, såsom ESPC (energy savings\nperformance contract) og andre begreber, der skal udvikles sammen med bygherrer - støtte\nbeslutningstagere i at vurdere effektiviteten, risici, den finansielle tiltrækningskraft, og kontraktlige og\nudbudsrelaterede muligheder i overensst<br>emmelse med de eksisterende nationale retlige rammer - involvere\nslutbrugerne, primært bygningsejere og andre markedsdeltagere i sagen og anneksets arbejde.\nDelopgaver: Subtask A: Forberede og evaluere casestudies på allerede gennemførte projekter med\nvidtgående energirenovering, samt udvikle en vejledning så der kan opnås økonomisk attraktive forhold i\nforbindelse med vidtgående energirenovering. Subtask B: Udvikle forretningsmodeller for vidtgående\nenergirenovering af bygninger og grupper af b<br>ygninger ved hjælp af kombinerede statslig/offentlig og privat\nfinansiering. Subtask C: Demonstrere udvalgte vidtgående energirenoveringskoncepter hvor der er anvendt\nkombineret statslig/offentlig og privat finansiering samt forberede casestudies. Delopgave D. Udvikle et ITværktøj\ntil beslutningstagere og energitjenesteselskaber der kan fastlægge lav-risiko tilgange i den tidlige\ndesign- og beslutningsfase. Resultater: Alle subtasks vil levere materiale til det overordnede Annex, som vil\nindehol<br>de, men ikke begrænses til en: • \"Guide til vidtgående energirenovering af bygninger og grupper af\nbygninger\", • \"Forretningsmodel til vidtgående energirenovering/ombygning af bygninger og grupper af\nbygninger ved hjælp af kombinerede statslig/offentlig og privat finansiering,\" og • \"Beskrivelse af\nresultaterne af flere realiserede projekter og casestudies der viser hele eller en del af den udviklede model\nfor vidtgående energirenovering med kombineret statslig/offentlig og privat finansiering.\"",
           2012,
           "Energieffektivitet",
           "Aalborg Universitet (Fredrik Bajers Vej)",
           "Ingen data"
          ],
          [
           "Nyt koncept til energirenovering murede facader \n Projektet vil udvikle og demonstrere et nyt koncept til at energirenovere murede facader på parcelhuse med\ntegl, så isoleringsevnen lever op til Bygningsreglementets krav fra 2015. Prisen skal være attraktiv og facadens arkitektoniske kvaliteter<br> og robusthed skal bevares. \n Projektets formål er at udvikle, demonstrere og dokumentere et nyt koncept til energirenovering af murede facader med tegl, så isoleringsevnen bringes op på BR 2015 niveau, samtidig med at facadens robusthed, dimensioner og arkitektoniske kvaliteter bevares. Projek<br>tets målgruppe er parcelhuse fra 1960-80, men konceptet vil kunne anvendes langt bredere. \nKonceptet baserer sig på nedrivning af den eksisterende formur, hvorefter der opføres en ny, slank formur, hvilket giver plads til mere isolering, uden at murtykkelsen øges. Den nye isolering udføres med <br>højeffektive isoleringsmaterialer, hvorved U-værdien reduceres kraftigt. Det tekniske koncept udvikles mht. beregninger, praktiske løsninger, udførelse etc., herunder de seneste nyudviklede løsninger for murværk.\nPå et parcelhus inden for målgruppen bliver der gennemført et demonstrationsprojek<br>t, hvor processen følges tæt med dokumentation af udførelse, måling af effekt og formidling af resultater. Demonstrationsprojektet danner udgangspunkt for videre markedsføring og udbredelse af konceptet til hånværksvirksomheder og brugere.\nDet samlede koncept vil reducere forbruget af varmeener<br>gi for den enkelte husejer med en årlig besparelse i størrelsesorden 3-10.000 kr., dertil kommer øget komfort og værdi af huset.\nI perioden 1960-80 blev der opført ca. 450.000 parcelhuse, og det forventes, at der inden for en 5-årig periode fra projektets afslutning kan opnås et marked på ca. 1<br>/3.",
           2012,
           "Energieffektivitet",
           "Teknologisk Institut",
           "Ingen data"
          ],
          [
           "Danmarks første passivhus-renovering af boligblokke \n COWI A/S og gruppen af projektdel<br>tagere vil i projektet forlænge et etagebyggeris levetid. Dette skal bidrage til at for<br>bedre etagebyggeriet til lavenergiklasse eller ombyg byggeriet til passivhus standard. <br>\n Projektet skal levetidsforlænge et etagebyggeri, så boligerne forbedres til lavenergi<br>klasse eller passivhus standard. Det skal gennemføres med bæredygtige og holdbare løsni<br>nger, hvis omkostninger er begrænsede i forhold til en løsning efter gældende minimumsk<br>rav.",
           2008,
           "Energieffektivitet",
           "COWI A/S",
           "Ingen data"
          ],
          [
           "Klimaskærmsrenovering af eksisterende bygninger \n Projektet har udviklet systemløsninger til at efterisolere klimaskærmen på eksisterende bygninger.  Dette renoveringsarbejde kan hjælpe husejere med design og beslutningsproces, som også inkluderer konkrete forslag til totalrenovering og pristilbud. Løsningerne og metoder<br>ne er blevet demonstreret på tre typiske parcelhuse, som repræsenterer 500.000 huse opført i perioden 1960-1980. Demonstrationsfasen skulle give svar på, om klimaskærmsrenovering baseret på de udviklede løsninger og metoder, praktisk kan lade sig gøre med en stor æstetisk kvalitet, et rimeligt budget og en stor energibes<br>parelse. \n Projektets formål er at udvikle systemløsninger til vidtgående efterisolering og lufttætning af klimaskærmen i forbindelse med renovering af eksisterende bygninger, samt udvikle metoder til udarbejdelse af pakkeløsninger, der kan hjælpe husejere med design og beslutningsproces inkl.  konkret forslag til totalr<br>enovering og pristilbud. De udviklede løsninger og metoder demonstreres på tre typiske parcelhuse, som repræsenterer 500.000 huse opført i perioden 1960-80, der skal vise at klimaskærmsrenovering kan udføres med stor æstetisk kvalitet, en rimelig økonomi og stor energibesparelse. Udvikling af løsninger til eksisterende 1<br>960/70'er parcelhuse vil være et særligt indsatsområde i projektet og vil blive lagt til grund for projektets demonstrationsdel. Husene er efterhånden blevet 30-50 år gamle og står over for renovering/udskiftning af de basale bygningsdele: tag, vinduer og ydervægge. De er populære og de bærende konstruktioner er generelt<br> i god stand, så nedrivning og nyopførelse er ikke oplagt. Disse boliger udgør et stort energisparepotentiale og det vil være afgørende for enhver klimasatsning, at samfundet fremmer en indsats over for disse bygninger. Løsninger til 60/70'er huse vil i betydelig grad også være relevante til bygninger af anden type og al<br>der",
           2009,
           "Energieffektivitet",
           "Danmarks Tekniske Universitet (DTU)",
           "Ingen data"
          ],
          [
           "Renovering af ældre etageboliger til lavenergiklasse 1 \n COWI A/S og gruppen af projektdeltagere vil udvikle og demonstrere energirenoverende løsninger til etageboliger. Projektmålet er at skære i energiforbruget for etageboliger opført før 1960, så de bliver klassificeret som lavenergiklasse 1 bygninger. Etageejendomme fra hhv. 1896 og 19<br>30 er inddraget i demonstrationsfasen. Projektdeltagerne vil vha. deres konkrete løsninger analysere de målte energibesparelser på ejendommene. Sidste skridt er at udfærdige løsningsforslag for bygninger opført før 1960. \n Formålet med projektet er at udvikle og demonstrere konkrete løsninger til energirenovering af klimaskærm, installatio<br>ner og forsyning, som tager særlig højde for de arkitektoniske og byggetekniske vilkår, der er for etageboliger opført før 1960, svarende til ca. 600.000 lejligheder.  Disse er opført i murværk med etagedæk og tagkonstruktioner i træ indtil 1930erne, hvor etagedæk gradvist overgik til at være udført i beton. Facadernes udtryk på disse bygn<br>inger ønskes som oftest ikke ændret. som det sker ved udvendig efterisolering. Samtidig giver anvendelse af træ særlige byggetekniske udfordringer. De udviklede løsninger demonstreres i fuld skala på to demonstrationsprojekter på en ejendom fra 1896 og en fra 1930.  Konceptudviklingen forventes at resultere i helhedsløsninger med forskelli<br>ge kombinationer, teknologier og komponenter til klimaskærm og installationer. På demonstrationsejendommene kan de beregnede energibesparelser og øvrige forbedringer sammenholdes med de faktisk opnåede og målte. På den ene demonstrationsejendom planlægges desuden en undersøgelse af brugeradfærdens betydning for energiforbrug og indeklima. <br> Demonstrationsejendommene kan med ''eksemplets magt'' inspirere andre til at gennemføre tilsvarende renoveringer og danne basis for krav til revision af bygningsreglementet. Desuden kan erfaringeme fra demonstrationsejendommene pege på behov og muligheder for yderligere optimering af koncepterne for energirenovering af ældre etageejendomm<br>e",
           2009,
           "Energieffektivitet",
           "COWI A/S",
           "Ingen data"
          ]
         ],
         "hovertemplate": "topics_name=bygninger - bipv - løsninger<br>x=%{x}<br>y=%{y}<br>text_br=%{customdata[0]}<br>Bevillingsår=%{customdata[1]}<br>Fælles overordnet teknologiområde=%{customdata[2]}<br>Ansvarlig virksomhed=%{customdata[3]}<br>Fokusområder EUDP=%{customdata[4]}<extra></extra>",
         "legendgroup": "bygninger - bipv - løsninger",
         "marker": {
          "color": "#6C4516",
          "size": 5,
          "symbol": "circle"
         },
         "mode": "markers",
         "name": "bygninger - bipv - løsninger",
         "orientation": "v",
         "showlegend": true,
         "type": "scatter",
         "x": [
          0.5844541192054749,
          1.1394703388214111,
          0.6811211705207825,
          0.5438234806060791,
          1.0932437181472778,
          1.282924771308899,
          0.9742434024810791,
          1.2748528718948364,
          0.8403065204620361,
          0.9657255411148071,
          0.7154781222343445,
          1.3755536079406738,
          0.7315440773963928,
          0.8036965131759644,
          0.8923086524009705,
          0.919211745262146
         ],
         "xaxis": "x",
         "y": [
          5.5427565574646,
          5.587302207946777,
          5.253970146179199,
          5.348266124725342,
          5.57368803024292,
          5.491633892059326,
          5.252811908721924,
          5.385159492492676,
          5.42261266708374,
          5.2476277351379395,
          5.338872909545898,
          5.624632835388184,
          5.325254440307617,
          5.519373416900635,
          5.563522815704346,
          5.545997619628906
         ],
         "yaxis": "y"
        }
       ],
       "layout": {
        "annotations": [
         {
          "showarrow": false,
          "text": "vindmøller - offshore - vindmølle",
          "x": 5.587368965148926,
          "y": 5.288520812988281
         },
         {
          "showarrow": false,
          "text": "varmepumper - varmepumpen - nå",
          "x": 1.1652495861053467,
          "y": 7.97418212890625
         },
         {
          "showarrow": false,
          "text": "biogas - biomasse - halm",
          "x": 3.672070026397705,
          "y": 9.673134803771973
         },
         {
          "showarrow": false,
          "text": "bølgeenergi - foundation - universal foundation",
          "x": 4.182772159576416,
          "y": 6.49636697769165
         },
         {
          "showarrow": false,
          "text": "smart - grid - smart grid",
          "x": 2.057659149169922,
          "y": 5.252996444702148
         },
         {
          "showarrow": false,
          "text": "brint - tankstationer - brint tankstationer",
          "x": 3.695201873779297,
          "y": 8.005064964294434
         },
         {
          "showarrow": false,
          "text": "termoelektriske - tunge - emocrane",
          "x": 2.5406460762023926,
          "y": 7.079132080078125
         },
         {
          "showarrow": false,
          "text": "brændselsceller - brændselscelle - mikrokraftvarme",
          "x": 2.7215957641601562,
          "y": 7.640470027923584
         },
         {
          "showarrow": false,
          "text": "solceller - pv - m2",
          "x": -0.32661351561546326,
          "y": 5.884232521057129
         },
         {
          "showarrow": false,
          "text": "varmepumpe - fjernvarme - lavtemperatur",
          "x": 0.8112908005714417,
          "y": 7.515350341796875
         },
         {
          "showarrow": false,
          "text": "forskel - udvikling - sensor",
          "x": 2.7524147033691406,
          "y": 8.908478736877441
         },
         {
          "showarrow": false,
          "text": "led - lyskilder - belysning",
          "x": -0.21860003471374512,
          "y": 4.310356616973877
         },
         {
          "showarrow": false,
          "text": "varmelagring - utes - køge",
          "x": 1.135019302368164,
          "y": 7.320892333984375
         },
         {
          "showarrow": false,
          "text": "qc - elbiler - bms",
          "x": 2.722200393676758,
          "y": 6.589452743530273
         },
         {
          "showarrow": false,
          "text": "beton - test - hyprovide",
          "x": 3.4512665271759033,
          "y": 7.070031642913818
         },
         {
          "showarrow": false,
          "text": "fjernvarme - lavtemperatur fjernvarme - danske",
          "x": 1.5990313291549683,
          "y": 6.458737850189209
         },
         {
          "showarrow": false,
          "text": "dråbespjæld - køling - ventilation",
          "x": 1.0005111694335938,
          "y": 6.641411304473877
         },
         {
          "showarrow": false,
          "text": "deltagelse - iea - dgc",
          "x": 2.7310690879821777,
          "y": 5.836500644683838
         },
         {
          "showarrow": false,
          "text": "energisystem - el - baseret",
          "x": 1.9459694623947144,
          "y": 7.120039939880371
         },
         {
          "showarrow": false,
          "text": "iea - bygninger - indlejret energi",
          "x": 1.767472743988037,
          "y": 5.842410564422607
         },
         {
          "showarrow": false,
          "text": "bygninger - bipv - løsninger",
          "x": 0.9261224269866943,
          "y": 5.438967704772949
         }
        ],
        "height": 700,
        "legend": {
         "title": {
          "text": "topics_name"
         },
         "tracegroupgap": 0
        },
        "margin": {
         "t": 60
        },
        "showlegend": false,
        "template": {
         "data": {
          "bar": [
           {
            "error_x": {
             "color": "#2a3f5f"
            },
            "error_y": {
             "color": "#2a3f5f"
            },
            "marker": {
             "line": {
              "color": "white",
              "width": 0.5
             },
             "pattern": {
              "fillmode": "overlay",
              "size": 10,
              "solidity": 0.2
             }
            },
            "type": "bar"
           }
          ],
          "barpolar": [
           {
            "marker": {
             "line": {
              "color": "white",
              "width": 0.5
             },
             "pattern": {
              "fillmode": "overlay",
              "size": 10,
              "solidity": 0.2
             }
            },
            "type": "barpolar"
           }
          ],
          "carpet": [
           {
            "aaxis": {
             "endlinecolor": "#2a3f5f",
             "gridcolor": "#C8D4E3",
             "linecolor": "#C8D4E3",
             "minorgridcolor": "#C8D4E3",
             "startlinecolor": "#2a3f5f"
            },
            "baxis": {
             "endlinecolor": "#2a3f5f",
             "gridcolor": "#C8D4E3",
             "linecolor": "#C8D4E3",
             "minorgridcolor": "#C8D4E3",
             "startlinecolor": "#2a3f5f"
            },
            "type": "carpet"
           }
          ],
          "choropleth": [
           {
            "colorbar": {
             "outlinewidth": 0,
             "ticks": ""
            },
            "type": "choropleth"
           }
          ],
          "contour": [
           {
            "colorbar": {
             "outlinewidth": 0,
             "ticks": ""
            },
            "colorscale": [
             [
              0,
              "#0d0887"
             ],
             [
              0.1111111111111111,
              "#46039f"
             ],
             [
              0.2222222222222222,
              "#7201a8"
             ],
             [
              0.3333333333333333,
              "#9c179e"
             ],
             [
              0.4444444444444444,
              "#bd3786"
             ],
             [
              0.5555555555555556,
              "#d8576b"
             ],
             [
              0.6666666666666666,
              "#ed7953"
             ],
             [
              0.7777777777777778,
              "#fb9f3a"
             ],
             [
              0.8888888888888888,
              "#fdca26"
             ],
             [
              1,
              "#f0f921"
             ]
            ],
            "type": "contour"
           }
          ],
          "contourcarpet": [
           {
            "colorbar": {
             "outlinewidth": 0,
             "ticks": ""
            },
            "type": "contourcarpet"
           }
          ],
          "heatmap": [
           {
            "colorbar": {
             "outlinewidth": 0,
             "ticks": ""
            },
            "colorscale": [
             [
              0,
              "#0d0887"
             ],
             [
              0.1111111111111111,
              "#46039f"
             ],
             [
              0.2222222222222222,
              "#7201a8"
             ],
             [
              0.3333333333333333,
              "#9c179e"
             ],
             [
              0.4444444444444444,
              "#bd3786"
             ],
             [
              0.5555555555555556,
              "#d8576b"
             ],
             [
              0.6666666666666666,
              "#ed7953"
             ],
             [
              0.7777777777777778,
              "#fb9f3a"
             ],
             [
              0.8888888888888888,
              "#fdca26"
             ],
             [
              1,
              "#f0f921"
             ]
            ],
            "type": "heatmap"
           }
          ],
          "heatmapgl": [
           {
            "colorbar": {
             "outlinewidth": 0,
             "ticks": ""
            },
            "colorscale": [
             [
              0,
              "#0d0887"
             ],
             [
              0.1111111111111111,
              "#46039f"
             ],
             [
              0.2222222222222222,
              "#7201a8"
             ],
             [
              0.3333333333333333,
              "#9c179e"
             ],
             [
              0.4444444444444444,
              "#bd3786"
             ],
             [
              0.5555555555555556,
              "#d8576b"
             ],
             [
              0.6666666666666666,
              "#ed7953"
             ],
             [
              0.7777777777777778,
              "#fb9f3a"
             ],
             [
              0.8888888888888888,
              "#fdca26"
             ],
             [
              1,
              "#f0f921"
             ]
            ],
            "type": "heatmapgl"
           }
          ],
          "histogram": [
           {
            "marker": {
             "pattern": {
              "fillmode": "overlay",
              "size": 10,
              "solidity": 0.2
             }
            },
            "type": "histogram"
           }
          ],
          "histogram2d": [
           {
            "colorbar": {
             "outlinewidth": 0,
             "ticks": ""
            },
            "colorscale": [
             [
              0,
              "#0d0887"
             ],
             [
              0.1111111111111111,
              "#46039f"
             ],
             [
              0.2222222222222222,
              "#7201a8"
             ],
             [
              0.3333333333333333,
              "#9c179e"
             ],
             [
              0.4444444444444444,
              "#bd3786"
             ],
             [
              0.5555555555555556,
              "#d8576b"
             ],
             [
              0.6666666666666666,
              "#ed7953"
             ],
             [
              0.7777777777777778,
              "#fb9f3a"
             ],
             [
              0.8888888888888888,
              "#fdca26"
             ],
             [
              1,
              "#f0f921"
             ]
            ],
            "type": "histogram2d"
           }
          ],
          "histogram2dcontour": [
           {
            "colorbar": {
             "outlinewidth": 0,
             "ticks": ""
            },
            "colorscale": [
             [
              0,
              "#0d0887"
             ],
             [
              0.1111111111111111,
              "#46039f"
             ],
             [
              0.2222222222222222,
              "#7201a8"
             ],
             [
              0.3333333333333333,
              "#9c179e"
             ],
             [
              0.4444444444444444,
              "#bd3786"
             ],
             [
              0.5555555555555556,
              "#d8576b"
             ],
             [
              0.6666666666666666,
              "#ed7953"
             ],
             [
              0.7777777777777778,
              "#fb9f3a"
             ],
             [
              0.8888888888888888,
              "#fdca26"
             ],
             [
              1,
              "#f0f921"
             ]
            ],
            "type": "histogram2dcontour"
           }
          ],
          "mesh3d": [
           {
            "colorbar": {
             "outlinewidth": 0,
             "ticks": ""
            },
            "type": "mesh3d"
           }
          ],
          "parcoords": [
           {
            "line": {
             "colorbar": {
              "outlinewidth": 0,
              "ticks": ""
             }
            },
            "type": "parcoords"
           }
          ],
          "pie": [
           {
            "automargin": true,
            "type": "pie"
           }
          ],
          "scatter": [
           {
            "fillpattern": {
             "fillmode": "overlay",
             "size": 10,
             "solidity": 0.2
            },
            "type": "scatter"
           }
          ],
          "scatter3d": [
           {
            "line": {
             "colorbar": {
              "outlinewidth": 0,
              "ticks": ""
             }
            },
            "marker": {
             "colorbar": {
              "outlinewidth": 0,
              "ticks": ""
             }
            },
            "type": "scatter3d"
           }
          ],
          "scattercarpet": [
           {
            "marker": {
             "colorbar": {
              "outlinewidth": 0,
              "ticks": ""
             }
            },
            "type": "scattercarpet"
           }
          ],
          "scattergeo": [
           {
            "marker": {
             "colorbar": {
              "outlinewidth": 0,
              "ticks": ""
             }
            },
            "type": "scattergeo"
           }
          ],
          "scattergl": [
           {
            "marker": {
             "colorbar": {
              "outlinewidth": 0,
              "ticks": ""
             }
            },
            "type": "scattergl"
           }
          ],
          "scattermapbox": [
           {
            "marker": {
             "colorbar": {
              "outlinewidth": 0,
              "ticks": ""
             }
            },
            "type": "scattermapbox"
           }
          ],
          "scatterpolar": [
           {
            "marker": {
             "colorbar": {
              "outlinewidth": 0,
              "ticks": ""
             }
            },
            "type": "scatterpolar"
           }
          ],
          "scatterpolargl": [
           {
            "marker": {
             "colorbar": {
              "outlinewidth": 0,
              "ticks": ""
             }
            },
            "type": "scatterpolargl"
           }
          ],
          "scatterternary": [
           {
            "marker": {
             "colorbar": {
              "outlinewidth": 0,
              "ticks": ""
             }
            },
            "type": "scatterternary"
           }
          ],
          "surface": [
           {
            "colorbar": {
             "outlinewidth": 0,
             "ticks": ""
            },
            "colorscale": [
             [
              0,
              "#0d0887"
             ],
             [
              0.1111111111111111,
              "#46039f"
             ],
             [
              0.2222222222222222,
              "#7201a8"
             ],
             [
              0.3333333333333333,
              "#9c179e"
             ],
             [
              0.4444444444444444,
              "#bd3786"
             ],
             [
              0.5555555555555556,
              "#d8576b"
             ],
             [
              0.6666666666666666,
              "#ed7953"
             ],
             [
              0.7777777777777778,
              "#fb9f3a"
             ],
             [
              0.8888888888888888,
              "#fdca26"
             ],
             [
              1,
              "#f0f921"
             ]
            ],
            "type": "surface"
           }
          ],
          "table": [
           {
            "cells": {
             "fill": {
              "color": "#EBF0F8"
             },
             "line": {
              "color": "white"
             }
            },
            "header": {
             "fill": {
              "color": "#C8D4E3"
             },
             "line": {
              "color": "white"
             }
            },
            "type": "table"
           }
          ]
         },
         "layout": {
          "annotationdefaults": {
           "arrowcolor": "#2a3f5f",
           "arrowhead": 0,
           "arrowwidth": 1
          },
          "autotypenumbers": "strict",
          "coloraxis": {
           "colorbar": {
            "outlinewidth": 0,
            "ticks": ""
           }
          },
          "colorscale": {
           "diverging": [
            [
             0,
             "#8e0152"
            ],
            [
             0.1,
             "#c51b7d"
            ],
            [
             0.2,
             "#de77ae"
            ],
            [
             0.3,
             "#f1b6da"
            ],
            [
             0.4,
             "#fde0ef"
            ],
            [
             0.5,
             "#f7f7f7"
            ],
            [
             0.6,
             "#e6f5d0"
            ],
            [
             0.7,
             "#b8e186"
            ],
            [
             0.8,
             "#7fbc41"
            ],
            [
             0.9,
             "#4d9221"
            ],
            [
             1,
             "#276419"
            ]
           ],
           "sequential": [
            [
             0,
             "#0d0887"
            ],
            [
             0.1111111111111111,
             "#46039f"
            ],
            [
             0.2222222222222222,
             "#7201a8"
            ],
            [
             0.3333333333333333,
             "#9c179e"
            ],
            [
             0.4444444444444444,
             "#bd3786"
            ],
            [
             0.5555555555555556,
             "#d8576b"
            ],
            [
             0.6666666666666666,
             "#ed7953"
            ],
            [
             0.7777777777777778,
             "#fb9f3a"
            ],
            [
             0.8888888888888888,
             "#fdca26"
            ],
            [
             1,
             "#f0f921"
            ]
           ],
           "sequentialminus": [
            [
             0,
             "#0d0887"
            ],
            [
             0.1111111111111111,
             "#46039f"
            ],
            [
             0.2222222222222222,
             "#7201a8"
            ],
            [
             0.3333333333333333,
             "#9c179e"
            ],
            [
             0.4444444444444444,
             "#bd3786"
            ],
            [
             0.5555555555555556,
             "#d8576b"
            ],
            [
             0.6666666666666666,
             "#ed7953"
            ],
            [
             0.7777777777777778,
             "#fb9f3a"
            ],
            [
             0.8888888888888888,
             "#fdca26"
            ],
            [
             1,
             "#f0f921"
            ]
           ]
          },
          "colorway": [
           "#636efa",
           "#EF553B",
           "#00cc96",
           "#ab63fa",
           "#FFA15A",
           "#19d3f3",
           "#FF6692",
           "#B6E880",
           "#FF97FF",
           "#FECB52"
          ],
          "font": {
           "color": "#2a3f5f"
          },
          "geo": {
           "bgcolor": "white",
           "lakecolor": "white",
           "landcolor": "white",
           "showlakes": true,
           "showland": true,
           "subunitcolor": "#C8D4E3"
          },
          "hoverlabel": {
           "align": "left"
          },
          "hovermode": "closest",
          "mapbox": {
           "style": "light"
          },
          "paper_bgcolor": "white",
          "plot_bgcolor": "white",
          "polar": {
           "angularaxis": {
            "gridcolor": "#EBF0F8",
            "linecolor": "#EBF0F8",
            "ticks": ""
           },
           "bgcolor": "white",
           "radialaxis": {
            "gridcolor": "#EBF0F8",
            "linecolor": "#EBF0F8",
            "ticks": ""
           }
          },
          "scene": {
           "xaxis": {
            "backgroundcolor": "white",
            "gridcolor": "#DFE8F3",
            "gridwidth": 2,
            "linecolor": "#EBF0F8",
            "showbackground": true,
            "ticks": "",
            "zerolinecolor": "#EBF0F8"
           },
           "yaxis": {
            "backgroundcolor": "white",
            "gridcolor": "#DFE8F3",
            "gridwidth": 2,
            "linecolor": "#EBF0F8",
            "showbackground": true,
            "ticks": "",
            "zerolinecolor": "#EBF0F8"
           },
           "zaxis": {
            "backgroundcolor": "white",
            "gridcolor": "#DFE8F3",
            "gridwidth": 2,
            "linecolor": "#EBF0F8",
            "showbackground": true,
            "ticks": "",
            "zerolinecolor": "#EBF0F8"
           }
          },
          "shapedefaults": {
           "line": {
            "color": "#2a3f5f"
           }
          },
          "ternary": {
           "aaxis": {
            "gridcolor": "#DFE8F3",
            "linecolor": "#A2B1C6",
            "ticks": ""
           },
           "baxis": {
            "gridcolor": "#DFE8F3",
            "linecolor": "#A2B1C6",
            "ticks": ""
           },
           "bgcolor": "white",
           "caxis": {
            "gridcolor": "#DFE8F3",
            "linecolor": "#A2B1C6",
            "ticks": ""
           }
          },
          "title": {
           "x": 0.05
          },
          "xaxis": {
           "automargin": true,
           "gridcolor": "#EBF0F8",
           "linecolor": "#EBF0F8",
           "ticks": "",
           "title": {
            "standoff": 15
           },
           "zerolinecolor": "#EBF0F8",
           "zerolinewidth": 2
          },
          "yaxis": {
           "automargin": true,
           "gridcolor": "#EBF0F8",
           "linecolor": "#EBF0F8",
           "ticks": "",
           "title": {
            "standoff": 15
           },
           "zerolinecolor": "#EBF0F8",
           "zerolinewidth": 2
          }
         }
        },
        "width": 1000,
        "xaxis": {
         "anchor": "y",
         "domain": [
          0,
          1
         ],
         "title": {}
        },
        "yaxis": {
         "anchor": "x",
         "domain": [
          0,
          1
         ],
         "title": {}
        }
       }
      }
     },
     "metadata": {},
     "output_type": "display_data"
    }
   ],
   "source": [
    "color_dict = {}\n",
    "unique_topics = list(df_out['topics_name'].unique())\n",
    "noise_label = df_out[df_out['topics'] == -1]['topics_name'].values[0]\n",
    "for i in range(len(unique_topics)):\n",
    "\n",
    "    if unique_topics[i] == noise_label:\n",
    "        color_dict[unique_topics[i]] = \"#ededed\"\n",
    "    else:\n",
    "        try:\n",
    "            color_dict[unique_topics[i]] = px.colors.qualitative.Dark24[i]\n",
    "        except IndexError:\n",
    "            new_i = random.randint(0,len(px.colors.qualitative.Dark24))\n",
    "            px.colors.qualitative.Dark24[new_i]\n",
    "\n",
    "fig = px.scatter(df_out, \n",
    "    x='x', \n",
    "    y='y', \n",
    "    color='topics_name', \n",
    "    hover_data=['text_br','Bevillingsår','Fælles overordnet teknologiområde','Ansvarlig virksomhed','Fokusområder EUDP'], \n",
    "    width=1000, \n",
    "    height=700,\n",
    "    color_discrete_map=color_dict,\n",
    "    template='plotly_white', \n",
    ")\n",
    "fig.update_traces(marker={'size': 5})\n",
    "fig.update_layout(\n",
    "    showlegend=False,\n",
    "    xaxis_title=None,\n",
    "    yaxis_title=None\n",
    ")\n",
    "\n",
    "\n",
    "for t in list(df_out['topics_name'].unique()):\n",
    "    if t != 'Ikke Kategoriseret':\n",
    "        temp = df_out[df_out['topics_name'] == t]\n",
    "\n",
    "        fig.add_annotation( # add a text callout with arrow\n",
    "            text=t, \n",
    "            x=temp['x'].mean(), \n",
    "            y=temp['y'].mean(), \n",
    "            showarrow=False,\n",
    "        )\n",
    "\n",
    "fig.show()\n",
    "#fig.write_html(\"outputs/cluster_colored_by_topics.html\")#  <- export as interactive html\n",
    "# fig.write_image(\"outputs/cluster_colored_by_topics.svg\") <- export as static svg"
   ]
  },
  {
   "cell_type": "code",
   "execution_count": null,
   "metadata": {},
   "outputs": [],
   "source": [
    "temp = df_out.groupby('topics_name').count()['ID'].reset_index().sort_values('ID', ascending=False)\n",
    "temp = temp.rename(\n",
    "    columns={\n",
    "    'ID': 'Antal',\n",
    "    'topics_name': 'Navn på tema'\n",
    "    }\n",
    ")\n",
    "\n",
    "fig = px.bar(\n",
    "    temp,\n",
    "    x = 'Antal',\n",
    "    y = 'Navn på tema',\n",
    "    color='Navn på tema',\n",
    "    width=1000, \n",
    "    height=700,\n",
    "    color_discrete_map=color_dict,\n",
    "    template='plotly_white', \n",
    ")\n",
    "fig.update_layout(\n",
    "    showlegend=False,\n",
    "    xaxis_title=None,\n",
    "    yaxis_title=None\n",
    ")\n",
    "\n",
    "fig.show()"
   ]
  },
  {
   "cell_type": "code",
   "execution_count": null,
   "metadata": {},
   "outputs": [],
   "source": [
    "temp = df_out.groupby(['topics_name','Slut (år)']).count()['ID'].reset_index().sort_values('ID', ascending=False)\n",
    "\n",
    "temp = temp.rename(\n",
    "    columns={\n",
    "    'ID': 'Antal',\n",
    "    'topics_name': 'Navn på tema',\n",
    "    }\n",
    ").sort_values(['Slut (år)','Navn på tema'])\n",
    "\n",
    "fig = px.line(\n",
    "    temp,\n",
    "    x = 'Slut (år)',\n",
    "    y = 'Antal',\n",
    "    color='Navn på tema',\n",
    "    width=1000, \n",
    "    height=700,\n",
    "    markers=True,\n",
    "    color_discrete_map=color_dict,\n",
    "    template='plotly_white', \n",
    ")\n",
    "fig.update_layout(\n",
    "    showlegend=True,\n",
    "    xaxis_title=None,\n",
    "    yaxis_title=None,\n",
    "    yaxis_range=[0,35],\n",
    "    xaxis_range=[2015,2022]\n",
    ")\n",
    "\n",
    "fig.show()"
   ]
  },
  {
   "cell_type": "code",
   "execution_count": null,
   "metadata": {},
   "outputs": [],
   "source": [
    "# temp = df_out[['topics_name','Subsidy_total','Total_financing','text_br','Bevillingsår','Fælles overordnet teknologiområde','Ansvarlig virksomhed','Fokusområder EUDP']]\n",
    "# temp = temp.rename(columns={'Subsidy_total': 'financing_subsidy', 'Total_financing': 'financing_total'})\n",
    "# temp = pd.melt(\n",
    "#     temp, \n",
    "#     id_vars=['topics_name','text_br','Bevillingsår','Fælles overordnet teknologiområde','Ansvarlig virksomhed','Fokusområder EUDP'],\n",
    "#     value_vars=['financing_subsidy','financing_total']\n",
    "# )\n",
    "# temp = temp.rename(columns={\n",
    "#     'variable': 'Tilskud / Finansiering i alt',\n",
    "#     'value': 'Beløb',\n",
    "#     'topics_name': 'Navn på emne'\n",
    "# })"
   ]
  },
  {
   "cell_type": "code",
   "execution_count": null,
   "metadata": {},
   "outputs": [],
   "source": [
    "temp = df_out.rename(columns={\n",
    "    'topics_name': 'Navn på emne',\n",
    "    'Subsidy_total': 'Tilskud'\n",
    "})\n",
    "\n",
    "fig = px.strip(\n",
    "    temp,\n",
    "    y='Navn på emne',\n",
    "    x='Tilskud',\n",
    "    color='Navn på emne',\n",
    "    stripmode='overlay',\n",
    "    hover_data=['text_br','Bevillingsår','Fælles overordnet teknologiområde','Ansvarlig virksomhed','Fokusområder EUDP'], \n",
    "    width=1000, \n",
    "    height=700,\n",
    "    color_discrete_map=color_dict,\n",
    "    template='plotly_white', \n",
    ")\n",
    "fig.update_layout(\n",
    "    showlegend=False,\n",
    "    xaxis_title='Tilskud (mio. kr)',\n",
    "    yaxis_title=None\n",
    ")\n",
    "\n",
    "fig.show()"
   ]
  },
  {
   "cell_type": "code",
   "execution_count": null,
   "metadata": {},
   "outputs": [],
   "source": [
    "temp = df_out.rename(columns={\n",
    "    'topics_name': 'Navn på emne',\n",
    "    'Total_financing': 'Samlet beløb'\n",
    "})\n",
    "\n",
    "fig = px.strip(\n",
    "    temp,\n",
    "    y='Navn på emne',\n",
    "    x='Samlet beløb',\n",
    "    color='Navn på emne',\n",
    "    stripmode='overlay',\n",
    "    hover_data=['text_br','Bevillingsår','Fælles overordnet teknologiområde','Ansvarlig virksomhed','Fokusområder EUDP'], \n",
    "    width=1000, \n",
    "    height=700,\n",
    "    color_discrete_map=color_dict,\n",
    "    template='plotly_white', \n",
    ")\n",
    "fig.update_layout(\n",
    "    showlegend=False,\n",
    "    xaxis_title='Samlet beløb (mio. kr)',\n",
    "    yaxis_title=None\n",
    ")\n",
    "\n",
    "fig.show()"
   ]
  },
  {
   "cell_type": "code",
   "execution_count": null,
   "metadata": {},
   "outputs": [],
   "source": []
  }
 ],
 "metadata": {
  "kernelspec": {
   "display_name": ".venv",
   "language": "python",
   "name": "python3"
  },
  "language_info": {
   "codemirror_mode": {
    "name": "ipython",
    "version": 3
   },
   "file_extension": ".py",
   "mimetype": "text/x-python",
   "name": "python",
   "nbconvert_exporter": "python",
   "pygments_lexer": "ipython3",
   "version": "3.9.13"
  },
  "orig_nbformat": 4,
  "vscode": {
   "interpreter": {
    "hash": "df98036bf329b8689c15c56a47519aeeacd151e32f12bdaa63d378da2f93f503"
   }
  }
 },
 "nbformat": 4,
 "nbformat_minor": 2
}
